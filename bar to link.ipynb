{
 "cells": [
  {
   "cell_type": "code",
   "execution_count": 1,
   "metadata": {},
   "outputs": [],
   "source": [
    "import pandas as pd\n",
    "import numpy as np\n",
    "import geopandas as gpd\n",
    "import matplotlib\n",
    "import matplotlib.pyplot as plt\n",
    "import plotly.graph_objects as go\n",
    "\n",
    "import plotly.express as px\n",
    "import plotly.graph_objects as go"
   ]
  },
  {
   "cell_type": "markdown",
   "metadata": {},
   "source": [
    "## Reading Data"
   ]
  },
  {
   "cell_type": "code",
   "execution_count": 20,
   "metadata": {},
   "outputs": [],
   "source": [
    "# pop per prov\n",
    "hhpop='data101_data/pre-disaster/hh_population.xlsx'\n",
    "hhpop_data = pd.read_excel(hhpop, sheet_name = 'by province')\n",
    "\n",
    "# evacuation\n",
    "evac='data101_data/pre-disaster/180814_number-of-evacuation-center_by-city_municipality.xlsx'\n",
    "evac_data = pd.read_excel(evac, sheet_name = 'Data')\n",
    "\n",
    "# hospitals \n",
    "health2021='data101_data/pre-disaster/210127_health-facility-type_my-municipality.xlsx'\n",
    "health2021_data = pd.read_excel(health2021, sheet_name = 'Data')\n",
    "\n",
    "# schools\n",
    "educ='data101_data/pre-disaster/190118_deped_number-of-schools-and-enrolment-with-sex-disaggregation_by-municipality.xlsx'\n",
    "educ_data = pd.read_excel(educ, sheet_name = 'Data')"
   ]
  },
  {
   "cell_type": "markdown",
   "metadata": {},
   "source": [
    "## Checking Data & Dropping Unneeded Columns"
   ]
  },
  {
   "cell_type": "code",
   "execution_count": 21,
   "metadata": {},
   "outputs": [
    {
     "data": {
      "text/html": [
       "<div>\n",
       "<style scoped>\n",
       "    .dataframe tbody tr th:only-of-type {\n",
       "        vertical-align: middle;\n",
       "    }\n",
       "\n",
       "    .dataframe tbody tr th {\n",
       "        vertical-align: top;\n",
       "    }\n",
       "\n",
       "    .dataframe thead th {\n",
       "        text-align: right;\n",
       "    }\n",
       "</style>\n",
       "<table border=\"1\" class=\"dataframe\">\n",
       "  <thead>\n",
       "    <tr style=\"text-align: right;\">\n",
       "      <th></th>\n",
       "      <th>Region</th>\n",
       "      <th>Province</th>\n",
       "      <th>Age_Group</th>\n",
       "      <th>Both</th>\n",
       "      <th>Male</th>\n",
       "      <th>Female</th>\n",
       "    </tr>\n",
       "  </thead>\n",
       "  <tbody>\n",
       "    <tr>\n",
       "      <th>0</th>\n",
       "      <td>NATIONAL CAPITAL REGION (NCR)</td>\n",
       "      <td>NCR, City of Manila, First District (Not a Pro...</td>\n",
       "      <td>0 - 4</td>\n",
       "      <td>169197</td>\n",
       "      <td>87379</td>\n",
       "      <td>81818</td>\n",
       "    </tr>\n",
       "    <tr>\n",
       "      <th>1</th>\n",
       "      <td>NATIONAL CAPITAL REGION (NCR)</td>\n",
       "      <td>NCR, City of Manila, First District (Not a Pro...</td>\n",
       "      <td>5 - 9</td>\n",
       "      <td>166219</td>\n",
       "      <td>86176</td>\n",
       "      <td>80043</td>\n",
       "    </tr>\n",
       "    <tr>\n",
       "      <th>2</th>\n",
       "      <td>NATIONAL CAPITAL REGION (NCR)</td>\n",
       "      <td>NCR, City of Manila, First District (Not a Pro...</td>\n",
       "      <td>10 - 14</td>\n",
       "      <td>158492</td>\n",
       "      <td>81613</td>\n",
       "      <td>76879</td>\n",
       "    </tr>\n",
       "    <tr>\n",
       "      <th>3</th>\n",
       "      <td>NATIONAL CAPITAL REGION (NCR)</td>\n",
       "      <td>NCR, City of Manila, First District (Not a Pro...</td>\n",
       "      <td>15 - 19</td>\n",
       "      <td>157479</td>\n",
       "      <td>79738</td>\n",
       "      <td>77741</td>\n",
       "    </tr>\n",
       "    <tr>\n",
       "      <th>4</th>\n",
       "      <td>NATIONAL CAPITAL REGION (NCR)</td>\n",
       "      <td>NCR, City of Manila, First District (Not a Pro...</td>\n",
       "      <td>20 - 24</td>\n",
       "      <td>179543</td>\n",
       "      <td>89862</td>\n",
       "      <td>89681</td>\n",
       "    </tr>\n",
       "  </tbody>\n",
       "</table>\n",
       "</div>"
      ],
      "text/plain": [
       "                          Region  \\\n",
       "0  NATIONAL CAPITAL REGION (NCR)   \n",
       "1  NATIONAL CAPITAL REGION (NCR)   \n",
       "2  NATIONAL CAPITAL REGION (NCR)   \n",
       "3  NATIONAL CAPITAL REGION (NCR)   \n",
       "4  NATIONAL CAPITAL REGION (NCR)   \n",
       "\n",
       "                                            Province Age_Group    Both   Male  \\\n",
       "0  NCR, City of Manila, First District (Not a Pro...     0 - 4  169197  87379   \n",
       "1  NCR, City of Manila, First District (Not a Pro...     5 - 9  166219  86176   \n",
       "2  NCR, City of Manila, First District (Not a Pro...   10 - 14  158492  81613   \n",
       "3  NCR, City of Manila, First District (Not a Pro...   15 - 19  157479  79738   \n",
       "4  NCR, City of Manila, First District (Not a Pro...   20 - 24  179543  89862   \n",
       "\n",
       "   Female  \n",
       "0   81818  \n",
       "1   80043  \n",
       "2   76879  \n",
       "3   77741  \n",
       "4   89681  "
      ]
     },
     "execution_count": 21,
     "metadata": {},
     "output_type": "execute_result"
    }
   ],
   "source": [
    "hhpop_data.head()"
   ]
  },
  {
   "cell_type": "code",
   "execution_count": 22,
   "metadata": {},
   "outputs": [
    {
     "data": {
      "text/html": [
       "<div>\n",
       "<style scoped>\n",
       "    .dataframe tbody tr th:only-of-type {\n",
       "        vertical-align: middle;\n",
       "    }\n",
       "\n",
       "    .dataframe tbody tr th {\n",
       "        vertical-align: top;\n",
       "    }\n",
       "\n",
       "    .dataframe thead th {\n",
       "        text-align: right;\n",
       "    }\n",
       "</style>\n",
       "<table border=\"1\" class=\"dataframe\">\n",
       "  <thead>\n",
       "    <tr style=\"text-align: right;\">\n",
       "      <th></th>\n",
       "      <th>Region</th>\n",
       "      <th>Province</th>\n",
       "      <th>Both</th>\n",
       "    </tr>\n",
       "  </thead>\n",
       "  <tbody>\n",
       "    <tr>\n",
       "      <th>0</th>\n",
       "      <td>NATIONAL CAPITAL REGION (NCR)</td>\n",
       "      <td>NCR, City of Manila, First District (Not a Pro...</td>\n",
       "      <td>169197</td>\n",
       "    </tr>\n",
       "    <tr>\n",
       "      <th>1</th>\n",
       "      <td>NATIONAL CAPITAL REGION (NCR)</td>\n",
       "      <td>NCR, City of Manila, First District (Not a Pro...</td>\n",
       "      <td>166219</td>\n",
       "    </tr>\n",
       "    <tr>\n",
       "      <th>2</th>\n",
       "      <td>NATIONAL CAPITAL REGION (NCR)</td>\n",
       "      <td>NCR, City of Manila, First District (Not a Pro...</td>\n",
       "      <td>158492</td>\n",
       "    </tr>\n",
       "    <tr>\n",
       "      <th>3</th>\n",
       "      <td>NATIONAL CAPITAL REGION (NCR)</td>\n",
       "      <td>NCR, City of Manila, First District (Not a Pro...</td>\n",
       "      <td>157479</td>\n",
       "    </tr>\n",
       "    <tr>\n",
       "      <th>4</th>\n",
       "      <td>NATIONAL CAPITAL REGION (NCR)</td>\n",
       "      <td>NCR, City of Manila, First District (Not a Pro...</td>\n",
       "      <td>179543</td>\n",
       "    </tr>\n",
       "  </tbody>\n",
       "</table>\n",
       "</div>"
      ],
      "text/plain": [
       "                          Region  \\\n",
       "0  NATIONAL CAPITAL REGION (NCR)   \n",
       "1  NATIONAL CAPITAL REGION (NCR)   \n",
       "2  NATIONAL CAPITAL REGION (NCR)   \n",
       "3  NATIONAL CAPITAL REGION (NCR)   \n",
       "4  NATIONAL CAPITAL REGION (NCR)   \n",
       "\n",
       "                                            Province    Both  \n",
       "0  NCR, City of Manila, First District (Not a Pro...  169197  \n",
       "1  NCR, City of Manila, First District (Not a Pro...  166219  \n",
       "2  NCR, City of Manila, First District (Not a Pro...  158492  \n",
       "3  NCR, City of Manila, First District (Not a Pro...  157479  \n",
       "4  NCR, City of Manila, First District (Not a Pro...  179543  "
      ]
     },
     "execution_count": 22,
     "metadata": {},
     "output_type": "execute_result"
    }
   ],
   "source": [
    "columns_to_keep = ['Region', 'Province', 'Both']\n",
    "\n",
    "population = hhpop_data[columns_to_keep]\n",
    "population.head()"
   ]
  },
  {
   "cell_type": "code",
   "execution_count": 23,
   "metadata": {},
   "outputs": [
    {
     "data": {
      "text/html": [
       "<div>\n",
       "<style scoped>\n",
       "    .dataframe tbody tr th:only-of-type {\n",
       "        vertical-align: middle;\n",
       "    }\n",
       "\n",
       "    .dataframe tbody tr th {\n",
       "        vertical-align: top;\n",
       "    }\n",
       "\n",
       "    .dataframe thead th {\n",
       "        text-align: right;\n",
       "    }\n",
       "</style>\n",
       "<table border=\"1\" class=\"dataframe\">\n",
       "  <thead>\n",
       "    <tr style=\"text-align: right;\">\n",
       "      <th></th>\n",
       "      <th>Region</th>\n",
       "      <th>Province</th>\n",
       "      <th>Both</th>\n",
       "    </tr>\n",
       "  </thead>\n",
       "  <tbody>\n",
       "    <tr>\n",
       "      <th>0</th>\n",
       "      <td>Cordillera Administrative Region (CAR)</td>\n",
       "      <td>Abra</td>\n",
       "      <td>16609</td>\n",
       "    </tr>\n",
       "    <tr>\n",
       "      <th>1</th>\n",
       "      <td>Cordillera Administrative Region (CAR)</td>\n",
       "      <td>Abra</td>\n",
       "      <td>4578</td>\n",
       "    </tr>\n",
       "    <tr>\n",
       "      <th>2</th>\n",
       "      <td>Cordillera Administrative Region (CAR)</td>\n",
       "      <td>Abra</td>\n",
       "      <td>7406</td>\n",
       "    </tr>\n",
       "    <tr>\n",
       "      <th>3</th>\n",
       "      <td>Cordillera Administrative Region (CAR)</td>\n",
       "      <td>Abra</td>\n",
       "      <td>9839</td>\n",
       "    </tr>\n",
       "    <tr>\n",
       "      <th>4</th>\n",
       "      <td>Cordillera Administrative Region (CAR)</td>\n",
       "      <td>Abra</td>\n",
       "      <td>10944</td>\n",
       "    </tr>\n",
       "  </tbody>\n",
       "</table>\n",
       "</div>"
      ],
      "text/plain": [
       "                                   Region Province   Both\n",
       "0  Cordillera Administrative Region (CAR)     Abra  16609\n",
       "1  Cordillera Administrative Region (CAR)     Abra   4578\n",
       "2  Cordillera Administrative Region (CAR)     Abra   7406\n",
       "3  Cordillera Administrative Region (CAR)     Abra   9839\n",
       "4  Cordillera Administrative Region (CAR)     Abra  10944"
      ]
     },
     "execution_count": 23,
     "metadata": {},
     "output_type": "execute_result"
    }
   ],
   "source": [
    "\n",
    "population = population.sort_values('Province').reset_index(drop = True)\n",
    "population.head()"
   ]
  },
  {
   "cell_type": "code",
   "execution_count": 29,
   "metadata": {},
   "outputs": [
    {
     "data": {
      "text/plain": [
       "array(['Cordillera Administrative Region (CAR)', 'Region XIII (Caraga)',\n",
       "       'Region VI (Western Visayas)', 'Region V (Bicol Region)',\n",
       "       'Region III (Central Luzon)', 'Region IV-A (CALABARZON)',\n",
       "       'Bangsamoro Autonomous Region in Muslim Mindanao (BARMM)',\n",
       "       'Region II (Cagayan Valley)', 'Region VIII (Eastern Visayas)',\n",
       "       'Region VII (Central Visayas)', 'Region X (Northern Mindanao)',\n",
       "       'Region IX (Zamboanga Peninsula)', 'Region XI (Davao Region)',\n",
       "       'Region XII (SOCCSKSARGEN)', 'Region I (Ilocos Region)',\n",
       "       'Mimaropa Region', 'NATIONAL CAPITAL REGION (NCR)'], dtype=object)"
      ]
     },
     "execution_count": 29,
     "metadata": {},
     "output_type": "execute_result"
    }
   ],
   "source": [
    "population['Region'].unique()"
   ]
  },
  {
   "cell_type": "code",
   "execution_count": 27,
   "metadata": {},
   "outputs": [],
   "source": [
    "population['Province'] = population['Province'].replace(['Abra', 'Agusan Del Norte', 'Agusan Del Sur', 'Aklan', 'Albay',\n",
    "       'Antique', 'Apayao', 'Aurora', 'BATANGAS', 'Basilan', 'Bataan',\n",
    "       'Batanes', 'Benguet', 'Biliran', 'Bohol', 'Bukidnon', 'Bulacan',\n",
    "       'Cagayan', 'Camarines Norte', 'Camarines Sur', 'Camiguin', 'Capiz',\n",
    "       'Catanduanes', 'Cavite', 'Cebu',\n",
    "       'City of Isabela (Not a Province)', 'Compostela Valley',\n",
    "       'Cotabato (North Cotabato)', 'Davao Del Norte', 'Davao Del Sur',\n",
    "       'Davao Occidental', 'Davao Oriental', 'Dinagat Islands',\n",
    "       'Eastern Samar', 'Guimaras',\n",
    "       'INTERIM PROVINCE (Composed of 63 barangays from COTABATO)',\n",
    "       'Ifugao', 'Ilocos Norte', 'Ilocos Sur', 'Iloilo', 'Isabela',\n",
    "       'Kalinga', 'La Union', 'Laguna', 'Lanao Del Norte',\n",
    "       'Lanao Del Sur', 'Leyte', 'Maguindanao', 'Marinduque', 'Masbate',\n",
    "       'Misamis Occidental', 'Misamis Oriental', 'Mountain Province',\n",
    "       'NCR, City of Manila, First District (Not a Province)',\n",
    "       'NCR, Fourth District (Not a Province)',\n",
    "       'NCR, Second District (Not a Province)',\n",
    "       'NCR, Third District (Not a Province)', 'Negros Occidental',\n",
    "       'Negros Oriental', 'Northern Samar', 'Nueva Ecija',\n",
    "       'Nueva Vizcaya', 'Occidental Mindoro', 'Oriental Mindoro',\n",
    "       'Palawan', 'Pampanga', 'Pangasinan', 'Quezon', 'Quirino', 'Rizal',\n",
    "       'Romblon', 'Samar (Western Samar)', 'Sarangani', 'Siquijor',\n",
    "       'Sorsogon', 'South Cotabato', 'Southern Leyte', 'Sultan Kudarat',\n",
    "       'Sulu', 'Surigao Del Norte', 'Surigao Del Sur', 'Tarlac',\n",
    "       'Tawi-Tawi', 'Zambales', 'Zamboanga Del Norte',\n",
    "       'Zamboanga Del Sur', 'Zamboanga Sibugay'], \n",
    "       ['ABRA', 'AGUSAN DEL NORTE', 'AGUSAN DEL SUR', 'AKLAN', 'ALBAY',\n",
    "       'ANTIQUE', 'APAYAO', 'AURORA', 'BASILAN', 'BATAAN', 'BATANES',\n",
    "       'BATANGAS', 'BENGUET', 'BILIRAN', 'BOHOL', 'BUKIDNON', 'BULACAN',\n",
    "       'CAGAYAN', 'CAMARINES NORTE', 'CAMARINES SUR', 'CAMIGUIN', 'CAPIZ',\n",
    "       'CATANDUANES', 'CAVITE', 'CEBU',\n",
    "       'CITY OF ISABELA (Not a Province)', 'COTABATO (NORTH COTABATO)',\n",
    "       'COTABATO CITY (Not a Province)', 'DAVAO DE ORO',\n",
    "       'DAVAO DEL NORTE', 'DAVAO DEL SUR', 'DAVAO OCCIDENTAL',\n",
    "       'DAVAO ORIENTAL', 'DINAGAT ISLANDS', 'EASTERN SAMAR', 'GUIMARAS',\n",
    "       'IFUGAO', 'ILOCOS NORTE', 'ILOCOS SUR', 'ILOILO', 'ISABELA',\n",
    "       'KALINGA', 'LA UNION', 'LAGUNA', 'LANAO DEL NORTE',\n",
    "       'LANAO DEL SUR', 'LEYTE', 'MAGUINDANAO', 'MARINDUQUE', 'MASBATE',\n",
    "       'MISAMIS OCCIDENTAL', 'MISAMIS ORIENTAL', 'MOUNTAIN PROVINCE',\n",
    "       'NCR, CITY OF MANILA, FIRST DISTRICT (Not a Province)',\n",
    "       'NCR, FOURTH DISTRICT (Not a Province)',\n",
    "       'NCR, SECOND DISTRICT (Not a Province)',\n",
    "       'NCR, THIRD DISTRICT (Not a Province)', 'NEGROS OCCIDENTAL',\n",
    "       'NEGROS ORIENTAL', 'NORTHERN SAMAR', 'NUEVA ECIJA',\n",
    "       'NUEVA VIZCAYA', 'OCCIDENTAL MINDORO', 'ORIENTAL MINDORO',\n",
    "       'PALAWAN', 'PAMPANGA', 'PANGASINAN', 'QUEZON', 'QUIRINO', 'RIZAL',\n",
    "       'ROMBLON', 'SAMAR (WESTERN SAMAR)', 'SARANGANI', 'SIQUIJOR',\n",
    "       'SORSOGON', 'SOUTH COTABATO', 'SOUTHERN LEYTE', 'SULTAN KUDARAT',\n",
    "       'SULU', 'SURIGAO DEL NORTE', 'SURIGAO DEL SUR', 'TARLAC',\n",
    "       'TAWI-TAWI', 'ZAMBALES', 'ZAMBOANGA DEL NORTE',\n",
    "       'ZAMBOANGA DEL SUR', 'ZAMBOANGA SIBUGAY'])"
   ]
  },
  {
   "cell_type": "code",
   "execution_count": 30,
   "metadata": {},
   "outputs": [
    {
     "data": {
      "text/plain": [
       "17"
      ]
     },
     "execution_count": 30,
     "metadata": {},
     "output_type": "execute_result"
    }
   ],
   "source": [
    "population['Region'].nunique()"
   ]
  },
  {
   "cell_type": "code",
   "execution_count": 31,
   "metadata": {},
   "outputs": [],
   "source": [
    "population['Region'] = population['Region'].replace(['Cordillera Administrative Region (CAR)', 'Region XIII (Caraga)',\n",
    "       'Region VI (Western Visayas)', 'Region V (Bicol Region)',\n",
    "       'Region III (Central Luzon)', 'Region IV-A (CALABARZON)',\n",
    "       'Bangsamoro Autonomous Region in Muslim Mindanao (BARMM)',\n",
    "       'Region II (Cagayan Valley)', 'Region VIII (Eastern Visayas)',\n",
    "       'Region VII (Central Visayas)', 'Region X (Northern Mindanao)',\n",
    "       'Region IX (Zamboanga Peninsula)', 'Region XI (Davao Region)',\n",
    "       'Region XII (SOCCSKSARGEN)', 'Region I (Ilocos Region)',\n",
    "       'Mimaropa Region', 'NATIONAL CAPITAL REGION (NCR)'],\n",
    "       ['CORDILLERA ADMINISTRA TIVE REGION (CAR)', 'REGION XIII (CARAGA)',\n",
    "       'REGION VI (WESTERN VISAYAS)', 'REGION V (BICOL REGION)',\n",
    "       'REGION III (CENTRAL LUZON)', 'REGION IV-A (CALABAR ZON)',\n",
    "       'AUTONOMOUS REGION IN MUSLIM MINDANAO (ARMM)',\n",
    "       'REGION II (CAGAYAN VALLEY)', 'REGION VIII (EASTERN VISAYAS)', \n",
    "       'REGION VII (CENTRAL VISAYAS)','REGION X (NORTHERN MINDANAO)', \n",
    "       'REGION IX (ZAMBOANGA PENINSULA)', 'REGION XI (DAVAO REGION)',\n",
    "       'REGION XII (SOCCSKSARGEN)', 'REGION I (ILOCOS REGION)', \n",
    "       'REGION IV-B (MIMAROPA)', 'NATIONAL CAPITAL REGION (NCR)'])"
   ]
  },
  {
   "cell_type": "code",
   "execution_count": 32,
   "metadata": {},
   "outputs": [
    {
     "data": {
      "text/html": [
       "<div>\n",
       "<style scoped>\n",
       "    .dataframe tbody tr th:only-of-type {\n",
       "        vertical-align: middle;\n",
       "    }\n",
       "\n",
       "    .dataframe tbody tr th {\n",
       "        vertical-align: top;\n",
       "    }\n",
       "\n",
       "    .dataframe thead th {\n",
       "        text-align: right;\n",
       "    }\n",
       "</style>\n",
       "<table border=\"1\" class=\"dataframe\">\n",
       "  <thead>\n",
       "    <tr style=\"text-align: right;\">\n",
       "      <th></th>\n",
       "      <th>Region</th>\n",
       "      <th>Province</th>\n",
       "      <th>Both</th>\n",
       "    </tr>\n",
       "  </thead>\n",
       "  <tbody>\n",
       "    <tr>\n",
       "      <th>0</th>\n",
       "      <td>CORDILLERA ADMINISTRA TIVE REGION (CAR)</td>\n",
       "      <td>ABRA</td>\n",
       "      <td>16609</td>\n",
       "    </tr>\n",
       "    <tr>\n",
       "      <th>1</th>\n",
       "      <td>CORDILLERA ADMINISTRA TIVE REGION (CAR)</td>\n",
       "      <td>ABRA</td>\n",
       "      <td>4578</td>\n",
       "    </tr>\n",
       "    <tr>\n",
       "      <th>2</th>\n",
       "      <td>CORDILLERA ADMINISTRA TIVE REGION (CAR)</td>\n",
       "      <td>ABRA</td>\n",
       "      <td>7406</td>\n",
       "    </tr>\n",
       "    <tr>\n",
       "      <th>3</th>\n",
       "      <td>CORDILLERA ADMINISTRA TIVE REGION (CAR)</td>\n",
       "      <td>ABRA</td>\n",
       "      <td>9839</td>\n",
       "    </tr>\n",
       "    <tr>\n",
       "      <th>4</th>\n",
       "      <td>CORDILLERA ADMINISTRA TIVE REGION (CAR)</td>\n",
       "      <td>ABRA</td>\n",
       "      <td>10944</td>\n",
       "    </tr>\n",
       "  </tbody>\n",
       "</table>\n",
       "</div>"
      ],
      "text/plain": [
       "                                    Region Province   Both\n",
       "0  CORDILLERA ADMINISTRA TIVE REGION (CAR)     ABRA  16609\n",
       "1  CORDILLERA ADMINISTRA TIVE REGION (CAR)     ABRA   4578\n",
       "2  CORDILLERA ADMINISTRA TIVE REGION (CAR)     ABRA   7406\n",
       "3  CORDILLERA ADMINISTRA TIVE REGION (CAR)     ABRA   9839\n",
       "4  CORDILLERA ADMINISTRA TIVE REGION (CAR)     ABRA  10944"
      ]
     },
     "execution_count": 32,
     "metadata": {},
     "output_type": "execute_result"
    }
   ],
   "source": [
    "population.head()"
   ]
  },
  {
   "cell_type": "code",
   "execution_count": 49,
   "metadata": {},
   "outputs": [
    {
     "data": {
      "text/plain": [
       "array(['NCR, City of Manila, First District (Not a Province)',\n",
       "       'NCR, Second District (Not a Province)',\n",
       "       'NCR, Third District (Not a Province)',\n",
       "       'NCR, Fourth District (Not a Province)', 'Abra', 'Benguet',\n",
       "       'Ifugao', 'Kalinga', 'Mountain Province', 'Apayao', 'Ilocos Norte',\n",
       "       'Ilocos Sur', 'La Union', 'Pangasinan', 'Batanes', 'Cagayan',\n",
       "       'Isabela', 'Nueva Vizcaya', 'Quirino', 'Bataan', 'Bulacan',\n",
       "       'Nueva Ecija', 'Pampanga', 'Tarlac', 'Zambales', 'Aurora',\n",
       "       'BATANGAS', 'Cavite', 'Laguna', 'Quezon', 'Rizal', 'Marinduque',\n",
       "       'Occidental Mindoro', 'Oriental Mindoro', 'Palawan', 'Romblon',\n",
       "       'Albay', 'Camarines Norte', 'Camarines Sur', 'Catanduanes',\n",
       "       'Masbate', 'Sorsogon', 'Aklan', 'Antique', 'Capiz', 'Iloilo',\n",
       "       'Negros Occidental', 'Guimaras', 'Bohol', 'Cebu',\n",
       "       'Negros Oriental', 'Siquijor', 'Eastern Samar', 'Leyte',\n",
       "       'Northern Samar', 'Samar (Western Samar)', 'Southern Leyte',\n",
       "       'Biliran', 'Zamboanga Del Norte', 'Zamboanga Del Sur',\n",
       "       'Zamboanga Sibugay', 'City of Isabela (Not a Province)',\n",
       "       'Bukidnon', 'Camiguin', 'Lanao Del Norte', 'Misamis Occidental',\n",
       "       'Misamis Oriental', 'Davao Del Norte', 'Davao Del Sur',\n",
       "       'Davao Oriental', 'Compostela Valley', 'Davao Occidental',\n",
       "       'Cotabato (North Cotabato)', 'South Cotabato', 'Sultan Kudarat',\n",
       "       'Sarangani', 'Agusan Del Norte', 'Agusan Del Sur',\n",
       "       'Surigao Del Norte', 'Surigao Del Sur', 'Dinagat Islands',\n",
       "       'Basilan', 'Lanao Del Sur', 'Maguindanao', 'Sulu', 'Tawi-Tawi',\n",
       "       'INTERIM PROVINCE (Composed of 63 barangays from COTABATO)'],\n",
       "      dtype=object)"
      ]
     },
     "execution_count": 49,
     "metadata": {},
     "output_type": "execute_result"
    }
   ],
   "source": [
    "population['Province'].unique()"
   ]
  },
  {
   "cell_type": "code",
   "execution_count": 50,
   "metadata": {},
   "outputs": [
    {
     "data": {
      "text/html": [
       "<div>\n",
       "<style scoped>\n",
       "    .dataframe tbody tr th:only-of-type {\n",
       "        vertical-align: middle;\n",
       "    }\n",
       "\n",
       "    .dataframe tbody tr th {\n",
       "        vertical-align: top;\n",
       "    }\n",
       "\n",
       "    .dataframe thead th {\n",
       "        text-align: right;\n",
       "    }\n",
       "</style>\n",
       "<table border=\"1\" class=\"dataframe\">\n",
       "  <thead>\n",
       "    <tr style=\"text-align: right;\">\n",
       "      <th></th>\n",
       "      <th>Region</th>\n",
       "      <th>Region Code</th>\n",
       "      <th>Province</th>\n",
       "      <th>Province Code</th>\n",
       "      <th>Municipality_City</th>\n",
       "      <th>Municipality_City Code</th>\n",
       "      <th>Number of Evacuation Center</th>\n",
       "    </tr>\n",
       "  </thead>\n",
       "  <tbody>\n",
       "    <tr>\n",
       "      <th>0</th>\n",
       "      <td>Region I (Ilocos Region)</td>\n",
       "      <td>PH010000000</td>\n",
       "      <td>Ilocos Norte</td>\n",
       "      <td>PH012800000</td>\n",
       "      <td>Adams</td>\n",
       "      <td>PH012801000</td>\n",
       "      <td>3</td>\n",
       "    </tr>\n",
       "    <tr>\n",
       "      <th>1</th>\n",
       "      <td>Region I (Ilocos Region)</td>\n",
       "      <td>PH010000000</td>\n",
       "      <td>Ilocos Norte</td>\n",
       "      <td>PH012800000</td>\n",
       "      <td>Bacarra</td>\n",
       "      <td>PH012802000</td>\n",
       "      <td>3</td>\n",
       "    </tr>\n",
       "    <tr>\n",
       "      <th>2</th>\n",
       "      <td>Region I (Ilocos Region)</td>\n",
       "      <td>PH010000000</td>\n",
       "      <td>Ilocos Norte</td>\n",
       "      <td>PH012800000</td>\n",
       "      <td>Badoc</td>\n",
       "      <td>PH012803000</td>\n",
       "      <td>1</td>\n",
       "    </tr>\n",
       "    <tr>\n",
       "      <th>3</th>\n",
       "      <td>Region I (Ilocos Region)</td>\n",
       "      <td>PH010000000</td>\n",
       "      <td>Ilocos Norte</td>\n",
       "      <td>PH012800000</td>\n",
       "      <td>Bangui</td>\n",
       "      <td>PH012804000</td>\n",
       "      <td>0</td>\n",
       "    </tr>\n",
       "    <tr>\n",
       "      <th>4</th>\n",
       "      <td>Region I (Ilocos Region)</td>\n",
       "      <td>PH010000000</td>\n",
       "      <td>Ilocos Norte</td>\n",
       "      <td>PH012800000</td>\n",
       "      <td>City of Batac</td>\n",
       "      <td>PH012805000</td>\n",
       "      <td>78</td>\n",
       "    </tr>\n",
       "  </tbody>\n",
       "</table>\n",
       "</div>"
      ],
      "text/plain": [
       "                     Region  Region Code      Province Province Code  \\\n",
       "0  Region I (Ilocos Region)  PH010000000  Ilocos Norte   PH012800000   \n",
       "1  Region I (Ilocos Region)  PH010000000  Ilocos Norte   PH012800000   \n",
       "2  Region I (Ilocos Region)  PH010000000  Ilocos Norte   PH012800000   \n",
       "3  Region I (Ilocos Region)  PH010000000  Ilocos Norte   PH012800000   \n",
       "4  Region I (Ilocos Region)  PH010000000  Ilocos Norte   PH012800000   \n",
       "\n",
       "  Municipality_City Municipality_City Code  Number of Evacuation Center  \n",
       "0             Adams            PH012801000                            3  \n",
       "1           Bacarra            PH012802000                            3  \n",
       "2             Badoc            PH012803000                            1  \n",
       "3            Bangui            PH012804000                            0  \n",
       "4     City of Batac            PH012805000                           78  "
      ]
     },
     "execution_count": 50,
     "metadata": {},
     "output_type": "execute_result"
    }
   ],
   "source": [
    "evac_data.head()"
   ]
  },
  {
   "cell_type": "code",
   "execution_count": 51,
   "metadata": {},
   "outputs": [
    {
     "name": "stdout",
     "output_type": "stream",
     "text": [
      "<class 'pandas.core.frame.DataFrame'>\n",
      "RangeIndex: 1647 entries, 0 to 1646\n",
      "Data columns (total 7 columns):\n",
      " #   Column                       Non-Null Count  Dtype \n",
      "---  ------                       --------------  ----- \n",
      " 0   Region                       1647 non-null   object\n",
      " 1   Region Code                  1647 non-null   object\n",
      " 2   Province                     1647 non-null   object\n",
      " 3   Province Code                1647 non-null   object\n",
      " 4   Municipality_City            1647 non-null   object\n",
      " 5   Municipality_City Code       1647 non-null   object\n",
      " 6   Number of Evacuation Center  1647 non-null   int64 \n",
      "dtypes: int64(1), object(6)\n",
      "memory usage: 90.2+ KB\n"
     ]
    }
   ],
   "source": [
    "evac_data.info()"
   ]
  },
  {
   "cell_type": "code",
   "execution_count": 52,
   "metadata": {},
   "outputs": [
    {
     "data": {
      "text/html": [
       "<div>\n",
       "<style scoped>\n",
       "    .dataframe tbody tr th:only-of-type {\n",
       "        vertical-align: middle;\n",
       "    }\n",
       "\n",
       "    .dataframe tbody tr th {\n",
       "        vertical-align: top;\n",
       "    }\n",
       "\n",
       "    .dataframe thead th {\n",
       "        text-align: right;\n",
       "    }\n",
       "</style>\n",
       "<table border=\"1\" class=\"dataframe\">\n",
       "  <thead>\n",
       "    <tr style=\"text-align: right;\">\n",
       "      <th></th>\n",
       "      <th>Region</th>\n",
       "      <th>Province</th>\n",
       "      <th>Number of Evacuation Center</th>\n",
       "    </tr>\n",
       "  </thead>\n",
       "  <tbody>\n",
       "    <tr>\n",
       "      <th>0</th>\n",
       "      <td>Region I (Ilocos Region)</td>\n",
       "      <td>Ilocos Norte</td>\n",
       "      <td>3</td>\n",
       "    </tr>\n",
       "    <tr>\n",
       "      <th>1</th>\n",
       "      <td>Region I (Ilocos Region)</td>\n",
       "      <td>Ilocos Norte</td>\n",
       "      <td>3</td>\n",
       "    </tr>\n",
       "    <tr>\n",
       "      <th>2</th>\n",
       "      <td>Region I (Ilocos Region)</td>\n",
       "      <td>Ilocos Norte</td>\n",
       "      <td>1</td>\n",
       "    </tr>\n",
       "    <tr>\n",
       "      <th>3</th>\n",
       "      <td>Region I (Ilocos Region)</td>\n",
       "      <td>Ilocos Norte</td>\n",
       "      <td>0</td>\n",
       "    </tr>\n",
       "    <tr>\n",
       "      <th>4</th>\n",
       "      <td>Region I (Ilocos Region)</td>\n",
       "      <td>Ilocos Norte</td>\n",
       "      <td>78</td>\n",
       "    </tr>\n",
       "  </tbody>\n",
       "</table>\n",
       "</div>"
      ],
      "text/plain": [
       "                     Region      Province  Number of Evacuation Center\n",
       "0  Region I (Ilocos Region)  Ilocos Norte                            3\n",
       "1  Region I (Ilocos Region)  Ilocos Norte                            3\n",
       "2  Region I (Ilocos Region)  Ilocos Norte                            1\n",
       "3  Region I (Ilocos Region)  Ilocos Norte                            0\n",
       "4  Region I (Ilocos Region)  Ilocos Norte                           78"
      ]
     },
     "execution_count": 52,
     "metadata": {},
     "output_type": "execute_result"
    }
   ],
   "source": [
    "columns_to_keep = ['Region', 'Province', 'Number of Evacuation Center']\n",
    "\n",
    "evacuation = evac_data[columns_to_keep]\n",
    "evacuation.head()"
   ]
  },
  {
   "cell_type": "code",
   "execution_count": 53,
   "metadata": {},
   "outputs": [
    {
     "data": {
      "text/plain": [
       "array(['Ilocos Norte', 'Ilocos Sur', 'La Union', 'Pangasinan', 'Batanes',\n",
       "       'Cagayan', 'Isabela', 'Nueva Vizcaya', 'Quirino', 'Bataan',\n",
       "       'Bulacan', 'Nueva Ecija', 'Pampanga', 'Tarlac', 'Zambales',\n",
       "       'Aurora', 'Batangas', 'Cavite', 'Laguna', 'Quezon', 'Rizal',\n",
       "       'Albay', 'Camarines Norte', 'Camarines Sur', 'Catanduanes',\n",
       "       'Masbate', 'Sorsogon', 'Aklan', 'Antique', 'Capiz', 'Iloilo',\n",
       "       'Guimaras', 'Bohol', 'Cebu', 'Siquijor', 'Eastern Samar', 'Leyte',\n",
       "       'Northern Samar', 'Samar (Western Samar)', 'Southern Leyte',\n",
       "       'Biliran', 'Zamboanga Del Norte', 'Zamboanga Del Sur',\n",
       "       'Zamboanga Sibugay', 'City of Isabela (Not a Province)',\n",
       "       'Bukidnon', 'Camiguin', 'Lanao Del Norte', 'Misamis Occidental',\n",
       "       'Misamis Oriental', 'Davao Del Norte', 'Davao Del Sur',\n",
       "       'Davao Oriental', 'Compostela Valley', 'Davao Occidental',\n",
       "       'Cotabato (North Cotabato)', 'South Cotabato', 'Sultan Kudarat',\n",
       "       'Sarangani', 'Cotabato City (Not a Province)',\n",
       "       'NCR, City of Manila, First District (Not a Province)',\n",
       "       'NCR, Second District (Not a Province)',\n",
       "       'NCR, Third District (Not a Province)',\n",
       "       'NCR, Fourth District (Not a Province)', 'Abra', 'Benguet',\n",
       "       'Ifugao', 'Kalinga', 'Mountain Province', 'Apayao', 'Basilan',\n",
       "       'Lanao Del Sur', 'Maguindanao', 'Sulu', 'Tawi-Tawi',\n",
       "       'Agusan Del Norte', 'Agusan Del Sur', 'Surigao Del Norte',\n",
       "       'Surigao Del Sur', 'Dinagat Islands', 'Marinduque',\n",
       "       'Occidental Mindoro', 'Oriental Mindoro', 'Palawan', 'Romblon',\n",
       "       'Negros Occidental', 'Negros Oriental'], dtype=object)"
      ]
     },
     "execution_count": 53,
     "metadata": {},
     "output_type": "execute_result"
    }
   ],
   "source": [
    "evacuation['Province'].unique()"
   ]
  },
  {
   "cell_type": "code",
   "execution_count": 54,
   "metadata": {},
   "outputs": [
    {
     "data": {
      "text/html": [
       "<div>\n",
       "<style scoped>\n",
       "    .dataframe tbody tr th:only-of-type {\n",
       "        vertical-align: middle;\n",
       "    }\n",
       "\n",
       "    .dataframe tbody tr th {\n",
       "        vertical-align: top;\n",
       "    }\n",
       "\n",
       "    .dataframe thead th {\n",
       "        text-align: right;\n",
       "    }\n",
       "</style>\n",
       "<table border=\"1\" class=\"dataframe\">\n",
       "  <thead>\n",
       "    <tr style=\"text-align: right;\">\n",
       "      <th></th>\n",
       "      <th>Region</th>\n",
       "      <th>REG_Code</th>\n",
       "      <th>Province</th>\n",
       "      <th>PROV_Code</th>\n",
       "      <th>City_Municipality</th>\n",
       "      <th>City_Mun Code</th>\n",
       "      <th>Ambulatory Surgical Clinic</th>\n",
       "      <th>Animal Bite Treatment Center</th>\n",
       "      <th>Barangay Health Station</th>\n",
       "      <th>Birthing Home</th>\n",
       "      <th>...</th>\n",
       "      <th>DepEd Clinic</th>\n",
       "      <th>Drug Abuse Treatment and Rehabilitation Centers</th>\n",
       "      <th>General Clinic Laboratory</th>\n",
       "      <th>Hospital</th>\n",
       "      <th>Infirmary</th>\n",
       "      <th>Municipal Health Office</th>\n",
       "      <th>Provincial Health Office</th>\n",
       "      <th>Psychiatric Care Facility</th>\n",
       "      <th>Rural Health Unit</th>\n",
       "      <th>Social hygiene Clinic</th>\n",
       "    </tr>\n",
       "  </thead>\n",
       "  <tbody>\n",
       "    <tr>\n",
       "      <th>0</th>\n",
       "      <td>Autonomous Region in Muslim Mindanao (ARMM)</td>\n",
       "      <td>PH150000000</td>\n",
       "      <td>Basilan</td>\n",
       "      <td>PH150700000</td>\n",
       "      <td>Akbar</td>\n",
       "      <td>PH150708000</td>\n",
       "      <td>0</td>\n",
       "      <td>0</td>\n",
       "      <td>9</td>\n",
       "      <td>1</td>\n",
       "      <td>...</td>\n",
       "      <td>0</td>\n",
       "      <td>0</td>\n",
       "      <td>0</td>\n",
       "      <td>0</td>\n",
       "      <td>0</td>\n",
       "      <td>0</td>\n",
       "      <td>0</td>\n",
       "      <td>0</td>\n",
       "      <td>1</td>\n",
       "      <td>0</td>\n",
       "    </tr>\n",
       "    <tr>\n",
       "      <th>1</th>\n",
       "      <td>Autonomous Region in Muslim Mindanao (ARMM)</td>\n",
       "      <td>PH150000000</td>\n",
       "      <td>Basilan</td>\n",
       "      <td>PH150700000</td>\n",
       "      <td>Al-Barka</td>\n",
       "      <td>PH150709000</td>\n",
       "      <td>0</td>\n",
       "      <td>0</td>\n",
       "      <td>4</td>\n",
       "      <td>0</td>\n",
       "      <td>...</td>\n",
       "      <td>0</td>\n",
       "      <td>0</td>\n",
       "      <td>0</td>\n",
       "      <td>0</td>\n",
       "      <td>0</td>\n",
       "      <td>0</td>\n",
       "      <td>0</td>\n",
       "      <td>0</td>\n",
       "      <td>1</td>\n",
       "      <td>0</td>\n",
       "    </tr>\n",
       "    <tr>\n",
       "      <th>2</th>\n",
       "      <td>Autonomous Region in Muslim Mindanao (ARMM)</td>\n",
       "      <td>PH150000000</td>\n",
       "      <td>Basilan</td>\n",
       "      <td>PH150700000</td>\n",
       "      <td>City of Lamitan (Capital)</td>\n",
       "      <td>PH150702000</td>\n",
       "      <td>0</td>\n",
       "      <td>0</td>\n",
       "      <td>15</td>\n",
       "      <td>5</td>\n",
       "      <td>...</td>\n",
       "      <td>0</td>\n",
       "      <td>0</td>\n",
       "      <td>0</td>\n",
       "      <td>2</td>\n",
       "      <td>0</td>\n",
       "      <td>0</td>\n",
       "      <td>0</td>\n",
       "      <td>0</td>\n",
       "      <td>3</td>\n",
       "      <td>0</td>\n",
       "    </tr>\n",
       "    <tr>\n",
       "      <th>3</th>\n",
       "      <td>Autonomous Region in Muslim Mindanao (ARMM)</td>\n",
       "      <td>PH150000000</td>\n",
       "      <td>Basilan</td>\n",
       "      <td>PH150700000</td>\n",
       "      <td>Hadji Mohammad Ajul</td>\n",
       "      <td>PH150710000</td>\n",
       "      <td>0</td>\n",
       "      <td>0</td>\n",
       "      <td>5</td>\n",
       "      <td>0</td>\n",
       "      <td>...</td>\n",
       "      <td>0</td>\n",
       "      <td>0</td>\n",
       "      <td>0</td>\n",
       "      <td>0</td>\n",
       "      <td>0</td>\n",
       "      <td>0</td>\n",
       "      <td>0</td>\n",
       "      <td>0</td>\n",
       "      <td>1</td>\n",
       "      <td>0</td>\n",
       "    </tr>\n",
       "    <tr>\n",
       "      <th>4</th>\n",
       "      <td>Autonomous Region in Muslim Mindanao (ARMM)</td>\n",
       "      <td>PH150000000</td>\n",
       "      <td>Basilan</td>\n",
       "      <td>PH150700000</td>\n",
       "      <td>Hadji Muhtamad</td>\n",
       "      <td>PH150712000</td>\n",
       "      <td>0</td>\n",
       "      <td>0</td>\n",
       "      <td>0</td>\n",
       "      <td>1</td>\n",
       "      <td>...</td>\n",
       "      <td>0</td>\n",
       "      <td>0</td>\n",
       "      <td>0</td>\n",
       "      <td>0</td>\n",
       "      <td>0</td>\n",
       "      <td>0</td>\n",
       "      <td>0</td>\n",
       "      <td>0</td>\n",
       "      <td>1</td>\n",
       "      <td>0</td>\n",
       "    </tr>\n",
       "  </tbody>\n",
       "</table>\n",
       "<p>5 rows × 21 columns</p>\n",
       "</div>"
      ],
      "text/plain": [
       "                                        Region     REG_Code Province  \\\n",
       "0  Autonomous Region in Muslim Mindanao (ARMM)  PH150000000  Basilan   \n",
       "1  Autonomous Region in Muslim Mindanao (ARMM)  PH150000000  Basilan   \n",
       "2  Autonomous Region in Muslim Mindanao (ARMM)  PH150000000  Basilan   \n",
       "3  Autonomous Region in Muslim Mindanao (ARMM)  PH150000000  Basilan   \n",
       "4  Autonomous Region in Muslim Mindanao (ARMM)  PH150000000  Basilan   \n",
       "\n",
       "     PROV_Code          City_Municipality City_Mun Code  \\\n",
       "0  PH150700000                      Akbar   PH150708000   \n",
       "1  PH150700000                   Al-Barka   PH150709000   \n",
       "2  PH150700000  City of Lamitan (Capital)   PH150702000   \n",
       "3  PH150700000        Hadji Mohammad Ajul   PH150710000   \n",
       "4  PH150700000             Hadji Muhtamad   PH150712000   \n",
       "\n",
       "   Ambulatory Surgical Clinic  Animal Bite Treatment Center  \\\n",
       "0                           0                             0   \n",
       "1                           0                             0   \n",
       "2                           0                             0   \n",
       "3                           0                             0   \n",
       "4                           0                             0   \n",
       "\n",
       "   Barangay Health Station  Birthing Home  ...  DepEd Clinic  \\\n",
       "0                        9              1  ...             0   \n",
       "1                        4              0  ...             0   \n",
       "2                       15              5  ...             0   \n",
       "3                        5              0  ...             0   \n",
       "4                        0              1  ...             0   \n",
       "\n",
       "   Drug Abuse Treatment and Rehabilitation Centers  General Clinic Laboratory  \\\n",
       "0                                                0                          0   \n",
       "1                                                0                          0   \n",
       "2                                                0                          0   \n",
       "3                                                0                          0   \n",
       "4                                                0                          0   \n",
       "\n",
       "   Hospital  Infirmary  Municipal Health Office  Provincial Health Office  \\\n",
       "0         0          0                        0                         0   \n",
       "1         0          0                        0                         0   \n",
       "2         2          0                        0                         0   \n",
       "3         0          0                        0                         0   \n",
       "4         0          0                        0                         0   \n",
       "\n",
       "   Psychiatric Care Facility  Rural Health Unit  Social hygiene Clinic  \n",
       "0                          0                  1                      0  \n",
       "1                          0                  1                      0  \n",
       "2                          0                  3                      0  \n",
       "3                          0                  1                      0  \n",
       "4                          0                  1                      0  \n",
       "\n",
       "[5 rows x 21 columns]"
      ]
     },
     "execution_count": 54,
     "metadata": {},
     "output_type": "execute_result"
    }
   ],
   "source": [
    "health2021_data.head()"
   ]
  },
  {
   "cell_type": "code",
   "execution_count": null,
   "metadata": {},
   "outputs": [],
   "source": [
    "# hhpop_data['Province'] = df['col_name'] = df['col_name'].str.replace('G', '1')"
   ]
  },
  {
   "cell_type": "code",
   "execution_count": 55,
   "metadata": {},
   "outputs": [
    {
     "name": "stdout",
     "output_type": "stream",
     "text": [
      "<class 'pandas.core.frame.DataFrame'>\n",
      "RangeIndex: 1647 entries, 0 to 1646\n",
      "Data columns (total 21 columns):\n",
      " #   Column                                           Non-Null Count  Dtype \n",
      "---  ------                                           --------------  ----- \n",
      " 0   Region                                           1647 non-null   object\n",
      " 1   REG_Code                                         1647 non-null   object\n",
      " 2   Province                                         1647 non-null   object\n",
      " 3   PROV_Code                                        1647 non-null   object\n",
      " 4   City_Municipality                                1647 non-null   object\n",
      " 5   City_Mun Code                                    1647 non-null   object\n",
      " 6   Ambulatory Surgical Clinic                       1647 non-null   int64 \n",
      " 7   Animal Bite Treatment Center                     1647 non-null   int64 \n",
      " 8   Barangay Health Station                          1647 non-null   int64 \n",
      " 9   Birthing Home                                    1647 non-null   int64 \n",
      " 10  City Health Office                               1647 non-null   int64 \n",
      " 11  DepEd Clinic                                     1647 non-null   int64 \n",
      " 12  Drug Abuse Treatment and Rehabilitation Centers  1647 non-null   int64 \n",
      " 13  General Clinic Laboratory                        1647 non-null   int64 \n",
      " 14  Hospital                                         1647 non-null   int64 \n",
      " 15  Infirmary                                        1647 non-null   int64 \n",
      " 16  Municipal Health Office                          1647 non-null   int64 \n",
      " 17  Provincial Health Office                         1647 non-null   int64 \n",
      " 18  Psychiatric Care Facility                        1647 non-null   int64 \n",
      " 19  Rural Health Unit                                1647 non-null   int64 \n",
      " 20  Social hygiene Clinic                            1647 non-null   int64 \n",
      "dtypes: int64(15), object(6)\n",
      "memory usage: 270.3+ KB\n"
     ]
    }
   ],
   "source": [
    "health2021_data.info()"
   ]
  },
  {
   "cell_type": "code",
   "execution_count": 56,
   "metadata": {},
   "outputs": [
    {
     "data": {
      "text/html": [
       "<div>\n",
       "<style scoped>\n",
       "    .dataframe tbody tr th:only-of-type {\n",
       "        vertical-align: middle;\n",
       "    }\n",
       "\n",
       "    .dataframe tbody tr th {\n",
       "        vertical-align: top;\n",
       "    }\n",
       "\n",
       "    .dataframe thead th {\n",
       "        text-align: right;\n",
       "    }\n",
       "</style>\n",
       "<table border=\"1\" class=\"dataframe\">\n",
       "  <thead>\n",
       "    <tr style=\"text-align: right;\">\n",
       "      <th></th>\n",
       "      <th>Region</th>\n",
       "      <th>Province</th>\n",
       "      <th>Ambulatory Surgical Clinic</th>\n",
       "      <th>Animal Bite Treatment Center</th>\n",
       "      <th>Barangay Health Station</th>\n",
       "      <th>Birthing Home</th>\n",
       "      <th>City Health Office</th>\n",
       "      <th>DepEd Clinic</th>\n",
       "      <th>Drug Abuse Treatment and Rehabilitation Centers</th>\n",
       "      <th>General Clinic Laboratory</th>\n",
       "      <th>Hospital</th>\n",
       "      <th>Infirmary</th>\n",
       "      <th>Municipal Health Office</th>\n",
       "      <th>Provincial Health Office</th>\n",
       "      <th>Psychiatric Care Facility</th>\n",
       "      <th>Rural Health Unit</th>\n",
       "      <th>Social hygiene Clinic</th>\n",
       "    </tr>\n",
       "  </thead>\n",
       "  <tbody>\n",
       "    <tr>\n",
       "      <th>0</th>\n",
       "      <td>Autonomous Region in Muslim Mindanao (ARMM)</td>\n",
       "      <td>Basilan</td>\n",
       "      <td>0</td>\n",
       "      <td>0</td>\n",
       "      <td>9</td>\n",
       "      <td>1</td>\n",
       "      <td>0</td>\n",
       "      <td>0</td>\n",
       "      <td>0</td>\n",
       "      <td>0</td>\n",
       "      <td>0</td>\n",
       "      <td>0</td>\n",
       "      <td>0</td>\n",
       "      <td>0</td>\n",
       "      <td>0</td>\n",
       "      <td>1</td>\n",
       "      <td>0</td>\n",
       "    </tr>\n",
       "    <tr>\n",
       "      <th>1</th>\n",
       "      <td>Autonomous Region in Muslim Mindanao (ARMM)</td>\n",
       "      <td>Basilan</td>\n",
       "      <td>0</td>\n",
       "      <td>0</td>\n",
       "      <td>4</td>\n",
       "      <td>0</td>\n",
       "      <td>0</td>\n",
       "      <td>0</td>\n",
       "      <td>0</td>\n",
       "      <td>0</td>\n",
       "      <td>0</td>\n",
       "      <td>0</td>\n",
       "      <td>0</td>\n",
       "      <td>0</td>\n",
       "      <td>0</td>\n",
       "      <td>1</td>\n",
       "      <td>0</td>\n",
       "    </tr>\n",
       "    <tr>\n",
       "      <th>2</th>\n",
       "      <td>Autonomous Region in Muslim Mindanao (ARMM)</td>\n",
       "      <td>Basilan</td>\n",
       "      <td>0</td>\n",
       "      <td>0</td>\n",
       "      <td>15</td>\n",
       "      <td>5</td>\n",
       "      <td>0</td>\n",
       "      <td>0</td>\n",
       "      <td>0</td>\n",
       "      <td>0</td>\n",
       "      <td>2</td>\n",
       "      <td>0</td>\n",
       "      <td>0</td>\n",
       "      <td>0</td>\n",
       "      <td>0</td>\n",
       "      <td>3</td>\n",
       "      <td>0</td>\n",
       "    </tr>\n",
       "    <tr>\n",
       "      <th>3</th>\n",
       "      <td>Autonomous Region in Muslim Mindanao (ARMM)</td>\n",
       "      <td>Basilan</td>\n",
       "      <td>0</td>\n",
       "      <td>0</td>\n",
       "      <td>5</td>\n",
       "      <td>0</td>\n",
       "      <td>0</td>\n",
       "      <td>0</td>\n",
       "      <td>0</td>\n",
       "      <td>0</td>\n",
       "      <td>0</td>\n",
       "      <td>0</td>\n",
       "      <td>0</td>\n",
       "      <td>0</td>\n",
       "      <td>0</td>\n",
       "      <td>1</td>\n",
       "      <td>0</td>\n",
       "    </tr>\n",
       "    <tr>\n",
       "      <th>4</th>\n",
       "      <td>Autonomous Region in Muslim Mindanao (ARMM)</td>\n",
       "      <td>Basilan</td>\n",
       "      <td>0</td>\n",
       "      <td>0</td>\n",
       "      <td>0</td>\n",
       "      <td>1</td>\n",
       "      <td>0</td>\n",
       "      <td>0</td>\n",
       "      <td>0</td>\n",
       "      <td>0</td>\n",
       "      <td>0</td>\n",
       "      <td>0</td>\n",
       "      <td>0</td>\n",
       "      <td>0</td>\n",
       "      <td>0</td>\n",
       "      <td>1</td>\n",
       "      <td>0</td>\n",
       "    </tr>\n",
       "  </tbody>\n",
       "</table>\n",
       "</div>"
      ],
      "text/plain": [
       "                                        Region Province  \\\n",
       "0  Autonomous Region in Muslim Mindanao (ARMM)  Basilan   \n",
       "1  Autonomous Region in Muslim Mindanao (ARMM)  Basilan   \n",
       "2  Autonomous Region in Muslim Mindanao (ARMM)  Basilan   \n",
       "3  Autonomous Region in Muslim Mindanao (ARMM)  Basilan   \n",
       "4  Autonomous Region in Muslim Mindanao (ARMM)  Basilan   \n",
       "\n",
       "   Ambulatory Surgical Clinic  Animal Bite Treatment Center  \\\n",
       "0                           0                             0   \n",
       "1                           0                             0   \n",
       "2                           0                             0   \n",
       "3                           0                             0   \n",
       "4                           0                             0   \n",
       "\n",
       "   Barangay Health Station  Birthing Home  City Health Office  DepEd Clinic  \\\n",
       "0                        9              1                   0             0   \n",
       "1                        4              0                   0             0   \n",
       "2                       15              5                   0             0   \n",
       "3                        5              0                   0             0   \n",
       "4                        0              1                   0             0   \n",
       "\n",
       "   Drug Abuse Treatment and Rehabilitation Centers  General Clinic Laboratory  \\\n",
       "0                                                0                          0   \n",
       "1                                                0                          0   \n",
       "2                                                0                          0   \n",
       "3                                                0                          0   \n",
       "4                                                0                          0   \n",
       "\n",
       "   Hospital  Infirmary  Municipal Health Office  Provincial Health Office  \\\n",
       "0         0          0                        0                         0   \n",
       "1         0          0                        0                         0   \n",
       "2         2          0                        0                         0   \n",
       "3         0          0                        0                         0   \n",
       "4         0          0                        0                         0   \n",
       "\n",
       "   Psychiatric Care Facility  Rural Health Unit  Social hygiene Clinic  \n",
       "0                          0                  1                      0  \n",
       "1                          0                  1                      0  \n",
       "2                          0                  3                      0  \n",
       "3                          0                  1                      0  \n",
       "4                          0                  1                      0  "
      ]
     },
     "execution_count": 56,
     "metadata": {},
     "output_type": "execute_result"
    }
   ],
   "source": [
    "columns_to_drop = ['REG_Code', 'PROV_Code', 'City_Municipality', 'City_Mun Code']\n",
    "\n",
    "health_facilities = health2021_data.drop(columns = columns_to_drop)\n",
    "health_facilities.head()"
   ]
  },
  {
   "cell_type": "code",
   "execution_count": 57,
   "metadata": {},
   "outputs": [
    {
     "data": {
      "text/plain": [
       "array(['Basilan', 'Lanao del Sur', 'Maguindanao', 'Sulu', 'Tawi-tawi',\n",
       "       'Abra', 'Apayao', 'Benguet', 'Ifugao', 'Kalinga',\n",
       "       'Mountain Province',\n",
       "       'NCR, City of Manila, First District (Not a Province)',\n",
       "       'NCR, Fourth District (Not a Province)',\n",
       "       'NCR, Second District (Not a Province)',\n",
       "       'NCR, Third District (Not a Province)', 'Ilocos Norte',\n",
       "       'Ilocos Sur', 'La Union', 'Pangasinan', 'Batanes', 'Cagayan',\n",
       "       'Isabela', 'Nueva Vizcaya', 'Quirino', 'Aurora', 'Bataan',\n",
       "       'Bulacan', 'Nueva Ecija', 'Pampanga', 'Tarlac', 'Zambales',\n",
       "       'Batangas', 'Cavite', 'Laguna', 'Quezon', 'Rizal', 'Marinduque',\n",
       "       'Occidental Mindoro', 'Oriental Mindoro', 'Palawan', 'Romblon',\n",
       "       'City of Isabela (Not a Province)', 'Zamboanga del Norte',\n",
       "       'Zamboanga del Sur', 'Zamboanga Sibugay', 'Albay',\n",
       "       'Camarines Norte', 'Camarines Sur', 'Catanduanes', 'Masbate',\n",
       "       'Sorsogon', 'Aklan', 'Antique', 'Capiz', 'Guimaras', 'Iloilo',\n",
       "       'Negros Occidental', 'Bohol', 'Cebu', 'Negros Oriental',\n",
       "       'Siquijor', 'Biliran', 'Eastern Samar', 'Leyte', 'Northern Samar',\n",
       "       'Samar (Western Samar)', 'Southern Leyte', 'Bukidnon', 'Camiguin',\n",
       "       'Lanao del Norte', 'Misamis Occidental', 'Misamis Oriental',\n",
       "       'Compostela Valley', 'Davao del Norte', 'Davao del Sur',\n",
       "       'Davao Occidental', 'Davao Oriental', 'Cotabato (North Cotabato)',\n",
       "       'Cotabato City (Not a Province)', 'Sarangani', 'South Cotabato',\n",
       "       'Sultan Kudarat', 'Agusan del Norte', 'Agusan del Sur',\n",
       "       'Dinagat Islands', 'Surigao del Norte', 'Surigao del Sur'],\n",
       "      dtype=object)"
      ]
     },
     "execution_count": 57,
     "metadata": {},
     "output_type": "execute_result"
    }
   ],
   "source": [
    "health_facilities['Province'].unique()"
   ]
  },
  {
   "cell_type": "code",
   "execution_count": 58,
   "metadata": {},
   "outputs": [
    {
     "data": {
      "text/html": [
       "<div>\n",
       "<style scoped>\n",
       "    .dataframe tbody tr th:only-of-type {\n",
       "        vertical-align: middle;\n",
       "    }\n",
       "\n",
       "    .dataframe tbody tr th {\n",
       "        vertical-align: top;\n",
       "    }\n",
       "\n",
       "    .dataframe thead th {\n",
       "        text-align: right;\n",
       "    }\n",
       "</style>\n",
       "<table border=\"1\" class=\"dataframe\">\n",
       "  <thead>\n",
       "    <tr style=\"text-align: right;\">\n",
       "      <th></th>\n",
       "      <th>Region</th>\n",
       "      <th>Region code</th>\n",
       "      <th>Province</th>\n",
       "      <th>Province code</th>\n",
       "      <th>City_Municipality</th>\n",
       "      <th>City_Mun Code</th>\n",
       "      <th>Elementary_school</th>\n",
       "      <th>Secondary_school</th>\n",
       "      <th>Enrollment_Elementary_Male</th>\n",
       "      <th>Enrollment_Elementary_Female</th>\n",
       "      <th>Enrollment_Secondary_Male</th>\n",
       "      <th>Enrollment_Secondary_Female</th>\n",
       "    </tr>\n",
       "  </thead>\n",
       "  <tbody>\n",
       "    <tr>\n",
       "      <th>0</th>\n",
       "      <td>Region I (Ilocos Region)</td>\n",
       "      <td>PH010000000</td>\n",
       "      <td>Ilocos Norte</td>\n",
       "      <td>PH012800000</td>\n",
       "      <td>Adams</td>\n",
       "      <td>PH012801000</td>\n",
       "      <td>2</td>\n",
       "      <td>1</td>\n",
       "      <td>154</td>\n",
       "      <td>129</td>\n",
       "      <td>85</td>\n",
       "      <td>71</td>\n",
       "    </tr>\n",
       "    <tr>\n",
       "      <th>1</th>\n",
       "      <td>Region I (Ilocos Region)</td>\n",
       "      <td>PH010000000</td>\n",
       "      <td>Ilocos Norte</td>\n",
       "      <td>PH012800000</td>\n",
       "      <td>Bacarra</td>\n",
       "      <td>PH012802000</td>\n",
       "      <td>24</td>\n",
       "      <td>2</td>\n",
       "      <td>1971</td>\n",
       "      <td>1842</td>\n",
       "      <td>1309</td>\n",
       "      <td>1272</td>\n",
       "    </tr>\n",
       "    <tr>\n",
       "      <th>2</th>\n",
       "      <td>Region I (Ilocos Region)</td>\n",
       "      <td>PH010000000</td>\n",
       "      <td>Ilocos Norte</td>\n",
       "      <td>PH012800000</td>\n",
       "      <td>Badoc</td>\n",
       "      <td>PH012803000</td>\n",
       "      <td>21</td>\n",
       "      <td>3</td>\n",
       "      <td>2133</td>\n",
       "      <td>1814</td>\n",
       "      <td>420</td>\n",
       "      <td>326</td>\n",
       "    </tr>\n",
       "    <tr>\n",
       "      <th>3</th>\n",
       "      <td>Region I (Ilocos Region)</td>\n",
       "      <td>PH010000000</td>\n",
       "      <td>Ilocos Norte</td>\n",
       "      <td>PH012800000</td>\n",
       "      <td>Bangui</td>\n",
       "      <td>PH012804000</td>\n",
       "      <td>13</td>\n",
       "      <td>3</td>\n",
       "      <td>985</td>\n",
       "      <td>976</td>\n",
       "      <td>672</td>\n",
       "      <td>635</td>\n",
       "    </tr>\n",
       "    <tr>\n",
       "      <th>4</th>\n",
       "      <td>Region I (Ilocos Region)</td>\n",
       "      <td>PH010000000</td>\n",
       "      <td>Ilocos Norte</td>\n",
       "      <td>PH012800000</td>\n",
       "      <td>Banna (Espiritu)</td>\n",
       "      <td>PH012811000</td>\n",
       "      <td>17</td>\n",
       "      <td>4</td>\n",
       "      <td>1375</td>\n",
       "      <td>1228</td>\n",
       "      <td>517</td>\n",
       "      <td>473</td>\n",
       "    </tr>\n",
       "  </tbody>\n",
       "</table>\n",
       "</div>"
      ],
      "text/plain": [
       "                     Region  Region code      Province Province code  \\\n",
       "0  Region I (Ilocos Region)  PH010000000  Ilocos Norte   PH012800000   \n",
       "1  Region I (Ilocos Region)  PH010000000  Ilocos Norte   PH012800000   \n",
       "2  Region I (Ilocos Region)  PH010000000  Ilocos Norte   PH012800000   \n",
       "3  Region I (Ilocos Region)  PH010000000  Ilocos Norte   PH012800000   \n",
       "4  Region I (Ilocos Region)  PH010000000  Ilocos Norte   PH012800000   \n",
       "\n",
       "  City_Municipality City_Mun Code  Elementary_school  Secondary_school  \\\n",
       "0             Adams   PH012801000                  2                 1   \n",
       "1          Bacarra    PH012802000                 24                 2   \n",
       "2             Badoc   PH012803000                 21                 3   \n",
       "3            Bangui   PH012804000                 13                 3   \n",
       "4  Banna (Espiritu)   PH012811000                 17                 4   \n",
       "\n",
       "   Enrollment_Elementary_Male  Enrollment_Elementary_Female  \\\n",
       "0                         154                           129   \n",
       "1                        1971                          1842   \n",
       "2                        2133                          1814   \n",
       "3                         985                           976   \n",
       "4                        1375                          1228   \n",
       "\n",
       "   Enrollment_Secondary_Male  Enrollment_Secondary_Female  \n",
       "0                         85                           71  \n",
       "1                       1309                         1272  \n",
       "2                        420                          326  \n",
       "3                        672                          635  \n",
       "4                        517                          473  "
      ]
     },
     "execution_count": 58,
     "metadata": {},
     "output_type": "execute_result"
    }
   ],
   "source": [
    "educ_data.head()"
   ]
  },
  {
   "cell_type": "code",
   "execution_count": 59,
   "metadata": {},
   "outputs": [
    {
     "name": "stdout",
     "output_type": "stream",
     "text": [
      "<class 'pandas.core.frame.DataFrame'>\n",
      "RangeIndex: 1648 entries, 0 to 1647\n",
      "Data columns (total 12 columns):\n",
      " #   Column                        Non-Null Count  Dtype \n",
      "---  ------                        --------------  ----- \n",
      " 0   Region                        1647 non-null   object\n",
      " 1   Region code                   1647 non-null   object\n",
      " 2   Province                      1647 non-null   object\n",
      " 3   Province code                 1647 non-null   object\n",
      " 4   City_Municipality             1647 non-null   object\n",
      " 5   City_Mun Code                 1647 non-null   object\n",
      " 6   Elementary_school             1648 non-null   int64 \n",
      " 7   Secondary_school              1648 non-null   int64 \n",
      " 8   Enrollment_Elementary_Male    1648 non-null   int64 \n",
      " 9   Enrollment_Elementary_Female  1648 non-null   int64 \n",
      " 10  Enrollment_Secondary_Male     1648 non-null   int64 \n",
      " 11  Enrollment_Secondary_Female   1648 non-null   int64 \n",
      "dtypes: int64(6), object(6)\n",
      "memory usage: 154.6+ KB\n"
     ]
    }
   ],
   "source": [
    "educ_data.info()"
   ]
  },
  {
   "cell_type": "code",
   "execution_count": 60,
   "metadata": {},
   "outputs": [
    {
     "data": {
      "text/html": [
       "<div>\n",
       "<style scoped>\n",
       "    .dataframe tbody tr th:only-of-type {\n",
       "        vertical-align: middle;\n",
       "    }\n",
       "\n",
       "    .dataframe tbody tr th {\n",
       "        vertical-align: top;\n",
       "    }\n",
       "\n",
       "    .dataframe thead th {\n",
       "        text-align: right;\n",
       "    }\n",
       "</style>\n",
       "<table border=\"1\" class=\"dataframe\">\n",
       "  <thead>\n",
       "    <tr style=\"text-align: right;\">\n",
       "      <th></th>\n",
       "      <th>Region</th>\n",
       "      <th>Province</th>\n",
       "      <th>Elementary_school</th>\n",
       "      <th>Secondary_school</th>\n",
       "    </tr>\n",
       "  </thead>\n",
       "  <tbody>\n",
       "    <tr>\n",
       "      <th>0</th>\n",
       "      <td>Region I (Ilocos Region)</td>\n",
       "      <td>Ilocos Norte</td>\n",
       "      <td>2</td>\n",
       "      <td>1</td>\n",
       "    </tr>\n",
       "    <tr>\n",
       "      <th>1</th>\n",
       "      <td>Region I (Ilocos Region)</td>\n",
       "      <td>Ilocos Norte</td>\n",
       "      <td>24</td>\n",
       "      <td>2</td>\n",
       "    </tr>\n",
       "    <tr>\n",
       "      <th>2</th>\n",
       "      <td>Region I (Ilocos Region)</td>\n",
       "      <td>Ilocos Norte</td>\n",
       "      <td>21</td>\n",
       "      <td>3</td>\n",
       "    </tr>\n",
       "    <tr>\n",
       "      <th>3</th>\n",
       "      <td>Region I (Ilocos Region)</td>\n",
       "      <td>Ilocos Norte</td>\n",
       "      <td>13</td>\n",
       "      <td>3</td>\n",
       "    </tr>\n",
       "    <tr>\n",
       "      <th>4</th>\n",
       "      <td>Region I (Ilocos Region)</td>\n",
       "      <td>Ilocos Norte</td>\n",
       "      <td>17</td>\n",
       "      <td>4</td>\n",
       "    </tr>\n",
       "  </tbody>\n",
       "</table>\n",
       "</div>"
      ],
      "text/plain": [
       "                     Region      Province  Elementary_school  Secondary_school\n",
       "0  Region I (Ilocos Region)  Ilocos Norte                  2                 1\n",
       "1  Region I (Ilocos Region)  Ilocos Norte                 24                 2\n",
       "2  Region I (Ilocos Region)  Ilocos Norte                 21                 3\n",
       "3  Region I (Ilocos Region)  Ilocos Norte                 13                 3\n",
       "4  Region I (Ilocos Region)  Ilocos Norte                 17                 4"
      ]
     },
     "execution_count": 60,
     "metadata": {},
     "output_type": "execute_result"
    }
   ],
   "source": [
    "columns_to_keep = ['Region', 'Province', 'Elementary_school', 'Secondary_school']\n",
    "\n",
    "school = educ_data[columns_to_keep]\n",
    "school.head()"
   ]
  },
  {
   "cell_type": "code",
   "execution_count": 61,
   "metadata": {},
   "outputs": [
    {
     "data": {
      "text/plain": [
       "array(['Ilocos Norte', 'Ilocos Sur', 'La Union', 'Pangasinan', 'Batanes',\n",
       "       'Cagayan', 'Isabela', 'Nueva Vizcaya', 'Quirino', 'Aurora',\n",
       "       'Bataan', 'Bulacan', 'Nueva Ecija', 'Pampanga', 'Tarlac',\n",
       "       'Zambales', 'Batangas', 'Cavite', 'Laguna', 'Quezon', 'Rizal',\n",
       "       'Marinduque', 'Occidental Mindoro', 'Oriental Mindoro', 'Palawan',\n",
       "       'Romblon', 'Albay', 'Camarines Norte', 'Camarines Sur',\n",
       "       'Catanduanes', 'Masbate', 'Sorsogon', 'Aklan', 'Antique', 'Capiz',\n",
       "       'Guimaras', 'Iloilo', 'Negros Occidental', 'Bohol', 'Cebu',\n",
       "       'Negros Oriental', 'Siquijor', 'Biliran', 'Eastern Samar', 'Leyte',\n",
       "       'Northern Samar', 'Southern Leyte', 'Samar (Western Samar)',\n",
       "       'City of Isabela (Not A Province)', 'Zamboanga Del Norte',\n",
       "       'Zamboanga Del Sur', 'Zamboanga Sibugay', 'Bukidnon', 'Camiguin',\n",
       "       'Lanao Del Norte', 'Misamis Occidental', 'Misamis Oriental',\n",
       "       'Compostela Valley', 'Davao Del Norte', 'Davao Del Sur',\n",
       "       'Davao Occidental', 'Davao Oriental',\n",
       "       'Cotabato City (Not A Province)', 'Cotabato (North Cotabato)',\n",
       "       'Sarangani', 'South Cotabato', 'Sultan Kudarat',\n",
       "       'Agusan Del Norte', 'Agusan Del Sur', 'Dinagat Islands',\n",
       "       'Surigao Del Norte', 'Surigao Del Sur', 'Abra', 'Apayao',\n",
       "       'Benguet', 'Ifugao', 'Kalinga', 'Mountain Province',\n",
       "       'NCR, City of Manila, First District (Not A Province)',\n",
       "       'NCR, Fourth District (Not A Province)',\n",
       "       'NCR, Second District (Not A Province)',\n",
       "       'NCR, Third District (Not A Province)', 'Basilan', 'Lanao Del Sur',\n",
       "       'Maguindanao', 'Sulu', 'Tawi-Tawi', nan], dtype=object)"
      ]
     },
     "execution_count": 61,
     "metadata": {},
     "output_type": "execute_result"
    }
   ],
   "source": [
    "school['Province'].unique()"
   ]
  },
  {
   "cell_type": "markdown",
   "metadata": {},
   "source": [
    "## Modifying Data to Prepare for Visualization"
   ]
  },
  {
   "cell_type": "markdown",
   "metadata": {},
   "source": [
    "### Population"
   ]
  },
  {
   "cell_type": "code",
   "execution_count": 33,
   "metadata": {},
   "outputs": [
    {
     "data": {
      "text/html": [
       "<div>\n",
       "<style scoped>\n",
       "    .dataframe tbody tr th:only-of-type {\n",
       "        vertical-align: middle;\n",
       "    }\n",
       "\n",
       "    .dataframe tbody tr th {\n",
       "        vertical-align: top;\n",
       "    }\n",
       "\n",
       "    .dataframe thead th {\n",
       "        text-align: right;\n",
       "    }\n",
       "</style>\n",
       "<table border=\"1\" class=\"dataframe\">\n",
       "  <thead>\n",
       "    <tr style=\"text-align: right;\">\n",
       "      <th></th>\n",
       "      <th>Region</th>\n",
       "      <th>Province</th>\n",
       "      <th>Both</th>\n",
       "      <th>Total Population</th>\n",
       "    </tr>\n",
       "  </thead>\n",
       "  <tbody>\n",
       "    <tr>\n",
       "      <th>0</th>\n",
       "      <td>CORDILLERA ADMINISTRA TIVE REGION (CAR)</td>\n",
       "      <td>ABRA</td>\n",
       "      <td>16609</td>\n",
       "      <td>250309</td>\n",
       "    </tr>\n",
       "    <tr>\n",
       "      <th>1</th>\n",
       "      <td>CORDILLERA ADMINISTRA TIVE REGION (CAR)</td>\n",
       "      <td>ABRA</td>\n",
       "      <td>4578</td>\n",
       "      <td>250309</td>\n",
       "    </tr>\n",
       "    <tr>\n",
       "      <th>2</th>\n",
       "      <td>CORDILLERA ADMINISTRA TIVE REGION (CAR)</td>\n",
       "      <td>ABRA</td>\n",
       "      <td>7406</td>\n",
       "      <td>250309</td>\n",
       "    </tr>\n",
       "    <tr>\n",
       "      <th>3</th>\n",
       "      <td>CORDILLERA ADMINISTRA TIVE REGION (CAR)</td>\n",
       "      <td>ABRA</td>\n",
       "      <td>9839</td>\n",
       "      <td>250309</td>\n",
       "    </tr>\n",
       "    <tr>\n",
       "      <th>4</th>\n",
       "      <td>CORDILLERA ADMINISTRA TIVE REGION (CAR)</td>\n",
       "      <td>ABRA</td>\n",
       "      <td>10944</td>\n",
       "      <td>250309</td>\n",
       "    </tr>\n",
       "  </tbody>\n",
       "</table>\n",
       "</div>"
      ],
      "text/plain": [
       "                                    Region Province   Both  Total Population\n",
       "0  CORDILLERA ADMINISTRA TIVE REGION (CAR)     ABRA  16609            250309\n",
       "1  CORDILLERA ADMINISTRA TIVE REGION (CAR)     ABRA   4578            250309\n",
       "2  CORDILLERA ADMINISTRA TIVE REGION (CAR)     ABRA   7406            250309\n",
       "3  CORDILLERA ADMINISTRA TIVE REGION (CAR)     ABRA   9839            250309\n",
       "4  CORDILLERA ADMINISTRA TIVE REGION (CAR)     ABRA  10944            250309"
      ]
     },
     "execution_count": 33,
     "metadata": {},
     "output_type": "execute_result"
    }
   ],
   "source": [
    "# group by values of df.column\n",
    "population['Total Population'] = population.groupby('Province')['Both'].transform('sum')\n",
    "population.head()"
   ]
  },
  {
   "cell_type": "code",
   "execution_count": 34,
   "metadata": {},
   "outputs": [],
   "source": [
    "population = population.drop(columns = ['Both'])"
   ]
  },
  {
   "cell_type": "code",
   "execution_count": 35,
   "metadata": {},
   "outputs": [
    {
     "data": {
      "text/html": [
       "<div>\n",
       "<style scoped>\n",
       "    .dataframe tbody tr th:only-of-type {\n",
       "        vertical-align: middle;\n",
       "    }\n",
       "\n",
       "    .dataframe tbody tr th {\n",
       "        vertical-align: top;\n",
       "    }\n",
       "\n",
       "    .dataframe thead th {\n",
       "        text-align: right;\n",
       "    }\n",
       "</style>\n",
       "<table border=\"1\" class=\"dataframe\">\n",
       "  <thead>\n",
       "    <tr style=\"text-align: right;\">\n",
       "      <th></th>\n",
       "      <th>Region</th>\n",
       "      <th>Province</th>\n",
       "      <th>Total Population</th>\n",
       "    </tr>\n",
       "  </thead>\n",
       "  <tbody>\n",
       "    <tr>\n",
       "      <th>0</th>\n",
       "      <td>CORDILLERA ADMINISTRA TIVE REGION (CAR)</td>\n",
       "      <td>ABRA</td>\n",
       "      <td>250309</td>\n",
       "    </tr>\n",
       "    <tr>\n",
       "      <th>1</th>\n",
       "      <td>CORDILLERA ADMINISTRA TIVE REGION (CAR)</td>\n",
       "      <td>ABRA</td>\n",
       "      <td>250309</td>\n",
       "    </tr>\n",
       "    <tr>\n",
       "      <th>2</th>\n",
       "      <td>CORDILLERA ADMINISTRA TIVE REGION (CAR)</td>\n",
       "      <td>ABRA</td>\n",
       "      <td>250309</td>\n",
       "    </tr>\n",
       "    <tr>\n",
       "      <th>3</th>\n",
       "      <td>CORDILLERA ADMINISTRA TIVE REGION (CAR)</td>\n",
       "      <td>ABRA</td>\n",
       "      <td>250309</td>\n",
       "    </tr>\n",
       "    <tr>\n",
       "      <th>4</th>\n",
       "      <td>CORDILLERA ADMINISTRA TIVE REGION (CAR)</td>\n",
       "      <td>ABRA</td>\n",
       "      <td>250309</td>\n",
       "    </tr>\n",
       "  </tbody>\n",
       "</table>\n",
       "</div>"
      ],
      "text/plain": [
       "                                    Region Province  Total Population\n",
       "0  CORDILLERA ADMINISTRA TIVE REGION (CAR)     ABRA            250309\n",
       "1  CORDILLERA ADMINISTRA TIVE REGION (CAR)     ABRA            250309\n",
       "2  CORDILLERA ADMINISTRA TIVE REGION (CAR)     ABRA            250309\n",
       "3  CORDILLERA ADMINISTRA TIVE REGION (CAR)     ABRA            250309\n",
       "4  CORDILLERA ADMINISTRA TIVE REGION (CAR)     ABRA            250309"
      ]
     },
     "execution_count": 35,
     "metadata": {},
     "output_type": "execute_result"
    }
   ],
   "source": [
    "population.head()"
   ]
  },
  {
   "cell_type": "code",
   "execution_count": 36,
   "metadata": {},
   "outputs": [
    {
     "data": {
      "text/html": [
       "<div>\n",
       "<style scoped>\n",
       "    .dataframe tbody tr th:only-of-type {\n",
       "        vertical-align: middle;\n",
       "    }\n",
       "\n",
       "    .dataframe tbody tr th {\n",
       "        vertical-align: top;\n",
       "    }\n",
       "\n",
       "    .dataframe thead th {\n",
       "        text-align: right;\n",
       "    }\n",
       "</style>\n",
       "<table border=\"1\" class=\"dataframe\">\n",
       "  <thead>\n",
       "    <tr style=\"text-align: right;\">\n",
       "      <th></th>\n",
       "      <th>Province</th>\n",
       "      <th>Region</th>\n",
       "      <th>Total Population</th>\n",
       "    </tr>\n",
       "  </thead>\n",
       "  <tbody>\n",
       "    <tr>\n",
       "      <th>0</th>\n",
       "      <td>ABRA</td>\n",
       "      <td>CORDILLERA ADMINISTRA TIVE REGION (CAR)</td>\n",
       "      <td>250309</td>\n",
       "    </tr>\n",
       "    <tr>\n",
       "      <th>1</th>\n",
       "      <td>AGUSAN DEL NORTE</td>\n",
       "      <td>REGION XIII (CARAGA)</td>\n",
       "      <td>757121</td>\n",
       "    </tr>\n",
       "    <tr>\n",
       "      <th>2</th>\n",
       "      <td>AGUSAN DEL SUR</td>\n",
       "      <td>REGION XIII (CARAGA)</td>\n",
       "      <td>737991</td>\n",
       "    </tr>\n",
       "    <tr>\n",
       "      <th>3</th>\n",
       "      <td>AKLAN</td>\n",
       "      <td>REGION VI (WESTERN VISAYAS)</td>\n",
       "      <td>612985</td>\n",
       "    </tr>\n",
       "    <tr>\n",
       "      <th>4</th>\n",
       "      <td>ALBAY</td>\n",
       "      <td>REGION V (BICOL REGION)</td>\n",
       "      <td>1372550</td>\n",
       "    </tr>\n",
       "  </tbody>\n",
       "</table>\n",
       "</div>"
      ],
      "text/plain": [
       "           Province                                   Region  Total Population\n",
       "0              ABRA  CORDILLERA ADMINISTRA TIVE REGION (CAR)            250309\n",
       "1  AGUSAN DEL NORTE                     REGION XIII (CARAGA)            757121\n",
       "2    AGUSAN DEL SUR                     REGION XIII (CARAGA)            737991\n",
       "3             AKLAN              REGION VI (WESTERN VISAYAS)            612985\n",
       "4             ALBAY                  REGION V (BICOL REGION)           1372550"
      ]
     },
     "execution_count": 36,
     "metadata": {},
     "output_type": "execute_result"
    }
   ],
   "source": [
    "pop = population.groupby('Province').agg({\n",
    "    'Region': 'first',\n",
    "    'Total Population': 'first',\n",
    "}).reset_index()\n",
    "\n",
    "pop.head()"
   ]
  },
  {
   "cell_type": "code",
   "execution_count": 37,
   "metadata": {},
   "outputs": [
    {
     "name": "stdout",
     "output_type": "stream",
     "text": [
      "<class 'pandas.core.frame.DataFrame'>\n",
      "RangeIndex: 87 entries, 0 to 86\n",
      "Data columns (total 3 columns):\n",
      " #   Column            Non-Null Count  Dtype \n",
      "---  ------            --------------  ----- \n",
      " 0   Province          87 non-null     object\n",
      " 1   Region            87 non-null     object\n",
      " 2   Total Population  87 non-null     int64 \n",
      "dtypes: int64(1), object(2)\n",
      "memory usage: 2.2+ KB\n"
     ]
    }
   ],
   "source": [
    "pop.info()"
   ]
  },
  {
   "cell_type": "code",
   "execution_count": 39,
   "metadata": {},
   "outputs": [],
   "source": [
    "pop.to_excel('data101_data/pre-disaster/PHILIPPINES_POPULATION.xlsx', index=False)"
   ]
  },
  {
   "cell_type": "markdown",
   "metadata": {},
   "source": [
    "### Response Facilities"
   ]
  },
  {
   "cell_type": "code",
   "execution_count": 102,
   "metadata": {},
   "outputs": [
    {
     "data": {
      "text/html": [
       "<div>\n",
       "<style scoped>\n",
       "    .dataframe tbody tr th:only-of-type {\n",
       "        vertical-align: middle;\n",
       "    }\n",
       "\n",
       "    .dataframe tbody tr th {\n",
       "        vertical-align: top;\n",
       "    }\n",
       "\n",
       "    .dataframe thead th {\n",
       "        text-align: right;\n",
       "    }\n",
       "</style>\n",
       "<table border=\"1\" class=\"dataframe\">\n",
       "  <thead>\n",
       "    <tr style=\"text-align: right;\">\n",
       "      <th></th>\n",
       "      <th>Region</th>\n",
       "      <th>Province</th>\n",
       "      <th>Number of Evacuation Center</th>\n",
       "      <th>Total Evacuation Centers</th>\n",
       "    </tr>\n",
       "  </thead>\n",
       "  <tbody>\n",
       "    <tr>\n",
       "      <th>0</th>\n",
       "      <td>Cordillera Administrative Region (CAR)</td>\n",
       "      <td>Abra</td>\n",
       "      <td>24</td>\n",
       "      <td>265</td>\n",
       "    </tr>\n",
       "    <tr>\n",
       "      <th>1</th>\n",
       "      <td>Cordillera Administrative Region (CAR)</td>\n",
       "      <td>Abra</td>\n",
       "      <td>14</td>\n",
       "      <td>265</td>\n",
       "    </tr>\n",
       "    <tr>\n",
       "      <th>2</th>\n",
       "      <td>Cordillera Administrative Region (CAR)</td>\n",
       "      <td>Abra</td>\n",
       "      <td>10</td>\n",
       "      <td>265</td>\n",
       "    </tr>\n",
       "    <tr>\n",
       "      <th>3</th>\n",
       "      <td>Cordillera Administrative Region (CAR)</td>\n",
       "      <td>Abra</td>\n",
       "      <td>5</td>\n",
       "      <td>265</td>\n",
       "    </tr>\n",
       "    <tr>\n",
       "      <th>4</th>\n",
       "      <td>Cordillera Administrative Region (CAR)</td>\n",
       "      <td>Abra</td>\n",
       "      <td>8</td>\n",
       "      <td>265</td>\n",
       "    </tr>\n",
       "  </tbody>\n",
       "</table>\n",
       "</div>"
      ],
      "text/plain": [
       "                                   Region Province  \\\n",
       "0  Cordillera Administrative Region (CAR)     Abra   \n",
       "1  Cordillera Administrative Region (CAR)     Abra   \n",
       "2  Cordillera Administrative Region (CAR)     Abra   \n",
       "3  Cordillera Administrative Region (CAR)     Abra   \n",
       "4  Cordillera Administrative Region (CAR)     Abra   \n",
       "\n",
       "   Number of Evacuation Center  Total Evacuation Centers  \n",
       "0                           24                       265  \n",
       "1                           14                       265  \n",
       "2                           10                       265  \n",
       "3                            5                       265  \n",
       "4                            8                       265  "
      ]
     },
     "execution_count": 102,
     "metadata": {},
     "output_type": "execute_result"
    }
   ],
   "source": [
    "evacuation['Total Evacuation Centers'] = evacuation.groupby('Province')['Number of Evacuation Center'].transform('sum')\n",
    "evacuation.head()"
   ]
  },
  {
   "cell_type": "code",
   "execution_count": 108,
   "metadata": {},
   "outputs": [
    {
     "data": {
      "text/html": [
       "<div>\n",
       "<style scoped>\n",
       "    .dataframe tbody tr th:only-of-type {\n",
       "        vertical-align: middle;\n",
       "    }\n",
       "\n",
       "    .dataframe tbody tr th {\n",
       "        vertical-align: top;\n",
       "    }\n",
       "\n",
       "    .dataframe thead th {\n",
       "        text-align: right;\n",
       "    }\n",
       "</style>\n",
       "<table border=\"1\" class=\"dataframe\">\n",
       "  <thead>\n",
       "    <tr style=\"text-align: right;\">\n",
       "      <th></th>\n",
       "      <th>Province</th>\n",
       "      <th>Region</th>\n",
       "      <th>Total Evacuation Centers</th>\n",
       "    </tr>\n",
       "  </thead>\n",
       "  <tbody>\n",
       "    <tr>\n",
       "      <th>0</th>\n",
       "      <td>Abra</td>\n",
       "      <td>Cordillera Administrative Region (CAR)</td>\n",
       "      <td>265</td>\n",
       "    </tr>\n",
       "    <tr>\n",
       "      <th>1</th>\n",
       "      <td>Agusan Del Norte</td>\n",
       "      <td>Region XIII (Caraga)</td>\n",
       "      <td>215</td>\n",
       "    </tr>\n",
       "    <tr>\n",
       "      <th>2</th>\n",
       "      <td>Agusan Del Sur</td>\n",
       "      <td>Region XIII (Caraga)</td>\n",
       "      <td>127</td>\n",
       "    </tr>\n",
       "    <tr>\n",
       "      <th>3</th>\n",
       "      <td>Aklan</td>\n",
       "      <td>Region VI (Western Visayas)</td>\n",
       "      <td>167</td>\n",
       "    </tr>\n",
       "    <tr>\n",
       "      <th>4</th>\n",
       "      <td>Albay</td>\n",
       "      <td>Region V (Bicol Region)</td>\n",
       "      <td>350</td>\n",
       "    </tr>\n",
       "  </tbody>\n",
       "</table>\n",
       "</div>"
      ],
      "text/plain": [
       "           Province                                  Region  \\\n",
       "0              Abra  Cordillera Administrative Region (CAR)   \n",
       "1  Agusan Del Norte                    Region XIII (Caraga)   \n",
       "2    Agusan Del Sur                    Region XIII (Caraga)   \n",
       "3             Aklan             Region VI (Western Visayas)   \n",
       "4             Albay                 Region V (Bicol Region)   \n",
       "\n",
       "   Total Evacuation Centers  \n",
       "0                       265  \n",
       "1                       215  \n",
       "2                       127  \n",
       "3                       167  \n",
       "4                       350  "
      ]
     },
     "execution_count": 108,
     "metadata": {},
     "output_type": "execute_result"
    }
   ],
   "source": [
    "evacuation = evacuation.groupby('Province').agg({\n",
    "    'Region': 'first',\n",
    "    'Total Evacuation Centers': 'first',\n",
    "}).reset_index()\n",
    "\n",
    "evacuation.head()"
   ]
  },
  {
   "cell_type": "code",
   "execution_count": 104,
   "metadata": {},
   "outputs": [
    {
     "data": {
      "text/html": [
       "<div>\n",
       "<style scoped>\n",
       "    .dataframe tbody tr th:only-of-type {\n",
       "        vertical-align: middle;\n",
       "    }\n",
       "\n",
       "    .dataframe tbody tr th {\n",
       "        vertical-align: top;\n",
       "    }\n",
       "\n",
       "    .dataframe thead th {\n",
       "        text-align: right;\n",
       "    }\n",
       "</style>\n",
       "<table border=\"1\" class=\"dataframe\">\n",
       "  <thead>\n",
       "    <tr style=\"text-align: right;\">\n",
       "      <th></th>\n",
       "      <th>Region</th>\n",
       "      <th>Province</th>\n",
       "      <th>Ambulatory Surgical Clinic</th>\n",
       "      <th>Animal Bite Treatment Center</th>\n",
       "      <th>Barangay Health Station</th>\n",
       "      <th>Birthing Home</th>\n",
       "      <th>City Health Office</th>\n",
       "      <th>DepEd Clinic</th>\n",
       "      <th>Drug Abuse Treatment and Rehabilitation Centers</th>\n",
       "      <th>General Clinic Laboratory</th>\n",
       "      <th>Hospital</th>\n",
       "      <th>Infirmary</th>\n",
       "      <th>Municipal Health Office</th>\n",
       "      <th>Provincial Health Office</th>\n",
       "      <th>Psychiatric Care Facility</th>\n",
       "      <th>Rural Health Unit</th>\n",
       "      <th>Social hygiene Clinic</th>\n",
       "      <th>Total Health Facilities</th>\n",
       "      <th>Total Health</th>\n",
       "    </tr>\n",
       "  </thead>\n",
       "  <tbody>\n",
       "    <tr>\n",
       "      <th>0</th>\n",
       "      <td>Cordillera Administrative Region (CAR)</td>\n",
       "      <td>Abra</td>\n",
       "      <td>0</td>\n",
       "      <td>0</td>\n",
       "      <td>8</td>\n",
       "      <td>0</td>\n",
       "      <td>0</td>\n",
       "      <td>0</td>\n",
       "      <td>0</td>\n",
       "      <td>0</td>\n",
       "      <td>0</td>\n",
       "      <td>1</td>\n",
       "      <td>0</td>\n",
       "      <td>0</td>\n",
       "      <td>0</td>\n",
       "      <td>1</td>\n",
       "      <td>0</td>\n",
       "      <td>10</td>\n",
       "      <td>10</td>\n",
       "    </tr>\n",
       "    <tr>\n",
       "      <th>1</th>\n",
       "      <td>Cordillera Administrative Region (CAR)</td>\n",
       "      <td>Abra</td>\n",
       "      <td>0</td>\n",
       "      <td>0</td>\n",
       "      <td>3</td>\n",
       "      <td>0</td>\n",
       "      <td>0</td>\n",
       "      <td>0</td>\n",
       "      <td>0</td>\n",
       "      <td>0</td>\n",
       "      <td>0</td>\n",
       "      <td>0</td>\n",
       "      <td>0</td>\n",
       "      <td>0</td>\n",
       "      <td>0</td>\n",
       "      <td>1</td>\n",
       "      <td>0</td>\n",
       "      <td>4</td>\n",
       "      <td>4</td>\n",
       "    </tr>\n",
       "    <tr>\n",
       "      <th>2</th>\n",
       "      <td>Cordillera Administrative Region (CAR)</td>\n",
       "      <td>Abra</td>\n",
       "      <td>0</td>\n",
       "      <td>0</td>\n",
       "      <td>6</td>\n",
       "      <td>0</td>\n",
       "      <td>0</td>\n",
       "      <td>0</td>\n",
       "      <td>0</td>\n",
       "      <td>0</td>\n",
       "      <td>0</td>\n",
       "      <td>0</td>\n",
       "      <td>0</td>\n",
       "      <td>0</td>\n",
       "      <td>0</td>\n",
       "      <td>1</td>\n",
       "      <td>0</td>\n",
       "      <td>7</td>\n",
       "      <td>7</td>\n",
       "    </tr>\n",
       "    <tr>\n",
       "      <th>3</th>\n",
       "      <td>Cordillera Administrative Region (CAR)</td>\n",
       "      <td>Abra</td>\n",
       "      <td>0</td>\n",
       "      <td>0</td>\n",
       "      <td>9</td>\n",
       "      <td>0</td>\n",
       "      <td>0</td>\n",
       "      <td>0</td>\n",
       "      <td>0</td>\n",
       "      <td>0</td>\n",
       "      <td>0</td>\n",
       "      <td>0</td>\n",
       "      <td>0</td>\n",
       "      <td>0</td>\n",
       "      <td>0</td>\n",
       "      <td>1</td>\n",
       "      <td>0</td>\n",
       "      <td>10</td>\n",
       "      <td>10</td>\n",
       "    </tr>\n",
       "    <tr>\n",
       "      <th>4</th>\n",
       "      <td>Cordillera Administrative Region (CAR)</td>\n",
       "      <td>Abra</td>\n",
       "      <td>0</td>\n",
       "      <td>0</td>\n",
       "      <td>9</td>\n",
       "      <td>0</td>\n",
       "      <td>0</td>\n",
       "      <td>0</td>\n",
       "      <td>0</td>\n",
       "      <td>0</td>\n",
       "      <td>0</td>\n",
       "      <td>0</td>\n",
       "      <td>0</td>\n",
       "      <td>0</td>\n",
       "      <td>0</td>\n",
       "      <td>1</td>\n",
       "      <td>0</td>\n",
       "      <td>10</td>\n",
       "      <td>10</td>\n",
       "    </tr>\n",
       "  </tbody>\n",
       "</table>\n",
       "</div>"
      ],
      "text/plain": [
       "                                   Region Province  \\\n",
       "0  Cordillera Administrative Region (CAR)     Abra   \n",
       "1  Cordillera Administrative Region (CAR)     Abra   \n",
       "2  Cordillera Administrative Region (CAR)     Abra   \n",
       "3  Cordillera Administrative Region (CAR)     Abra   \n",
       "4  Cordillera Administrative Region (CAR)     Abra   \n",
       "\n",
       "   Ambulatory Surgical Clinic  Animal Bite Treatment Center  \\\n",
       "0                           0                             0   \n",
       "1                           0                             0   \n",
       "2                           0                             0   \n",
       "3                           0                             0   \n",
       "4                           0                             0   \n",
       "\n",
       "   Barangay Health Station  Birthing Home  City Health Office  DepEd Clinic  \\\n",
       "0                        8              0                   0             0   \n",
       "1                        3              0                   0             0   \n",
       "2                        6              0                   0             0   \n",
       "3                        9              0                   0             0   \n",
       "4                        9              0                   0             0   \n",
       "\n",
       "   Drug Abuse Treatment and Rehabilitation Centers  General Clinic Laboratory  \\\n",
       "0                                                0                          0   \n",
       "1                                                0                          0   \n",
       "2                                                0                          0   \n",
       "3                                                0                          0   \n",
       "4                                                0                          0   \n",
       "\n",
       "   Hospital  Infirmary  Municipal Health Office  Provincial Health Office  \\\n",
       "0         0          1                        0                         0   \n",
       "1         0          0                        0                         0   \n",
       "2         0          0                        0                         0   \n",
       "3         0          0                        0                         0   \n",
       "4         0          0                        0                         0   \n",
       "\n",
       "   Psychiatric Care Facility  Rural Health Unit  Social hygiene Clinic  \\\n",
       "0                          0                  1                      0   \n",
       "1                          0                  1                      0   \n",
       "2                          0                  1                      0   \n",
       "3                          0                  1                      0   \n",
       "4                          0                  1                      0   \n",
       "\n",
       "   Total Health Facilities  Total Health  \n",
       "0                       10            10  \n",
       "1                        4             4  \n",
       "2                        7             7  \n",
       "3                       10            10  \n",
       "4                       10            10  "
      ]
     },
     "execution_count": 104,
     "metadata": {},
     "output_type": "execute_result"
    }
   ],
   "source": [
    "health_facilities['Total Health'] = health_facilities[['Ambulatory Surgical Clinic', 'Animal Bite Treatment Center','Barangay Health Station', 'Birthing Home', 'City Health Office', 'DepEd Clinic','Drug Abuse Treatment and Rehabilitation Centers', 'General Clinic Laboratory', 'Hospital', 'Infirmary', 'Municipal Health Office', 'Provincial Health Office', 'Psychiatric Care Facility', 'Rural Health Unit', 'Social hygiene Clinic']].sum(axis = 1)\n",
    "health_facilities.head()"
   ]
  },
  {
   "cell_type": "code",
   "execution_count": 105,
   "metadata": {},
   "outputs": [
    {
     "data": {
      "text/html": [
       "<div>\n",
       "<style scoped>\n",
       "    .dataframe tbody tr th:only-of-type {\n",
       "        vertical-align: middle;\n",
       "    }\n",
       "\n",
       "    .dataframe tbody tr th {\n",
       "        vertical-align: top;\n",
       "    }\n",
       "\n",
       "    .dataframe thead th {\n",
       "        text-align: right;\n",
       "    }\n",
       "</style>\n",
       "<table border=\"1\" class=\"dataframe\">\n",
       "  <thead>\n",
       "    <tr style=\"text-align: right;\">\n",
       "      <th></th>\n",
       "      <th>Region</th>\n",
       "      <th>Province</th>\n",
       "      <th>Total Health</th>\n",
       "    </tr>\n",
       "  </thead>\n",
       "  <tbody>\n",
       "    <tr>\n",
       "      <th>0</th>\n",
       "      <td>Cordillera Administrative Region (CAR)</td>\n",
       "      <td>Abra</td>\n",
       "      <td>10</td>\n",
       "    </tr>\n",
       "    <tr>\n",
       "      <th>1</th>\n",
       "      <td>Cordillera Administrative Region (CAR)</td>\n",
       "      <td>Abra</td>\n",
       "      <td>4</td>\n",
       "    </tr>\n",
       "    <tr>\n",
       "      <th>2</th>\n",
       "      <td>Cordillera Administrative Region (CAR)</td>\n",
       "      <td>Abra</td>\n",
       "      <td>7</td>\n",
       "    </tr>\n",
       "    <tr>\n",
       "      <th>3</th>\n",
       "      <td>Cordillera Administrative Region (CAR)</td>\n",
       "      <td>Abra</td>\n",
       "      <td>10</td>\n",
       "    </tr>\n",
       "    <tr>\n",
       "      <th>4</th>\n",
       "      <td>Cordillera Administrative Region (CAR)</td>\n",
       "      <td>Abra</td>\n",
       "      <td>10</td>\n",
       "    </tr>\n",
       "  </tbody>\n",
       "</table>\n",
       "</div>"
      ],
      "text/plain": [
       "                                   Region Province  Total Health\n",
       "0  Cordillera Administrative Region (CAR)     Abra            10\n",
       "1  Cordillera Administrative Region (CAR)     Abra             4\n",
       "2  Cordillera Administrative Region (CAR)     Abra             7\n",
       "3  Cordillera Administrative Region (CAR)     Abra            10\n",
       "4  Cordillera Administrative Region (CAR)     Abra            10"
      ]
     },
     "execution_count": 105,
     "metadata": {},
     "output_type": "execute_result"
    }
   ],
   "source": [
    "columns_to_keep = ['Region', 'Province', 'Total Health']\n",
    "\n",
    "health = health_facilities[columns_to_keep]\n",
    "health.head()"
   ]
  },
  {
   "cell_type": "code",
   "execution_count": 110,
   "metadata": {},
   "outputs": [
    {
     "name": "stderr",
     "output_type": "stream",
     "text": [
      "C:\\Users\\LENOVO PC\\AppData\\Local\\Temp\\ipykernel_8676\\3314820324.py:1: SettingWithCopyWarning:\n",
      "\n",
      "\n",
      "A value is trying to be set on a copy of a slice from a DataFrame.\n",
      "Try using .loc[row_indexer,col_indexer] = value instead\n",
      "\n",
      "See the caveats in the documentation: https://pandas.pydata.org/pandas-docs/stable/user_guide/indexing.html#returning-a-view-versus-a-copy\n",
      "\n"
     ]
    },
    {
     "ename": "KeyError",
     "evalue": "\"['Total Health'] not found in axis\"",
     "output_type": "error",
     "traceback": [
      "\u001b[1;31m---------------------------------------------------------------------------\u001b[0m",
      "\u001b[1;31mKeyError\u001b[0m                                  Traceback (most recent call last)",
      "Cell \u001b[1;32mIn[110], line 2\u001b[0m\n\u001b[0;32m      1\u001b[0m health[\u001b[39m'\u001b[39m\u001b[39mTotal Health Facilities\u001b[39m\u001b[39m'\u001b[39m] \u001b[39m=\u001b[39m health\u001b[39m.\u001b[39mgroupby(\u001b[39m'\u001b[39m\u001b[39mProvince\u001b[39m\u001b[39m'\u001b[39m)[\u001b[39m'\u001b[39m\u001b[39mTotal Health\u001b[39m\u001b[39m'\u001b[39m]\u001b[39m.\u001b[39mtransform(\u001b[39m'\u001b[39m\u001b[39msum\u001b[39m\u001b[39m'\u001b[39m)\n\u001b[1;32m----> 2\u001b[0m health \u001b[39m=\u001b[39m health\u001b[39m.\u001b[39;49mdrop(\u001b[39m'\u001b[39;49m\u001b[39mTotal Health\u001b[39;49m\u001b[39m'\u001b[39;49m)\n\u001b[0;32m      3\u001b[0m health\u001b[39m.\u001b[39mhead()\n",
      "File \u001b[1;32mc:\\Users\\LENOVO PC\\anaconda3\\lib\\site-packages\\pandas\\util\\_decorators.py:331\u001b[0m, in \u001b[0;36mdeprecate_nonkeyword_arguments.<locals>.decorate.<locals>.wrapper\u001b[1;34m(*args, **kwargs)\u001b[0m\n\u001b[0;32m    325\u001b[0m \u001b[39mif\u001b[39;00m \u001b[39mlen\u001b[39m(args) \u001b[39m>\u001b[39m num_allow_args:\n\u001b[0;32m    326\u001b[0m     warnings\u001b[39m.\u001b[39mwarn(\n\u001b[0;32m    327\u001b[0m         msg\u001b[39m.\u001b[39mformat(arguments\u001b[39m=\u001b[39m_format_argument_list(allow_args)),\n\u001b[0;32m    328\u001b[0m         \u001b[39mFutureWarning\u001b[39;00m,\n\u001b[0;32m    329\u001b[0m         stacklevel\u001b[39m=\u001b[39mfind_stack_level(),\n\u001b[0;32m    330\u001b[0m     )\n\u001b[1;32m--> 331\u001b[0m \u001b[39mreturn\u001b[39;00m func(\u001b[39m*\u001b[39margs, \u001b[39m*\u001b[39m\u001b[39m*\u001b[39mkwargs)\n",
      "File \u001b[1;32mc:\\Users\\LENOVO PC\\anaconda3\\lib\\site-packages\\pandas\\core\\frame.py:5396\u001b[0m, in \u001b[0;36mDataFrame.drop\u001b[1;34m(self, labels, axis, index, columns, level, inplace, errors)\u001b[0m\n\u001b[0;32m   5248\u001b[0m \u001b[39m@deprecate_nonkeyword_arguments\u001b[39m(version\u001b[39m=\u001b[39m\u001b[39mNone\u001b[39;00m, allowed_args\u001b[39m=\u001b[39m[\u001b[39m\"\u001b[39m\u001b[39mself\u001b[39m\u001b[39m\"\u001b[39m, \u001b[39m\"\u001b[39m\u001b[39mlabels\u001b[39m\u001b[39m\"\u001b[39m])\n\u001b[0;32m   5249\u001b[0m \u001b[39mdef\u001b[39;00m \u001b[39mdrop\u001b[39m(  \u001b[39m# type: ignore[override]\u001b[39;00m\n\u001b[0;32m   5250\u001b[0m     \u001b[39mself\u001b[39m,\n\u001b[1;32m   (...)\u001b[0m\n\u001b[0;32m   5257\u001b[0m     errors: IgnoreRaise \u001b[39m=\u001b[39m \u001b[39m\"\u001b[39m\u001b[39mraise\u001b[39m\u001b[39m\"\u001b[39m,\n\u001b[0;32m   5258\u001b[0m ) \u001b[39m-\u001b[39m\u001b[39m>\u001b[39m DataFrame \u001b[39m|\u001b[39m \u001b[39mNone\u001b[39;00m:\n\u001b[0;32m   5259\u001b[0m \u001b[39m    \u001b[39m\u001b[39m\"\"\"\u001b[39;00m\n\u001b[0;32m   5260\u001b[0m \u001b[39m    Drop specified labels from rows or columns.\u001b[39;00m\n\u001b[0;32m   5261\u001b[0m \n\u001b[1;32m   (...)\u001b[0m\n\u001b[0;32m   5394\u001b[0m \u001b[39m            weight  1.0     0.8\u001b[39;00m\n\u001b[0;32m   5395\u001b[0m \u001b[39m    \"\"\"\u001b[39;00m\n\u001b[1;32m-> 5396\u001b[0m     \u001b[39mreturn\u001b[39;00m \u001b[39msuper\u001b[39;49m()\u001b[39m.\u001b[39;49mdrop(\n\u001b[0;32m   5397\u001b[0m         labels\u001b[39m=\u001b[39;49mlabels,\n\u001b[0;32m   5398\u001b[0m         axis\u001b[39m=\u001b[39;49maxis,\n\u001b[0;32m   5399\u001b[0m         index\u001b[39m=\u001b[39;49mindex,\n\u001b[0;32m   5400\u001b[0m         columns\u001b[39m=\u001b[39;49mcolumns,\n\u001b[0;32m   5401\u001b[0m         level\u001b[39m=\u001b[39;49mlevel,\n\u001b[0;32m   5402\u001b[0m         inplace\u001b[39m=\u001b[39;49minplace,\n\u001b[0;32m   5403\u001b[0m         errors\u001b[39m=\u001b[39;49merrors,\n\u001b[0;32m   5404\u001b[0m     )\n",
      "File \u001b[1;32mc:\\Users\\LENOVO PC\\anaconda3\\lib\\site-packages\\pandas\\util\\_decorators.py:331\u001b[0m, in \u001b[0;36mdeprecate_nonkeyword_arguments.<locals>.decorate.<locals>.wrapper\u001b[1;34m(*args, **kwargs)\u001b[0m\n\u001b[0;32m    325\u001b[0m \u001b[39mif\u001b[39;00m \u001b[39mlen\u001b[39m(args) \u001b[39m>\u001b[39m num_allow_args:\n\u001b[0;32m    326\u001b[0m     warnings\u001b[39m.\u001b[39mwarn(\n\u001b[0;32m    327\u001b[0m         msg\u001b[39m.\u001b[39mformat(arguments\u001b[39m=\u001b[39m_format_argument_list(allow_args)),\n\u001b[0;32m    328\u001b[0m         \u001b[39mFutureWarning\u001b[39;00m,\n\u001b[0;32m    329\u001b[0m         stacklevel\u001b[39m=\u001b[39mfind_stack_level(),\n\u001b[0;32m    330\u001b[0m     )\n\u001b[1;32m--> 331\u001b[0m \u001b[39mreturn\u001b[39;00m func(\u001b[39m*\u001b[39margs, \u001b[39m*\u001b[39m\u001b[39m*\u001b[39mkwargs)\n",
      "File \u001b[1;32mc:\\Users\\LENOVO PC\\anaconda3\\lib\\site-packages\\pandas\\core\\generic.py:4505\u001b[0m, in \u001b[0;36mNDFrame.drop\u001b[1;34m(self, labels, axis, index, columns, level, inplace, errors)\u001b[0m\n\u001b[0;32m   4503\u001b[0m \u001b[39mfor\u001b[39;00m axis, labels \u001b[39min\u001b[39;00m axes\u001b[39m.\u001b[39mitems():\n\u001b[0;32m   4504\u001b[0m     \u001b[39mif\u001b[39;00m labels \u001b[39mis\u001b[39;00m \u001b[39mnot\u001b[39;00m \u001b[39mNone\u001b[39;00m:\n\u001b[1;32m-> 4505\u001b[0m         obj \u001b[39m=\u001b[39m obj\u001b[39m.\u001b[39;49m_drop_axis(labels, axis, level\u001b[39m=\u001b[39;49mlevel, errors\u001b[39m=\u001b[39;49merrors)\n\u001b[0;32m   4507\u001b[0m \u001b[39mif\u001b[39;00m inplace:\n\u001b[0;32m   4508\u001b[0m     \u001b[39mself\u001b[39m\u001b[39m.\u001b[39m_update_inplace(obj)\n",
      "File \u001b[1;32mc:\\Users\\LENOVO PC\\anaconda3\\lib\\site-packages\\pandas\\core\\generic.py:4546\u001b[0m, in \u001b[0;36mNDFrame._drop_axis\u001b[1;34m(self, labels, axis, level, errors, only_slice)\u001b[0m\n\u001b[0;32m   4544\u001b[0m         new_axis \u001b[39m=\u001b[39m axis\u001b[39m.\u001b[39mdrop(labels, level\u001b[39m=\u001b[39mlevel, errors\u001b[39m=\u001b[39merrors)\n\u001b[0;32m   4545\u001b[0m     \u001b[39melse\u001b[39;00m:\n\u001b[1;32m-> 4546\u001b[0m         new_axis \u001b[39m=\u001b[39m axis\u001b[39m.\u001b[39;49mdrop(labels, errors\u001b[39m=\u001b[39;49merrors)\n\u001b[0;32m   4547\u001b[0m     indexer \u001b[39m=\u001b[39m axis\u001b[39m.\u001b[39mget_indexer(new_axis)\n\u001b[0;32m   4549\u001b[0m \u001b[39m# Case for non-unique axis\u001b[39;00m\n\u001b[0;32m   4550\u001b[0m \u001b[39melse\u001b[39;00m:\n",
      "File \u001b[1;32mc:\\Users\\LENOVO PC\\anaconda3\\lib\\site-packages\\pandas\\core\\indexes\\base.py:6977\u001b[0m, in \u001b[0;36mIndex.drop\u001b[1;34m(self, labels, errors)\u001b[0m\n\u001b[0;32m   6975\u001b[0m \u001b[39mif\u001b[39;00m mask\u001b[39m.\u001b[39many():\n\u001b[0;32m   6976\u001b[0m     \u001b[39mif\u001b[39;00m errors \u001b[39m!=\u001b[39m \u001b[39m\"\u001b[39m\u001b[39mignore\u001b[39m\u001b[39m\"\u001b[39m:\n\u001b[1;32m-> 6977\u001b[0m         \u001b[39mraise\u001b[39;00m \u001b[39mKeyError\u001b[39;00m(\u001b[39mf\u001b[39m\u001b[39m\"\u001b[39m\u001b[39m{\u001b[39;00m\u001b[39mlist\u001b[39m(labels[mask])\u001b[39m}\u001b[39;00m\u001b[39m not found in axis\u001b[39m\u001b[39m\"\u001b[39m)\n\u001b[0;32m   6978\u001b[0m     indexer \u001b[39m=\u001b[39m indexer[\u001b[39m~\u001b[39mmask]\n\u001b[0;32m   6979\u001b[0m \u001b[39mreturn\u001b[39;00m \u001b[39mself\u001b[39m\u001b[39m.\u001b[39mdelete(indexer)\n",
      "\u001b[1;31mKeyError\u001b[0m: \"['Total Health'] not found in axis\""
     ]
    }
   ],
   "source": [
    "health['Total Health Facilities'] = health.groupby('Province')['Total Health'].transform('sum')\n",
    "health = health.drop(['Total Health'])\n",
    "health.head()"
   ]
  },
  {
   "cell_type": "code",
   "execution_count": null,
   "metadata": {},
   "outputs": [],
   "source": [
    "evacuation = evacuation.groupby('Province').agg({\n",
    "    'Region': 'first',\n",
    "    'Total Evacuation Centers': 'first',\n",
    "}).reset_index()\n",
    "\n",
    "evacuation.head()"
   ]
  },
  {
   "cell_type": "markdown",
   "metadata": {},
   "source": [
    "## For Visualization"
   ]
  },
  {
   "cell_type": "code",
   "execution_count": 74,
   "metadata": {},
   "outputs": [],
   "source": [
    "# for indexing; after transformations\n",
    "\n",
    "pop = pop.sort_values('Province').reset_index(drop = True)\n",
    "# response = response.sort_values('Province').reset_index(drop = True)"
   ]
  },
  {
   "cell_type": "code",
   "execution_count": 78,
   "metadata": {},
   "outputs": [
    {
     "data": {
      "text/html": [
       "<div>\n",
       "<style scoped>\n",
       "    .dataframe tbody tr th:only-of-type {\n",
       "        vertical-align: middle;\n",
       "    }\n",
       "\n",
       "    .dataframe tbody tr th {\n",
       "        vertical-align: top;\n",
       "    }\n",
       "\n",
       "    .dataframe thead th {\n",
       "        text-align: right;\n",
       "    }\n",
       "</style>\n",
       "<table border=\"1\" class=\"dataframe\">\n",
       "  <thead>\n",
       "    <tr style=\"text-align: right;\">\n",
       "      <th></th>\n",
       "      <th>Province</th>\n",
       "      <th>Region</th>\n",
       "      <th>Total Population</th>\n",
       "    </tr>\n",
       "  </thead>\n",
       "  <tbody>\n",
       "    <tr>\n",
       "      <th>0</th>\n",
       "      <td>Abra</td>\n",
       "      <td>Cordillera Administrative Region (CAR)</td>\n",
       "      <td>250309</td>\n",
       "    </tr>\n",
       "    <tr>\n",
       "      <th>1</th>\n",
       "      <td>Agusan Del Norte</td>\n",
       "      <td>Region XIII (Caraga)</td>\n",
       "      <td>757121</td>\n",
       "    </tr>\n",
       "    <tr>\n",
       "      <th>2</th>\n",
       "      <td>Agusan Del Sur</td>\n",
       "      <td>Region XIII (Caraga)</td>\n",
       "      <td>737991</td>\n",
       "    </tr>\n",
       "    <tr>\n",
       "      <th>3</th>\n",
       "      <td>Aklan</td>\n",
       "      <td>Region VI (Western Visayas)</td>\n",
       "      <td>612985</td>\n",
       "    </tr>\n",
       "    <tr>\n",
       "      <th>4</th>\n",
       "      <td>Albay</td>\n",
       "      <td>Region V (Bicol Region)</td>\n",
       "      <td>1372550</td>\n",
       "    </tr>\n",
       "  </tbody>\n",
       "</table>\n",
       "</div>"
      ],
      "text/plain": [
       "           Province                                  Region  Total Population\n",
       "0              Abra  Cordillera Administrative Region (CAR)            250309\n",
       "1  Agusan Del Norte                    Region XIII (Caraga)            757121\n",
       "2    Agusan Del Sur                    Region XIII (Caraga)            737991\n",
       "3             Aklan             Region VI (Western Visayas)            612985\n",
       "4             Albay                 Region V (Bicol Region)           1372550"
      ]
     },
     "execution_count": 78,
     "metadata": {},
     "output_type": "execute_result"
    }
   ],
   "source": [
    "pop.head()"
   ]
  },
  {
   "cell_type": "code",
   "execution_count": 99,
   "metadata": {},
   "outputs": [
    {
     "data": {
      "application/vnd.plotly.v1+json": {
       "config": {
        "plotlyServerURL": "https://plot.ly"
       },
       "data": [
        {
         "alignmentgroup": "True",
         "hovertemplate": "category=0<br>Province=%{x}<br>Total Population=%{y}<extra></extra>",
         "legendgroup": "0",
         "marker": {
          "color": "lightslategray",
          "pattern": {
           "shape": ""
          }
         },
         "name": "0",
         "offsetgroup": "0",
         "orientation": "v",
         "showlegend": true,
         "textposition": "auto",
         "type": "bar",
         "x": [
          "Abra"
         ],
         "xaxis": "x",
         "y": [
          250309
         ],
         "yaxis": "y"
        },
        {
         "alignmentgroup": "True",
         "hovertemplate": "category=1<br>Province=%{x}<br>Total Population=%{y}<extra></extra>",
         "legendgroup": "1",
         "marker": {
          "color": "lightslategray",
          "pattern": {
           "shape": ""
          }
         },
         "name": "1",
         "offsetgroup": "1",
         "orientation": "v",
         "showlegend": true,
         "textposition": "auto",
         "type": "bar",
         "x": [
          "Agusan Del Norte"
         ],
         "xaxis": "x",
         "y": [
          757121
         ],
         "yaxis": "y"
        },
        {
         "alignmentgroup": "True",
         "hovertemplate": "category=2<br>Province=%{x}<br>Total Population=%{y}<extra></extra>",
         "legendgroup": "2",
         "marker": {
          "color": "lightslategray",
          "pattern": {
           "shape": ""
          }
         },
         "name": "2",
         "offsetgroup": "2",
         "orientation": "v",
         "showlegend": true,
         "textposition": "auto",
         "type": "bar",
         "x": [
          "Agusan Del Sur"
         ],
         "xaxis": "x",
         "y": [
          737991
         ],
         "yaxis": "y"
        },
        {
         "alignmentgroup": "True",
         "hovertemplate": "category=3<br>Province=%{x}<br>Total Population=%{y}<extra></extra>",
         "legendgroup": "3",
         "marker": {
          "color": "lightslategray",
          "pattern": {
           "shape": ""
          }
         },
         "name": "3",
         "offsetgroup": "3",
         "orientation": "v",
         "showlegend": true,
         "textposition": "auto",
         "type": "bar",
         "x": [
          "Aklan"
         ],
         "xaxis": "x",
         "y": [
          612985
         ],
         "yaxis": "y"
        },
        {
         "alignmentgroup": "True",
         "hovertemplate": "category=4<br>Province=%{x}<br>Total Population=%{y}<extra></extra>",
         "legendgroup": "4",
         "marker": {
          "color": "lightslategray",
          "pattern": {
           "shape": ""
          }
         },
         "name": "4",
         "offsetgroup": "4",
         "orientation": "v",
         "showlegend": true,
         "textposition": "auto",
         "type": "bar",
         "x": [
          "Albay"
         ],
         "xaxis": "x",
         "y": [
          1372550
         ],
         "yaxis": "y"
        },
        {
         "alignmentgroup": "True",
         "hovertemplate": "category=5<br>Province=%{x}<br>Total Population=%{y}<extra></extra>",
         "legendgroup": "5",
         "marker": {
          "color": "lightslategray",
          "pattern": {
           "shape": ""
          }
         },
         "name": "5",
         "offsetgroup": "5",
         "orientation": "v",
         "showlegend": true,
         "textposition": "auto",
         "type": "bar",
         "x": [
          "Antique"
         ],
         "xaxis": "x",
         "y": [
          611478
         ],
         "yaxis": "y"
        },
        {
         "alignmentgroup": "True",
         "hovertemplate": "category=6<br>Province=%{x}<br>Total Population=%{y}<extra></extra>",
         "legendgroup": "6",
         "marker": {
          "color": "lightslategray",
          "pattern": {
           "shape": ""
          }
         },
         "name": "6",
         "offsetgroup": "6",
         "orientation": "v",
         "showlegend": true,
         "textposition": "auto",
         "type": "bar",
         "x": [
          "Apayao"
         ],
         "xaxis": "x",
         "y": [
          123937
         ],
         "yaxis": "y"
        },
        {
         "alignmentgroup": "True",
         "hovertemplate": "category=7<br>Province=%{x}<br>Total Population=%{y}<extra></extra>",
         "legendgroup": "7",
         "marker": {
          "color": "lightslategray",
          "pattern": {
           "shape": ""
          }
         },
         "name": "7",
         "offsetgroup": "7",
         "orientation": "v",
         "showlegend": true,
         "textposition": "auto",
         "type": "bar",
         "x": [
          "Aurora"
         ],
         "xaxis": "x",
         "y": [
          234991
         ],
         "yaxis": "y"
        },
        {
         "alignmentgroup": "True",
         "hovertemplate": "category=8<br>Province=%{x}<br>Total Population=%{y}<extra></extra>",
         "legendgroup": "8",
         "marker": {
          "color": "lightslategray",
          "pattern": {
           "shape": ""
          }
         },
         "name": "8",
         "offsetgroup": "8",
         "orientation": "v",
         "showlegend": true,
         "textposition": "auto",
         "type": "bar",
         "x": [
          "BATANGAS"
         ],
         "xaxis": "x",
         "y": [
          2902855
         ],
         "yaxis": "y"
        },
        {
         "alignmentgroup": "True",
         "hovertemplate": "category=9<br>Province=%{x}<br>Total Population=%{y}<extra></extra>",
         "legendgroup": "9",
         "marker": {
          "color": "lightslategray",
          "pattern": {
           "shape": ""
          }
         },
         "name": "9",
         "offsetgroup": "9",
         "orientation": "v",
         "showlegend": true,
         "textposition": "auto",
         "type": "bar",
         "x": [
          "Basilan"
         ],
         "xaxis": "x",
         "y": [
          425111
         ],
         "yaxis": "y"
        },
        {
         "alignmentgroup": "True",
         "hovertemplate": "category=10<br>Province=%{x}<br>Total Population=%{y}<extra></extra>",
         "legendgroup": "10",
         "marker": {
          "color": "lightslategray",
          "pattern": {
           "shape": ""
          }
         },
         "name": "10",
         "offsetgroup": "10",
         "orientation": "v",
         "showlegend": true,
         "textposition": "auto",
         "type": "bar",
         "x": [
          "Bataan"
         ],
         "xaxis": "x",
         "y": [
          849575
         ],
         "yaxis": "y"
        },
        {
         "alignmentgroup": "True",
         "hovertemplate": "category=11<br>Province=%{x}<br>Total Population=%{y}<extra></extra>",
         "legendgroup": "11",
         "marker": {
          "color": "lightslategray",
          "pattern": {
           "shape": ""
          }
         },
         "name": "11",
         "offsetgroup": "11",
         "orientation": "v",
         "showlegend": true,
         "textposition": "auto",
         "type": "bar",
         "x": [
          "Batanes"
         ],
         "xaxis": "x",
         "y": [
          18593
         ],
         "yaxis": "y"
        },
        {
         "alignmentgroup": "True",
         "hovertemplate": "category=12<br>Province=%{x}<br>Total Population=%{y}<extra></extra>",
         "legendgroup": "12",
         "marker": {
          "color": "lightslategray",
          "pattern": {
           "shape": ""
          }
         },
         "name": "12",
         "offsetgroup": "12",
         "orientation": "v",
         "showlegend": true,
         "textposition": "auto",
         "type": "bar",
         "x": [
          "Benguet"
         ],
         "xaxis": "x",
         "y": [
          822619
         ],
         "yaxis": "y"
        },
        {
         "alignmentgroup": "True",
         "hovertemplate": "category=13<br>Province=%{x}<br>Total Population=%{y}<extra></extra>",
         "legendgroup": "13",
         "marker": {
          "color": "lightslategray",
          "pattern": {
           "shape": ""
          }
         },
         "name": "13",
         "offsetgroup": "13",
         "orientation": "v",
         "showlegend": true,
         "textposition": "auto",
         "type": "bar",
         "x": [
          "Biliran"
         ],
         "xaxis": "x",
         "y": [
          178715
         ],
         "yaxis": "y"
        },
        {
         "alignmentgroup": "True",
         "hovertemplate": "category=14<br>Province=%{x}<br>Total Population=%{y}<extra></extra>",
         "legendgroup": "14",
         "marker": {
          "color": "lightslategray",
          "pattern": {
           "shape": ""
          }
         },
         "name": "14",
         "offsetgroup": "14",
         "orientation": "v",
         "showlegend": true,
         "textposition": "auto",
         "type": "bar",
         "x": [
          "Bohol"
         ],
         "xaxis": "x",
         "y": [
          1390524
         ],
         "yaxis": "y"
        },
        {
         "alignmentgroup": "True",
         "hovertemplate": "category=15<br>Province=%{x}<br>Total Population=%{y}<extra></extra>",
         "legendgroup": "15",
         "marker": {
          "color": "lightslategray",
          "pattern": {
           "shape": ""
          }
         },
         "name": "15",
         "offsetgroup": "15",
         "orientation": "v",
         "showlegend": true,
         "textposition": "auto",
         "type": "bar",
         "x": [
          "Bukidnon"
         ],
         "xaxis": "x",
         "y": [
          1537629
         ],
         "yaxis": "y"
        },
        {
         "alignmentgroup": "True",
         "hovertemplate": "category=16<br>Province=%{x}<br>Total Population=%{y}<extra></extra>",
         "legendgroup": "16",
         "marker": {
          "color": "lightslategray",
          "pattern": {
           "shape": ""
          }
         },
         "name": "16",
         "offsetgroup": "16",
         "orientation": "v",
         "showlegend": true,
         "textposition": "auto",
         "type": "bar",
         "x": [
          "Bulacan"
         ],
         "xaxis": "x",
         "y": [
          3696937
         ],
         "yaxis": "y"
        },
        {
         "alignmentgroup": "True",
         "hovertemplate": "category=17<br>Province=%{x}<br>Total Population=%{y}<extra></extra>",
         "legendgroup": "17",
         "marker": {
          "color": "lightslategray",
          "pattern": {
           "shape": ""
          }
         },
         "name": "17",
         "offsetgroup": "17",
         "orientation": "v",
         "showlegend": true,
         "textposition": "auto",
         "type": "bar",
         "x": [
          "Cagayan"
         ],
         "xaxis": "x",
         "y": [
          1265540
         ],
         "yaxis": "y"
        },
        {
         "alignmentgroup": "True",
         "hovertemplate": "category=18<br>Province=%{x}<br>Total Population=%{y}<extra></extra>",
         "legendgroup": "18",
         "marker": {
          "color": "lightslategray",
          "pattern": {
           "shape": ""
          }
         },
         "name": "18",
         "offsetgroup": "18",
         "orientation": "v",
         "showlegend": true,
         "textposition": "auto",
         "type": "bar",
         "x": [
          "Camarines Norte"
         ],
         "xaxis": "x",
         "y": [
          628807
         ],
         "yaxis": "y"
        },
        {
         "alignmentgroup": "True",
         "hovertemplate": "category=19<br>Province=%{x}<br>Total Population=%{y}<extra></extra>",
         "legendgroup": "19",
         "marker": {
          "color": "lightslategray",
          "pattern": {
           "shape": ""
          }
         },
         "name": "19",
         "offsetgroup": "19",
         "orientation": "v",
         "showlegend": true,
         "textposition": "auto",
         "type": "bar",
         "x": [
          "Camarines Sur"
         ],
         "xaxis": "x",
         "y": [
          2062277
         ],
         "yaxis": "y"
        },
        {
         "alignmentgroup": "True",
         "hovertemplate": "category=20<br>Province=%{x}<br>Total Population=%{y}<extra></extra>",
         "legendgroup": "20",
         "marker": {
          "color": "lightslategray",
          "pattern": {
           "shape": ""
          }
         },
         "name": "20",
         "offsetgroup": "20",
         "orientation": "v",
         "showlegend": true,
         "textposition": "auto",
         "type": "bar",
         "x": [
          "Camiguin"
         ],
         "xaxis": "x",
         "y": [
          92696
         ],
         "yaxis": "y"
        },
        {
         "alignmentgroup": "True",
         "hovertemplate": "category=21<br>Province=%{x}<br>Total Population=%{y}<extra></extra>",
         "legendgroup": "21",
         "marker": {
          "color": "lightslategray",
          "pattern": {
           "shape": ""
          }
         },
         "name": "21",
         "offsetgroup": "21",
         "orientation": "v",
         "showlegend": true,
         "textposition": "auto",
         "type": "bar",
         "x": [
          "Capiz"
         ],
         "xaxis": "x",
         "y": [
          803879
         ],
         "yaxis": "y"
        },
        {
         "alignmentgroup": "True",
         "hovertemplate": "category=22<br>Province=%{x}<br>Total Population=%{y}<extra></extra>",
         "legendgroup": "22",
         "marker": {
          "color": "lightslategray",
          "pattern": {
           "shape": ""
          }
         },
         "name": "22",
         "offsetgroup": "22",
         "orientation": "v",
         "showlegend": true,
         "textposition": "auto",
         "type": "bar",
         "x": [
          "Catanduanes"
         ],
         "xaxis": "x",
         "y": [
          270775
         ],
         "yaxis": "y"
        },
        {
         "alignmentgroup": "True",
         "hovertemplate": "category=23<br>Province=%{x}<br>Total Population=%{y}<extra></extra>",
         "legendgroup": "23",
         "marker": {
          "color": "lightslategray",
          "pattern": {
           "shape": ""
          }
         },
         "name": "23",
         "offsetgroup": "23",
         "orientation": "v",
         "showlegend": true,
         "textposition": "auto",
         "type": "bar",
         "x": [
          "Cavite"
         ],
         "xaxis": "x",
         "y": [
          4318663
         ],
         "yaxis": "y"
        },
        {
         "alignmentgroup": "True",
         "hovertemplate": "category=24<br>Province=%{x}<br>Total Population=%{y}<extra></extra>",
         "legendgroup": "24",
         "marker": {
          "color": [
           "crimson"
          ],
          "pattern": {
           "shape": ""
          }
         },
         "name": "24",
         "offsetgroup": "24",
         "orientation": "v",
         "showlegend": true,
         "textposition": "auto",
         "type": "bar",
         "x": [
          "Cebu"
         ],
         "xaxis": "x",
         "y": [
          5124199
         ],
         "yaxis": "y"
        },
        {
         "alignmentgroup": "True",
         "hovertemplate": "category=25<br>Province=%{x}<br>Total Population=%{y}<extra></extra>",
         "legendgroup": "25",
         "marker": {
          "color": "lightslategray",
          "pattern": {
           "shape": ""
          }
         },
         "name": "25",
         "offsetgroup": "25",
         "orientation": "v",
         "showlegend": true,
         "textposition": "auto",
         "type": "bar",
         "x": [
          "City of Isabela (Not a Province)"
         ],
         "xaxis": "x",
         "y": [
          130130
         ],
         "yaxis": "y"
        },
        {
         "alignmentgroup": "True",
         "hovertemplate": "category=26<br>Province=%{x}<br>Total Population=%{y}<extra></extra>",
         "legendgroup": "26",
         "marker": {
          "color": "lightslategray",
          "pattern": {
           "shape": ""
          }
         },
         "name": "26",
         "offsetgroup": "26",
         "orientation": "v",
         "showlegend": true,
         "textposition": "auto",
         "type": "bar",
         "x": [
          "Compostela Valley"
         ],
         "xaxis": "x",
         "y": [
          766299
         ],
         "yaxis": "y"
        },
        {
         "alignmentgroup": "True",
         "hovertemplate": "category=27<br>Province=%{x}<br>Total Population=%{y}<extra></extra>",
         "legendgroup": "27",
         "marker": {
          "color": "lightslategray",
          "pattern": {
           "shape": ""
          }
         },
         "name": "27",
         "offsetgroup": "27",
         "orientation": "v",
         "showlegend": true,
         "textposition": "auto",
         "type": "bar",
         "x": [
          "Cotabato (North Cotabato)"
         ],
         "xaxis": "x",
         "y": [
          1273594
         ],
         "yaxis": "y"
        },
        {
         "alignmentgroup": "True",
         "hovertemplate": "category=28<br>Province=%{x}<br>Total Population=%{y}<extra></extra>",
         "legendgroup": "28",
         "marker": {
          "color": "lightslategray",
          "pattern": {
           "shape": ""
          }
         },
         "name": "28",
         "offsetgroup": "28",
         "orientation": "v",
         "showlegend": true,
         "textposition": "auto",
         "type": "bar",
         "x": [
          "Davao Del Norte"
         ],
         "xaxis": "x",
         "y": [
          1115167
         ],
         "yaxis": "y"
        },
        {
         "alignmentgroup": "True",
         "hovertemplate": "category=29<br>Province=%{x}<br>Total Population=%{y}<extra></extra>",
         "legendgroup": "29",
         "marker": {
          "color": "lightslategray",
          "pattern": {
           "shape": ""
          }
         },
         "name": "29",
         "offsetgroup": "29",
         "orientation": "v",
         "showlegend": true,
         "textposition": "auto",
         "type": "bar",
         "x": [
          "Davao Del Sur"
         ],
         "xaxis": "x",
         "y": [
          2450445
         ],
         "yaxis": "y"
        },
        {
         "alignmentgroup": "True",
         "hovertemplate": "category=30<br>Province=%{x}<br>Total Population=%{y}<extra></extra>",
         "legendgroup": "30",
         "marker": {
          "color": "lightslategray",
          "pattern": {
           "shape": ""
          }
         },
         "name": "30",
         "offsetgroup": "30",
         "orientation": "v",
         "showlegend": true,
         "textposition": "auto",
         "type": "bar",
         "x": [
          "Davao Occidental"
         ],
         "xaxis": "x",
         "y": [
          316907
         ],
         "yaxis": "y"
        },
        {
         "alignmentgroup": "True",
         "hovertemplate": "category=31<br>Province=%{x}<br>Total Population=%{y}<extra></extra>",
         "legendgroup": "31",
         "marker": {
          "color": "lightslategray",
          "pattern": {
           "shape": ""
          }
         },
         "name": "31",
         "offsetgroup": "31",
         "orientation": "v",
         "showlegend": true,
         "textposition": "auto",
         "type": "bar",
         "x": [
          "Davao Oriental"
         ],
         "xaxis": "x",
         "y": [
          574984
         ],
         "yaxis": "y"
        },
        {
         "alignmentgroup": "True",
         "hovertemplate": "category=32<br>Province=%{x}<br>Total Population=%{y}<extra></extra>",
         "legendgroup": "32",
         "marker": {
          "color": "lightslategray",
          "pattern": {
           "shape": ""
          }
         },
         "name": "32",
         "offsetgroup": "32",
         "orientation": "v",
         "showlegend": true,
         "textposition": "auto",
         "type": "bar",
         "x": [
          "Dinagat Islands"
         ],
         "xaxis": "x",
         "y": [
          127963
         ],
         "yaxis": "y"
        },
        {
         "alignmentgroup": "True",
         "hovertemplate": "category=33<br>Province=%{x}<br>Total Population=%{y}<extra></extra>",
         "legendgroup": "33",
         "marker": {
          "color": "lightslategray",
          "pattern": {
           "shape": ""
          }
         },
         "name": "33",
         "offsetgroup": "33",
         "orientation": "v",
         "showlegend": true,
         "textposition": "auto",
         "type": "bar",
         "x": [
          "Eastern Samar"
         ],
         "xaxis": "x",
         "y": [
          475847
         ],
         "yaxis": "y"
        },
        {
         "alignmentgroup": "True",
         "hovertemplate": "category=34<br>Province=%{x}<br>Total Population=%{y}<extra></extra>",
         "legendgroup": "34",
         "marker": {
          "color": "lightslategray",
          "pattern": {
           "shape": ""
          }
         },
         "name": "34",
         "offsetgroup": "34",
         "orientation": "v",
         "showlegend": true,
         "textposition": "auto",
         "type": "bar",
         "x": [
          "Guimaras"
         ],
         "xaxis": "x",
         "y": [
          187576
         ],
         "yaxis": "y"
        },
        {
         "alignmentgroup": "True",
         "hovertemplate": "category=35<br>Province=%{x}<br>Total Population=%{y}<extra></extra>",
         "legendgroup": "35",
         "marker": {
          "color": "lightslategray",
          "pattern": {
           "shape": ""
          }
         },
         "name": "35",
         "offsetgroup": "35",
         "orientation": "v",
         "showlegend": true,
         "textposition": "auto",
         "type": "bar",
         "x": [
          "INTERIM PROVINCE (Composed of 63 barangays from COTABATO)"
         ],
         "xaxis": "x",
         "y": [
          215348
         ],
         "yaxis": "y"
        },
        {
         "alignmentgroup": "True",
         "hovertemplate": "category=36<br>Province=%{x}<br>Total Population=%{y}<extra></extra>",
         "legendgroup": "36",
         "marker": {
          "color": "lightslategray",
          "pattern": {
           "shape": ""
          }
         },
         "name": "36",
         "offsetgroup": "36",
         "orientation": "v",
         "showlegend": true,
         "textposition": "auto",
         "type": "bar",
         "x": [
          "Ifugao"
         ],
         "xaxis": "x",
         "y": [
          207130
         ],
         "yaxis": "y"
        },
        {
         "alignmentgroup": "True",
         "hovertemplate": "category=37<br>Province=%{x}<br>Total Population=%{y}<extra></extra>",
         "legendgroup": "37",
         "marker": {
          "color": "lightslategray",
          "pattern": {
           "shape": ""
          }
         },
         "name": "37",
         "offsetgroup": "37",
         "orientation": "v",
         "showlegend": true,
         "textposition": "auto",
         "type": "bar",
         "x": [
          "Ilocos Norte"
         ],
         "xaxis": "x",
         "y": [
          608508
         ],
         "yaxis": "y"
        },
        {
         "alignmentgroup": "True",
         "hovertemplate": "category=38<br>Province=%{x}<br>Total Population=%{y}<extra></extra>",
         "legendgroup": "38",
         "marker": {
          "color": "lightslategray",
          "pattern": {
           "shape": ""
          }
         },
         "name": "38",
         "offsetgroup": "38",
         "orientation": "v",
         "showlegend": true,
         "textposition": "auto",
         "type": "bar",
         "x": [
          "Ilocos Sur"
         ],
         "xaxis": "x",
         "y": [
          704218
         ],
         "yaxis": "y"
        },
        {
         "alignmentgroup": "True",
         "hovertemplate": "category=39<br>Province=%{x}<br>Total Population=%{y}<extra></extra>",
         "legendgroup": "39",
         "marker": {
          "color": "lightslategray",
          "pattern": {
           "shape": ""
          }
         },
         "name": "39",
         "offsetgroup": "39",
         "orientation": "v",
         "showlegend": true,
         "textposition": "auto",
         "type": "bar",
         "x": [
          "Iloilo"
         ],
         "xaxis": "x",
         "y": [
          2503326
         ],
         "yaxis": "y"
        },
        {
         "alignmentgroup": "True",
         "hovertemplate": "category=40<br>Province=%{x}<br>Total Population=%{y}<extra></extra>",
         "legendgroup": "40",
         "marker": {
          "color": "lightslategray",
          "pattern": {
           "shape": ""
          }
         },
         "name": "40",
         "offsetgroup": "40",
         "orientation": "v",
         "showlegend": true,
         "textposition": "auto",
         "type": "bar",
         "x": [
          "Isabela"
         ],
         "xaxis": "x",
         "y": [
          1695539
         ],
         "yaxis": "y"
        },
        {
         "alignmentgroup": "True",
         "hovertemplate": "category=41<br>Province=%{x}<br>Total Population=%{y}<extra></extra>",
         "legendgroup": "41",
         "marker": {
          "color": "lightslategray",
          "pattern": {
           "shape": ""
          }
         },
         "name": "41",
         "offsetgroup": "41",
         "orientation": "v",
         "showlegend": true,
         "textposition": "auto",
         "type": "bar",
         "x": [
          "Kalinga"
         ],
         "xaxis": "x",
         "y": [
          229328
         ],
         "yaxis": "y"
        },
        {
         "alignmentgroup": "True",
         "hovertemplate": "category=42<br>Province=%{x}<br>Total Population=%{y}<extra></extra>",
         "legendgroup": "42",
         "marker": {
          "color": "lightslategray",
          "pattern": {
           "shape": ""
          }
         },
         "name": "42",
         "offsetgroup": "42",
         "orientation": "v",
         "showlegend": true,
         "textposition": "auto",
         "type": "bar",
         "x": [
          "La Union"
         ],
         "xaxis": "x",
         "y": [
          820343
         ],
         "yaxis": "y"
        },
        {
         "alignmentgroup": "True",
         "hovertemplate": "category=43<br>Province=%{x}<br>Total Population=%{y}<extra></extra>",
         "legendgroup": "43",
         "marker": {
          "color": "lightslategray",
          "pattern": {
           "shape": ""
          }
         },
         "name": "43",
         "offsetgroup": "43",
         "orientation": "v",
         "showlegend": true,
         "textposition": "auto",
         "type": "bar",
         "x": [
          "Laguna"
         ],
         "xaxis": "x",
         "y": [
          3373136
         ],
         "yaxis": "y"
        },
        {
         "alignmentgroup": "True",
         "hovertemplate": "category=44<br>Province=%{x}<br>Total Population=%{y}<extra></extra>",
         "legendgroup": "44",
         "marker": {
          "color": "lightslategray",
          "pattern": {
           "shape": ""
          }
         },
         "name": "44",
         "offsetgroup": "44",
         "orientation": "v",
         "showlegend": true,
         "textposition": "auto",
         "type": "bar",
         "x": [
          "Lanao Del Norte"
         ],
         "xaxis": "x",
         "y": [
          1083898
         ],
         "yaxis": "y"
        },
        {
         "alignmentgroup": "True",
         "hovertemplate": "category=45<br>Province=%{x}<br>Total Population=%{y}<extra></extra>",
         "legendgroup": "45",
         "marker": {
          "color": "lightslategray",
          "pattern": {
           "shape": ""
          }
         },
         "name": "45",
         "offsetgroup": "45",
         "orientation": "v",
         "showlegend": true,
         "textposition": "auto",
         "type": "bar",
         "x": [
          "Lanao Del Sur"
         ],
         "xaxis": "x",
         "y": [
          1194507
         ],
         "yaxis": "y"
        },
        {
         "alignmentgroup": "True",
         "hovertemplate": "category=46<br>Province=%{x}<br>Total Population=%{y}<extra></extra>",
         "legendgroup": "46",
         "marker": {
          "color": "lightslategray",
          "pattern": {
           "shape": ""
          }
         },
         "name": "46",
         "offsetgroup": "46",
         "orientation": "v",
         "showlegend": true,
         "textposition": "auto",
         "type": "bar",
         "x": [
          "Leyte"
         ],
         "xaxis": "x",
         "y": [
          2020426
         ],
         "yaxis": "y"
        },
        {
         "alignmentgroup": "True",
         "hovertemplate": "category=47<br>Province=%{x}<br>Total Population=%{y}<extra></extra>",
         "legendgroup": "47",
         "marker": {
          "color": "lightslategray",
          "pattern": {
           "shape": ""
          }
         },
         "name": "47",
         "offsetgroup": "47",
         "orientation": "v",
         "showlegend": true,
         "textposition": "auto",
         "type": "bar",
         "x": [
          "Maguindanao"
         ],
         "xaxis": "x",
         "y": [
          1666353
         ],
         "yaxis": "y"
        },
        {
         "alignmentgroup": "True",
         "hovertemplate": "category=48<br>Province=%{x}<br>Total Population=%{y}<extra></extra>",
         "legendgroup": "48",
         "marker": {
          "color": "lightslategray",
          "pattern": {
           "shape": ""
          }
         },
         "name": "48",
         "offsetgroup": "48",
         "orientation": "v",
         "showlegend": true,
         "textposition": "auto",
         "type": "bar",
         "x": [
          "Marinduque"
         ],
         "xaxis": "x",
         "y": [
          238830
         ],
         "yaxis": "y"
        },
        {
         "alignmentgroup": "True",
         "hovertemplate": "category=49<br>Province=%{x}<br>Total Population=%{y}<extra></extra>",
         "legendgroup": "49",
         "marker": {
          "color": "lightslategray",
          "pattern": {
           "shape": ""
          }
         },
         "name": "49",
         "offsetgroup": "49",
         "orientation": "v",
         "showlegend": true,
         "textposition": "auto",
         "type": "bar",
         "x": [
          "Masbate"
         ],
         "xaxis": "x",
         "y": [
          906731
         ],
         "yaxis": "y"
        },
        {
         "alignmentgroup": "True",
         "hovertemplate": "category=50<br>Province=%{x}<br>Total Population=%{y}<extra></extra>",
         "legendgroup": "50",
         "marker": {
          "color": "lightslategray",
          "pattern": {
           "shape": ""
          }
         },
         "name": "50",
         "offsetgroup": "50",
         "orientation": "v",
         "showlegend": true,
         "textposition": "auto",
         "type": "bar",
         "x": [
          "Misamis Occidental"
         ],
         "xaxis": "x",
         "y": [
          614951
         ],
         "yaxis": "y"
        },
        {
         "alignmentgroup": "True",
         "hovertemplate": "category=51<br>Province=%{x}<br>Total Population=%{y}<extra></extra>",
         "legendgroup": "51",
         "marker": {
          "color": "lightslategray",
          "pattern": {
           "shape": ""
          }
         },
         "name": "51",
         "offsetgroup": "51",
         "orientation": "v",
         "showlegend": true,
         "textposition": "auto",
         "type": "bar",
         "x": [
          "Misamis Oriental"
         ],
         "xaxis": "x",
         "y": [
          1678624
         ],
         "yaxis": "y"
        },
        {
         "alignmentgroup": "True",
         "hovertemplate": "category=52<br>Province=%{x}<br>Total Population=%{y}<extra></extra>",
         "legendgroup": "52",
         "marker": {
          "color": "lightslategray",
          "pattern": {
           "shape": ""
          }
         },
         "name": "52",
         "offsetgroup": "52",
         "orientation": "v",
         "showlegend": true,
         "textposition": "auto",
         "type": "bar",
         "x": [
          "Mountain Province"
         ],
         "xaxis": "x",
         "y": [
          157798
         ],
         "yaxis": "y"
        },
        {
         "alignmentgroup": "True",
         "hovertemplate": "category=53<br>Province=%{x}<br>Total Population=%{y}<extra></extra>",
         "legendgroup": "53",
         "marker": {
          "color": "lightslategray",
          "pattern": {
           "shape": ""
          }
         },
         "name": "53",
         "offsetgroup": "53",
         "orientation": "v",
         "showlegend": true,
         "textposition": "auto",
         "type": "bar",
         "x": [
          "NCR, City of Manila, First District (Not a Province)"
         ],
         "xaxis": "x",
         "y": [
          1837785
         ],
         "yaxis": "y"
        },
        {
         "alignmentgroup": "True",
         "hovertemplate": "category=54<br>Province=%{x}<br>Total Population=%{y}<extra></extra>",
         "legendgroup": "54",
         "marker": {
          "color": "lightslategray",
          "pattern": {
           "shape": ""
          }
         },
         "name": "54",
         "offsetgroup": "54",
         "orientation": "v",
         "showlegend": true,
         "textposition": "auto",
         "type": "bar",
         "x": [
          "NCR, Fourth District (Not a Province)"
         ],
         "xaxis": "x",
         "y": [
          3818429
         ],
         "yaxis": "y"
        },
        {
         "alignmentgroup": "True",
         "hovertemplate": "category=55<br>Province=%{x}<br>Total Population=%{y}<extra></extra>",
         "legendgroup": "55",
         "marker": {
          "color": "lightslategray",
          "pattern": {
           "shape": ""
          }
         },
         "name": "55",
         "offsetgroup": "55",
         "orientation": "v",
         "showlegend": true,
         "textposition": "auto",
         "type": "bar",
         "x": [
          "NCR, Second District (Not a Province)"
         ],
         "xaxis": "x",
         "y": [
          4748925
         ],
         "yaxis": "y"
        },
        {
         "alignmentgroup": "True",
         "hovertemplate": "category=56<br>Province=%{x}<br>Total Population=%{y}<extra></extra>",
         "legendgroup": "56",
         "marker": {
          "color": "lightslategray",
          "pattern": {
           "shape": ""
          }
         },
         "name": "56",
         "offsetgroup": "56",
         "orientation": "v",
         "showlegend": true,
         "textposition": "auto",
         "type": "bar",
         "x": [
          "NCR, Third District (Not a Province)"
         ],
         "xaxis": "x",
         "y": [
          2998412
         ],
         "yaxis": "y"
        },
        {
         "alignmentgroup": "True",
         "hovertemplate": "category=57<br>Province=%{x}<br>Total Population=%{y}<extra></extra>",
         "legendgroup": "57",
         "marker": {
          "color": "lightslategray",
          "pattern": {
           "shape": ""
          }
         },
         "name": "57",
         "offsetgroup": "57",
         "orientation": "v",
         "showlegend": true,
         "textposition": "auto",
         "type": "bar",
         "x": [
          "Negros Occidental"
         ],
         "xaxis": "x",
         "y": [
          3216287
         ],
         "yaxis": "y"
        },
        {
         "alignmentgroup": "True",
         "hovertemplate": "category=58<br>Province=%{x}<br>Total Population=%{y}<extra></extra>",
         "legendgroup": "58",
         "marker": {
          "color": "lightslategray",
          "pattern": {
           "shape": ""
          }
         },
         "name": "58",
         "offsetgroup": "58",
         "orientation": "v",
         "showlegend": true,
         "textposition": "auto",
         "type": "bar",
         "x": [
          "Negros Oriental"
         ],
         "xaxis": "x",
         "y": [
          1428548
         ],
         "yaxis": "y"
        },
        {
         "alignmentgroup": "True",
         "hovertemplate": "category=59<br>Province=%{x}<br>Total Population=%{y}<extra></extra>",
         "legendgroup": "59",
         "marker": {
          "color": "lightslategray",
          "pattern": {
           "shape": ""
          }
         },
         "name": "59",
         "offsetgroup": "59",
         "orientation": "v",
         "showlegend": true,
         "textposition": "auto",
         "type": "bar",
         "x": [
          "Northern Samar"
         ],
         "xaxis": "x",
         "y": [
          636995
         ],
         "yaxis": "y"
        },
        {
         "alignmentgroup": "True",
         "hovertemplate": "category=60<br>Province=%{x}<br>Total Population=%{y}<extra></extra>",
         "legendgroup": "60",
         "marker": {
          "color": "lightslategray",
          "pattern": {
           "shape": ""
          }
         },
         "name": "60",
         "offsetgroup": "60",
         "orientation": "v",
         "showlegend": true,
         "textposition": "auto",
         "type": "bar",
         "x": [
          "Nueva Ecija"
         ],
         "xaxis": "x",
         "y": [
          2306751
         ],
         "yaxis": "y"
        },
        {
         "alignmentgroup": "True",
         "hovertemplate": "category=61<br>Province=%{x}<br>Total Population=%{y}<extra></extra>",
         "legendgroup": "61",
         "marker": {
          "color": "lightslategray",
          "pattern": {
           "shape": ""
          }
         },
         "name": "61",
         "offsetgroup": "61",
         "orientation": "v",
         "showlegend": true,
         "textposition": "auto",
         "type": "bar",
         "x": [
          "Nueva Vizcaya"
         ],
         "xaxis": "x",
         "y": [
          496546
         ],
         "yaxis": "y"
        },
        {
         "alignmentgroup": "True",
         "hovertemplate": "category=62<br>Province=%{x}<br>Total Population=%{y}<extra></extra>",
         "legendgroup": "62",
         "marker": {
          "color": "lightslategray",
          "pattern": {
           "shape": ""
          }
         },
         "name": "62",
         "offsetgroup": "62",
         "orientation": "v",
         "showlegend": true,
         "textposition": "auto",
         "type": "bar",
         "x": [
          "Occidental Mindoro"
         ],
         "xaxis": "x",
         "y": [
          521444
         ],
         "yaxis": "y"
        },
        {
         "alignmentgroup": "True",
         "hovertemplate": "category=63<br>Province=%{x}<br>Total Population=%{y}<extra></extra>",
         "legendgroup": "63",
         "marker": {
          "color": "lightslategray",
          "pattern": {
           "shape": ""
          }
         },
         "name": "63",
         "offsetgroup": "63",
         "orientation": "v",
         "showlegend": true,
         "textposition": "auto",
         "type": "bar",
         "x": [
          "Oriental Mindoro"
         ],
         "xaxis": "x",
         "y": [
          906661
         ],
         "yaxis": "y"
        },
        {
         "alignmentgroup": "True",
         "hovertemplate": "category=64<br>Province=%{x}<br>Total Population=%{y}<extra></extra>",
         "legendgroup": "64",
         "marker": {
          "color": "lightslategray",
          "pattern": {
           "shape": ""
          }
         },
         "name": "64",
         "offsetgroup": "64",
         "orientation": "v",
         "showlegend": true,
         "textposition": "auto",
         "type": "bar",
         "x": [
          "Palawan"
         ],
         "xaxis": "x",
         "y": [
          1237280
         ],
         "yaxis": "y"
        },
        {
         "alignmentgroup": "True",
         "hovertemplate": "category=65<br>Province=%{x}<br>Total Population=%{y}<extra></extra>",
         "legendgroup": "65",
         "marker": {
          "color": "lightslategray",
          "pattern": {
           "shape": ""
          }
         },
         "name": "65",
         "offsetgroup": "65",
         "orientation": "v",
         "showlegend": true,
         "textposition": "auto",
         "type": "bar",
         "x": [
          "Pampanga"
         ],
         "xaxis": "x",
         "y": [
          2894309
         ],
         "yaxis": "y"
        },
        {
         "alignmentgroup": "True",
         "hovertemplate": "category=66<br>Province=%{x}<br>Total Population=%{y}<extra></extra>",
         "legendgroup": "66",
         "marker": {
          "color": "lightslategray",
          "pattern": {
           "shape": ""
          }
         },
         "name": "66",
         "offsetgroup": "66",
         "orientation": "v",
         "showlegend": true,
         "textposition": "auto",
         "type": "bar",
         "x": [
          "Pangasinan"
         ],
         "xaxis": "x",
         "y": [
          3159228
         ],
         "yaxis": "y"
        },
        {
         "alignmentgroup": "True",
         "hovertemplate": "category=67<br>Province=%{x}<br>Total Population=%{y}<extra></extra>",
         "legendgroup": "67",
         "marker": {
          "color": "lightslategray",
          "pattern": {
           "shape": ""
          }
         },
         "name": "67",
         "offsetgroup": "67",
         "orientation": "v",
         "showlegend": true,
         "textposition": "auto",
         "type": "bar",
         "x": [
          "Quezon"
         ],
         "xaxis": "x",
         "y": [
          2223791
         ],
         "yaxis": "y"
        },
        {
         "alignmentgroup": "True",
         "hovertemplate": "category=68<br>Province=%{x}<br>Total Population=%{y}<extra></extra>",
         "legendgroup": "68",
         "marker": {
          "color": "lightslategray",
          "pattern": {
           "shape": ""
          }
         },
         "name": "68",
         "offsetgroup": "68",
         "orientation": "v",
         "showlegend": true,
         "textposition": "auto",
         "type": "bar",
         "x": [
          "Quirino"
         ],
         "xaxis": "x",
         "y": [
          203530
         ],
         "yaxis": "y"
        },
        {
         "alignmentgroup": "True",
         "hovertemplate": "category=69<br>Province=%{x}<br>Total Population=%{y}<extra></extra>",
         "legendgroup": "69",
         "marker": {
          "color": "lightslategray",
          "pattern": {
           "shape": ""
          }
         },
         "name": "69",
         "offsetgroup": "69",
         "orientation": "v",
         "showlegend": true,
         "textposition": "auto",
         "type": "bar",
         "x": [
          "Rizal"
         ],
         "xaxis": "x",
         "y": [
          3321325
         ],
         "yaxis": "y"
        },
        {
         "alignmentgroup": "True",
         "hovertemplate": "category=70<br>Province=%{x}<br>Total Population=%{y}<extra></extra>",
         "legendgroup": "70",
         "marker": {
          "color": "lightslategray",
          "pattern": {
           "shape": ""
          }
         },
         "name": "70",
         "offsetgroup": "70",
         "orientation": "v",
         "showlegend": true,
         "textposition": "auto",
         "type": "bar",
         "x": [
          "Romblon"
         ],
         "xaxis": "x",
         "y": [
          308072
         ],
         "yaxis": "y"
        },
        {
         "alignmentgroup": "True",
         "hovertemplate": "category=71<br>Province=%{x}<br>Total Population=%{y}<extra></extra>",
         "legendgroup": "71",
         "marker": {
          "color": "lightslategray",
          "pattern": {
           "shape": ""
          }
         },
         "name": "71",
         "offsetgroup": "71",
         "orientation": "v",
         "showlegend": true,
         "textposition": "auto",
         "type": "bar",
         "x": [
          "Samar (Western Samar)"
         ],
         "xaxis": "x",
         "y": [
          791045
         ],
         "yaxis": "y"
        },
        {
         "alignmentgroup": "True",
         "hovertemplate": "category=72<br>Province=%{x}<br>Total Population=%{y}<extra></extra>",
         "legendgroup": "72",
         "marker": {
          "color": "lightslategray",
          "pattern": {
           "shape": ""
          }
         },
         "name": "72",
         "offsetgroup": "72",
         "orientation": "v",
         "showlegend": true,
         "textposition": "auto",
         "type": "bar",
         "x": [
          "Sarangani"
         ],
         "xaxis": "x",
         "y": [
          558069
         ],
         "yaxis": "y"
        },
        {
         "alignmentgroup": "True",
         "hovertemplate": "category=73<br>Province=%{x}<br>Total Population=%{y}<extra></extra>",
         "legendgroup": "73",
         "marker": {
          "color": "lightslategray",
          "pattern": {
           "shape": ""
          }
         },
         "name": "73",
         "offsetgroup": "73",
         "orientation": "v",
         "showlegend": true,
         "textposition": "auto",
         "type": "bar",
         "x": [
          "Siquijor"
         ],
         "xaxis": "x",
         "y": [
          103014
         ],
         "yaxis": "y"
        },
        {
         "alignmentgroup": "True",
         "hovertemplate": "category=74<br>Province=%{x}<br>Total Population=%{y}<extra></extra>",
         "legendgroup": "74",
         "marker": {
          "color": "lightslategray",
          "pattern": {
           "shape": ""
          }
         },
         "name": "74",
         "offsetgroup": "74",
         "orientation": "v",
         "showlegend": true,
         "textposition": "auto",
         "type": "bar",
         "x": [
          "Sorsogon"
         ],
         "xaxis": "x",
         "y": [
          826150
         ],
         "yaxis": "y"
        },
        {
         "alignmentgroup": "True",
         "hovertemplate": "category=75<br>Province=%{x}<br>Total Population=%{y}<extra></extra>",
         "legendgroup": "75",
         "marker": {
          "color": "lightslategray",
          "pattern": {
           "shape": ""
          }
         },
         "name": "75",
         "offsetgroup": "75",
         "orientation": "v",
         "showlegend": true,
         "textposition": "auto",
         "type": "bar",
         "x": [
          "South Cotabato"
         ],
         "xaxis": "x",
         "y": [
          1668556
         ],
         "yaxis": "y"
        },
        {
         "alignmentgroup": "True",
         "hovertemplate": "category=76<br>Province=%{x}<br>Total Population=%{y}<extra></extra>",
         "legendgroup": "76",
         "marker": {
          "color": "lightslategray",
          "pattern": {
           "shape": ""
          }
         },
         "name": "76",
         "offsetgroup": "76",
         "orientation": "v",
         "showlegend": true,
         "textposition": "auto",
         "type": "bar",
         "x": [
          "Southern Leyte"
         ],
         "xaxis": "x",
         "y": [
          428484
         ],
         "yaxis": "y"
        },
        {
         "alignmentgroup": "True",
         "hovertemplate": "category=77<br>Province=%{x}<br>Total Population=%{y}<extra></extra>",
         "legendgroup": "77",
         "marker": {
          "color": "lightslategray",
          "pattern": {
           "shape": ""
          }
         },
         "name": "77",
         "offsetgroup": "77",
         "orientation": "v",
         "showlegend": true,
         "textposition": "auto",
         "type": "bar",
         "x": [
          "Sultan Kudarat"
         ],
         "xaxis": "x",
         "y": [
          851554
         ],
         "yaxis": "y"
        },
        {
         "alignmentgroup": "True",
         "hovertemplate": "category=78<br>Province=%{x}<br>Total Population=%{y}<extra></extra>",
         "legendgroup": "78",
         "marker": {
          "color": "lightslategray",
          "pattern": {
           "shape": ""
          }
         },
         "name": "78",
         "offsetgroup": "78",
         "orientation": "v",
         "showlegend": true,
         "textposition": "auto",
         "type": "bar",
         "x": [
          "Sulu"
         ],
         "xaxis": "x",
         "y": [
          998675
         ],
         "yaxis": "y"
        },
        {
         "alignmentgroup": "True",
         "hovertemplate": "category=79<br>Province=%{x}<br>Total Population=%{y}<extra></extra>",
         "legendgroup": "79",
         "marker": {
          "color": "lightslategray",
          "pattern": {
           "shape": ""
          }
         },
         "name": "79",
         "offsetgroup": "79",
         "orientation": "v",
         "showlegend": true,
         "textposition": "auto",
         "type": "bar",
         "x": [
          "Surigao Del Norte"
         ],
         "xaxis": "x",
         "y": [
          531753
         ],
         "yaxis": "y"
        },
        {
         "alignmentgroup": "True",
         "hovertemplate": "category=80<br>Province=%{x}<br>Total Population=%{y}<extra></extra>",
         "legendgroup": "80",
         "marker": {
          "color": "lightslategray",
          "pattern": {
           "shape": ""
          }
         },
         "name": "80",
         "offsetgroup": "80",
         "orientation": "v",
         "showlegend": true,
         "textposition": "auto",
         "type": "bar",
         "x": [
          "Surigao Del Sur"
         ],
         "xaxis": "x",
         "y": [
          640512
         ],
         "yaxis": "y"
        },
        {
         "alignmentgroup": "True",
         "hovertemplate": "category=81<br>Province=%{x}<br>Total Population=%{y}<extra></extra>",
         "legendgroup": "81",
         "marker": {
          "color": "lightslategray",
          "pattern": {
           "shape": ""
          }
         },
         "name": "81",
         "offsetgroup": "81",
         "orientation": "v",
         "showlegend": true,
         "textposition": "auto",
         "type": "bar",
         "x": [
          "Tarlac"
         ],
         "xaxis": "x",
         "y": [
          1499064
         ],
         "yaxis": "y"
        },
        {
         "alignmentgroup": "True",
         "hovertemplate": "category=82<br>Province=%{x}<br>Total Population=%{y}<extra></extra>",
         "legendgroup": "82",
         "marker": {
          "color": "lightslategray",
          "pattern": {
           "shape": ""
          }
         },
         "name": "82",
         "offsetgroup": "82",
         "orientation": "v",
         "showlegend": true,
         "textposition": "auto",
         "type": "bar",
         "x": [
          "Tawi-Tawi"
         ],
         "xaxis": "x",
         "y": [
          438545
         ],
         "yaxis": "y"
        },
        {
         "alignmentgroup": "True",
         "hovertemplate": "category=83<br>Province=%{x}<br>Total Population=%{y}<extra></extra>",
         "legendgroup": "83",
         "marker": {
          "color": "lightslategray",
          "pattern": {
           "shape": ""
          }
         },
         "name": "83",
         "offsetgroup": "83",
         "orientation": "v",
         "showlegend": true,
         "textposition": "auto",
         "type": "bar",
         "x": [
          "Zambales"
         ],
         "xaxis": "x",
         "y": [
          906184
         ],
         "yaxis": "y"
        },
        {
         "alignmentgroup": "True",
         "hovertemplate": "category=84<br>Province=%{x}<br>Total Population=%{y}<extra></extra>",
         "legendgroup": "84",
         "marker": {
          "color": "lightslategray",
          "pattern": {
           "shape": ""
          }
         },
         "name": "84",
         "offsetgroup": "84",
         "orientation": "v",
         "showlegend": true,
         "textposition": "auto",
         "type": "bar",
         "x": [
          "Zamboanga Del Norte"
         ],
         "xaxis": "x",
         "y": [
          1046017
         ],
         "yaxis": "y"
        },
        {
         "alignmentgroup": "True",
         "hovertemplate": "category=85<br>Province=%{x}<br>Total Population=%{y}<extra></extra>",
         "legendgroup": "85",
         "marker": {
          "color": "lightslategray",
          "pattern": {
           "shape": ""
          }
         },
         "name": "85",
         "offsetgroup": "85",
         "orientation": "v",
         "showlegend": true,
         "textposition": "auto",
         "type": "bar",
         "x": [
          "Zamboanga Del Sur"
         ],
         "xaxis": "x",
         "y": [
          2017793
         ],
         "yaxis": "y"
        },
        {
         "alignmentgroup": "True",
         "hovertemplate": "category=86<br>Province=%{x}<br>Total Population=%{y}<extra></extra>",
         "legendgroup": "86",
         "marker": {
          "color": "lightslategray",
          "pattern": {
           "shape": ""
          }
         },
         "name": "86",
         "offsetgroup": "86",
         "orientation": "v",
         "showlegend": true,
         "textposition": "auto",
         "type": "bar",
         "x": [
          "Zamboanga Sibugay"
         ],
         "xaxis": "x",
         "y": [
          668648
         ],
         "yaxis": "y"
        }
       ],
       "layout": {
        "barmode": "relative",
        "legend": {
         "title": {
          "text": "category"
         },
         "tracegroupgap": 0
        },
        "margin": {
         "t": 60
        },
        "template": {
         "data": {
          "bar": [
           {
            "error_x": {
             "color": "#2a3f5f"
            },
            "error_y": {
             "color": "#2a3f5f"
            },
            "marker": {
             "line": {
              "color": "#E5ECF6",
              "width": 0.5
             },
             "pattern": {
              "fillmode": "overlay",
              "size": 10,
              "solidity": 0.2
             }
            },
            "type": "bar"
           }
          ],
          "barpolar": [
           {
            "marker": {
             "line": {
              "color": "#E5ECF6",
              "width": 0.5
             },
             "pattern": {
              "fillmode": "overlay",
              "size": 10,
              "solidity": 0.2
             }
            },
            "type": "barpolar"
           }
          ],
          "carpet": [
           {
            "aaxis": {
             "endlinecolor": "#2a3f5f",
             "gridcolor": "white",
             "linecolor": "white",
             "minorgridcolor": "white",
             "startlinecolor": "#2a3f5f"
            },
            "baxis": {
             "endlinecolor": "#2a3f5f",
             "gridcolor": "white",
             "linecolor": "white",
             "minorgridcolor": "white",
             "startlinecolor": "#2a3f5f"
            },
            "type": "carpet"
           }
          ],
          "choropleth": [
           {
            "colorbar": {
             "outlinewidth": 0,
             "ticks": ""
            },
            "type": "choropleth"
           }
          ],
          "contour": [
           {
            "colorbar": {
             "outlinewidth": 0,
             "ticks": ""
            },
            "colorscale": [
             [
              0,
              "#0d0887"
             ],
             [
              0.1111111111111111,
              "#46039f"
             ],
             [
              0.2222222222222222,
              "#7201a8"
             ],
             [
              0.3333333333333333,
              "#9c179e"
             ],
             [
              0.4444444444444444,
              "#bd3786"
             ],
             [
              0.5555555555555556,
              "#d8576b"
             ],
             [
              0.6666666666666666,
              "#ed7953"
             ],
             [
              0.7777777777777778,
              "#fb9f3a"
             ],
             [
              0.8888888888888888,
              "#fdca26"
             ],
             [
              1,
              "#f0f921"
             ]
            ],
            "type": "contour"
           }
          ],
          "contourcarpet": [
           {
            "colorbar": {
             "outlinewidth": 0,
             "ticks": ""
            },
            "type": "contourcarpet"
           }
          ],
          "heatmap": [
           {
            "colorbar": {
             "outlinewidth": 0,
             "ticks": ""
            },
            "colorscale": [
             [
              0,
              "#0d0887"
             ],
             [
              0.1111111111111111,
              "#46039f"
             ],
             [
              0.2222222222222222,
              "#7201a8"
             ],
             [
              0.3333333333333333,
              "#9c179e"
             ],
             [
              0.4444444444444444,
              "#bd3786"
             ],
             [
              0.5555555555555556,
              "#d8576b"
             ],
             [
              0.6666666666666666,
              "#ed7953"
             ],
             [
              0.7777777777777778,
              "#fb9f3a"
             ],
             [
              0.8888888888888888,
              "#fdca26"
             ],
             [
              1,
              "#f0f921"
             ]
            ],
            "type": "heatmap"
           }
          ],
          "heatmapgl": [
           {
            "colorbar": {
             "outlinewidth": 0,
             "ticks": ""
            },
            "colorscale": [
             [
              0,
              "#0d0887"
             ],
             [
              0.1111111111111111,
              "#46039f"
             ],
             [
              0.2222222222222222,
              "#7201a8"
             ],
             [
              0.3333333333333333,
              "#9c179e"
             ],
             [
              0.4444444444444444,
              "#bd3786"
             ],
             [
              0.5555555555555556,
              "#d8576b"
             ],
             [
              0.6666666666666666,
              "#ed7953"
             ],
             [
              0.7777777777777778,
              "#fb9f3a"
             ],
             [
              0.8888888888888888,
              "#fdca26"
             ],
             [
              1,
              "#f0f921"
             ]
            ],
            "type": "heatmapgl"
           }
          ],
          "histogram": [
           {
            "marker": {
             "pattern": {
              "fillmode": "overlay",
              "size": 10,
              "solidity": 0.2
             }
            },
            "type": "histogram"
           }
          ],
          "histogram2d": [
           {
            "colorbar": {
             "outlinewidth": 0,
             "ticks": ""
            },
            "colorscale": [
             [
              0,
              "#0d0887"
             ],
             [
              0.1111111111111111,
              "#46039f"
             ],
             [
              0.2222222222222222,
              "#7201a8"
             ],
             [
              0.3333333333333333,
              "#9c179e"
             ],
             [
              0.4444444444444444,
              "#bd3786"
             ],
             [
              0.5555555555555556,
              "#d8576b"
             ],
             [
              0.6666666666666666,
              "#ed7953"
             ],
             [
              0.7777777777777778,
              "#fb9f3a"
             ],
             [
              0.8888888888888888,
              "#fdca26"
             ],
             [
              1,
              "#f0f921"
             ]
            ],
            "type": "histogram2d"
           }
          ],
          "histogram2dcontour": [
           {
            "colorbar": {
             "outlinewidth": 0,
             "ticks": ""
            },
            "colorscale": [
             [
              0,
              "#0d0887"
             ],
             [
              0.1111111111111111,
              "#46039f"
             ],
             [
              0.2222222222222222,
              "#7201a8"
             ],
             [
              0.3333333333333333,
              "#9c179e"
             ],
             [
              0.4444444444444444,
              "#bd3786"
             ],
             [
              0.5555555555555556,
              "#d8576b"
             ],
             [
              0.6666666666666666,
              "#ed7953"
             ],
             [
              0.7777777777777778,
              "#fb9f3a"
             ],
             [
              0.8888888888888888,
              "#fdca26"
             ],
             [
              1,
              "#f0f921"
             ]
            ],
            "type": "histogram2dcontour"
           }
          ],
          "mesh3d": [
           {
            "colorbar": {
             "outlinewidth": 0,
             "ticks": ""
            },
            "type": "mesh3d"
           }
          ],
          "parcoords": [
           {
            "line": {
             "colorbar": {
              "outlinewidth": 0,
              "ticks": ""
             }
            },
            "type": "parcoords"
           }
          ],
          "pie": [
           {
            "automargin": true,
            "type": "pie"
           }
          ],
          "scatter": [
           {
            "fillpattern": {
             "fillmode": "overlay",
             "size": 10,
             "solidity": 0.2
            },
            "type": "scatter"
           }
          ],
          "scatter3d": [
           {
            "line": {
             "colorbar": {
              "outlinewidth": 0,
              "ticks": ""
             }
            },
            "marker": {
             "colorbar": {
              "outlinewidth": 0,
              "ticks": ""
             }
            },
            "type": "scatter3d"
           }
          ],
          "scattercarpet": [
           {
            "marker": {
             "colorbar": {
              "outlinewidth": 0,
              "ticks": ""
             }
            },
            "type": "scattercarpet"
           }
          ],
          "scattergeo": [
           {
            "marker": {
             "colorbar": {
              "outlinewidth": 0,
              "ticks": ""
             }
            },
            "type": "scattergeo"
           }
          ],
          "scattergl": [
           {
            "marker": {
             "colorbar": {
              "outlinewidth": 0,
              "ticks": ""
             }
            },
            "type": "scattergl"
           }
          ],
          "scattermapbox": [
           {
            "marker": {
             "colorbar": {
              "outlinewidth": 0,
              "ticks": ""
             }
            },
            "type": "scattermapbox"
           }
          ],
          "scatterpolar": [
           {
            "marker": {
             "colorbar": {
              "outlinewidth": 0,
              "ticks": ""
             }
            },
            "type": "scatterpolar"
           }
          ],
          "scatterpolargl": [
           {
            "marker": {
             "colorbar": {
              "outlinewidth": 0,
              "ticks": ""
             }
            },
            "type": "scatterpolargl"
           }
          ],
          "scatterternary": [
           {
            "marker": {
             "colorbar": {
              "outlinewidth": 0,
              "ticks": ""
             }
            },
            "type": "scatterternary"
           }
          ],
          "surface": [
           {
            "colorbar": {
             "outlinewidth": 0,
             "ticks": ""
            },
            "colorscale": [
             [
              0,
              "#0d0887"
             ],
             [
              0.1111111111111111,
              "#46039f"
             ],
             [
              0.2222222222222222,
              "#7201a8"
             ],
             [
              0.3333333333333333,
              "#9c179e"
             ],
             [
              0.4444444444444444,
              "#bd3786"
             ],
             [
              0.5555555555555556,
              "#d8576b"
             ],
             [
              0.6666666666666666,
              "#ed7953"
             ],
             [
              0.7777777777777778,
              "#fb9f3a"
             ],
             [
              0.8888888888888888,
              "#fdca26"
             ],
             [
              1,
              "#f0f921"
             ]
            ],
            "type": "surface"
           }
          ],
          "table": [
           {
            "cells": {
             "fill": {
              "color": "#EBF0F8"
             },
             "line": {
              "color": "white"
             }
            },
            "header": {
             "fill": {
              "color": "#C8D4E3"
             },
             "line": {
              "color": "white"
             }
            },
            "type": "table"
           }
          ]
         },
         "layout": {
          "annotationdefaults": {
           "arrowcolor": "#2a3f5f",
           "arrowhead": 0,
           "arrowwidth": 1
          },
          "autotypenumbers": "strict",
          "coloraxis": {
           "colorbar": {
            "outlinewidth": 0,
            "ticks": ""
           }
          },
          "colorscale": {
           "diverging": [
            [
             0,
             "#8e0152"
            ],
            [
             0.1,
             "#c51b7d"
            ],
            [
             0.2,
             "#de77ae"
            ],
            [
             0.3,
             "#f1b6da"
            ],
            [
             0.4,
             "#fde0ef"
            ],
            [
             0.5,
             "#f7f7f7"
            ],
            [
             0.6,
             "#e6f5d0"
            ],
            [
             0.7,
             "#b8e186"
            ],
            [
             0.8,
             "#7fbc41"
            ],
            [
             0.9,
             "#4d9221"
            ],
            [
             1,
             "#276419"
            ]
           ],
           "sequential": [
            [
             0,
             "#0d0887"
            ],
            [
             0.1111111111111111,
             "#46039f"
            ],
            [
             0.2222222222222222,
             "#7201a8"
            ],
            [
             0.3333333333333333,
             "#9c179e"
            ],
            [
             0.4444444444444444,
             "#bd3786"
            ],
            [
             0.5555555555555556,
             "#d8576b"
            ],
            [
             0.6666666666666666,
             "#ed7953"
            ],
            [
             0.7777777777777778,
             "#fb9f3a"
            ],
            [
             0.8888888888888888,
             "#fdca26"
            ],
            [
             1,
             "#f0f921"
            ]
           ],
           "sequentialminus": [
            [
             0,
             "#0d0887"
            ],
            [
             0.1111111111111111,
             "#46039f"
            ],
            [
             0.2222222222222222,
             "#7201a8"
            ],
            [
             0.3333333333333333,
             "#9c179e"
            ],
            [
             0.4444444444444444,
             "#bd3786"
            ],
            [
             0.5555555555555556,
             "#d8576b"
            ],
            [
             0.6666666666666666,
             "#ed7953"
            ],
            [
             0.7777777777777778,
             "#fb9f3a"
            ],
            [
             0.8888888888888888,
             "#fdca26"
            ],
            [
             1,
             "#f0f921"
            ]
           ]
          },
          "colorway": [
           "#636efa",
           "#EF553B",
           "#00cc96",
           "#ab63fa",
           "#FFA15A",
           "#19d3f3",
           "#FF6692",
           "#B6E880",
           "#FF97FF",
           "#FECB52"
          ],
          "font": {
           "color": "#2a3f5f"
          },
          "geo": {
           "bgcolor": "white",
           "lakecolor": "white",
           "landcolor": "#E5ECF6",
           "showlakes": true,
           "showland": true,
           "subunitcolor": "white"
          },
          "hoverlabel": {
           "align": "left"
          },
          "hovermode": "closest",
          "mapbox": {
           "style": "light"
          },
          "paper_bgcolor": "white",
          "plot_bgcolor": "#E5ECF6",
          "polar": {
           "angularaxis": {
            "gridcolor": "white",
            "linecolor": "white",
            "ticks": ""
           },
           "bgcolor": "#E5ECF6",
           "radialaxis": {
            "gridcolor": "white",
            "linecolor": "white",
            "ticks": ""
           }
          },
          "scene": {
           "xaxis": {
            "backgroundcolor": "#E5ECF6",
            "gridcolor": "white",
            "gridwidth": 2,
            "linecolor": "white",
            "showbackground": true,
            "ticks": "",
            "zerolinecolor": "white"
           },
           "yaxis": {
            "backgroundcolor": "#E5ECF6",
            "gridcolor": "white",
            "gridwidth": 2,
            "linecolor": "white",
            "showbackground": true,
            "ticks": "",
            "zerolinecolor": "white"
           },
           "zaxis": {
            "backgroundcolor": "#E5ECF6",
            "gridcolor": "white",
            "gridwidth": 2,
            "linecolor": "white",
            "showbackground": true,
            "ticks": "",
            "zerolinecolor": "white"
           }
          },
          "shapedefaults": {
           "line": {
            "color": "#2a3f5f"
           }
          },
          "ternary": {
           "aaxis": {
            "gridcolor": "white",
            "linecolor": "white",
            "ticks": ""
           },
           "baxis": {
            "gridcolor": "white",
            "linecolor": "white",
            "ticks": ""
           },
           "bgcolor": "#E5ECF6",
           "caxis": {
            "gridcolor": "white",
            "linecolor": "white",
            "ticks": ""
           }
          },
          "title": {
           "x": 0.05
          },
          "xaxis": {
           "automargin": true,
           "gridcolor": "white",
           "linecolor": "white",
           "ticks": "",
           "title": {
            "standoff": 15
           },
           "zerolinecolor": "white",
           "zerolinewidth": 2
          },
          "yaxis": {
           "automargin": true,
           "gridcolor": "white",
           "linecolor": "white",
           "ticks": "",
           "title": {
            "standoff": 15
           },
           "zerolinecolor": "white",
           "zerolinewidth": 2
          }
         }
        },
        "xaxis": {
         "anchor": "y",
         "domain": [
          0,
          1
         ],
         "title": {
          "text": "Province"
         }
        },
        "yaxis": {
         "anchor": "x",
         "domain": [
          0,
          1
         ],
         "title": {
          "text": "Total Population"
         }
        }
       }
      }
     },
     "metadata": {},
     "output_type": "display_data"
    }
   ],
   "source": [
    "pop['category'] = [str(i) for i in pop.index]\n",
    "\n",
    "color_discrete_sequence = ['lightslategray',]*len(pop)\n",
    "index = pop.loc[pop['Province'] == \"Cebu\"].index[0]\n",
    "color_discrete_sequence[index] = ['crimson'] #index\n",
    "\n",
    "fig=px.bar(pop,x='Province',y='Total Population',\n",
    "           color = 'category',\n",
    "           color_discrete_sequence=color_discrete_sequence,\n",
    "           )\n",
    "fig.show()"
   ]
  }
 ],
 "metadata": {
  "kernelspec": {
   "display_name": "base",
   "language": "python",
   "name": "python3"
  },
  "language_info": {
   "codemirror_mode": {
    "name": "ipython",
    "version": 3
   },
   "file_extension": ".py",
   "mimetype": "text/x-python",
   "name": "python",
   "nbconvert_exporter": "python",
   "pygments_lexer": "ipython3",
   "version": "3.10.9"
  },
  "orig_nbformat": 4
 },
 "nbformat": 4,
 "nbformat_minor": 2
}
