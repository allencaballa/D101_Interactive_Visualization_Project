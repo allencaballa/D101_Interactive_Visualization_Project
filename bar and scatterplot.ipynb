{
 "cells": [
  {
   "cell_type": "markdown",
   "metadata": {},
   "source": [
    "### IMPORTING PACKAGES"
   ]
  },
  {
   "cell_type": "code",
   "execution_count": 1,
   "metadata": {},
   "outputs": [],
   "source": [
    "import pandas as pd \n",
    "import numpy as np \n",
    "import plotly.express as px\n",
    "import plotly.graph_objects as go\n",
    "import geopandas as gpd\n",
    "\n",
    "\n",
    "from pathlib import Path"
   ]
  },
  {
   "cell_type": "code",
   "execution_count": 116,
   "metadata": {},
   "outputs": [],
   "source": [
    "dataset_folder = Path('data101_data/pre-disaster/')\n",
    "# flood_folder = Path('data101_data/wfp-flood/')\n",
    "# cyclone_folder = Path('data101_data/wfp-tropicalcyclone/')\n",
    "# landslide_folder = Path('data101_data/wfp-landslide/')\n",
    "\n",
    "# px.set_mapbox_access_token(open(\"D:/JUPYTER FILES/DATA101/Project/Final Project Dash App/D101_Interactive_Visualization_Project/.mapbox_token\").read())"
   ]
  },
  {
   "cell_type": "markdown",
   "metadata": {},
   "source": [
    "### IMPORTING DATASETS"
   ]
  },
  {
   "cell_type": "code",
   "execution_count": 91,
   "metadata": {},
   "outputs": [
    {
     "name": "stdout",
     "output_type": "stream",
     "text": [
      "<class 'pandas.core.frame.DataFrame'>\n",
      "RangeIndex: 1647 entries, 0 to 1646\n",
      "Data columns (total 17 columns):\n",
      " #   Column                  Non-Null Count  Dtype \n",
      "---  ------                  --------------  ----- \n",
      " 0   Region                  1647 non-null   object\n",
      " 1   Region Code             1647 non-null   object\n",
      " 2   Province                1647 non-null   object\n",
      " 3   Province Code           1647 non-null   object\n",
      " 4   Municipality_City       1647 non-null   object\n",
      " 5   Municipality_City Code  1647 non-null   object\n",
      " 6   DOCTOR                  1647 non-null   int64 \n",
      " 7   NURSE                   1647 non-null   int64 \n",
      " 8   MIDWIFE                 1647 non-null   int64 \n",
      " 9   DENTIST                 1647 non-null   int64 \n",
      " 10  NUTRITIONIST/DIETICIAN  1647 non-null   int64 \n",
      " 11  PHARMACIST              1647 non-null   int64 \n",
      " 12  OCCUPATIONAL THERAPIST  1647 non-null   int64 \n",
      " 13  MEDICAL TECHNOLOGIST    1647 non-null   int64 \n",
      " 14  PHYSICAL THERAPIST      1647 non-null   int64 \n",
      " 15  RADIOLOGY TECHNOLOGIST  1647 non-null   int64 \n",
      " 16  X-RAY TECHNOLOGIST      1647 non-null   int64 \n",
      "dtypes: int64(11), object(6)\n",
      "memory usage: 218.9+ KB\n"
     ]
    }
   ],
   "source": [
    "df_health_personnel = pd.read_excel(dataset_folder/\"180814_health-personnel_by-city_municipality.xlsx\")\n",
    "# df_health_personnel = pd.read_excel(dataset_folder/\"test.xlsx\")\n",
    "df_health_personnel.info()"
   ]
  },
  {
   "cell_type": "code",
   "execution_count": 92,
   "metadata": {},
   "outputs": [],
   "source": [
    "# Health Personnel by City and Municipality \n",
    "df_health_personnel_by_region_and_province = df_health_personnel.drop(['Region Code', 'Province Code','Municipality_City', 'Municipality_City Code'], axis=1, inplace=True)\n",
    "df_health_personnel_by_region_and_province = df_health_personnel.sort_values(['Region', 'Province'], ignore_index=True)"
   ]
  },
  {
   "cell_type": "code",
   "execution_count": 93,
   "metadata": {},
   "outputs": [
    {
     "data": {
      "text/html": [
       "<div>\n",
       "<style scoped>\n",
       "    .dataframe tbody tr th:only-of-type {\n",
       "        vertical-align: middle;\n",
       "    }\n",
       "\n",
       "    .dataframe tbody tr th {\n",
       "        vertical-align: top;\n",
       "    }\n",
       "\n",
       "    .dataframe thead th {\n",
       "        text-align: right;\n",
       "    }\n",
       "</style>\n",
       "<table border=\"1\" class=\"dataframe\">\n",
       "  <thead>\n",
       "    <tr style=\"text-align: right;\">\n",
       "      <th></th>\n",
       "      <th>Region</th>\n",
       "      <th>Province</th>\n",
       "      <th>DOCTOR</th>\n",
       "      <th>NURSE</th>\n",
       "      <th>MIDWIFE</th>\n",
       "      <th>DENTIST</th>\n",
       "      <th>NUTRITIONIST/DIETICIAN</th>\n",
       "      <th>PHARMACIST</th>\n",
       "      <th>OCCUPATIONAL THERAPIST</th>\n",
       "      <th>MEDICAL TECHNOLOGIST</th>\n",
       "      <th>PHYSICAL THERAPIST</th>\n",
       "      <th>RADIOLOGY TECHNOLOGIST</th>\n",
       "      <th>X-RAY TECHNOLOGIST</th>\n",
       "    </tr>\n",
       "  </thead>\n",
       "  <tbody>\n",
       "    <tr>\n",
       "      <th>0</th>\n",
       "      <td>AUTONOMOUS REGION IN MUSLIM MINDANAO (ARMM)</td>\n",
       "      <td>BASILAN</td>\n",
       "      <td>9</td>\n",
       "      <td>26</td>\n",
       "      <td>5</td>\n",
       "      <td>2</td>\n",
       "      <td>1</td>\n",
       "      <td>2</td>\n",
       "      <td>0</td>\n",
       "      <td>3</td>\n",
       "      <td>0</td>\n",
       "      <td>2</td>\n",
       "      <td>0</td>\n",
       "    </tr>\n",
       "    <tr>\n",
       "      <th>1</th>\n",
       "      <td>AUTONOMOUS REGION IN MUSLIM MINDANAO (ARMM)</td>\n",
       "      <td>BASILAN</td>\n",
       "      <td>0</td>\n",
       "      <td>0</td>\n",
       "      <td>0</td>\n",
       "      <td>0</td>\n",
       "      <td>0</td>\n",
       "      <td>0</td>\n",
       "      <td>0</td>\n",
       "      <td>0</td>\n",
       "      <td>0</td>\n",
       "      <td>0</td>\n",
       "      <td>0</td>\n",
       "    </tr>\n",
       "    <tr>\n",
       "      <th>2</th>\n",
       "      <td>AUTONOMOUS REGION IN MUSLIM MINDANAO (ARMM)</td>\n",
       "      <td>BASILAN</td>\n",
       "      <td>0</td>\n",
       "      <td>0</td>\n",
       "      <td>0</td>\n",
       "      <td>0</td>\n",
       "      <td>0</td>\n",
       "      <td>0</td>\n",
       "      <td>0</td>\n",
       "      <td>0</td>\n",
       "      <td>0</td>\n",
       "      <td>0</td>\n",
       "      <td>0</td>\n",
       "    </tr>\n",
       "    <tr>\n",
       "      <th>3</th>\n",
       "      <td>AUTONOMOUS REGION IN MUSLIM MINDANAO (ARMM)</td>\n",
       "      <td>BASILAN</td>\n",
       "      <td>0</td>\n",
       "      <td>0</td>\n",
       "      <td>0</td>\n",
       "      <td>0</td>\n",
       "      <td>0</td>\n",
       "      <td>0</td>\n",
       "      <td>0</td>\n",
       "      <td>0</td>\n",
       "      <td>0</td>\n",
       "      <td>0</td>\n",
       "      <td>0</td>\n",
       "    </tr>\n",
       "    <tr>\n",
       "      <th>4</th>\n",
       "      <td>AUTONOMOUS REGION IN MUSLIM MINDANAO (ARMM)</td>\n",
       "      <td>BASILAN</td>\n",
       "      <td>0</td>\n",
       "      <td>0</td>\n",
       "      <td>0</td>\n",
       "      <td>0</td>\n",
       "      <td>0</td>\n",
       "      <td>0</td>\n",
       "      <td>0</td>\n",
       "      <td>0</td>\n",
       "      <td>0</td>\n",
       "      <td>0</td>\n",
       "      <td>0</td>\n",
       "    </tr>\n",
       "    <tr>\n",
       "      <th>...</th>\n",
       "      <td>...</td>\n",
       "      <td>...</td>\n",
       "      <td>...</td>\n",
       "      <td>...</td>\n",
       "      <td>...</td>\n",
       "      <td>...</td>\n",
       "      <td>...</td>\n",
       "      <td>...</td>\n",
       "      <td>...</td>\n",
       "      <td>...</td>\n",
       "      <td>...</td>\n",
       "      <td>...</td>\n",
       "      <td>...</td>\n",
       "    </tr>\n",
       "    <tr>\n",
       "      <th>1642</th>\n",
       "      <td>REGION XIII (CARAGA)</td>\n",
       "      <td>SURIGAO DEL SUR</td>\n",
       "      <td>1</td>\n",
       "      <td>0</td>\n",
       "      <td>3</td>\n",
       "      <td>1</td>\n",
       "      <td>0</td>\n",
       "      <td>0</td>\n",
       "      <td>0</td>\n",
       "      <td>1</td>\n",
       "      <td>0</td>\n",
       "      <td>0</td>\n",
       "      <td>0</td>\n",
       "    </tr>\n",
       "    <tr>\n",
       "      <th>1643</th>\n",
       "      <td>REGION XIII (CARAGA)</td>\n",
       "      <td>SURIGAO DEL SUR</td>\n",
       "      <td>3</td>\n",
       "      <td>5</td>\n",
       "      <td>8</td>\n",
       "      <td>1</td>\n",
       "      <td>0</td>\n",
       "      <td>1</td>\n",
       "      <td>0</td>\n",
       "      <td>2</td>\n",
       "      <td>0</td>\n",
       "      <td>0</td>\n",
       "      <td>0</td>\n",
       "    </tr>\n",
       "    <tr>\n",
       "      <th>1644</th>\n",
       "      <td>REGION XIII (CARAGA)</td>\n",
       "      <td>SURIGAO DEL SUR</td>\n",
       "      <td>1</td>\n",
       "      <td>0</td>\n",
       "      <td>13</td>\n",
       "      <td>1</td>\n",
       "      <td>0</td>\n",
       "      <td>0</td>\n",
       "      <td>0</td>\n",
       "      <td>0</td>\n",
       "      <td>0</td>\n",
       "      <td>0</td>\n",
       "      <td>0</td>\n",
       "    </tr>\n",
       "    <tr>\n",
       "      <th>1645</th>\n",
       "      <td>REGION XIII (CARAGA)</td>\n",
       "      <td>SURIGAO DEL SUR</td>\n",
       "      <td>1</td>\n",
       "      <td>2</td>\n",
       "      <td>10</td>\n",
       "      <td>1</td>\n",
       "      <td>0</td>\n",
       "      <td>0</td>\n",
       "      <td>0</td>\n",
       "      <td>1</td>\n",
       "      <td>0</td>\n",
       "      <td>0</td>\n",
       "      <td>0</td>\n",
       "    </tr>\n",
       "    <tr>\n",
       "      <th>1646</th>\n",
       "      <td>REGION XIII (CARAGA)</td>\n",
       "      <td>SURIGAO DEL SUR</td>\n",
       "      <td>65</td>\n",
       "      <td>131</td>\n",
       "      <td>36</td>\n",
       "      <td>6</td>\n",
       "      <td>3</td>\n",
       "      <td>9</td>\n",
       "      <td>0</td>\n",
       "      <td>13</td>\n",
       "      <td>0</td>\n",
       "      <td>7</td>\n",
       "      <td>0</td>\n",
       "    </tr>\n",
       "  </tbody>\n",
       "</table>\n",
       "<p>1647 rows × 13 columns</p>\n",
       "</div>"
      ],
      "text/plain": [
       "                                           Region         Province  DOCTOR   \n",
       "0     AUTONOMOUS REGION IN MUSLIM MINDANAO (ARMM)          BASILAN       9  \\\n",
       "1     AUTONOMOUS REGION IN MUSLIM MINDANAO (ARMM)          BASILAN       0   \n",
       "2     AUTONOMOUS REGION IN MUSLIM MINDANAO (ARMM)          BASILAN       0   \n",
       "3     AUTONOMOUS REGION IN MUSLIM MINDANAO (ARMM)          BASILAN       0   \n",
       "4     AUTONOMOUS REGION IN MUSLIM MINDANAO (ARMM)          BASILAN       0   \n",
       "...                                           ...              ...     ...   \n",
       "1642                         REGION XIII (CARAGA)  SURIGAO DEL SUR       1   \n",
       "1643                         REGION XIII (CARAGA)  SURIGAO DEL SUR       3   \n",
       "1644                         REGION XIII (CARAGA)  SURIGAO DEL SUR       1   \n",
       "1645                         REGION XIII (CARAGA)  SURIGAO DEL SUR       1   \n",
       "1646                         REGION XIII (CARAGA)  SURIGAO DEL SUR      65   \n",
       "\n",
       "      NURSE  MIDWIFE  DENTIST  NUTRITIONIST/DIETICIAN  PHARMACIST   \n",
       "0        26        5        2                       1           2  \\\n",
       "1         0        0        0                       0           0   \n",
       "2         0        0        0                       0           0   \n",
       "3         0        0        0                       0           0   \n",
       "4         0        0        0                       0           0   \n",
       "...     ...      ...      ...                     ...         ...   \n",
       "1642      0        3        1                       0           0   \n",
       "1643      5        8        1                       0           1   \n",
       "1644      0       13        1                       0           0   \n",
       "1645      2       10        1                       0           0   \n",
       "1646    131       36        6                       3           9   \n",
       "\n",
       "      OCCUPATIONAL THERAPIST  MEDICAL TECHNOLOGIST  PHYSICAL THERAPIST   \n",
       "0                          0                     3                   0  \\\n",
       "1                          0                     0                   0   \n",
       "2                          0                     0                   0   \n",
       "3                          0                     0                   0   \n",
       "4                          0                     0                   0   \n",
       "...                      ...                   ...                 ...   \n",
       "1642                       0                     1                   0   \n",
       "1643                       0                     2                   0   \n",
       "1644                       0                     0                   0   \n",
       "1645                       0                     1                   0   \n",
       "1646                       0                    13                   0   \n",
       "\n",
       "      RADIOLOGY TECHNOLOGIST  X-RAY TECHNOLOGIST  \n",
       "0                          2                   0  \n",
       "1                          0                   0  \n",
       "2                          0                   0  \n",
       "3                          0                   0  \n",
       "4                          0                   0  \n",
       "...                      ...                 ...  \n",
       "1642                       0                   0  \n",
       "1643                       0                   0  \n",
       "1644                       0                   0  \n",
       "1645                       0                   0  \n",
       "1646                       7                   0  \n",
       "\n",
       "[1647 rows x 13 columns]"
      ]
     },
     "execution_count": 93,
     "metadata": {},
     "output_type": "execute_result"
    }
   ],
   "source": [
    "# changing data to uppercase\n",
    "df_health_personnel_by_region_and_province['Region'] = df_health_personnel_by_region_and_province['Region'].str.upper()\n",
    "df_health_personnel_by_region_and_province['Province'] = df_health_personnel_by_region_and_province['Province'].str.upper()\n",
    "\n",
    "df_health_personnel_by_region_and_province"
   ]
  },
  {
   "cell_type": "code",
   "execution_count": 94,
   "metadata": {},
   "outputs": [
    {
     "name": "stdout",
     "output_type": "stream",
     "text": [
      "<class 'pandas.core.frame.DataFrame'>\n",
      "RangeIndex: 1647 entries, 0 to 1646\n",
      "Data columns (total 13 columns):\n",
      " #   Column                  Non-Null Count  Dtype \n",
      "---  ------                  --------------  ----- \n",
      " 0   Region                  1647 non-null   object\n",
      " 1   Province                1647 non-null   object\n",
      " 2   DOCTOR                  1647 non-null   int64 \n",
      " 3   NURSE                   1647 non-null   int64 \n",
      " 4   MIDWIFE                 1647 non-null   int64 \n",
      " 5   DENTIST                 1647 non-null   int64 \n",
      " 6   NUTRITIONIST/DIETICIAN  1647 non-null   int64 \n",
      " 7   PHARMACIST              1647 non-null   int64 \n",
      " 8   OCCUPATIONAL THERAPIST  1647 non-null   int64 \n",
      " 9   MEDICAL TECHNOLOGIST    1647 non-null   int64 \n",
      " 10  PHYSICAL THERAPIST      1647 non-null   int64 \n",
      " 11  RADIOLOGY TECHNOLOGIST  1647 non-null   int64 \n",
      " 12  X-RAY TECHNOLOGIST      1647 non-null   int64 \n",
      "dtypes: int64(11), object(2)\n",
      "memory usage: 167.4+ KB\n"
     ]
    }
   ],
   "source": [
    "df_health_personnel_by_region_and_province.info()"
   ]
  },
  {
   "cell_type": "code",
   "execution_count": 95,
   "metadata": {},
   "outputs": [
    {
     "data": {
      "text/plain": [
       "array([ 0,  1,  2,  3,  8,  6, 13, 19,  7,  4, 17, 45,  9,  5, 10, 12, 11,\n",
       "       16], dtype=int64)"
      ]
     },
     "execution_count": 95,
     "metadata": {},
     "output_type": "execute_result"
    }
   ],
   "source": [
    "df_health_personnel_by_region_and_province['X-RAY TECHNOLOGIST'].unique()"
   ]
  },
  {
   "cell_type": "code",
   "execution_count": 96,
   "metadata": {},
   "outputs": [],
   "source": [
    "# df_health_personnel_by_region_and_province.loc[df_health_personnel_by_region_and_province['X-RAY TECHNOLOGIST'] == ' ']"
   ]
  },
  {
   "cell_type": "markdown",
   "metadata": {},
   "source": [
    "## Data Cleaning for Health Personnel Bar Graph"
   ]
  },
  {
   "cell_type": "code",
   "execution_count": 136,
   "metadata": {},
   "outputs": [
    {
     "data": {
      "text/html": [
       "<div>\n",
       "<style scoped>\n",
       "    .dataframe tbody tr th:only-of-type {\n",
       "        vertical-align: middle;\n",
       "    }\n",
       "\n",
       "    .dataframe tbody tr th {\n",
       "        vertical-align: top;\n",
       "    }\n",
       "\n",
       "    .dataframe thead th {\n",
       "        text-align: right;\n",
       "    }\n",
       "</style>\n",
       "<table border=\"1\" class=\"dataframe\">\n",
       "  <thead>\n",
       "    <tr style=\"text-align: right;\">\n",
       "      <th></th>\n",
       "      <th>Region</th>\n",
       "      <th>Province</th>\n",
       "      <th>DOCTOR</th>\n",
       "      <th>NURSE</th>\n",
       "      <th>MIDWIFE</th>\n",
       "      <th>DENTIST</th>\n",
       "      <th>NUTRITIONIST/DIETICIAN</th>\n",
       "      <th>PHARMACIST</th>\n",
       "      <th>OCCUPATIONAL THERAPIST</th>\n",
       "      <th>MEDICAL TECHNOLOGIST</th>\n",
       "      <th>PHYSICAL THERAPIST</th>\n",
       "      <th>RADIOLOGY TECHNOLOGIST</th>\n",
       "      <th>X-RAY TECHNOLOGIST</th>\n",
       "    </tr>\n",
       "  </thead>\n",
       "  <tbody>\n",
       "    <tr>\n",
       "      <th>0</th>\n",
       "      <td>AUTONOMOUS REGION IN MUSLIM MINDANAO (ARMM)</td>\n",
       "      <td>BASILAN</td>\n",
       "      <td>9</td>\n",
       "      <td>26</td>\n",
       "      <td>5</td>\n",
       "      <td>2</td>\n",
       "      <td>1</td>\n",
       "      <td>2</td>\n",
       "      <td>0</td>\n",
       "      <td>3</td>\n",
       "      <td>0</td>\n",
       "      <td>2</td>\n",
       "      <td>0</td>\n",
       "    </tr>\n",
       "    <tr>\n",
       "      <th>1</th>\n",
       "      <td>AUTONOMOUS REGION IN MUSLIM MINDANAO (ARMM)</td>\n",
       "      <td>LANAO DEL SUR</td>\n",
       "      <td>136</td>\n",
       "      <td>185</td>\n",
       "      <td>98</td>\n",
       "      <td>9</td>\n",
       "      <td>4</td>\n",
       "      <td>16</td>\n",
       "      <td>0</td>\n",
       "      <td>20</td>\n",
       "      <td>0</td>\n",
       "      <td>4</td>\n",
       "      <td>1</td>\n",
       "    </tr>\n",
       "    <tr>\n",
       "      <th>2</th>\n",
       "      <td>AUTONOMOUS REGION IN MUSLIM MINDANAO (ARMM)</td>\n",
       "      <td>MAGUINDANAO</td>\n",
       "      <td>40</td>\n",
       "      <td>131</td>\n",
       "      <td>63</td>\n",
       "      <td>6</td>\n",
       "      <td>4</td>\n",
       "      <td>7</td>\n",
       "      <td>0</td>\n",
       "      <td>15</td>\n",
       "      <td>2</td>\n",
       "      <td>3</td>\n",
       "      <td>4</td>\n",
       "    </tr>\n",
       "    <tr>\n",
       "      <th>3</th>\n",
       "      <td>AUTONOMOUS REGION IN MUSLIM MINDANAO (ARMM)</td>\n",
       "      <td>SULU</td>\n",
       "      <td>40</td>\n",
       "      <td>69</td>\n",
       "      <td>45</td>\n",
       "      <td>6</td>\n",
       "      <td>1</td>\n",
       "      <td>6</td>\n",
       "      <td>0</td>\n",
       "      <td>13</td>\n",
       "      <td>0</td>\n",
       "      <td>1</td>\n",
       "      <td>1</td>\n",
       "    </tr>\n",
       "    <tr>\n",
       "      <th>4</th>\n",
       "      <td>AUTONOMOUS REGION IN MUSLIM MINDANAO (ARMM)</td>\n",
       "      <td>TAWI-TAWI</td>\n",
       "      <td>24</td>\n",
       "      <td>71</td>\n",
       "      <td>92</td>\n",
       "      <td>5</td>\n",
       "      <td>4</td>\n",
       "      <td>5</td>\n",
       "      <td>0</td>\n",
       "      <td>15</td>\n",
       "      <td>0</td>\n",
       "      <td>2</td>\n",
       "      <td>0</td>\n",
       "    </tr>\n",
       "    <tr>\n",
       "      <th>...</th>\n",
       "      <td>...</td>\n",
       "      <td>...</td>\n",
       "      <td>...</td>\n",
       "      <td>...</td>\n",
       "      <td>...</td>\n",
       "      <td>...</td>\n",
       "      <td>...</td>\n",
       "      <td>...</td>\n",
       "      <td>...</td>\n",
       "      <td>...</td>\n",
       "      <td>...</td>\n",
       "      <td>...</td>\n",
       "      <td>...</td>\n",
       "    </tr>\n",
       "    <tr>\n",
       "      <th>82</th>\n",
       "      <td>REGION XIII (CARAGA)</td>\n",
       "      <td>AGUSAN DEL NORTE</td>\n",
       "      <td>158</td>\n",
       "      <td>440</td>\n",
       "      <td>237</td>\n",
       "      <td>20</td>\n",
       "      <td>10</td>\n",
       "      <td>30</td>\n",
       "      <td>0</td>\n",
       "      <td>65</td>\n",
       "      <td>5</td>\n",
       "      <td>20</td>\n",
       "      <td>5</td>\n",
       "    </tr>\n",
       "    <tr>\n",
       "      <th>83</th>\n",
       "      <td>REGION XIII (CARAGA)</td>\n",
       "      <td>AGUSAN DEL SUR</td>\n",
       "      <td>61</td>\n",
       "      <td>196</td>\n",
       "      <td>165</td>\n",
       "      <td>14</td>\n",
       "      <td>5</td>\n",
       "      <td>14</td>\n",
       "      <td>0</td>\n",
       "      <td>34</td>\n",
       "      <td>0</td>\n",
       "      <td>9</td>\n",
       "      <td>0</td>\n",
       "    </tr>\n",
       "    <tr>\n",
       "      <th>84</th>\n",
       "      <td>REGION XIII (CARAGA)</td>\n",
       "      <td>DINAGAT ISLANDS</td>\n",
       "      <td>16</td>\n",
       "      <td>23</td>\n",
       "      <td>50</td>\n",
       "      <td>0</td>\n",
       "      <td>1</td>\n",
       "      <td>1</td>\n",
       "      <td>0</td>\n",
       "      <td>4</td>\n",
       "      <td>0</td>\n",
       "      <td>0</td>\n",
       "      <td>0</td>\n",
       "    </tr>\n",
       "    <tr>\n",
       "      <th>85</th>\n",
       "      <td>REGION XIII (CARAGA)</td>\n",
       "      <td>SURIGAO DEL NORTE</td>\n",
       "      <td>91</td>\n",
       "      <td>216</td>\n",
       "      <td>149</td>\n",
       "      <td>11</td>\n",
       "      <td>7</td>\n",
       "      <td>18</td>\n",
       "      <td>0</td>\n",
       "      <td>32</td>\n",
       "      <td>0</td>\n",
       "      <td>4</td>\n",
       "      <td>1</td>\n",
       "    </tr>\n",
       "    <tr>\n",
       "      <th>86</th>\n",
       "      <td>REGION XIII (CARAGA)</td>\n",
       "      <td>SURIGAO DEL SUR</td>\n",
       "      <td>137</td>\n",
       "      <td>285</td>\n",
       "      <td>222</td>\n",
       "      <td>28</td>\n",
       "      <td>9</td>\n",
       "      <td>23</td>\n",
       "      <td>0</td>\n",
       "      <td>45</td>\n",
       "      <td>0</td>\n",
       "      <td>14</td>\n",
       "      <td>0</td>\n",
       "    </tr>\n",
       "  </tbody>\n",
       "</table>\n",
       "<p>87 rows × 13 columns</p>\n",
       "</div>"
      ],
      "text/plain": [
       "                                         Region           Province  DOCTOR   \n",
       "0   AUTONOMOUS REGION IN MUSLIM MINDANAO (ARMM)            BASILAN       9  \\\n",
       "1   AUTONOMOUS REGION IN MUSLIM MINDANAO (ARMM)      LANAO DEL SUR     136   \n",
       "2   AUTONOMOUS REGION IN MUSLIM MINDANAO (ARMM)        MAGUINDANAO      40   \n",
       "3   AUTONOMOUS REGION IN MUSLIM MINDANAO (ARMM)               SULU      40   \n",
       "4   AUTONOMOUS REGION IN MUSLIM MINDANAO (ARMM)          TAWI-TAWI      24   \n",
       "..                                          ...                ...     ...   \n",
       "82                         REGION XIII (CARAGA)   AGUSAN DEL NORTE     158   \n",
       "83                         REGION XIII (CARAGA)     AGUSAN DEL SUR      61   \n",
       "84                         REGION XIII (CARAGA)    DINAGAT ISLANDS      16   \n",
       "85                         REGION XIII (CARAGA)  SURIGAO DEL NORTE      91   \n",
       "86                         REGION XIII (CARAGA)    SURIGAO DEL SUR     137   \n",
       "\n",
       "    NURSE  MIDWIFE  DENTIST  NUTRITIONIST/DIETICIAN  PHARMACIST   \n",
       "0      26        5        2                       1           2  \\\n",
       "1     185       98        9                       4          16   \n",
       "2     131       63        6                       4           7   \n",
       "3      69       45        6                       1           6   \n",
       "4      71       92        5                       4           5   \n",
       "..    ...      ...      ...                     ...         ...   \n",
       "82    440      237       20                      10          30   \n",
       "83    196      165       14                       5          14   \n",
       "84     23       50        0                       1           1   \n",
       "85    216      149       11                       7          18   \n",
       "86    285      222       28                       9          23   \n",
       "\n",
       "    OCCUPATIONAL THERAPIST  MEDICAL TECHNOLOGIST  PHYSICAL THERAPIST   \n",
       "0                        0                     3                   0  \\\n",
       "1                        0                    20                   0   \n",
       "2                        0                    15                   2   \n",
       "3                        0                    13                   0   \n",
       "4                        0                    15                   0   \n",
       "..                     ...                   ...                 ...   \n",
       "82                       0                    65                   5   \n",
       "83                       0                    34                   0   \n",
       "84                       0                     4                   0   \n",
       "85                       0                    32                   0   \n",
       "86                       0                    45                   0   \n",
       "\n",
       "    RADIOLOGY TECHNOLOGIST  X-RAY TECHNOLOGIST  \n",
       "0                        2                   0  \n",
       "1                        4                   1  \n",
       "2                        3                   4  \n",
       "3                        1                   1  \n",
       "4                        2                   0  \n",
       "..                     ...                 ...  \n",
       "82                      20                   5  \n",
       "83                       9                   0  \n",
       "84                       0                   0  \n",
       "85                       4                   1  \n",
       "86                      14                   0  \n",
       "\n",
       "[87 rows x 13 columns]"
      ]
     },
     "execution_count": 136,
     "metadata": {},
     "output_type": "execute_result"
    }
   ],
   "source": [
    "# aggregating data\n",
    "df_health_personnel_by_region_and_province_new = df_health_personnel_by_region_and_province.groupby(list(df_health_personnel_by_region_and_province.select_dtypes(exclude=[np.number]))).agg(lambda x: sum(x)).reset_index()\n",
    "# df_health_personnel_by_region_and_province_new['Province'].unique()\n",
    "\n",
    "df_health_personnel_by_region_and_province_new"
   ]
  },
  {
   "cell_type": "code",
   "execution_count": 208,
   "metadata": {},
   "outputs": [
    {
     "data": {
      "text/plain": [
       "array(['BASILAN', 'LANAO DEL SUR', 'MAGUINDANAO', 'SULU', 'TAWI-TAWI',\n",
       "       'ABRA', 'APAYAO', 'BENGUET', 'IFUGAO', 'KALINGA',\n",
       "       'MOUNTAIN PROVINCE', 'MARINDUQUE', 'OCCIDENTAL MINDORO',\n",
       "       'ORIENTAL MINDORO', 'PALAWAN', 'ROMBLON',\n",
       "       'NCR, CITY  OF MANILA, FIRST DISTRICT (NOT A PROVINCE)',\n",
       "       'NCR, FOURTH DISTRICT (NOT A PROVINCE)',\n",
       "       'NCR, SECOND DISTRICT (NOT A PROVINCE)',\n",
       "       'NCR, THIRD DISTRICT (NOT A PROVINCE)', 'ILOCOS NORTE',\n",
       "       'ILOCOS SUR', 'LA UNION', 'PANGASINAN', 'BATANES', 'CAGAYAN',\n",
       "       'ISABELA', 'NUEVA VIZCAYA', 'QUIRINO', 'AURORA', 'BATAAN',\n",
       "       'BULACAN', 'NUEVA ECIJA', 'PAMPANGA', 'TARLAC', 'ZAMBALES',\n",
       "       'BATANGAS', 'CAVITE', 'LAGUNA', 'QUEZON', 'RIZAL',\n",
       "       'CITY  OF ISABELA (NOT A PROVINCE)', 'ZAMBOANGA DEL NORTE',\n",
       "       'ZAMBOANGA DEL SUR', 'ZAMBOANGA SIBUGAY', 'ALBAY',\n",
       "       'CAMARINES NORTE', 'CAMARINES SUR', 'CATANDUANES', 'MASBATE',\n",
       "       'SORSOGON', 'AKLAN', 'ANTIQUE', 'CAPIZ', 'GUIMARAS', 'ILOILO',\n",
       "       'NEGROS OCCIDENTAL', 'BOHOL', 'CEBU', 'NEGROS ORIENTAL',\n",
       "       'SIQUIJOR', 'BILIRAN', 'EASTERN SAMAR', 'LEYTE', 'NORTHERN SAMAR',\n",
       "       'SAMAR (WESTERN SAMAR)', 'SOUTHERN LEYTE', 'BUKIDNON', 'CAMIGUIN',\n",
       "       'LANAO DEL NORTE', 'MISAMIS OCCIDENTAL', 'MISAMIS ORIENTAL',\n",
       "       'COMPOSTELA VALLEY', 'DAVAO DEL NORTE', 'DAVAO DEL SUR',\n",
       "       'DAVAO OCCIDENTAL', 'DAVAO ORIENTAL', 'COTABATO (NORTH COTABATO)',\n",
       "       'COTABATO CITY (NOT A PROVINCE)', 'SARANGANI', 'SOUTH COTABATO',\n",
       "       'SULTAN KUDARAT', 'AGUSAN DEL NORTE', 'AGUSAN DEL SUR',\n",
       "       'DINAGAT ISLANDS', 'SURIGAO DEL NORTE', 'SURIGAO DEL SUR'],\n",
       "      dtype=object)"
      ]
     },
     "execution_count": 208,
     "metadata": {},
     "output_type": "execute_result"
    }
   ],
   "source": [
    "# add column of total personnel per province\n",
    "# df_health_personnel_by_region_and_province_new.loc[:,'TOTAL'] = df_health_personnel_by_region_and_province_new.sum(numeric_only=True, axis=1)\n",
    "df_health_personnel_by_region_and_province_new['Province'].unique()"
   ]
  },
  {
   "cell_type": "code",
   "execution_count": 138,
   "metadata": {},
   "outputs": [],
   "source": [
    "# df_health_personnel_by_region_and_province_new.to_excel('data101_data/health_personnel_cleaned.xlsx', index=False)"
   ]
  },
  {
   "cell_type": "markdown",
   "metadata": {},
   "source": [
    "## Health Personnel Bar Graph"
   ]
  },
  {
   "cell_type": "code",
   "execution_count": 210,
   "metadata": {},
   "outputs": [
    {
     "data": {
      "text/html": [
       "<div>\n",
       "<style scoped>\n",
       "    .dataframe tbody tr th:only-of-type {\n",
       "        vertical-align: middle;\n",
       "    }\n",
       "\n",
       "    .dataframe tbody tr th {\n",
       "        vertical-align: top;\n",
       "    }\n",
       "\n",
       "    .dataframe thead th {\n",
       "        text-align: right;\n",
       "    }\n",
       "</style>\n",
       "<table border=\"1\" class=\"dataframe\">\n",
       "  <thead>\n",
       "    <tr style=\"text-align: right;\">\n",
       "      <th></th>\n",
       "      <th></th>\n",
       "      <th>DOCTOR</th>\n",
       "      <th>NURSE</th>\n",
       "      <th>MIDWIFE</th>\n",
       "      <th>DENTIST</th>\n",
       "      <th>NUTRITIONIST/DIETICIAN</th>\n",
       "      <th>PHARMACIST</th>\n",
       "      <th>OCCUPATIONAL THERAPIST</th>\n",
       "      <th>MEDICAL TECHNOLOGIST</th>\n",
       "      <th>PHYSICAL THERAPIST</th>\n",
       "      <th>RADIOLOGY TECHNOLOGIST</th>\n",
       "      <th>X-RAY TECHNOLOGIST</th>\n",
       "    </tr>\n",
       "    <tr>\n",
       "      <th>Region</th>\n",
       "      <th>Province</th>\n",
       "      <th></th>\n",
       "      <th></th>\n",
       "      <th></th>\n",
       "      <th></th>\n",
       "      <th></th>\n",
       "      <th></th>\n",
       "      <th></th>\n",
       "      <th></th>\n",
       "      <th></th>\n",
       "      <th></th>\n",
       "      <th></th>\n",
       "    </tr>\n",
       "  </thead>\n",
       "  <tbody>\n",
       "    <tr>\n",
       "      <th rowspan=\"5\" valign=\"top\">AUTONOMOUS REGION IN MUSLIM MINDANAO (ARMM)</th>\n",
       "      <th>BASILAN</th>\n",
       "      <td>9</td>\n",
       "      <td>26</td>\n",
       "      <td>5</td>\n",
       "      <td>2</td>\n",
       "      <td>1</td>\n",
       "      <td>2</td>\n",
       "      <td>0</td>\n",
       "      <td>3</td>\n",
       "      <td>0</td>\n",
       "      <td>2</td>\n",
       "      <td>0</td>\n",
       "    </tr>\n",
       "    <tr>\n",
       "      <th>LANAO DEL SUR</th>\n",
       "      <td>136</td>\n",
       "      <td>185</td>\n",
       "      <td>98</td>\n",
       "      <td>9</td>\n",
       "      <td>4</td>\n",
       "      <td>16</td>\n",
       "      <td>0</td>\n",
       "      <td>20</td>\n",
       "      <td>0</td>\n",
       "      <td>4</td>\n",
       "      <td>1</td>\n",
       "    </tr>\n",
       "    <tr>\n",
       "      <th>MAGUINDANAO</th>\n",
       "      <td>40</td>\n",
       "      <td>131</td>\n",
       "      <td>63</td>\n",
       "      <td>6</td>\n",
       "      <td>4</td>\n",
       "      <td>7</td>\n",
       "      <td>0</td>\n",
       "      <td>15</td>\n",
       "      <td>2</td>\n",
       "      <td>3</td>\n",
       "      <td>4</td>\n",
       "    </tr>\n",
       "    <tr>\n",
       "      <th>SULU</th>\n",
       "      <td>40</td>\n",
       "      <td>69</td>\n",
       "      <td>45</td>\n",
       "      <td>6</td>\n",
       "      <td>1</td>\n",
       "      <td>6</td>\n",
       "      <td>0</td>\n",
       "      <td>13</td>\n",
       "      <td>0</td>\n",
       "      <td>1</td>\n",
       "      <td>1</td>\n",
       "    </tr>\n",
       "    <tr>\n",
       "      <th>TAWI-TAWI</th>\n",
       "      <td>24</td>\n",
       "      <td>71</td>\n",
       "      <td>92</td>\n",
       "      <td>5</td>\n",
       "      <td>4</td>\n",
       "      <td>5</td>\n",
       "      <td>0</td>\n",
       "      <td>15</td>\n",
       "      <td>0</td>\n",
       "      <td>2</td>\n",
       "      <td>0</td>\n",
       "    </tr>\n",
       "    <tr>\n",
       "      <th>...</th>\n",
       "      <th>...</th>\n",
       "      <td>...</td>\n",
       "      <td>...</td>\n",
       "      <td>...</td>\n",
       "      <td>...</td>\n",
       "      <td>...</td>\n",
       "      <td>...</td>\n",
       "      <td>...</td>\n",
       "      <td>...</td>\n",
       "      <td>...</td>\n",
       "      <td>...</td>\n",
       "      <td>...</td>\n",
       "    </tr>\n",
       "    <tr>\n",
       "      <th rowspan=\"5\" valign=\"top\">REGION XIII (CARAGA)</th>\n",
       "      <th>AGUSAN DEL NORTE</th>\n",
       "      <td>158</td>\n",
       "      <td>440</td>\n",
       "      <td>237</td>\n",
       "      <td>20</td>\n",
       "      <td>10</td>\n",
       "      <td>30</td>\n",
       "      <td>0</td>\n",
       "      <td>65</td>\n",
       "      <td>5</td>\n",
       "      <td>20</td>\n",
       "      <td>5</td>\n",
       "    </tr>\n",
       "    <tr>\n",
       "      <th>AGUSAN DEL SUR</th>\n",
       "      <td>61</td>\n",
       "      <td>196</td>\n",
       "      <td>165</td>\n",
       "      <td>14</td>\n",
       "      <td>5</td>\n",
       "      <td>14</td>\n",
       "      <td>0</td>\n",
       "      <td>34</td>\n",
       "      <td>0</td>\n",
       "      <td>9</td>\n",
       "      <td>0</td>\n",
       "    </tr>\n",
       "    <tr>\n",
       "      <th>DINAGAT ISLANDS</th>\n",
       "      <td>16</td>\n",
       "      <td>23</td>\n",
       "      <td>50</td>\n",
       "      <td>0</td>\n",
       "      <td>1</td>\n",
       "      <td>1</td>\n",
       "      <td>0</td>\n",
       "      <td>4</td>\n",
       "      <td>0</td>\n",
       "      <td>0</td>\n",
       "      <td>0</td>\n",
       "    </tr>\n",
       "    <tr>\n",
       "      <th>SURIGAO DEL NORTE</th>\n",
       "      <td>91</td>\n",
       "      <td>216</td>\n",
       "      <td>149</td>\n",
       "      <td>11</td>\n",
       "      <td>7</td>\n",
       "      <td>18</td>\n",
       "      <td>0</td>\n",
       "      <td>32</td>\n",
       "      <td>0</td>\n",
       "      <td>4</td>\n",
       "      <td>1</td>\n",
       "    </tr>\n",
       "    <tr>\n",
       "      <th>SURIGAO DEL SUR</th>\n",
       "      <td>137</td>\n",
       "      <td>285</td>\n",
       "      <td>222</td>\n",
       "      <td>28</td>\n",
       "      <td>9</td>\n",
       "      <td>23</td>\n",
       "      <td>0</td>\n",
       "      <td>45</td>\n",
       "      <td>0</td>\n",
       "      <td>14</td>\n",
       "      <td>0</td>\n",
       "    </tr>\n",
       "  </tbody>\n",
       "</table>\n",
       "<p>87 rows × 11 columns</p>\n",
       "</div>"
      ],
      "text/plain": [
       "                                                               DOCTOR  NURSE   \n",
       "Region                                      Province                           \n",
       "AUTONOMOUS REGION IN MUSLIM MINDANAO (ARMM) BASILAN                 9     26  \\\n",
       "                                            LANAO DEL SUR         136    185   \n",
       "                                            MAGUINDANAO            40    131   \n",
       "                                            SULU                   40     69   \n",
       "                                            TAWI-TAWI              24     71   \n",
       "...                                                               ...    ...   \n",
       "REGION XIII (CARAGA)                        AGUSAN DEL NORTE      158    440   \n",
       "                                            AGUSAN DEL SUR         61    196   \n",
       "                                            DINAGAT ISLANDS        16     23   \n",
       "                                            SURIGAO DEL NORTE      91    216   \n",
       "                                            SURIGAO DEL SUR       137    285   \n",
       "\n",
       "                                                               MIDWIFE   \n",
       "Region                                      Province                     \n",
       "AUTONOMOUS REGION IN MUSLIM MINDANAO (ARMM) BASILAN                  5  \\\n",
       "                                            LANAO DEL SUR           98   \n",
       "                                            MAGUINDANAO             63   \n",
       "                                            SULU                    45   \n",
       "                                            TAWI-TAWI               92   \n",
       "...                                                                ...   \n",
       "REGION XIII (CARAGA)                        AGUSAN DEL NORTE       237   \n",
       "                                            AGUSAN DEL SUR         165   \n",
       "                                            DINAGAT ISLANDS         50   \n",
       "                                            SURIGAO DEL NORTE      149   \n",
       "                                            SURIGAO DEL SUR        222   \n",
       "\n",
       "                                                               DENTIST   \n",
       "Region                                      Province                     \n",
       "AUTONOMOUS REGION IN MUSLIM MINDANAO (ARMM) BASILAN                  2  \\\n",
       "                                            LANAO DEL SUR            9   \n",
       "                                            MAGUINDANAO              6   \n",
       "                                            SULU                     6   \n",
       "                                            TAWI-TAWI                5   \n",
       "...                                                                ...   \n",
       "REGION XIII (CARAGA)                        AGUSAN DEL NORTE        20   \n",
       "                                            AGUSAN DEL SUR          14   \n",
       "                                            DINAGAT ISLANDS          0   \n",
       "                                            SURIGAO DEL NORTE       11   \n",
       "                                            SURIGAO DEL SUR         28   \n",
       "\n",
       "                                                               NUTRITIONIST/DIETICIAN   \n",
       "Region                                      Province                                    \n",
       "AUTONOMOUS REGION IN MUSLIM MINDANAO (ARMM) BASILAN                                 1  \\\n",
       "                                            LANAO DEL SUR                           4   \n",
       "                                            MAGUINDANAO                             4   \n",
       "                                            SULU                                    1   \n",
       "                                            TAWI-TAWI                               4   \n",
       "...                                                                               ...   \n",
       "REGION XIII (CARAGA)                        AGUSAN DEL NORTE                       10   \n",
       "                                            AGUSAN DEL SUR                          5   \n",
       "                                            DINAGAT ISLANDS                         1   \n",
       "                                            SURIGAO DEL NORTE                       7   \n",
       "                                            SURIGAO DEL SUR                         9   \n",
       "\n",
       "                                                               PHARMACIST   \n",
       "Region                                      Province                        \n",
       "AUTONOMOUS REGION IN MUSLIM MINDANAO (ARMM) BASILAN                     2  \\\n",
       "                                            LANAO DEL SUR              16   \n",
       "                                            MAGUINDANAO                 7   \n",
       "                                            SULU                        6   \n",
       "                                            TAWI-TAWI                   5   \n",
       "...                                                                   ...   \n",
       "REGION XIII (CARAGA)                        AGUSAN DEL NORTE           30   \n",
       "                                            AGUSAN DEL SUR             14   \n",
       "                                            DINAGAT ISLANDS             1   \n",
       "                                            SURIGAO DEL NORTE          18   \n",
       "                                            SURIGAO DEL SUR            23   \n",
       "\n",
       "                                                               OCCUPATIONAL THERAPIST   \n",
       "Region                                      Province                                    \n",
       "AUTONOMOUS REGION IN MUSLIM MINDANAO (ARMM) BASILAN                                 0  \\\n",
       "                                            LANAO DEL SUR                           0   \n",
       "                                            MAGUINDANAO                             0   \n",
       "                                            SULU                                    0   \n",
       "                                            TAWI-TAWI                               0   \n",
       "...                                                                               ...   \n",
       "REGION XIII (CARAGA)                        AGUSAN DEL NORTE                        0   \n",
       "                                            AGUSAN DEL SUR                          0   \n",
       "                                            DINAGAT ISLANDS                         0   \n",
       "                                            SURIGAO DEL NORTE                       0   \n",
       "                                            SURIGAO DEL SUR                         0   \n",
       "\n",
       "                                                               MEDICAL TECHNOLOGIST   \n",
       "Region                                      Province                                  \n",
       "AUTONOMOUS REGION IN MUSLIM MINDANAO (ARMM) BASILAN                               3  \\\n",
       "                                            LANAO DEL SUR                        20   \n",
       "                                            MAGUINDANAO                          15   \n",
       "                                            SULU                                 13   \n",
       "                                            TAWI-TAWI                            15   \n",
       "...                                                                             ...   \n",
       "REGION XIII (CARAGA)                        AGUSAN DEL NORTE                     65   \n",
       "                                            AGUSAN DEL SUR                       34   \n",
       "                                            DINAGAT ISLANDS                       4   \n",
       "                                            SURIGAO DEL NORTE                    32   \n",
       "                                            SURIGAO DEL SUR                      45   \n",
       "\n",
       "                                                               PHYSICAL THERAPIST   \n",
       "Region                                      Province                                \n",
       "AUTONOMOUS REGION IN MUSLIM MINDANAO (ARMM) BASILAN                             0  \\\n",
       "                                            LANAO DEL SUR                       0   \n",
       "                                            MAGUINDANAO                         2   \n",
       "                                            SULU                                0   \n",
       "                                            TAWI-TAWI                           0   \n",
       "...                                                                           ...   \n",
       "REGION XIII (CARAGA)                        AGUSAN DEL NORTE                    5   \n",
       "                                            AGUSAN DEL SUR                      0   \n",
       "                                            DINAGAT ISLANDS                     0   \n",
       "                                            SURIGAO DEL NORTE                   0   \n",
       "                                            SURIGAO DEL SUR                     0   \n",
       "\n",
       "                                                               RADIOLOGY TECHNOLOGIST   \n",
       "Region                                      Province                                    \n",
       "AUTONOMOUS REGION IN MUSLIM MINDANAO (ARMM) BASILAN                                 2  \\\n",
       "                                            LANAO DEL SUR                           4   \n",
       "                                            MAGUINDANAO                             3   \n",
       "                                            SULU                                    1   \n",
       "                                            TAWI-TAWI                               2   \n",
       "...                                                                               ...   \n",
       "REGION XIII (CARAGA)                        AGUSAN DEL NORTE                       20   \n",
       "                                            AGUSAN DEL SUR                          9   \n",
       "                                            DINAGAT ISLANDS                         0   \n",
       "                                            SURIGAO DEL NORTE                       4   \n",
       "                                            SURIGAO DEL SUR                        14   \n",
       "\n",
       "                                                               X-RAY TECHNOLOGIST  \n",
       "Region                                      Province                               \n",
       "AUTONOMOUS REGION IN MUSLIM MINDANAO (ARMM) BASILAN                             0  \n",
       "                                            LANAO DEL SUR                       1  \n",
       "                                            MAGUINDANAO                         4  \n",
       "                                            SULU                                1  \n",
       "                                            TAWI-TAWI                           0  \n",
       "...                                                                           ...  \n",
       "REGION XIII (CARAGA)                        AGUSAN DEL NORTE                    5  \n",
       "                                            AGUSAN DEL SUR                      0  \n",
       "                                            DINAGAT ISLANDS                     0  \n",
       "                                            SURIGAO DEL NORTE                   1  \n",
       "                                            SURIGAO DEL SUR                     0  \n",
       "\n",
       "[87 rows x 11 columns]"
      ]
     },
     "execution_count": 210,
     "metadata": {},
     "output_type": "execute_result"
    }
   ],
   "source": [
    "df_health_personnel = pd.read_excel('data101_data\\health_personnel_cleaned.xlsx')\n",
    "df_health_personnel_indexed = df_health_personnel.set_index(['Region', 'Province'])\n",
    "df_health_personnel_indexed"
   ]
  },
  {
   "cell_type": "code",
   "execution_count": 223,
   "metadata": {
    "scrolled": false
   },
   "outputs": [
    {
     "data": {
      "application/vnd.plotly.v1+json": {
       "config": {
        "plotlyServerURL": "https://plot.ly"
       },
       "data": [
        {
         "alignmentgroup": "True",
         "hovertemplate": "Health Personnel Type=%{x}<br>Percentage=%{marker.color}<extra></extra>",
         "legendgroup": "",
         "marker": {
          "color": [
           33.23,
           39.65,
           10.7,
           2.44,
           1.13,
           2.39,
           0.11,
           7.36,
           0.69,
           2.04,
           0.26
          ],
          "coloraxis": "coloraxis",
          "pattern": {
           "shape": ""
          }
         },
         "name": "",
         "offsetgroup": "",
         "orientation": "v",
         "showlegend": false,
         "textposition": "auto",
         "texttemplate": "%{y}",
         "type": "bar",
         "x": [
          "DOCTOR",
          "NURSE",
          "MIDWIFE",
          "DENTIST",
          "NUTRITIONIST/DIETICIAN",
          "PHARMACIST",
          "OCCUPATIONAL THERAPIST",
          "MEDICAL TECHNOLOGIST",
          "PHYSICAL THERAPIST",
          "RADIOLOGY TECHNOLOGIST",
          "X-RAY TECHNOLOGIST"
         ],
         "xaxis": "x",
         "y": [
          33.23,
          39.65,
          10.7,
          2.44,
          1.13,
          2.39,
          0.11,
          7.36,
          0.69,
          2.04,
          0.26
         ],
         "yaxis": "y"
        }
       ],
       "layout": {
        "barmode": "relative",
        "coloraxis": {
         "colorbar": {
          "title": {
           "text": "Percentage"
          }
         },
         "colorscale": [
          [
           0,
           "rgb(253, 238, 153)"
          ],
          [
           0.09090909090909091,
           "rgb(212, 225, 112)"
          ],
          [
           0.18181818181818182,
           "rgb(160, 214, 91)"
          ],
          [
           0.2727272727272727,
           "rgb(111, 198, 107)"
          ],
          [
           0.36363636363636365,
           "rgb(81, 178, 124)"
          ],
          [
           0.45454545454545453,
           "rgb(65, 157, 133)"
          ],
          [
           0.5454545454545454,
           "rgb(53, 136, 136)"
          ],
          [
           0.6363636363636364,
           "rgb(38, 116, 137)"
          ],
          [
           0.7272727272727273,
           "rgb(18, 95, 142)"
          ],
          [
           0.8181818181818182,
           "rgb(15, 71, 153)"
          ],
          [
           0.9090909090909091,
           "rgb(42, 35, 160)"
          ],
          [
           1,
           "rgb(41, 24, 107)"
          ]
         ]
        },
        "legend": {
         "tracegroupgap": 0
        },
        "margin": {
         "t": 60
        },
        "template": {
         "data": {
          "bar": [
           {
            "error_x": {
             "color": "#2a3f5f"
            },
            "error_y": {
             "color": "#2a3f5f"
            },
            "marker": {
             "line": {
              "color": "#E5ECF6",
              "width": 0.5
             },
             "pattern": {
              "fillmode": "overlay",
              "size": 10,
              "solidity": 0.2
             }
            },
            "type": "bar"
           }
          ],
          "barpolar": [
           {
            "marker": {
             "line": {
              "color": "#E5ECF6",
              "width": 0.5
             },
             "pattern": {
              "fillmode": "overlay",
              "size": 10,
              "solidity": 0.2
             }
            },
            "type": "barpolar"
           }
          ],
          "carpet": [
           {
            "aaxis": {
             "endlinecolor": "#2a3f5f",
             "gridcolor": "white",
             "linecolor": "white",
             "minorgridcolor": "white",
             "startlinecolor": "#2a3f5f"
            },
            "baxis": {
             "endlinecolor": "#2a3f5f",
             "gridcolor": "white",
             "linecolor": "white",
             "minorgridcolor": "white",
             "startlinecolor": "#2a3f5f"
            },
            "type": "carpet"
           }
          ],
          "choropleth": [
           {
            "colorbar": {
             "outlinewidth": 0,
             "ticks": ""
            },
            "type": "choropleth"
           }
          ],
          "contour": [
           {
            "colorbar": {
             "outlinewidth": 0,
             "ticks": ""
            },
            "colorscale": [
             [
              0,
              "#0d0887"
             ],
             [
              0.1111111111111111,
              "#46039f"
             ],
             [
              0.2222222222222222,
              "#7201a8"
             ],
             [
              0.3333333333333333,
              "#9c179e"
             ],
             [
              0.4444444444444444,
              "#bd3786"
             ],
             [
              0.5555555555555556,
              "#d8576b"
             ],
             [
              0.6666666666666666,
              "#ed7953"
             ],
             [
              0.7777777777777778,
              "#fb9f3a"
             ],
             [
              0.8888888888888888,
              "#fdca26"
             ],
             [
              1,
              "#f0f921"
             ]
            ],
            "type": "contour"
           }
          ],
          "contourcarpet": [
           {
            "colorbar": {
             "outlinewidth": 0,
             "ticks": ""
            },
            "type": "contourcarpet"
           }
          ],
          "heatmap": [
           {
            "colorbar": {
             "outlinewidth": 0,
             "ticks": ""
            },
            "colorscale": [
             [
              0,
              "#0d0887"
             ],
             [
              0.1111111111111111,
              "#46039f"
             ],
             [
              0.2222222222222222,
              "#7201a8"
             ],
             [
              0.3333333333333333,
              "#9c179e"
             ],
             [
              0.4444444444444444,
              "#bd3786"
             ],
             [
              0.5555555555555556,
              "#d8576b"
             ],
             [
              0.6666666666666666,
              "#ed7953"
             ],
             [
              0.7777777777777778,
              "#fb9f3a"
             ],
             [
              0.8888888888888888,
              "#fdca26"
             ],
             [
              1,
              "#f0f921"
             ]
            ],
            "type": "heatmap"
           }
          ],
          "heatmapgl": [
           {
            "colorbar": {
             "outlinewidth": 0,
             "ticks": ""
            },
            "colorscale": [
             [
              0,
              "#0d0887"
             ],
             [
              0.1111111111111111,
              "#46039f"
             ],
             [
              0.2222222222222222,
              "#7201a8"
             ],
             [
              0.3333333333333333,
              "#9c179e"
             ],
             [
              0.4444444444444444,
              "#bd3786"
             ],
             [
              0.5555555555555556,
              "#d8576b"
             ],
             [
              0.6666666666666666,
              "#ed7953"
             ],
             [
              0.7777777777777778,
              "#fb9f3a"
             ],
             [
              0.8888888888888888,
              "#fdca26"
             ],
             [
              1,
              "#f0f921"
             ]
            ],
            "type": "heatmapgl"
           }
          ],
          "histogram": [
           {
            "marker": {
             "pattern": {
              "fillmode": "overlay",
              "size": 10,
              "solidity": 0.2
             }
            },
            "type": "histogram"
           }
          ],
          "histogram2d": [
           {
            "colorbar": {
             "outlinewidth": 0,
             "ticks": ""
            },
            "colorscale": [
             [
              0,
              "#0d0887"
             ],
             [
              0.1111111111111111,
              "#46039f"
             ],
             [
              0.2222222222222222,
              "#7201a8"
             ],
             [
              0.3333333333333333,
              "#9c179e"
             ],
             [
              0.4444444444444444,
              "#bd3786"
             ],
             [
              0.5555555555555556,
              "#d8576b"
             ],
             [
              0.6666666666666666,
              "#ed7953"
             ],
             [
              0.7777777777777778,
              "#fb9f3a"
             ],
             [
              0.8888888888888888,
              "#fdca26"
             ],
             [
              1,
              "#f0f921"
             ]
            ],
            "type": "histogram2d"
           }
          ],
          "histogram2dcontour": [
           {
            "colorbar": {
             "outlinewidth": 0,
             "ticks": ""
            },
            "colorscale": [
             [
              0,
              "#0d0887"
             ],
             [
              0.1111111111111111,
              "#46039f"
             ],
             [
              0.2222222222222222,
              "#7201a8"
             ],
             [
              0.3333333333333333,
              "#9c179e"
             ],
             [
              0.4444444444444444,
              "#bd3786"
             ],
             [
              0.5555555555555556,
              "#d8576b"
             ],
             [
              0.6666666666666666,
              "#ed7953"
             ],
             [
              0.7777777777777778,
              "#fb9f3a"
             ],
             [
              0.8888888888888888,
              "#fdca26"
             ],
             [
              1,
              "#f0f921"
             ]
            ],
            "type": "histogram2dcontour"
           }
          ],
          "mesh3d": [
           {
            "colorbar": {
             "outlinewidth": 0,
             "ticks": ""
            },
            "type": "mesh3d"
           }
          ],
          "parcoords": [
           {
            "line": {
             "colorbar": {
              "outlinewidth": 0,
              "ticks": ""
             }
            },
            "type": "parcoords"
           }
          ],
          "pie": [
           {
            "automargin": true,
            "type": "pie"
           }
          ],
          "scatter": [
           {
            "fillpattern": {
             "fillmode": "overlay",
             "size": 10,
             "solidity": 0.2
            },
            "type": "scatter"
           }
          ],
          "scatter3d": [
           {
            "line": {
             "colorbar": {
              "outlinewidth": 0,
              "ticks": ""
             }
            },
            "marker": {
             "colorbar": {
              "outlinewidth": 0,
              "ticks": ""
             }
            },
            "type": "scatter3d"
           }
          ],
          "scattercarpet": [
           {
            "marker": {
             "colorbar": {
              "outlinewidth": 0,
              "ticks": ""
             }
            },
            "type": "scattercarpet"
           }
          ],
          "scattergeo": [
           {
            "marker": {
             "colorbar": {
              "outlinewidth": 0,
              "ticks": ""
             }
            },
            "type": "scattergeo"
           }
          ],
          "scattergl": [
           {
            "marker": {
             "colorbar": {
              "outlinewidth": 0,
              "ticks": ""
             }
            },
            "type": "scattergl"
           }
          ],
          "scattermapbox": [
           {
            "marker": {
             "colorbar": {
              "outlinewidth": 0,
              "ticks": ""
             }
            },
            "type": "scattermapbox"
           }
          ],
          "scatterpolar": [
           {
            "marker": {
             "colorbar": {
              "outlinewidth": 0,
              "ticks": ""
             }
            },
            "type": "scatterpolar"
           }
          ],
          "scatterpolargl": [
           {
            "marker": {
             "colorbar": {
              "outlinewidth": 0,
              "ticks": ""
             }
            },
            "type": "scatterpolargl"
           }
          ],
          "scatterternary": [
           {
            "marker": {
             "colorbar": {
              "outlinewidth": 0,
              "ticks": ""
             }
            },
            "type": "scatterternary"
           }
          ],
          "surface": [
           {
            "colorbar": {
             "outlinewidth": 0,
             "ticks": ""
            },
            "colorscale": [
             [
              0,
              "#0d0887"
             ],
             [
              0.1111111111111111,
              "#46039f"
             ],
             [
              0.2222222222222222,
              "#7201a8"
             ],
             [
              0.3333333333333333,
              "#9c179e"
             ],
             [
              0.4444444444444444,
              "#bd3786"
             ],
             [
              0.5555555555555556,
              "#d8576b"
             ],
             [
              0.6666666666666666,
              "#ed7953"
             ],
             [
              0.7777777777777778,
              "#fb9f3a"
             ],
             [
              0.8888888888888888,
              "#fdca26"
             ],
             [
              1,
              "#f0f921"
             ]
            ],
            "type": "surface"
           }
          ],
          "table": [
           {
            "cells": {
             "fill": {
              "color": "#EBF0F8"
             },
             "line": {
              "color": "white"
             }
            },
            "header": {
             "fill": {
              "color": "#C8D4E3"
             },
             "line": {
              "color": "white"
             }
            },
            "type": "table"
           }
          ]
         },
         "layout": {
          "annotationdefaults": {
           "arrowcolor": "#2a3f5f",
           "arrowhead": 0,
           "arrowwidth": 1
          },
          "autotypenumbers": "strict",
          "coloraxis": {
           "colorbar": {
            "outlinewidth": 0,
            "ticks": ""
           }
          },
          "colorscale": {
           "diverging": [
            [
             0,
             "#8e0152"
            ],
            [
             0.1,
             "#c51b7d"
            ],
            [
             0.2,
             "#de77ae"
            ],
            [
             0.3,
             "#f1b6da"
            ],
            [
             0.4,
             "#fde0ef"
            ],
            [
             0.5,
             "#f7f7f7"
            ],
            [
             0.6,
             "#e6f5d0"
            ],
            [
             0.7,
             "#b8e186"
            ],
            [
             0.8,
             "#7fbc41"
            ],
            [
             0.9,
             "#4d9221"
            ],
            [
             1,
             "#276419"
            ]
           ],
           "sequential": [
            [
             0,
             "#0d0887"
            ],
            [
             0.1111111111111111,
             "#46039f"
            ],
            [
             0.2222222222222222,
             "#7201a8"
            ],
            [
             0.3333333333333333,
             "#9c179e"
            ],
            [
             0.4444444444444444,
             "#bd3786"
            ],
            [
             0.5555555555555556,
             "#d8576b"
            ],
            [
             0.6666666666666666,
             "#ed7953"
            ],
            [
             0.7777777777777778,
             "#fb9f3a"
            ],
            [
             0.8888888888888888,
             "#fdca26"
            ],
            [
             1,
             "#f0f921"
            ]
           ],
           "sequentialminus": [
            [
             0,
             "#0d0887"
            ],
            [
             0.1111111111111111,
             "#46039f"
            ],
            [
             0.2222222222222222,
             "#7201a8"
            ],
            [
             0.3333333333333333,
             "#9c179e"
            ],
            [
             0.4444444444444444,
             "#bd3786"
            ],
            [
             0.5555555555555556,
             "#d8576b"
            ],
            [
             0.6666666666666666,
             "#ed7953"
            ],
            [
             0.7777777777777778,
             "#fb9f3a"
            ],
            [
             0.8888888888888888,
             "#fdca26"
            ],
            [
             1,
             "#f0f921"
            ]
           ]
          },
          "colorway": [
           "#636efa",
           "#EF553B",
           "#00cc96",
           "#ab63fa",
           "#FFA15A",
           "#19d3f3",
           "#FF6692",
           "#B6E880",
           "#FF97FF",
           "#FECB52"
          ],
          "font": {
           "color": "#2a3f5f"
          },
          "geo": {
           "bgcolor": "white",
           "lakecolor": "white",
           "landcolor": "#E5ECF6",
           "showlakes": true,
           "showland": true,
           "subunitcolor": "white"
          },
          "hoverlabel": {
           "align": "left"
          },
          "hovermode": "closest",
          "mapbox": {
           "style": "light"
          },
          "paper_bgcolor": "white",
          "plot_bgcolor": "#E5ECF6",
          "polar": {
           "angularaxis": {
            "gridcolor": "white",
            "linecolor": "white",
            "ticks": ""
           },
           "bgcolor": "#E5ECF6",
           "radialaxis": {
            "gridcolor": "white",
            "linecolor": "white",
            "ticks": ""
           }
          },
          "scene": {
           "xaxis": {
            "backgroundcolor": "#E5ECF6",
            "gridcolor": "white",
            "gridwidth": 2,
            "linecolor": "white",
            "showbackground": true,
            "ticks": "",
            "zerolinecolor": "white"
           },
           "yaxis": {
            "backgroundcolor": "#E5ECF6",
            "gridcolor": "white",
            "gridwidth": 2,
            "linecolor": "white",
            "showbackground": true,
            "ticks": "",
            "zerolinecolor": "white"
           },
           "zaxis": {
            "backgroundcolor": "#E5ECF6",
            "gridcolor": "white",
            "gridwidth": 2,
            "linecolor": "white",
            "showbackground": true,
            "ticks": "",
            "zerolinecolor": "white"
           }
          },
          "shapedefaults": {
           "line": {
            "color": "#2a3f5f"
           }
          },
          "ternary": {
           "aaxis": {
            "gridcolor": "white",
            "linecolor": "white",
            "ticks": ""
           },
           "baxis": {
            "gridcolor": "white",
            "linecolor": "white",
            "ticks": ""
           },
           "bgcolor": "#E5ECF6",
           "caxis": {
            "gridcolor": "white",
            "linecolor": "white",
            "ticks": ""
           }
          },
          "title": {
           "x": 0.05
          },
          "xaxis": {
           "automargin": true,
           "gridcolor": "white",
           "linecolor": "white",
           "ticks": "",
           "title": {
            "standoff": 15
           },
           "zerolinecolor": "white",
           "zerolinewidth": 2
          },
          "yaxis": {
           "automargin": true,
           "gridcolor": "white",
           "linecolor": "white",
           "ticks": "",
           "title": {
            "standoff": 15
           },
           "zerolinecolor": "white",
           "zerolinewidth": 2
          }
         }
        },
        "xaxis": {
         "anchor": "y",
         "domain": [
          0,
          1
         ],
         "title": {
          "text": "Health Personnel Type"
         }
        },
        "yaxis": {
         "anchor": "x",
         "domain": [
          0,
          1
         ],
         "title": {
          "text": "Percentage"
         }
        }
       }
      },
      "text/html": [
       "<div>                            <div id=\"b172de0d-c38b-4337-a886-c19ba908fd4d\" class=\"plotly-graph-div\" style=\"height:525px; width:100%;\"></div>            <script type=\"text/javascript\">                require([\"plotly\"], function(Plotly) {                    window.PLOTLYENV=window.PLOTLYENV || {};                                    if (document.getElementById(\"b172de0d-c38b-4337-a886-c19ba908fd4d\")) {                    Plotly.newPlot(                        \"b172de0d-c38b-4337-a886-c19ba908fd4d\",                        [{\"alignmentgroup\":\"True\",\"hovertemplate\":\"Health Personnel Type=%{x}\\u003cbr\\u003ePercentage=%{marker.color}\\u003cextra\\u003e\\u003c\\u002fextra\\u003e\",\"legendgroup\":\"\",\"marker\":{\"color\":[33.23,39.65,10.7,2.44,1.13,2.39,0.11,7.36,0.69,2.04,0.26],\"coloraxis\":\"coloraxis\",\"pattern\":{\"shape\":\"\"}},\"name\":\"\",\"offsetgroup\":\"\",\"orientation\":\"v\",\"showlegend\":false,\"textposition\":\"auto\",\"texttemplate\":\"%{y}\",\"x\":[\"DOCTOR\",\"NURSE\",\"MIDWIFE\",\"DENTIST\",\"NUTRITIONIST\\u002fDIETICIAN\",\"PHARMACIST\",\"OCCUPATIONAL THERAPIST\",\"MEDICAL TECHNOLOGIST\",\"PHYSICAL THERAPIST\",\"RADIOLOGY TECHNOLOGIST\",\"X-RAY TECHNOLOGIST\"],\"xaxis\":\"x\",\"y\":[33.23,39.65,10.7,2.44,1.13,2.39,0.11,7.36,0.69,2.04,0.26],\"yaxis\":\"y\",\"type\":\"bar\"}],                        {\"template\":{\"data\":{\"histogram2dcontour\":[{\"type\":\"histogram2dcontour\",\"colorbar\":{\"outlinewidth\":0,\"ticks\":\"\"},\"colorscale\":[[0.0,\"#0d0887\"],[0.1111111111111111,\"#46039f\"],[0.2222222222222222,\"#7201a8\"],[0.3333333333333333,\"#9c179e\"],[0.4444444444444444,\"#bd3786\"],[0.5555555555555556,\"#d8576b\"],[0.6666666666666666,\"#ed7953\"],[0.7777777777777778,\"#fb9f3a\"],[0.8888888888888888,\"#fdca26\"],[1.0,\"#f0f921\"]]}],\"choropleth\":[{\"type\":\"choropleth\",\"colorbar\":{\"outlinewidth\":0,\"ticks\":\"\"}}],\"histogram2d\":[{\"type\":\"histogram2d\",\"colorbar\":{\"outlinewidth\":0,\"ticks\":\"\"},\"colorscale\":[[0.0,\"#0d0887\"],[0.1111111111111111,\"#46039f\"],[0.2222222222222222,\"#7201a8\"],[0.3333333333333333,\"#9c179e\"],[0.4444444444444444,\"#bd3786\"],[0.5555555555555556,\"#d8576b\"],[0.6666666666666666,\"#ed7953\"],[0.7777777777777778,\"#fb9f3a\"],[0.8888888888888888,\"#fdca26\"],[1.0,\"#f0f921\"]]}],\"heatmap\":[{\"type\":\"heatmap\",\"colorbar\":{\"outlinewidth\":0,\"ticks\":\"\"},\"colorscale\":[[0.0,\"#0d0887\"],[0.1111111111111111,\"#46039f\"],[0.2222222222222222,\"#7201a8\"],[0.3333333333333333,\"#9c179e\"],[0.4444444444444444,\"#bd3786\"],[0.5555555555555556,\"#d8576b\"],[0.6666666666666666,\"#ed7953\"],[0.7777777777777778,\"#fb9f3a\"],[0.8888888888888888,\"#fdca26\"],[1.0,\"#f0f921\"]]}],\"heatmapgl\":[{\"type\":\"heatmapgl\",\"colorbar\":{\"outlinewidth\":0,\"ticks\":\"\"},\"colorscale\":[[0.0,\"#0d0887\"],[0.1111111111111111,\"#46039f\"],[0.2222222222222222,\"#7201a8\"],[0.3333333333333333,\"#9c179e\"],[0.4444444444444444,\"#bd3786\"],[0.5555555555555556,\"#d8576b\"],[0.6666666666666666,\"#ed7953\"],[0.7777777777777778,\"#fb9f3a\"],[0.8888888888888888,\"#fdca26\"],[1.0,\"#f0f921\"]]}],\"contourcarpet\":[{\"type\":\"contourcarpet\",\"colorbar\":{\"outlinewidth\":0,\"ticks\":\"\"}}],\"contour\":[{\"type\":\"contour\",\"colorbar\":{\"outlinewidth\":0,\"ticks\":\"\"},\"colorscale\":[[0.0,\"#0d0887\"],[0.1111111111111111,\"#46039f\"],[0.2222222222222222,\"#7201a8\"],[0.3333333333333333,\"#9c179e\"],[0.4444444444444444,\"#bd3786\"],[0.5555555555555556,\"#d8576b\"],[0.6666666666666666,\"#ed7953\"],[0.7777777777777778,\"#fb9f3a\"],[0.8888888888888888,\"#fdca26\"],[1.0,\"#f0f921\"]]}],\"surface\":[{\"type\":\"surface\",\"colorbar\":{\"outlinewidth\":0,\"ticks\":\"\"},\"colorscale\":[[0.0,\"#0d0887\"],[0.1111111111111111,\"#46039f\"],[0.2222222222222222,\"#7201a8\"],[0.3333333333333333,\"#9c179e\"],[0.4444444444444444,\"#bd3786\"],[0.5555555555555556,\"#d8576b\"],[0.6666666666666666,\"#ed7953\"],[0.7777777777777778,\"#fb9f3a\"],[0.8888888888888888,\"#fdca26\"],[1.0,\"#f0f921\"]]}],\"mesh3d\":[{\"type\":\"mesh3d\",\"colorbar\":{\"outlinewidth\":0,\"ticks\":\"\"}}],\"scatter\":[{\"fillpattern\":{\"fillmode\":\"overlay\",\"size\":10,\"solidity\":0.2},\"type\":\"scatter\"}],\"parcoords\":[{\"type\":\"parcoords\",\"line\":{\"colorbar\":{\"outlinewidth\":0,\"ticks\":\"\"}}}],\"scatterpolargl\":[{\"type\":\"scatterpolargl\",\"marker\":{\"colorbar\":{\"outlinewidth\":0,\"ticks\":\"\"}}}],\"bar\":[{\"error_x\":{\"color\":\"#2a3f5f\"},\"error_y\":{\"color\":\"#2a3f5f\"},\"marker\":{\"line\":{\"color\":\"#E5ECF6\",\"width\":0.5},\"pattern\":{\"fillmode\":\"overlay\",\"size\":10,\"solidity\":0.2}},\"type\":\"bar\"}],\"scattergeo\":[{\"type\":\"scattergeo\",\"marker\":{\"colorbar\":{\"outlinewidth\":0,\"ticks\":\"\"}}}],\"scatterpolar\":[{\"type\":\"scatterpolar\",\"marker\":{\"colorbar\":{\"outlinewidth\":0,\"ticks\":\"\"}}}],\"histogram\":[{\"marker\":{\"pattern\":{\"fillmode\":\"overlay\",\"size\":10,\"solidity\":0.2}},\"type\":\"histogram\"}],\"scattergl\":[{\"type\":\"scattergl\",\"marker\":{\"colorbar\":{\"outlinewidth\":0,\"ticks\":\"\"}}}],\"scatter3d\":[{\"type\":\"scatter3d\",\"line\":{\"colorbar\":{\"outlinewidth\":0,\"ticks\":\"\"}},\"marker\":{\"colorbar\":{\"outlinewidth\":0,\"ticks\":\"\"}}}],\"scattermapbox\":[{\"type\":\"scattermapbox\",\"marker\":{\"colorbar\":{\"outlinewidth\":0,\"ticks\":\"\"}}}],\"scatterternary\":[{\"type\":\"scatterternary\",\"marker\":{\"colorbar\":{\"outlinewidth\":0,\"ticks\":\"\"}}}],\"scattercarpet\":[{\"type\":\"scattercarpet\",\"marker\":{\"colorbar\":{\"outlinewidth\":0,\"ticks\":\"\"}}}],\"carpet\":[{\"aaxis\":{\"endlinecolor\":\"#2a3f5f\",\"gridcolor\":\"white\",\"linecolor\":\"white\",\"minorgridcolor\":\"white\",\"startlinecolor\":\"#2a3f5f\"},\"baxis\":{\"endlinecolor\":\"#2a3f5f\",\"gridcolor\":\"white\",\"linecolor\":\"white\",\"minorgridcolor\":\"white\",\"startlinecolor\":\"#2a3f5f\"},\"type\":\"carpet\"}],\"table\":[{\"cells\":{\"fill\":{\"color\":\"#EBF0F8\"},\"line\":{\"color\":\"white\"}},\"header\":{\"fill\":{\"color\":\"#C8D4E3\"},\"line\":{\"color\":\"white\"}},\"type\":\"table\"}],\"barpolar\":[{\"marker\":{\"line\":{\"color\":\"#E5ECF6\",\"width\":0.5},\"pattern\":{\"fillmode\":\"overlay\",\"size\":10,\"solidity\":0.2}},\"type\":\"barpolar\"}],\"pie\":[{\"automargin\":true,\"type\":\"pie\"}]},\"layout\":{\"autotypenumbers\":\"strict\",\"colorway\":[\"#636efa\",\"#EF553B\",\"#00cc96\",\"#ab63fa\",\"#FFA15A\",\"#19d3f3\",\"#FF6692\",\"#B6E880\",\"#FF97FF\",\"#FECB52\"],\"font\":{\"color\":\"#2a3f5f\"},\"hovermode\":\"closest\",\"hoverlabel\":{\"align\":\"left\"},\"paper_bgcolor\":\"white\",\"plot_bgcolor\":\"#E5ECF6\",\"polar\":{\"bgcolor\":\"#E5ECF6\",\"angularaxis\":{\"gridcolor\":\"white\",\"linecolor\":\"white\",\"ticks\":\"\"},\"radialaxis\":{\"gridcolor\":\"white\",\"linecolor\":\"white\",\"ticks\":\"\"}},\"ternary\":{\"bgcolor\":\"#E5ECF6\",\"aaxis\":{\"gridcolor\":\"white\",\"linecolor\":\"white\",\"ticks\":\"\"},\"baxis\":{\"gridcolor\":\"white\",\"linecolor\":\"white\",\"ticks\":\"\"},\"caxis\":{\"gridcolor\":\"white\",\"linecolor\":\"white\",\"ticks\":\"\"}},\"coloraxis\":{\"colorbar\":{\"outlinewidth\":0,\"ticks\":\"\"}},\"colorscale\":{\"sequential\":[[0.0,\"#0d0887\"],[0.1111111111111111,\"#46039f\"],[0.2222222222222222,\"#7201a8\"],[0.3333333333333333,\"#9c179e\"],[0.4444444444444444,\"#bd3786\"],[0.5555555555555556,\"#d8576b\"],[0.6666666666666666,\"#ed7953\"],[0.7777777777777778,\"#fb9f3a\"],[0.8888888888888888,\"#fdca26\"],[1.0,\"#f0f921\"]],\"sequentialminus\":[[0.0,\"#0d0887\"],[0.1111111111111111,\"#46039f\"],[0.2222222222222222,\"#7201a8\"],[0.3333333333333333,\"#9c179e\"],[0.4444444444444444,\"#bd3786\"],[0.5555555555555556,\"#d8576b\"],[0.6666666666666666,\"#ed7953\"],[0.7777777777777778,\"#fb9f3a\"],[0.8888888888888888,\"#fdca26\"],[1.0,\"#f0f921\"]],\"diverging\":[[0,\"#8e0152\"],[0.1,\"#c51b7d\"],[0.2,\"#de77ae\"],[0.3,\"#f1b6da\"],[0.4,\"#fde0ef\"],[0.5,\"#f7f7f7\"],[0.6,\"#e6f5d0\"],[0.7,\"#b8e186\"],[0.8,\"#7fbc41\"],[0.9,\"#4d9221\"],[1,\"#276419\"]]},\"xaxis\":{\"gridcolor\":\"white\",\"linecolor\":\"white\",\"ticks\":\"\",\"title\":{\"standoff\":15},\"zerolinecolor\":\"white\",\"automargin\":true,\"zerolinewidth\":2},\"yaxis\":{\"gridcolor\":\"white\",\"linecolor\":\"white\",\"ticks\":\"\",\"title\":{\"standoff\":15},\"zerolinecolor\":\"white\",\"automargin\":true,\"zerolinewidth\":2},\"scene\":{\"xaxis\":{\"backgroundcolor\":\"#E5ECF6\",\"gridcolor\":\"white\",\"linecolor\":\"white\",\"showbackground\":true,\"ticks\":\"\",\"zerolinecolor\":\"white\",\"gridwidth\":2},\"yaxis\":{\"backgroundcolor\":\"#E5ECF6\",\"gridcolor\":\"white\",\"linecolor\":\"white\",\"showbackground\":true,\"ticks\":\"\",\"zerolinecolor\":\"white\",\"gridwidth\":2},\"zaxis\":{\"backgroundcolor\":\"#E5ECF6\",\"gridcolor\":\"white\",\"linecolor\":\"white\",\"showbackground\":true,\"ticks\":\"\",\"zerolinecolor\":\"white\",\"gridwidth\":2}},\"shapedefaults\":{\"line\":{\"color\":\"#2a3f5f\"}},\"annotationdefaults\":{\"arrowcolor\":\"#2a3f5f\",\"arrowhead\":0,\"arrowwidth\":1},\"geo\":{\"bgcolor\":\"white\",\"landcolor\":\"#E5ECF6\",\"subunitcolor\":\"white\",\"showland\":true,\"showlakes\":true,\"lakecolor\":\"white\"},\"title\":{\"x\":0.05},\"mapbox\":{\"style\":\"light\"}}},\"xaxis\":{\"anchor\":\"y\",\"domain\":[0.0,1.0],\"title\":{\"text\":\"Health Personnel Type\"}},\"yaxis\":{\"anchor\":\"x\",\"domain\":[0.0,1.0],\"title\":{\"text\":\"Percentage\"}},\"coloraxis\":{\"colorbar\":{\"title\":{\"text\":\"Percentage\"}},\"colorscale\":[[0.0,\"rgb(253, 238, 153)\"],[0.09090909090909091,\"rgb(212, 225, 112)\"],[0.18181818181818182,\"rgb(160, 214, 91)\"],[0.2727272727272727,\"rgb(111, 198, 107)\"],[0.36363636363636365,\"rgb(81, 178, 124)\"],[0.45454545454545453,\"rgb(65, 157, 133)\"],[0.5454545454545454,\"rgb(53, 136, 136)\"],[0.6363636363636364,\"rgb(38, 116, 137)\"],[0.7272727272727273,\"rgb(18, 95, 142)\"],[0.8181818181818182,\"rgb(15, 71, 153)\"],[0.9090909090909091,\"rgb(42, 35, 160)\"],[1.0,\"rgb(41, 24, 107)\"]]},\"legend\":{\"tracegroupgap\":0},\"margin\":{\"t\":60},\"barmode\":\"relative\"},                        {\"responsive\": true}                    ).then(function(){\n",
       "                            \n",
       "var gd = document.getElementById('b172de0d-c38b-4337-a886-c19ba908fd4d');\n",
       "var x = new MutationObserver(function (mutations, observer) {{\n",
       "        var display = window.getComputedStyle(gd).display;\n",
       "        if (!display || display === 'none') {{\n",
       "            console.log([gd, 'removed!']);\n",
       "            Plotly.purge(gd);\n",
       "            observer.disconnect();\n",
       "        }}\n",
       "}});\n",
       "\n",
       "// Listen for the removal of the full notebook cells\n",
       "var notebookContainer = gd.closest('#notebook-container');\n",
       "if (notebookContainer) {{\n",
       "    x.observe(notebookContainer, {childList: true});\n",
       "}}\n",
       "\n",
       "// Listen for the clearing of the current output cell\n",
       "var outputEl = gd.closest('.output');\n",
       "if (outputEl) {{\n",
       "    x.observe(outputEl, {childList: true});\n",
       "}}\n",
       "\n",
       "                        })                };                });            </script>        </div>"
      ]
     },
     "metadata": {},
     "output_type": "display_data"
    }
   ],
   "source": [
    "selected_region = 'NATIONAL CAPITAL REGION (NCR)' # replace w/ selected region in dropdown\n",
    "selected_province = 'NCR, CITY OF MANILA, FIRST DISTRICT (NOT A PROVINCE)' # replace w/ selected province in dropdown\n",
    "\n",
    "personnel_counts = df_health_personnel_indexed.loc[selected_region, selected_province]\n",
    "\n",
    "# computing values to create new df\n",
    "personnel = df_health_personnel_indexed.columns\n",
    "personnel_counts = personnel_counts.values.flatten()\n",
    "counts_sum = sum(personnel_counts)\n",
    "personnel_percentages = [(round(i/counts_sum*100,2)) for i in personnel_counts]\n",
    "\n",
    "# creating new df\n",
    "new_df = pd.DataFrame()\n",
    "\n",
    "new_df['Health Personnel Type'] = personnel\n",
    "new_df['Number of Personnel'] = personnel_counts\n",
    "new_df['Percentage'] = personnel_percentages\n",
    "new_df\n",
    "                                                                         \n",
    "fig_health_personnel = px.bar(new_df,\n",
    "                             x='Health Personnel Type',\n",
    "                             y='Percentage',\n",
    "                             color='Percentage',\n",
    "                             color_continuous_scale = 'haline_r',\n",
    "                             text_auto=True)\n",
    "\n",
    "\n",
    "fig_health_personnel.show()"
   ]
  },
  {
   "cell_type": "markdown",
   "metadata": {},
   "source": [
    "## 2-Region Scatterplot"
   ]
  },
  {
   "cell_type": "code",
   "execution_count": 216,
   "metadata": {},
   "outputs": [
    {
     "data": {
      "text/html": [
       "<div>\n",
       "<style scoped>\n",
       "    .dataframe tbody tr th:only-of-type {\n",
       "        vertical-align: middle;\n",
       "    }\n",
       "\n",
       "    .dataframe tbody tr th {\n",
       "        vertical-align: top;\n",
       "    }\n",
       "\n",
       "    .dataframe thead th {\n",
       "        text-align: right;\n",
       "    }\n",
       "</style>\n",
       "<table border=\"1\" class=\"dataframe\">\n",
       "  <thead>\n",
       "    <tr style=\"text-align: right;\">\n",
       "      <th></th>\n",
       "      <th>Region</th>\n",
       "      <th>Province</th>\n",
       "      <th>AvgRisk_Class</th>\n",
       "      <th>Total Population</th>\n",
       "      <th>Total Health Personnel</th>\n",
       "    </tr>\n",
       "  </thead>\n",
       "  <tbody>\n",
       "    <tr>\n",
       "      <th>0</th>\n",
       "      <td>AUTONOMOUS REGION IN MUSLIM MINDANAO (ARMM)</td>\n",
       "      <td>BASILAN</td>\n",
       "      <td>2.000000</td>\n",
       "      <td>250309</td>\n",
       "      <td>50</td>\n",
       "    </tr>\n",
       "    <tr>\n",
       "      <th>1</th>\n",
       "      <td>AUTONOMOUS REGION IN MUSLIM MINDANAO (ARMM)</td>\n",
       "      <td>LANAO DEL SUR</td>\n",
       "      <td>2.000000</td>\n",
       "      <td>757121</td>\n",
       "      <td>473</td>\n",
       "    </tr>\n",
       "    <tr>\n",
       "      <th>2</th>\n",
       "      <td>AUTONOMOUS REGION IN MUSLIM MINDANAO (ARMM)</td>\n",
       "      <td>MAGUINDANAO</td>\n",
       "      <td>2.000000</td>\n",
       "      <td>737991</td>\n",
       "      <td>275</td>\n",
       "    </tr>\n",
       "    <tr>\n",
       "      <th>3</th>\n",
       "      <td>AUTONOMOUS REGION IN MUSLIM MINDANAO (ARMM)</td>\n",
       "      <td>SULU</td>\n",
       "      <td>2.000000</td>\n",
       "      <td>612985</td>\n",
       "      <td>182</td>\n",
       "    </tr>\n",
       "    <tr>\n",
       "      <th>4</th>\n",
       "      <td>AUTONOMOUS REGION IN MUSLIM MINDANAO (ARMM)</td>\n",
       "      <td>TAWI-TAWI</td>\n",
       "      <td>2.000000</td>\n",
       "      <td>1372550</td>\n",
       "      <td>218</td>\n",
       "    </tr>\n",
       "    <tr>\n",
       "      <th>...</th>\n",
       "      <td>...</td>\n",
       "      <td>...</td>\n",
       "      <td>...</td>\n",
       "      <td>...</td>\n",
       "      <td>...</td>\n",
       "    </tr>\n",
       "    <tr>\n",
       "      <th>82</th>\n",
       "      <td>REGION XIII (CARAGA)</td>\n",
       "      <td>AGUSAN DEL NORTE</td>\n",
       "      <td>0.666667</td>\n",
       "      <td>438545</td>\n",
       "      <td>990</td>\n",
       "    </tr>\n",
       "    <tr>\n",
       "      <th>83</th>\n",
       "      <td>REGION XIII (CARAGA)</td>\n",
       "      <td>AGUSAN DEL SUR</td>\n",
       "      <td>0.666667</td>\n",
       "      <td>906184</td>\n",
       "      <td>498</td>\n",
       "    </tr>\n",
       "    <tr>\n",
       "      <th>84</th>\n",
       "      <td>REGION XIII (CARAGA)</td>\n",
       "      <td>DINAGAT ISLANDS</td>\n",
       "      <td>1.666667</td>\n",
       "      <td>1046017</td>\n",
       "      <td>95</td>\n",
       "    </tr>\n",
       "    <tr>\n",
       "      <th>85</th>\n",
       "      <td>REGION XIII (CARAGA)</td>\n",
       "      <td>SURIGAO DEL NORTE</td>\n",
       "      <td>1.666667</td>\n",
       "      <td>2017793</td>\n",
       "      <td>529</td>\n",
       "    </tr>\n",
       "    <tr>\n",
       "      <th>86</th>\n",
       "      <td>REGION XIII (CARAGA)</td>\n",
       "      <td>SURIGAO DEL SUR</td>\n",
       "      <td>1.666667</td>\n",
       "      <td>668648</td>\n",
       "      <td>763</td>\n",
       "    </tr>\n",
       "  </tbody>\n",
       "</table>\n",
       "<p>87 rows × 5 columns</p>\n",
       "</div>"
      ],
      "text/plain": [
       "                                         Region           Province   \n",
       "0   AUTONOMOUS REGION IN MUSLIM MINDANAO (ARMM)            BASILAN  \\\n",
       "1   AUTONOMOUS REGION IN MUSLIM MINDANAO (ARMM)      LANAO DEL SUR   \n",
       "2   AUTONOMOUS REGION IN MUSLIM MINDANAO (ARMM)        MAGUINDANAO   \n",
       "3   AUTONOMOUS REGION IN MUSLIM MINDANAO (ARMM)               SULU   \n",
       "4   AUTONOMOUS REGION IN MUSLIM MINDANAO (ARMM)          TAWI-TAWI   \n",
       "..                                          ...                ...   \n",
       "82                         REGION XIII (CARAGA)   AGUSAN DEL NORTE   \n",
       "83                         REGION XIII (CARAGA)     AGUSAN DEL SUR   \n",
       "84                         REGION XIII (CARAGA)    DINAGAT ISLANDS   \n",
       "85                         REGION XIII (CARAGA)  SURIGAO DEL NORTE   \n",
       "86                         REGION XIII (CARAGA)    SURIGAO DEL SUR   \n",
       "\n",
       "    AvgRisk_Class  Total Population  Total Health Personnel  \n",
       "0        2.000000            250309                      50  \n",
       "1        2.000000            757121                     473  \n",
       "2        2.000000            737991                     275  \n",
       "3        2.000000            612985                     182  \n",
       "4        2.000000           1372550                     218  \n",
       "..            ...               ...                     ...  \n",
       "82       0.666667            438545                     990  \n",
       "83       0.666667            906184                     498  \n",
       "84       1.666667           1046017                      95  \n",
       "85       1.666667           2017793                     529  \n",
       "86       1.666667            668648                     763  \n",
       "\n",
       "[87 rows x 5 columns]"
      ]
     },
     "execution_count": 216,
     "metadata": {},
     "output_type": "execute_result"
    }
   ],
   "source": [
    "scatter = pd.read_excel('data101_data/for_scatterplot.xlsx')\n",
    "scatter.sort_values(['Region', 'Province'])\n",
    "scatter"
   ]
  },
  {
   "cell_type": "code",
   "execution_count": 218,
   "metadata": {},
   "outputs": [
    {
     "data": {
      "text/html": [
       "<div>\n",
       "<style scoped>\n",
       "    .dataframe tbody tr th:only-of-type {\n",
       "        vertical-align: middle;\n",
       "    }\n",
       "\n",
       "    .dataframe tbody tr th {\n",
       "        vertical-align: top;\n",
       "    }\n",
       "\n",
       "    .dataframe thead th {\n",
       "        text-align: right;\n",
       "    }\n",
       "</style>\n",
       "<table border=\"1\" class=\"dataframe\">\n",
       "  <thead>\n",
       "    <tr style=\"text-align: right;\">\n",
       "      <th></th>\n",
       "      <th>Province</th>\n",
       "      <th>AvgRisk_Class</th>\n",
       "      <th>Total Population</th>\n",
       "      <th>Total Health Personnel</th>\n",
       "    </tr>\n",
       "    <tr>\n",
       "      <th>Region</th>\n",
       "      <th></th>\n",
       "      <th></th>\n",
       "      <th></th>\n",
       "      <th></th>\n",
       "    </tr>\n",
       "  </thead>\n",
       "  <tbody>\n",
       "    <tr>\n",
       "      <th>AUTONOMOUS REGION IN MUSLIM MINDANAO (ARMM)</th>\n",
       "      <td>BASILAN</td>\n",
       "      <td>2.000000</td>\n",
       "      <td>250309</td>\n",
       "      <td>50</td>\n",
       "    </tr>\n",
       "    <tr>\n",
       "      <th>AUTONOMOUS REGION IN MUSLIM MINDANAO (ARMM)</th>\n",
       "      <td>LANAO DEL SUR</td>\n",
       "      <td>2.000000</td>\n",
       "      <td>757121</td>\n",
       "      <td>473</td>\n",
       "    </tr>\n",
       "    <tr>\n",
       "      <th>AUTONOMOUS REGION IN MUSLIM MINDANAO (ARMM)</th>\n",
       "      <td>MAGUINDANAO</td>\n",
       "      <td>2.000000</td>\n",
       "      <td>737991</td>\n",
       "      <td>275</td>\n",
       "    </tr>\n",
       "    <tr>\n",
       "      <th>AUTONOMOUS REGION IN MUSLIM MINDANAO (ARMM)</th>\n",
       "      <td>SULU</td>\n",
       "      <td>2.000000</td>\n",
       "      <td>612985</td>\n",
       "      <td>182</td>\n",
       "    </tr>\n",
       "    <tr>\n",
       "      <th>AUTONOMOUS REGION IN MUSLIM MINDANAO (ARMM)</th>\n",
       "      <td>TAWI-TAWI</td>\n",
       "      <td>2.000000</td>\n",
       "      <td>1372550</td>\n",
       "      <td>218</td>\n",
       "    </tr>\n",
       "    <tr>\n",
       "      <th>...</th>\n",
       "      <td>...</td>\n",
       "      <td>...</td>\n",
       "      <td>...</td>\n",
       "      <td>...</td>\n",
       "    </tr>\n",
       "    <tr>\n",
       "      <th>REGION XIII (CARAGA)</th>\n",
       "      <td>AGUSAN DEL NORTE</td>\n",
       "      <td>0.666667</td>\n",
       "      <td>438545</td>\n",
       "      <td>990</td>\n",
       "    </tr>\n",
       "    <tr>\n",
       "      <th>REGION XIII (CARAGA)</th>\n",
       "      <td>AGUSAN DEL SUR</td>\n",
       "      <td>0.666667</td>\n",
       "      <td>906184</td>\n",
       "      <td>498</td>\n",
       "    </tr>\n",
       "    <tr>\n",
       "      <th>REGION XIII (CARAGA)</th>\n",
       "      <td>DINAGAT ISLANDS</td>\n",
       "      <td>1.666667</td>\n",
       "      <td>1046017</td>\n",
       "      <td>95</td>\n",
       "    </tr>\n",
       "    <tr>\n",
       "      <th>REGION XIII (CARAGA)</th>\n",
       "      <td>SURIGAO DEL NORTE</td>\n",
       "      <td>1.666667</td>\n",
       "      <td>2017793</td>\n",
       "      <td>529</td>\n",
       "    </tr>\n",
       "    <tr>\n",
       "      <th>REGION XIII (CARAGA)</th>\n",
       "      <td>SURIGAO DEL SUR</td>\n",
       "      <td>1.666667</td>\n",
       "      <td>668648</td>\n",
       "      <td>763</td>\n",
       "    </tr>\n",
       "  </tbody>\n",
       "</table>\n",
       "<p>87 rows × 4 columns</p>\n",
       "</div>"
      ],
      "text/plain": [
       "                                                      Province  AvgRisk_Class   \n",
       "Region                                                                          \n",
       "AUTONOMOUS REGION IN MUSLIM MINDANAO (ARMM)            BASILAN       2.000000  \\\n",
       "AUTONOMOUS REGION IN MUSLIM MINDANAO (ARMM)      LANAO DEL SUR       2.000000   \n",
       "AUTONOMOUS REGION IN MUSLIM MINDANAO (ARMM)        MAGUINDANAO       2.000000   \n",
       "AUTONOMOUS REGION IN MUSLIM MINDANAO (ARMM)               SULU       2.000000   \n",
       "AUTONOMOUS REGION IN MUSLIM MINDANAO (ARMM)          TAWI-TAWI       2.000000   \n",
       "...                                                        ...            ...   \n",
       "REGION XIII (CARAGA)                          AGUSAN DEL NORTE       0.666667   \n",
       "REGION XIII (CARAGA)                            AGUSAN DEL SUR       0.666667   \n",
       "REGION XIII (CARAGA)                           DINAGAT ISLANDS       1.666667   \n",
       "REGION XIII (CARAGA)                         SURIGAO DEL NORTE       1.666667   \n",
       "REGION XIII (CARAGA)                           SURIGAO DEL SUR       1.666667   \n",
       "\n",
       "                                             Total Population   \n",
       "Region                                                          \n",
       "AUTONOMOUS REGION IN MUSLIM MINDANAO (ARMM)            250309  \\\n",
       "AUTONOMOUS REGION IN MUSLIM MINDANAO (ARMM)            757121   \n",
       "AUTONOMOUS REGION IN MUSLIM MINDANAO (ARMM)            737991   \n",
       "AUTONOMOUS REGION IN MUSLIM MINDANAO (ARMM)            612985   \n",
       "AUTONOMOUS REGION IN MUSLIM MINDANAO (ARMM)           1372550   \n",
       "...                                                       ...   \n",
       "REGION XIII (CARAGA)                                   438545   \n",
       "REGION XIII (CARAGA)                                   906184   \n",
       "REGION XIII (CARAGA)                                  1046017   \n",
       "REGION XIII (CARAGA)                                  2017793   \n",
       "REGION XIII (CARAGA)                                   668648   \n",
       "\n",
       "                                             Total Health Personnel  \n",
       "Region                                                               \n",
       "AUTONOMOUS REGION IN MUSLIM MINDANAO (ARMM)                      50  \n",
       "AUTONOMOUS REGION IN MUSLIM MINDANAO (ARMM)                     473  \n",
       "AUTONOMOUS REGION IN MUSLIM MINDANAO (ARMM)                     275  \n",
       "AUTONOMOUS REGION IN MUSLIM MINDANAO (ARMM)                     182  \n",
       "AUTONOMOUS REGION IN MUSLIM MINDANAO (ARMM)                     218  \n",
       "...                                                             ...  \n",
       "REGION XIII (CARAGA)                                            990  \n",
       "REGION XIII (CARAGA)                                            498  \n",
       "REGION XIII (CARAGA)                                             95  \n",
       "REGION XIII (CARAGA)                                            529  \n",
       "REGION XIII (CARAGA)                                            763  \n",
       "\n",
       "[87 rows x 4 columns]"
      ]
     },
     "execution_count": 218,
     "metadata": {},
     "output_type": "execute_result"
    }
   ],
   "source": [
    "scatter_indexed = scatter.set_index('Region')\n",
    "scatter_indexed"
   ]
  },
  {
   "cell_type": "code",
   "execution_count": 230,
   "metadata": {},
   "outputs": [],
   "source": [
    "selected_region1 = 'AUTONOMOUS REGION IN MUSLIM MINDANAO (ARMM)'\n",
    "selected_region2 = 'REGION XIII (CARAGA)'"
   ]
  },
  {
   "cell_type": "code",
   "execution_count": 231,
   "metadata": {},
   "outputs": [
    {
     "data": {
      "text/html": [
       "<div>\n",
       "<style scoped>\n",
       "    .dataframe tbody tr th:only-of-type {\n",
       "        vertical-align: middle;\n",
       "    }\n",
       "\n",
       "    .dataframe tbody tr th {\n",
       "        vertical-align: top;\n",
       "    }\n",
       "\n",
       "    .dataframe thead th {\n",
       "        text-align: right;\n",
       "    }\n",
       "</style>\n",
       "<table border=\"1\" class=\"dataframe\">\n",
       "  <thead>\n",
       "    <tr style=\"text-align: right;\">\n",
       "      <th></th>\n",
       "      <th>Province</th>\n",
       "      <th>AvgRisk_Class</th>\n",
       "      <th>Total Population</th>\n",
       "      <th>Total Health Personnel</th>\n",
       "    </tr>\n",
       "    <tr>\n",
       "      <th>Region</th>\n",
       "      <th></th>\n",
       "      <th></th>\n",
       "      <th></th>\n",
       "      <th></th>\n",
       "    </tr>\n",
       "  </thead>\n",
       "  <tbody>\n",
       "    <tr>\n",
       "      <th>AUTONOMOUS REGION IN MUSLIM MINDANAO (ARMM)</th>\n",
       "      <td>BASILAN</td>\n",
       "      <td>2.0</td>\n",
       "      <td>250309</td>\n",
       "      <td>50</td>\n",
       "    </tr>\n",
       "    <tr>\n",
       "      <th>AUTONOMOUS REGION IN MUSLIM MINDANAO (ARMM)</th>\n",
       "      <td>LANAO DEL SUR</td>\n",
       "      <td>2.0</td>\n",
       "      <td>757121</td>\n",
       "      <td>473</td>\n",
       "    </tr>\n",
       "    <tr>\n",
       "      <th>AUTONOMOUS REGION IN MUSLIM MINDANAO (ARMM)</th>\n",
       "      <td>MAGUINDANAO</td>\n",
       "      <td>2.0</td>\n",
       "      <td>737991</td>\n",
       "      <td>275</td>\n",
       "    </tr>\n",
       "    <tr>\n",
       "      <th>AUTONOMOUS REGION IN MUSLIM MINDANAO (ARMM)</th>\n",
       "      <td>SULU</td>\n",
       "      <td>2.0</td>\n",
       "      <td>612985</td>\n",
       "      <td>182</td>\n",
       "    </tr>\n",
       "    <tr>\n",
       "      <th>AUTONOMOUS REGION IN MUSLIM MINDANAO (ARMM)</th>\n",
       "      <td>TAWI-TAWI</td>\n",
       "      <td>2.0</td>\n",
       "      <td>1372550</td>\n",
       "      <td>218</td>\n",
       "    </tr>\n",
       "  </tbody>\n",
       "</table>\n",
       "</div>"
      ],
      "text/plain": [
       "                                                  Province  AvgRisk_Class   \n",
       "Region                                                                      \n",
       "AUTONOMOUS REGION IN MUSLIM MINDANAO (ARMM)        BASILAN            2.0  \\\n",
       "AUTONOMOUS REGION IN MUSLIM MINDANAO (ARMM)  LANAO DEL SUR            2.0   \n",
       "AUTONOMOUS REGION IN MUSLIM MINDANAO (ARMM)    MAGUINDANAO            2.0   \n",
       "AUTONOMOUS REGION IN MUSLIM MINDANAO (ARMM)           SULU            2.0   \n",
       "AUTONOMOUS REGION IN MUSLIM MINDANAO (ARMM)      TAWI-TAWI            2.0   \n",
       "\n",
       "                                             Total Population   \n",
       "Region                                                          \n",
       "AUTONOMOUS REGION IN MUSLIM MINDANAO (ARMM)            250309  \\\n",
       "AUTONOMOUS REGION IN MUSLIM MINDANAO (ARMM)            757121   \n",
       "AUTONOMOUS REGION IN MUSLIM MINDANAO (ARMM)            737991   \n",
       "AUTONOMOUS REGION IN MUSLIM MINDANAO (ARMM)            612985   \n",
       "AUTONOMOUS REGION IN MUSLIM MINDANAO (ARMM)           1372550   \n",
       "\n",
       "                                             Total Health Personnel  \n",
       "Region                                                               \n",
       "AUTONOMOUS REGION IN MUSLIM MINDANAO (ARMM)                      50  \n",
       "AUTONOMOUS REGION IN MUSLIM MINDANAO (ARMM)                     473  \n",
       "AUTONOMOUS REGION IN MUSLIM MINDANAO (ARMM)                     275  \n",
       "AUTONOMOUS REGION IN MUSLIM MINDANAO (ARMM)                     182  \n",
       "AUTONOMOUS REGION IN MUSLIM MINDANAO (ARMM)                     218  "
      ]
     },
     "execution_count": 231,
     "metadata": {},
     "output_type": "execute_result"
    }
   ],
   "source": [
    "region1 = scatter_indexed.loc[selected_region1]\n",
    "region1"
   ]
  },
  {
   "cell_type": "code",
   "execution_count": 232,
   "metadata": {},
   "outputs": [
    {
     "data": {
      "text/html": [
       "<div>\n",
       "<style scoped>\n",
       "    .dataframe tbody tr th:only-of-type {\n",
       "        vertical-align: middle;\n",
       "    }\n",
       "\n",
       "    .dataframe tbody tr th {\n",
       "        vertical-align: top;\n",
       "    }\n",
       "\n",
       "    .dataframe thead th {\n",
       "        text-align: right;\n",
       "    }\n",
       "</style>\n",
       "<table border=\"1\" class=\"dataframe\">\n",
       "  <thead>\n",
       "    <tr style=\"text-align: right;\">\n",
       "      <th></th>\n",
       "      <th>Province</th>\n",
       "      <th>AvgRisk_Class</th>\n",
       "      <th>Total Population</th>\n",
       "      <th>Total Health Personnel</th>\n",
       "    </tr>\n",
       "    <tr>\n",
       "      <th>Region</th>\n",
       "      <th></th>\n",
       "      <th></th>\n",
       "      <th></th>\n",
       "      <th></th>\n",
       "    </tr>\n",
       "  </thead>\n",
       "  <tbody>\n",
       "    <tr>\n",
       "      <th>REGION XIII (CARAGA)</th>\n",
       "      <td>AGUSAN DEL NORTE</td>\n",
       "      <td>0.666667</td>\n",
       "      <td>438545</td>\n",
       "      <td>990</td>\n",
       "    </tr>\n",
       "    <tr>\n",
       "      <th>REGION XIII (CARAGA)</th>\n",
       "      <td>AGUSAN DEL SUR</td>\n",
       "      <td>0.666667</td>\n",
       "      <td>906184</td>\n",
       "      <td>498</td>\n",
       "    </tr>\n",
       "    <tr>\n",
       "      <th>REGION XIII (CARAGA)</th>\n",
       "      <td>DINAGAT ISLANDS</td>\n",
       "      <td>1.666667</td>\n",
       "      <td>1046017</td>\n",
       "      <td>95</td>\n",
       "    </tr>\n",
       "    <tr>\n",
       "      <th>REGION XIII (CARAGA)</th>\n",
       "      <td>SURIGAO DEL NORTE</td>\n",
       "      <td>1.666667</td>\n",
       "      <td>2017793</td>\n",
       "      <td>529</td>\n",
       "    </tr>\n",
       "    <tr>\n",
       "      <th>REGION XIII (CARAGA)</th>\n",
       "      <td>SURIGAO DEL SUR</td>\n",
       "      <td>1.666667</td>\n",
       "      <td>668648</td>\n",
       "      <td>763</td>\n",
       "    </tr>\n",
       "  </tbody>\n",
       "</table>\n",
       "</div>"
      ],
      "text/plain": [
       "                               Province  AvgRisk_Class  Total Population   \n",
       "Region                                                                     \n",
       "REGION XIII (CARAGA)   AGUSAN DEL NORTE       0.666667            438545  \\\n",
       "REGION XIII (CARAGA)     AGUSAN DEL SUR       0.666667            906184   \n",
       "REGION XIII (CARAGA)    DINAGAT ISLANDS       1.666667           1046017   \n",
       "REGION XIII (CARAGA)  SURIGAO DEL NORTE       1.666667           2017793   \n",
       "REGION XIII (CARAGA)    SURIGAO DEL SUR       1.666667            668648   \n",
       "\n",
       "                      Total Health Personnel  \n",
       "Region                                        \n",
       "REGION XIII (CARAGA)                     990  \n",
       "REGION XIII (CARAGA)                     498  \n",
       "REGION XIII (CARAGA)                      95  \n",
       "REGION XIII (CARAGA)                     529  \n",
       "REGION XIII (CARAGA)                     763  "
      ]
     },
     "execution_count": 232,
     "metadata": {},
     "output_type": "execute_result"
    }
   ],
   "source": [
    "region2 = scatter_indexed.loc[selected_region2]\n",
    "region2"
   ]
  },
  {
   "cell_type": "code",
   "execution_count": 314,
   "metadata": {
    "scrolled": false
   },
   "outputs": [
    {
     "data": {
      "application/vnd.plotly.v1+json": {
       "config": {
        "plotlyServerURL": "https://plot.ly"
       },
       "data": [
        {
         "customdata": [
          2,
          2,
          2,
          2,
          2
         ],
         "hovertemplate": "<br>Province: %{text}<br>Population: %{x}<br>Health Personnel: %{y}<br>Average Risk: %{customdata:.2f}",
         "marker": {
          "cmax": 4,
          "cmin": 1,
          "color": [
           2,
           2,
           2,
           2,
           2
          ],
          "colorbar": {
           "orientation": "v",
           "title": {
            "text": "Average"
           },
           "x": -0.25,
           "xanchor": "left"
          },
          "colorscale": [
           [
            0,
            "rgb(209, 238, 234)"
           ],
           [
            0.16666666666666666,
            "rgb(168, 219, 217)"
           ],
           [
            0.3333333333333333,
            "rgb(133, 196, 201)"
           ],
           [
            0.5,
            "rgb(104, 171, 184)"
           ],
           [
            0.6666666666666666,
            "rgb(79, 144, 166)"
           ],
           [
            0.8333333333333334,
            "rgb(59, 115, 143)"
           ],
           [
            1,
            "rgb(42, 86, 116)"
           ]
          ],
          "showscale": true,
          "size": 20
         },
         "mode": "markers",
         "name": "AUTONOMOUS REGION IN MUSLIM MINDANAO (ARMM)",
         "text": [
          "BASILAN",
          "LANAO DEL SUR",
          "MAGUINDANAO",
          "SULU",
          "TAWI-TAWI"
         ],
         "type": "scatter",
         "x": [
          250309,
          757121,
          737991,
          612985,
          1372550
         ],
         "y": [
          50,
          473,
          275,
          182,
          218
         ]
        },
        {
         "customdata": [
          0.666667,
          0.666667,
          1.666667,
          1.666667,
          1.666667
         ],
         "hovertemplate": "<br>Province: %{text}<br>Population: %{x}<br>Health Personnel: %{y}<br>Average Risk: %{customdata:.2f}",
         "marker": {
          "cmax": 4,
          "cmin": 1,
          "color": [
           0.666667,
           0.666667,
           1.666667,
           1.666667,
           1.666667
          ],
          "colorbar": {
           "orientation": "v",
           "title": {
            "text": "Risk"
           },
           "x": -0.17,
           "xanchor": "left"
          },
          "colorscale": [
           [
            0,
            "rgb(236, 218, 154)"
           ],
           [
            0.16666666666666666,
            "rgb(239, 196, 126)"
           ],
           [
            0.3333333333333333,
            "rgb(243, 173, 106)"
           ],
           [
            0.5,
            "rgb(247, 148, 93)"
           ],
           [
            0.6666666666666666,
            "rgb(249, 123, 87)"
           ],
           [
            0.8333333333333334,
            "rgb(246, 99, 86)"
           ],
           [
            1,
            "rgb(238, 77, 90)"
           ]
          ],
          "showscale": true,
          "size": 20,
          "symbol": "triangle-up-dot"
         },
         "mode": "markers",
         "name": "REGION XIII (CARAGA)",
         "text": [
          "AGUSAN DEL NORTE",
          "AGUSAN DEL SUR",
          "DINAGAT ISLANDS",
          "SURIGAO DEL NORTE",
          "SURIGAO DEL SUR"
         ],
         "type": "scatter",
         "x": [
          438545,
          906184,
          1046017,
          2017793,
          668648
         ],
         "y": [
          990,
          498,
          95,
          529,
          763
         ]
        }
       ],
       "layout": {
        "legend": {
         "orientation": "h",
         "x": 0.5,
         "xanchor": "center",
         "y": 1.1,
         "yanchor": "top"
        },
        "template": {
         "data": {
          "bar": [
           {
            "error_x": {
             "color": "#2a3f5f"
            },
            "error_y": {
             "color": "#2a3f5f"
            },
            "marker": {
             "line": {
              "color": "#E5ECF6",
              "width": 0.5
             },
             "pattern": {
              "fillmode": "overlay",
              "size": 10,
              "solidity": 0.2
             }
            },
            "type": "bar"
           }
          ],
          "barpolar": [
           {
            "marker": {
             "line": {
              "color": "#E5ECF6",
              "width": 0.5
             },
             "pattern": {
              "fillmode": "overlay",
              "size": 10,
              "solidity": 0.2
             }
            },
            "type": "barpolar"
           }
          ],
          "carpet": [
           {
            "aaxis": {
             "endlinecolor": "#2a3f5f",
             "gridcolor": "white",
             "linecolor": "white",
             "minorgridcolor": "white",
             "startlinecolor": "#2a3f5f"
            },
            "baxis": {
             "endlinecolor": "#2a3f5f",
             "gridcolor": "white",
             "linecolor": "white",
             "minorgridcolor": "white",
             "startlinecolor": "#2a3f5f"
            },
            "type": "carpet"
           }
          ],
          "choropleth": [
           {
            "colorbar": {
             "outlinewidth": 0,
             "ticks": ""
            },
            "type": "choropleth"
           }
          ],
          "contour": [
           {
            "colorbar": {
             "outlinewidth": 0,
             "ticks": ""
            },
            "colorscale": [
             [
              0,
              "#0d0887"
             ],
             [
              0.1111111111111111,
              "#46039f"
             ],
             [
              0.2222222222222222,
              "#7201a8"
             ],
             [
              0.3333333333333333,
              "#9c179e"
             ],
             [
              0.4444444444444444,
              "#bd3786"
             ],
             [
              0.5555555555555556,
              "#d8576b"
             ],
             [
              0.6666666666666666,
              "#ed7953"
             ],
             [
              0.7777777777777778,
              "#fb9f3a"
             ],
             [
              0.8888888888888888,
              "#fdca26"
             ],
             [
              1,
              "#f0f921"
             ]
            ],
            "type": "contour"
           }
          ],
          "contourcarpet": [
           {
            "colorbar": {
             "outlinewidth": 0,
             "ticks": ""
            },
            "type": "contourcarpet"
           }
          ],
          "heatmap": [
           {
            "colorbar": {
             "outlinewidth": 0,
             "ticks": ""
            },
            "colorscale": [
             [
              0,
              "#0d0887"
             ],
             [
              0.1111111111111111,
              "#46039f"
             ],
             [
              0.2222222222222222,
              "#7201a8"
             ],
             [
              0.3333333333333333,
              "#9c179e"
             ],
             [
              0.4444444444444444,
              "#bd3786"
             ],
             [
              0.5555555555555556,
              "#d8576b"
             ],
             [
              0.6666666666666666,
              "#ed7953"
             ],
             [
              0.7777777777777778,
              "#fb9f3a"
             ],
             [
              0.8888888888888888,
              "#fdca26"
             ],
             [
              1,
              "#f0f921"
             ]
            ],
            "type": "heatmap"
           }
          ],
          "heatmapgl": [
           {
            "colorbar": {
             "outlinewidth": 0,
             "ticks": ""
            },
            "colorscale": [
             [
              0,
              "#0d0887"
             ],
             [
              0.1111111111111111,
              "#46039f"
             ],
             [
              0.2222222222222222,
              "#7201a8"
             ],
             [
              0.3333333333333333,
              "#9c179e"
             ],
             [
              0.4444444444444444,
              "#bd3786"
             ],
             [
              0.5555555555555556,
              "#d8576b"
             ],
             [
              0.6666666666666666,
              "#ed7953"
             ],
             [
              0.7777777777777778,
              "#fb9f3a"
             ],
             [
              0.8888888888888888,
              "#fdca26"
             ],
             [
              1,
              "#f0f921"
             ]
            ],
            "type": "heatmapgl"
           }
          ],
          "histogram": [
           {
            "marker": {
             "pattern": {
              "fillmode": "overlay",
              "size": 10,
              "solidity": 0.2
             }
            },
            "type": "histogram"
           }
          ],
          "histogram2d": [
           {
            "colorbar": {
             "outlinewidth": 0,
             "ticks": ""
            },
            "colorscale": [
             [
              0,
              "#0d0887"
             ],
             [
              0.1111111111111111,
              "#46039f"
             ],
             [
              0.2222222222222222,
              "#7201a8"
             ],
             [
              0.3333333333333333,
              "#9c179e"
             ],
             [
              0.4444444444444444,
              "#bd3786"
             ],
             [
              0.5555555555555556,
              "#d8576b"
             ],
             [
              0.6666666666666666,
              "#ed7953"
             ],
             [
              0.7777777777777778,
              "#fb9f3a"
             ],
             [
              0.8888888888888888,
              "#fdca26"
             ],
             [
              1,
              "#f0f921"
             ]
            ],
            "type": "histogram2d"
           }
          ],
          "histogram2dcontour": [
           {
            "colorbar": {
             "outlinewidth": 0,
             "ticks": ""
            },
            "colorscale": [
             [
              0,
              "#0d0887"
             ],
             [
              0.1111111111111111,
              "#46039f"
             ],
             [
              0.2222222222222222,
              "#7201a8"
             ],
             [
              0.3333333333333333,
              "#9c179e"
             ],
             [
              0.4444444444444444,
              "#bd3786"
             ],
             [
              0.5555555555555556,
              "#d8576b"
             ],
             [
              0.6666666666666666,
              "#ed7953"
             ],
             [
              0.7777777777777778,
              "#fb9f3a"
             ],
             [
              0.8888888888888888,
              "#fdca26"
             ],
             [
              1,
              "#f0f921"
             ]
            ],
            "type": "histogram2dcontour"
           }
          ],
          "mesh3d": [
           {
            "colorbar": {
             "outlinewidth": 0,
             "ticks": ""
            },
            "type": "mesh3d"
           }
          ],
          "parcoords": [
           {
            "line": {
             "colorbar": {
              "outlinewidth": 0,
              "ticks": ""
             }
            },
            "type": "parcoords"
           }
          ],
          "pie": [
           {
            "automargin": true,
            "type": "pie"
           }
          ],
          "scatter": [
           {
            "fillpattern": {
             "fillmode": "overlay",
             "size": 10,
             "solidity": 0.2
            },
            "type": "scatter"
           }
          ],
          "scatter3d": [
           {
            "line": {
             "colorbar": {
              "outlinewidth": 0,
              "ticks": ""
             }
            },
            "marker": {
             "colorbar": {
              "outlinewidth": 0,
              "ticks": ""
             }
            },
            "type": "scatter3d"
           }
          ],
          "scattercarpet": [
           {
            "marker": {
             "colorbar": {
              "outlinewidth": 0,
              "ticks": ""
             }
            },
            "type": "scattercarpet"
           }
          ],
          "scattergeo": [
           {
            "marker": {
             "colorbar": {
              "outlinewidth": 0,
              "ticks": ""
             }
            },
            "type": "scattergeo"
           }
          ],
          "scattergl": [
           {
            "marker": {
             "colorbar": {
              "outlinewidth": 0,
              "ticks": ""
             }
            },
            "type": "scattergl"
           }
          ],
          "scattermapbox": [
           {
            "marker": {
             "colorbar": {
              "outlinewidth": 0,
              "ticks": ""
             }
            },
            "type": "scattermapbox"
           }
          ],
          "scatterpolar": [
           {
            "marker": {
             "colorbar": {
              "outlinewidth": 0,
              "ticks": ""
             }
            },
            "type": "scatterpolar"
           }
          ],
          "scatterpolargl": [
           {
            "marker": {
             "colorbar": {
              "outlinewidth": 0,
              "ticks": ""
             }
            },
            "type": "scatterpolargl"
           }
          ],
          "scatterternary": [
           {
            "marker": {
             "colorbar": {
              "outlinewidth": 0,
              "ticks": ""
             }
            },
            "type": "scatterternary"
           }
          ],
          "surface": [
           {
            "colorbar": {
             "outlinewidth": 0,
             "ticks": ""
            },
            "colorscale": [
             [
              0,
              "#0d0887"
             ],
             [
              0.1111111111111111,
              "#46039f"
             ],
             [
              0.2222222222222222,
              "#7201a8"
             ],
             [
              0.3333333333333333,
              "#9c179e"
             ],
             [
              0.4444444444444444,
              "#bd3786"
             ],
             [
              0.5555555555555556,
              "#d8576b"
             ],
             [
              0.6666666666666666,
              "#ed7953"
             ],
             [
              0.7777777777777778,
              "#fb9f3a"
             ],
             [
              0.8888888888888888,
              "#fdca26"
             ],
             [
              1,
              "#f0f921"
             ]
            ],
            "type": "surface"
           }
          ],
          "table": [
           {
            "cells": {
             "fill": {
              "color": "#EBF0F8"
             },
             "line": {
              "color": "white"
             }
            },
            "header": {
             "fill": {
              "color": "#C8D4E3"
             },
             "line": {
              "color": "white"
             }
            },
            "type": "table"
           }
          ]
         },
         "layout": {
          "annotationdefaults": {
           "arrowcolor": "#2a3f5f",
           "arrowhead": 0,
           "arrowwidth": 1
          },
          "autotypenumbers": "strict",
          "coloraxis": {
           "colorbar": {
            "outlinewidth": 0,
            "ticks": ""
           }
          },
          "colorscale": {
           "diverging": [
            [
             0,
             "#8e0152"
            ],
            [
             0.1,
             "#c51b7d"
            ],
            [
             0.2,
             "#de77ae"
            ],
            [
             0.3,
             "#f1b6da"
            ],
            [
             0.4,
             "#fde0ef"
            ],
            [
             0.5,
             "#f7f7f7"
            ],
            [
             0.6,
             "#e6f5d0"
            ],
            [
             0.7,
             "#b8e186"
            ],
            [
             0.8,
             "#7fbc41"
            ],
            [
             0.9,
             "#4d9221"
            ],
            [
             1,
             "#276419"
            ]
           ],
           "sequential": [
            [
             0,
             "#0d0887"
            ],
            [
             0.1111111111111111,
             "#46039f"
            ],
            [
             0.2222222222222222,
             "#7201a8"
            ],
            [
             0.3333333333333333,
             "#9c179e"
            ],
            [
             0.4444444444444444,
             "#bd3786"
            ],
            [
             0.5555555555555556,
             "#d8576b"
            ],
            [
             0.6666666666666666,
             "#ed7953"
            ],
            [
             0.7777777777777778,
             "#fb9f3a"
            ],
            [
             0.8888888888888888,
             "#fdca26"
            ],
            [
             1,
             "#f0f921"
            ]
           ],
           "sequentialminus": [
            [
             0,
             "#0d0887"
            ],
            [
             0.1111111111111111,
             "#46039f"
            ],
            [
             0.2222222222222222,
             "#7201a8"
            ],
            [
             0.3333333333333333,
             "#9c179e"
            ],
            [
             0.4444444444444444,
             "#bd3786"
            ],
            [
             0.5555555555555556,
             "#d8576b"
            ],
            [
             0.6666666666666666,
             "#ed7953"
            ],
            [
             0.7777777777777778,
             "#fb9f3a"
            ],
            [
             0.8888888888888888,
             "#fdca26"
            ],
            [
             1,
             "#f0f921"
            ]
           ]
          },
          "colorway": [
           "#636efa",
           "#EF553B",
           "#00cc96",
           "#ab63fa",
           "#FFA15A",
           "#19d3f3",
           "#FF6692",
           "#B6E880",
           "#FF97FF",
           "#FECB52"
          ],
          "font": {
           "color": "#2a3f5f"
          },
          "geo": {
           "bgcolor": "white",
           "lakecolor": "white",
           "landcolor": "#E5ECF6",
           "showlakes": true,
           "showland": true,
           "subunitcolor": "white"
          },
          "hoverlabel": {
           "align": "left"
          },
          "hovermode": "closest",
          "mapbox": {
           "style": "light"
          },
          "paper_bgcolor": "white",
          "plot_bgcolor": "#E5ECF6",
          "polar": {
           "angularaxis": {
            "gridcolor": "white",
            "linecolor": "white",
            "ticks": ""
           },
           "bgcolor": "#E5ECF6",
           "radialaxis": {
            "gridcolor": "white",
            "linecolor": "white",
            "ticks": ""
           }
          },
          "scene": {
           "xaxis": {
            "backgroundcolor": "#E5ECF6",
            "gridcolor": "white",
            "gridwidth": 2,
            "linecolor": "white",
            "showbackground": true,
            "ticks": "",
            "zerolinecolor": "white"
           },
           "yaxis": {
            "backgroundcolor": "#E5ECF6",
            "gridcolor": "white",
            "gridwidth": 2,
            "linecolor": "white",
            "showbackground": true,
            "ticks": "",
            "zerolinecolor": "white"
           },
           "zaxis": {
            "backgroundcolor": "#E5ECF6",
            "gridcolor": "white",
            "gridwidth": 2,
            "linecolor": "white",
            "showbackground": true,
            "ticks": "",
            "zerolinecolor": "white"
           }
          },
          "shapedefaults": {
           "line": {
            "color": "#2a3f5f"
           }
          },
          "ternary": {
           "aaxis": {
            "gridcolor": "white",
            "linecolor": "white",
            "ticks": ""
           },
           "baxis": {
            "gridcolor": "white",
            "linecolor": "white",
            "ticks": ""
           },
           "bgcolor": "#E5ECF6",
           "caxis": {
            "gridcolor": "white",
            "linecolor": "white",
            "ticks": ""
           }
          },
          "title": {
           "x": 0.05
          },
          "xaxis": {
           "automargin": true,
           "gridcolor": "white",
           "linecolor": "white",
           "ticks": "",
           "title": {
            "standoff": 15
           },
           "zerolinecolor": "white",
           "zerolinewidth": 2
          },
          "yaxis": {
           "automargin": true,
           "gridcolor": "white",
           "linecolor": "white",
           "ticks": "",
           "title": {
            "standoff": 15
           },
           "zerolinecolor": "white",
           "zerolinewidth": 2
          }
         }
        }
       }
      },
      "text/html": [
       "<div>                            <div id=\"2b9065a5-95b0-41ea-90e2-a650e67d8930\" class=\"plotly-graph-div\" style=\"height:525px; width:100%;\"></div>            <script type=\"text/javascript\">                require([\"plotly\"], function(Plotly) {                    window.PLOTLYENV=window.PLOTLYENV || {};                                    if (document.getElementById(\"2b9065a5-95b0-41ea-90e2-a650e67d8930\")) {                    Plotly.newPlot(                        \"2b9065a5-95b0-41ea-90e2-a650e67d8930\",                        [{\"customdata\":[2.0,2.0,2.0,2.0,2.0],\"hovertemplate\":\"\\u003cbr\\u003eProvince: %{text}\\u003cbr\\u003ePopulation: %{x}\\u003cbr\\u003eHealth Personnel: %{y}\\u003cbr\\u003eAverage Risk: %{customdata:.2f}\",\"marker\":{\"cmax\":4,\"cmin\":1,\"color\":[2.0,2.0,2.0,2.0,2.0],\"colorbar\":{\"orientation\":\"v\",\"title\":{\"text\":\"Average\"},\"x\":-0.25,\"xanchor\":\"left\"},\"colorscale\":[[0.0,\"rgb(209, 238, 234)\"],[0.16666666666666666,\"rgb(168, 219, 217)\"],[0.3333333333333333,\"rgb(133, 196, 201)\"],[0.5,\"rgb(104, 171, 184)\"],[0.6666666666666666,\"rgb(79, 144, 166)\"],[0.8333333333333334,\"rgb(59, 115, 143)\"],[1.0,\"rgb(42, 86, 116)\"]],\"showscale\":true,\"size\":20},\"mode\":\"markers\",\"name\":\"AUTONOMOUS REGION IN MUSLIM MINDANAO (ARMM)\",\"text\":[\"BASILAN\",\"LANAO DEL SUR\",\"MAGUINDANAO\",\"SULU\",\"TAWI-TAWI\"],\"x\":[250309,757121,737991,612985,1372550],\"y\":[50,473,275,182,218],\"type\":\"scatter\"},{\"customdata\":[0.666667,0.666667,1.666667,1.666667,1.666667],\"hovertemplate\":\"\\u003cbr\\u003eProvince: %{text}\\u003cbr\\u003ePopulation: %{x}\\u003cbr\\u003eHealth Personnel: %{y}\\u003cbr\\u003eAverage Risk: %{customdata:.2f}\",\"marker\":{\"cmax\":4,\"cmin\":1,\"color\":[0.666667,0.666667,1.666667,1.666667,1.666667],\"colorbar\":{\"orientation\":\"v\",\"title\":{\"text\":\"Risk\"},\"x\":-0.17,\"xanchor\":\"left\"},\"colorscale\":[[0.0,\"rgb(236, 218, 154)\"],[0.16666666666666666,\"rgb(239, 196, 126)\"],[0.3333333333333333,\"rgb(243, 173, 106)\"],[0.5,\"rgb(247, 148, 93)\"],[0.6666666666666666,\"rgb(249, 123, 87)\"],[0.8333333333333334,\"rgb(246, 99, 86)\"],[1.0,\"rgb(238, 77, 90)\"]],\"showscale\":true,\"size\":20,\"symbol\":\"triangle-up-dot\"},\"mode\":\"markers\",\"name\":\"REGION XIII (CARAGA)\",\"text\":[\"AGUSAN DEL NORTE\",\"AGUSAN DEL SUR\",\"DINAGAT ISLANDS\",\"SURIGAO DEL NORTE\",\"SURIGAO DEL SUR\"],\"x\":[438545,906184,1046017,2017793,668648],\"y\":[990,498,95,529,763],\"type\":\"scatter\"}],                        {\"template\":{\"data\":{\"histogram2dcontour\":[{\"type\":\"histogram2dcontour\",\"colorbar\":{\"outlinewidth\":0,\"ticks\":\"\"},\"colorscale\":[[0.0,\"#0d0887\"],[0.1111111111111111,\"#46039f\"],[0.2222222222222222,\"#7201a8\"],[0.3333333333333333,\"#9c179e\"],[0.4444444444444444,\"#bd3786\"],[0.5555555555555556,\"#d8576b\"],[0.6666666666666666,\"#ed7953\"],[0.7777777777777778,\"#fb9f3a\"],[0.8888888888888888,\"#fdca26\"],[1.0,\"#f0f921\"]]}],\"choropleth\":[{\"type\":\"choropleth\",\"colorbar\":{\"outlinewidth\":0,\"ticks\":\"\"}}],\"histogram2d\":[{\"type\":\"histogram2d\",\"colorbar\":{\"outlinewidth\":0,\"ticks\":\"\"},\"colorscale\":[[0.0,\"#0d0887\"],[0.1111111111111111,\"#46039f\"],[0.2222222222222222,\"#7201a8\"],[0.3333333333333333,\"#9c179e\"],[0.4444444444444444,\"#bd3786\"],[0.5555555555555556,\"#d8576b\"],[0.6666666666666666,\"#ed7953\"],[0.7777777777777778,\"#fb9f3a\"],[0.8888888888888888,\"#fdca26\"],[1.0,\"#f0f921\"]]}],\"heatmap\":[{\"type\":\"heatmap\",\"colorbar\":{\"outlinewidth\":0,\"ticks\":\"\"},\"colorscale\":[[0.0,\"#0d0887\"],[0.1111111111111111,\"#46039f\"],[0.2222222222222222,\"#7201a8\"],[0.3333333333333333,\"#9c179e\"],[0.4444444444444444,\"#bd3786\"],[0.5555555555555556,\"#d8576b\"],[0.6666666666666666,\"#ed7953\"],[0.7777777777777778,\"#fb9f3a\"],[0.8888888888888888,\"#fdca26\"],[1.0,\"#f0f921\"]]}],\"heatmapgl\":[{\"type\":\"heatmapgl\",\"colorbar\":{\"outlinewidth\":0,\"ticks\":\"\"},\"colorscale\":[[0.0,\"#0d0887\"],[0.1111111111111111,\"#46039f\"],[0.2222222222222222,\"#7201a8\"],[0.3333333333333333,\"#9c179e\"],[0.4444444444444444,\"#bd3786\"],[0.5555555555555556,\"#d8576b\"],[0.6666666666666666,\"#ed7953\"],[0.7777777777777778,\"#fb9f3a\"],[0.8888888888888888,\"#fdca26\"],[1.0,\"#f0f921\"]]}],\"contourcarpet\":[{\"type\":\"contourcarpet\",\"colorbar\":{\"outlinewidth\":0,\"ticks\":\"\"}}],\"contour\":[{\"type\":\"contour\",\"colorbar\":{\"outlinewidth\":0,\"ticks\":\"\"},\"colorscale\":[[0.0,\"#0d0887\"],[0.1111111111111111,\"#46039f\"],[0.2222222222222222,\"#7201a8\"],[0.3333333333333333,\"#9c179e\"],[0.4444444444444444,\"#bd3786\"],[0.5555555555555556,\"#d8576b\"],[0.6666666666666666,\"#ed7953\"],[0.7777777777777778,\"#fb9f3a\"],[0.8888888888888888,\"#fdca26\"],[1.0,\"#f0f921\"]]}],\"surface\":[{\"type\":\"surface\",\"colorbar\":{\"outlinewidth\":0,\"ticks\":\"\"},\"colorscale\":[[0.0,\"#0d0887\"],[0.1111111111111111,\"#46039f\"],[0.2222222222222222,\"#7201a8\"],[0.3333333333333333,\"#9c179e\"],[0.4444444444444444,\"#bd3786\"],[0.5555555555555556,\"#d8576b\"],[0.6666666666666666,\"#ed7953\"],[0.7777777777777778,\"#fb9f3a\"],[0.8888888888888888,\"#fdca26\"],[1.0,\"#f0f921\"]]}],\"mesh3d\":[{\"type\":\"mesh3d\",\"colorbar\":{\"outlinewidth\":0,\"ticks\":\"\"}}],\"scatter\":[{\"fillpattern\":{\"fillmode\":\"overlay\",\"size\":10,\"solidity\":0.2},\"type\":\"scatter\"}],\"parcoords\":[{\"type\":\"parcoords\",\"line\":{\"colorbar\":{\"outlinewidth\":0,\"ticks\":\"\"}}}],\"scatterpolargl\":[{\"type\":\"scatterpolargl\",\"marker\":{\"colorbar\":{\"outlinewidth\":0,\"ticks\":\"\"}}}],\"bar\":[{\"error_x\":{\"color\":\"#2a3f5f\"},\"error_y\":{\"color\":\"#2a3f5f\"},\"marker\":{\"line\":{\"color\":\"#E5ECF6\",\"width\":0.5},\"pattern\":{\"fillmode\":\"overlay\",\"size\":10,\"solidity\":0.2}},\"type\":\"bar\"}],\"scattergeo\":[{\"type\":\"scattergeo\",\"marker\":{\"colorbar\":{\"outlinewidth\":0,\"ticks\":\"\"}}}],\"scatterpolar\":[{\"type\":\"scatterpolar\",\"marker\":{\"colorbar\":{\"outlinewidth\":0,\"ticks\":\"\"}}}],\"histogram\":[{\"marker\":{\"pattern\":{\"fillmode\":\"overlay\",\"size\":10,\"solidity\":0.2}},\"type\":\"histogram\"}],\"scattergl\":[{\"type\":\"scattergl\",\"marker\":{\"colorbar\":{\"outlinewidth\":0,\"ticks\":\"\"}}}],\"scatter3d\":[{\"type\":\"scatter3d\",\"line\":{\"colorbar\":{\"outlinewidth\":0,\"ticks\":\"\"}},\"marker\":{\"colorbar\":{\"outlinewidth\":0,\"ticks\":\"\"}}}],\"scattermapbox\":[{\"type\":\"scattermapbox\",\"marker\":{\"colorbar\":{\"outlinewidth\":0,\"ticks\":\"\"}}}],\"scatterternary\":[{\"type\":\"scatterternary\",\"marker\":{\"colorbar\":{\"outlinewidth\":0,\"ticks\":\"\"}}}],\"scattercarpet\":[{\"type\":\"scattercarpet\",\"marker\":{\"colorbar\":{\"outlinewidth\":0,\"ticks\":\"\"}}}],\"carpet\":[{\"aaxis\":{\"endlinecolor\":\"#2a3f5f\",\"gridcolor\":\"white\",\"linecolor\":\"white\",\"minorgridcolor\":\"white\",\"startlinecolor\":\"#2a3f5f\"},\"baxis\":{\"endlinecolor\":\"#2a3f5f\",\"gridcolor\":\"white\",\"linecolor\":\"white\",\"minorgridcolor\":\"white\",\"startlinecolor\":\"#2a3f5f\"},\"type\":\"carpet\"}],\"table\":[{\"cells\":{\"fill\":{\"color\":\"#EBF0F8\"},\"line\":{\"color\":\"white\"}},\"header\":{\"fill\":{\"color\":\"#C8D4E3\"},\"line\":{\"color\":\"white\"}},\"type\":\"table\"}],\"barpolar\":[{\"marker\":{\"line\":{\"color\":\"#E5ECF6\",\"width\":0.5},\"pattern\":{\"fillmode\":\"overlay\",\"size\":10,\"solidity\":0.2}},\"type\":\"barpolar\"}],\"pie\":[{\"automargin\":true,\"type\":\"pie\"}]},\"layout\":{\"autotypenumbers\":\"strict\",\"colorway\":[\"#636efa\",\"#EF553B\",\"#00cc96\",\"#ab63fa\",\"#FFA15A\",\"#19d3f3\",\"#FF6692\",\"#B6E880\",\"#FF97FF\",\"#FECB52\"],\"font\":{\"color\":\"#2a3f5f\"},\"hovermode\":\"closest\",\"hoverlabel\":{\"align\":\"left\"},\"paper_bgcolor\":\"white\",\"plot_bgcolor\":\"#E5ECF6\",\"polar\":{\"bgcolor\":\"#E5ECF6\",\"angularaxis\":{\"gridcolor\":\"white\",\"linecolor\":\"white\",\"ticks\":\"\"},\"radialaxis\":{\"gridcolor\":\"white\",\"linecolor\":\"white\",\"ticks\":\"\"}},\"ternary\":{\"bgcolor\":\"#E5ECF6\",\"aaxis\":{\"gridcolor\":\"white\",\"linecolor\":\"white\",\"ticks\":\"\"},\"baxis\":{\"gridcolor\":\"white\",\"linecolor\":\"white\",\"ticks\":\"\"},\"caxis\":{\"gridcolor\":\"white\",\"linecolor\":\"white\",\"ticks\":\"\"}},\"coloraxis\":{\"colorbar\":{\"outlinewidth\":0,\"ticks\":\"\"}},\"colorscale\":{\"sequential\":[[0.0,\"#0d0887\"],[0.1111111111111111,\"#46039f\"],[0.2222222222222222,\"#7201a8\"],[0.3333333333333333,\"#9c179e\"],[0.4444444444444444,\"#bd3786\"],[0.5555555555555556,\"#d8576b\"],[0.6666666666666666,\"#ed7953\"],[0.7777777777777778,\"#fb9f3a\"],[0.8888888888888888,\"#fdca26\"],[1.0,\"#f0f921\"]],\"sequentialminus\":[[0.0,\"#0d0887\"],[0.1111111111111111,\"#46039f\"],[0.2222222222222222,\"#7201a8\"],[0.3333333333333333,\"#9c179e\"],[0.4444444444444444,\"#bd3786\"],[0.5555555555555556,\"#d8576b\"],[0.6666666666666666,\"#ed7953\"],[0.7777777777777778,\"#fb9f3a\"],[0.8888888888888888,\"#fdca26\"],[1.0,\"#f0f921\"]],\"diverging\":[[0,\"#8e0152\"],[0.1,\"#c51b7d\"],[0.2,\"#de77ae\"],[0.3,\"#f1b6da\"],[0.4,\"#fde0ef\"],[0.5,\"#f7f7f7\"],[0.6,\"#e6f5d0\"],[0.7,\"#b8e186\"],[0.8,\"#7fbc41\"],[0.9,\"#4d9221\"],[1,\"#276419\"]]},\"xaxis\":{\"gridcolor\":\"white\",\"linecolor\":\"white\",\"ticks\":\"\",\"title\":{\"standoff\":15},\"zerolinecolor\":\"white\",\"automargin\":true,\"zerolinewidth\":2},\"yaxis\":{\"gridcolor\":\"white\",\"linecolor\":\"white\",\"ticks\":\"\",\"title\":{\"standoff\":15},\"zerolinecolor\":\"white\",\"automargin\":true,\"zerolinewidth\":2},\"scene\":{\"xaxis\":{\"backgroundcolor\":\"#E5ECF6\",\"gridcolor\":\"white\",\"linecolor\":\"white\",\"showbackground\":true,\"ticks\":\"\",\"zerolinecolor\":\"white\",\"gridwidth\":2},\"yaxis\":{\"backgroundcolor\":\"#E5ECF6\",\"gridcolor\":\"white\",\"linecolor\":\"white\",\"showbackground\":true,\"ticks\":\"\",\"zerolinecolor\":\"white\",\"gridwidth\":2},\"zaxis\":{\"backgroundcolor\":\"#E5ECF6\",\"gridcolor\":\"white\",\"linecolor\":\"white\",\"showbackground\":true,\"ticks\":\"\",\"zerolinecolor\":\"white\",\"gridwidth\":2}},\"shapedefaults\":{\"line\":{\"color\":\"#2a3f5f\"}},\"annotationdefaults\":{\"arrowcolor\":\"#2a3f5f\",\"arrowhead\":0,\"arrowwidth\":1},\"geo\":{\"bgcolor\":\"white\",\"landcolor\":\"#E5ECF6\",\"subunitcolor\":\"white\",\"showland\":true,\"showlakes\":true,\"lakecolor\":\"white\"},\"title\":{\"x\":0.05},\"mapbox\":{\"style\":\"light\"}}},\"legend\":{\"orientation\":\"h\",\"xanchor\":\"center\",\"yanchor\":\"top\",\"x\":0.5,\"y\":1.1}},                        {\"responsive\": true}                    ).then(function(){\n",
       "                            \n",
       "var gd = document.getElementById('2b9065a5-95b0-41ea-90e2-a650e67d8930');\n",
       "var x = new MutationObserver(function (mutations, observer) {{\n",
       "        var display = window.getComputedStyle(gd).display;\n",
       "        if (!display || display === 'none') {{\n",
       "            console.log([gd, 'removed!']);\n",
       "            Plotly.purge(gd);\n",
       "            observer.disconnect();\n",
       "        }}\n",
       "}});\n",
       "\n",
       "// Listen for the removal of the full notebook cells\n",
       "var notebookContainer = gd.closest('#notebook-container');\n",
       "if (notebookContainer) {{\n",
       "    x.observe(notebookContainer, {childList: true});\n",
       "}}\n",
       "\n",
       "// Listen for the clearing of the current output cell\n",
       "var outputEl = gd.closest('.output');\n",
       "if (outputEl) {{\n",
       "    x.observe(outputEl, {childList: true});\n",
       "}}\n",
       "\n",
       "                        })                };                });            </script>        </div>"
      ]
     },
     "metadata": {},
     "output_type": "display_data"
    }
   ],
   "source": [
    "# region1_pop = region1['Total Population'].values.flatten()\n",
    "# region1_personnel = region1['Total Health Personnel'].values.flatten()\n",
    "\n",
    "fig_scatter = go.Figure()\n",
    "\n",
    "# add dots for region 1\n",
    "fig_scatter.add_trace(go.Scatter(x=region1['Total Population'], y=region1['Total Health Personnel'],\n",
    "                    mode='markers',\n",
    "                    name=selected_region1,\n",
    "                    customdata = region1['AvgRisk_Class'],\n",
    "                    text=region1['Province'],\n",
    "                    hovertemplate = '<br>Province: %{text}'+\n",
    "                                 '<br>Population: %{x}'+\n",
    "                                 '<br>Health Personnel: %{y}'+\n",
    "                                 '<br>Average Risk: %{customdata:.2f}',\n",
    "                    marker=dict(\n",
    "                        size=20,\n",
    "                        cmax=4,\n",
    "                        cmin=1,\n",
    "                        color=region1['AvgRisk_Class'], #set color equal to a variable\n",
    "                        colorscale='teal', # one of plotly colorscales\n",
    "                        showscale=True,\n",
    "                        colorbar=dict(\n",
    "                                orientation='v',\n",
    "                                xanchor='left',\n",
    "                                x=-0.25,\n",
    "                                title='Average'\n",
    "                            )\n",
    "                        )\n",
    "                    ))\n",
    "\n",
    "# add dots for region 2\n",
    "fig_scatter.add_trace(go.Scatter(x=region2['Total Population'], y=region2['Total Health Personnel'],\n",
    "                    mode='markers',\n",
    "                    name=selected_region2,\n",
    "                    customdata = region2['AvgRisk_Class'],\n",
    "                    text=region2['Province'],\n",
    "                    hovertemplate = '<br>Province: %{text}'+\n",
    "                                 '<br>Population: %{x}'+\n",
    "                                 '<br>Health Personnel: %{y}'+\n",
    "                                 '<br>Average Risk: %{customdata:.2f}',\n",
    "                    marker=dict(\n",
    "                        size=20,\n",
    "                        cmax=4,\n",
    "                        cmin=1,\n",
    "                        symbol = 'triangle-up-dot',\n",
    "                        color=region2['AvgRisk_Class'], #set color equal to a variable\n",
    "                        colorscale='oryel',\n",
    "                        showscale=True,\n",
    "                        colorbar=dict(\n",
    "                                orientation='v',\n",
    "                                xanchor='left',\n",
    "                                x=-0.17,\n",
    "                                title=\"Risk\"\n",
    "                            )\n",
    "                        )\n",
    "                    ))\n",
    "\n",
    "fig_scatter.update_layout(\n",
    "                    legend=dict(\n",
    "                        orientation=\"h\",\n",
    "                        xanchor='center',\n",
    "                        yanchor='top',\n",
    "                        x=0.5,\n",
    "                        y=1.1)\n",
    "                    )\n",
    "\n",
    "fig_scatter.show()"
   ]
  },
  {
   "cell_type": "code",
   "execution_count": null,
   "metadata": {},
   "outputs": [],
   "source": []
  }
 ],
 "metadata": {
  "kernelspec": {
   "display_name": "Python 3 (ipykernel)",
   "language": "python",
   "name": "python3"
  },
  "language_info": {
   "codemirror_mode": {
    "name": "ipython",
    "version": 3
   },
   "file_extension": ".py",
   "mimetype": "text/x-python",
   "name": "python",
   "nbconvert_exporter": "python",
   "pygments_lexer": "ipython3",
   "version": "3.9.12"
  }
 },
 "nbformat": 4,
 "nbformat_minor": 2
}
