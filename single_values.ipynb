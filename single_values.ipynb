{
 "cells": [
  {
   "cell_type": "code",
   "execution_count": 2,
   "metadata": {},
   "outputs": [],
   "source": [
    "import pandas as pd"
   ]
  },
  {
   "cell_type": "markdown",
   "metadata": {},
   "source": [
    "### Evacuation Centers and Schools"
   ]
  },
  {
   "cell_type": "code",
   "execution_count": 3,
   "metadata": {},
   "outputs": [
    {
     "data": {
      "text/html": [
       "<div>\n",
       "<style scoped>\n",
       "    .dataframe tbody tr th:only-of-type {\n",
       "        vertical-align: middle;\n",
       "    }\n",
       "\n",
       "    .dataframe tbody tr th {\n",
       "        vertical-align: top;\n",
       "    }\n",
       "\n",
       "    .dataframe thead th {\n",
       "        text-align: right;\n",
       "    }\n",
       "</style>\n",
       "<table border=\"1\" class=\"dataframe\">\n",
       "  <thead>\n",
       "    <tr style=\"text-align: right;\">\n",
       "      <th></th>\n",
       "      <th>region</th>\n",
       "      <th>province</th>\n",
       "      <th>evacuation_centers</th>\n",
       "      <th>total_schools</th>\n",
       "    </tr>\n",
       "  </thead>\n",
       "  <tbody>\n",
       "    <tr>\n",
       "      <th>0</th>\n",
       "      <td>AUTONOMOUS REGION IN MUSLIM MINDANAO (ARMM)</td>\n",
       "      <td>BASILAN</td>\n",
       "      <td>0</td>\n",
       "      <td>68843</td>\n",
       "    </tr>\n",
       "    <tr>\n",
       "      <th>1</th>\n",
       "      <td>AUTONOMOUS REGION IN MUSLIM MINDANAO (ARMM)</td>\n",
       "      <td>LANAO DEL SUR</td>\n",
       "      <td>0</td>\n",
       "      <td>226278</td>\n",
       "    </tr>\n",
       "    <tr>\n",
       "      <th>2</th>\n",
       "      <td>AUTONOMOUS REGION IN MUSLIM MINDANAO (ARMM)</td>\n",
       "      <td>MAGUINDANAO</td>\n",
       "      <td>0</td>\n",
       "      <td>237044</td>\n",
       "    </tr>\n",
       "    <tr>\n",
       "      <th>3</th>\n",
       "      <td>AUTONOMOUS REGION IN MUSLIM MINDANAO (ARMM)</td>\n",
       "      <td>SULU</td>\n",
       "      <td>0</td>\n",
       "      <td>120476</td>\n",
       "    </tr>\n",
       "    <tr>\n",
       "      <th>4</th>\n",
       "      <td>AUTONOMOUS REGION IN MUSLIM MINDANAO (ARMM)</td>\n",
       "      <td>TAWI-TAWI</td>\n",
       "      <td>0</td>\n",
       "      <td>67363</td>\n",
       "    </tr>\n",
       "    <tr>\n",
       "      <th>...</th>\n",
       "      <td>...</td>\n",
       "      <td>...</td>\n",
       "      <td>...</td>\n",
       "      <td>...</td>\n",
       "    </tr>\n",
       "    <tr>\n",
       "      <th>82</th>\n",
       "      <td>REGION XIII (CARAGA)</td>\n",
       "      <td>AGUSAN DEL NORTE</td>\n",
       "      <td>215</td>\n",
       "      <td>165028</td>\n",
       "    </tr>\n",
       "    <tr>\n",
       "      <th>83</th>\n",
       "      <td>REGION XIII (CARAGA)</td>\n",
       "      <td>AGUSAN DEL SUR</td>\n",
       "      <td>127</td>\n",
       "      <td>186040</td>\n",
       "    </tr>\n",
       "    <tr>\n",
       "      <th>84</th>\n",
       "      <td>REGION XIII (CARAGA)</td>\n",
       "      <td>DINAGAT ISLANDS</td>\n",
       "      <td>234</td>\n",
       "      <td>27386</td>\n",
       "    </tr>\n",
       "    <tr>\n",
       "      <th>85</th>\n",
       "      <td>REGION XIII (CARAGA)</td>\n",
       "      <td>SURIGAO DEL NORTE</td>\n",
       "      <td>224</td>\n",
       "      <td>116005</td>\n",
       "    </tr>\n",
       "    <tr>\n",
       "      <th>86</th>\n",
       "      <td>REGION XIII (CARAGA)</td>\n",
       "      <td>SURIGAO DEL SUR</td>\n",
       "      <td>362</td>\n",
       "      <td>145072</td>\n",
       "    </tr>\n",
       "  </tbody>\n",
       "</table>\n",
       "<p>87 rows × 4 columns</p>\n",
       "</div>"
      ],
      "text/plain": [
       "                                         region           province  \\\n",
       "0   AUTONOMOUS REGION IN MUSLIM MINDANAO (ARMM)            BASILAN   \n",
       "1   AUTONOMOUS REGION IN MUSLIM MINDANAO (ARMM)      LANAO DEL SUR   \n",
       "2   AUTONOMOUS REGION IN MUSLIM MINDANAO (ARMM)        MAGUINDANAO   \n",
       "3   AUTONOMOUS REGION IN MUSLIM MINDANAO (ARMM)               SULU   \n",
       "4   AUTONOMOUS REGION IN MUSLIM MINDANAO (ARMM)          TAWI-TAWI   \n",
       "..                                          ...                ...   \n",
       "82                         REGION XIII (CARAGA)   AGUSAN DEL NORTE   \n",
       "83                         REGION XIII (CARAGA)     AGUSAN DEL SUR   \n",
       "84                         REGION XIII (CARAGA)    DINAGAT ISLANDS   \n",
       "85                         REGION XIII (CARAGA)  SURIGAO DEL NORTE   \n",
       "86                         REGION XIII (CARAGA)    SURIGAO DEL SUR   \n",
       "\n",
       "    evacuation_centers  total_schools  \n",
       "0                    0          68843  \n",
       "1                    0         226278  \n",
       "2                    0         237044  \n",
       "3                    0         120476  \n",
       "4                    0          67363  \n",
       "..                 ...            ...  \n",
       "82                 215         165028  \n",
       "83                 127         186040  \n",
       "84                 234          27386  \n",
       "85                 224         116005  \n",
       "86                 362         145072  \n",
       "\n",
       "[87 rows x 4 columns]"
      ]
     },
     "execution_count": 3,
     "metadata": {},
     "output_type": "execute_result"
    }
   ],
   "source": [
    "evac_and_schools_df = pd.read_excel('data101_data/evac_and_schools_df_cleaned.xlsx', sheet_name='consolidated')\n",
    "evac_and_schools_df"
   ]
  },
  {
   "cell_type": "code",
   "execution_count": 4,
   "metadata": {},
   "outputs": [],
   "source": [
    "def set_evac_center_values(selected_province):\n",
    "    return evac_and_schools_df.query(f\"province=='{selected_province}'\")[\"evacuation_centers\"]"
   ]
  },
  {
   "cell_type": "code",
   "execution_count": 5,
   "metadata": {},
   "outputs": [
    {
     "data": {
      "text/plain": [
       "82    215\n",
       "Name: evacuation_centers, dtype: int64"
      ]
     },
     "execution_count": 5,
     "metadata": {},
     "output_type": "execute_result"
    }
   ],
   "source": [
    "set_evac_center_values('AGUSAN DEL NORTE')"
   ]
  },
  {
   "cell_type": "markdown",
   "metadata": {},
   "source": [
    "### Vulnerable Groups"
   ]
  },
  {
   "cell_type": "code",
   "execution_count": 6,
   "metadata": {},
   "outputs": [],
   "source": [
    "selected_province = \"BASILAN\""
   ]
  },
  {
   "cell_type": "code",
   "execution_count": 7,
   "metadata": {},
   "outputs": [
    {
     "data": {
      "text/html": [
       "<div>\n",
       "<style scoped>\n",
       "    .dataframe tbody tr th:only-of-type {\n",
       "        vertical-align: middle;\n",
       "    }\n",
       "\n",
       "    .dataframe tbody tr th {\n",
       "        vertical-align: top;\n",
       "    }\n",
       "\n",
       "    .dataframe thead th {\n",
       "        text-align: right;\n",
       "    }\n",
       "</style>\n",
       "<table border=\"1\" class=\"dataframe\">\n",
       "  <thead>\n",
       "    <tr style=\"text-align: right;\">\n",
       "      <th></th>\n",
       "      <th>region</th>\n",
       "      <th>province</th>\n",
       "      <th>child_headed_male</th>\n",
       "      <th>child_headed_female</th>\n",
       "      <th>single_headed_male</th>\n",
       "      <th>single_headed_female</th>\n",
       "      <th>disability_male</th>\n",
       "      <th>disability_female</th>\n",
       "      <th>solo_parent_male</th>\n",
       "      <th>solo_parent_female</th>\n",
       "      <th>older_male</th>\n",
       "      <th>older_female</th>\n",
       "    </tr>\n",
       "  </thead>\n",
       "  <tbody>\n",
       "    <tr>\n",
       "      <th>0</th>\n",
       "      <td>AUTONOMOUS REGION IN MUSLIM MINDANAO (ARMM)</td>\n",
       "      <td>BASILAN</td>\n",
       "      <td>152</td>\n",
       "      <td>31</td>\n",
       "      <td>580</td>\n",
       "      <td>118</td>\n",
       "      <td>779</td>\n",
       "      <td>688</td>\n",
       "      <td>1707</td>\n",
       "      <td>4395</td>\n",
       "      <td>2003</td>\n",
       "      <td>1944</td>\n",
       "    </tr>\n",
       "    <tr>\n",
       "      <th>1</th>\n",
       "      <td>AUTONOMOUS REGION IN MUSLIM MINDANAO (ARMM)</td>\n",
       "      <td>LANAO DEL SUR</td>\n",
       "      <td>489</td>\n",
       "      <td>104</td>\n",
       "      <td>1395</td>\n",
       "      <td>623</td>\n",
       "      <td>1705</td>\n",
       "      <td>1270</td>\n",
       "      <td>8300</td>\n",
       "      <td>20914</td>\n",
       "      <td>6060</td>\n",
       "      <td>6186</td>\n",
       "    </tr>\n",
       "  </tbody>\n",
       "</table>\n",
       "</div>"
      ],
      "text/plain": [
       "                                        region       province  \\\n",
       "0  AUTONOMOUS REGION IN MUSLIM MINDANAO (ARMM)        BASILAN   \n",
       "1  AUTONOMOUS REGION IN MUSLIM MINDANAO (ARMM)  LANAO DEL SUR   \n",
       "\n",
       "   child_headed_male  child_headed_female  single_headed_male  \\\n",
       "0                152                   31                 580   \n",
       "1                489                  104                1395   \n",
       "\n",
       "   single_headed_female  disability_male  disability_female  solo_parent_male  \\\n",
       "0                   118              779                688              1707   \n",
       "1                   623             1705               1270              8300   \n",
       "\n",
       "   solo_parent_female  older_male  older_female  \n",
       "0                4395        2003          1944  \n",
       "1               20914        6060          6186  "
      ]
     },
     "execution_count": 7,
     "metadata": {},
     "output_type": "execute_result"
    }
   ],
   "source": [
    "vuln_df = pd.read_excel('data101_data/vulnerable_groups_cleaned.xlsx', sheet_name='consolidated')\n",
    "vuln_df.head(2)"
   ]
  },
  {
   "cell_type": "markdown",
   "metadata": {},
   "source": [
    "##### Males"
   ]
  },
  {
   "cell_type": "code",
   "execution_count": 8,
   "metadata": {},
   "outputs": [],
   "source": [
    "def set_disabled_m_values(selected_province):\n",
    "    return vuln_df.query(f\"province=='{selected_province}'\")[\"disability_male\"]"
   ]
  },
  {
   "cell_type": "code",
   "execution_count": 9,
   "metadata": {},
   "outputs": [
    {
     "data": {
      "text/plain": [
       "0    779\n",
       "Name: disability_male, dtype: int64"
      ]
     },
     "execution_count": 9,
     "metadata": {},
     "output_type": "execute_result"
    }
   ],
   "source": [
    "set_disabled_m_values(selected_province)"
   ]
  },
  {
   "cell_type": "code",
   "execution_count": 10,
   "metadata": {},
   "outputs": [],
   "source": [
    "def set_old_m_values(selected_province):\n",
    "    return vuln_df.query(f\"province=='{selected_province}'\")[\"older_male\"]"
   ]
  },
  {
   "cell_type": "code",
   "execution_count": 11,
   "metadata": {},
   "outputs": [
    {
     "data": {
      "text/plain": [
       "0    2003\n",
       "Name: older_male, dtype: int64"
      ]
     },
     "execution_count": 11,
     "metadata": {},
     "output_type": "execute_result"
    }
   ],
   "source": [
    "set_old_m_values(selected_province)"
   ]
  },
  {
   "cell_type": "code",
   "execution_count": 12,
   "metadata": {},
   "outputs": [],
   "source": [
    "def set_childhead_m_values(selected_province):\n",
    "    return vuln_df.query(f\"province=='{selected_province}'\")[\"child_headed_male\"]"
   ]
  },
  {
   "cell_type": "code",
   "execution_count": 13,
   "metadata": {},
   "outputs": [
    {
     "data": {
      "text/plain": [
       "0    152\n",
       "Name: child_headed_male, dtype: int64"
      ]
     },
     "execution_count": 13,
     "metadata": {},
     "output_type": "execute_result"
    }
   ],
   "source": [
    "set_childhead_m_values(selected_province)"
   ]
  },
  {
   "cell_type": "code",
   "execution_count": 14,
   "metadata": {},
   "outputs": [],
   "source": [
    "def set_solo_parent_m_values(selected_province):\n",
    "    return vuln_df.query(f\"province=='{selected_province}'\")[\"solo_parent_male\"]"
   ]
  },
  {
   "cell_type": "code",
   "execution_count": 15,
   "metadata": {},
   "outputs": [
    {
     "data": {
      "text/plain": [
       "0    1707\n",
       "Name: solo_parent_male, dtype: int64"
      ]
     },
     "execution_count": 15,
     "metadata": {},
     "output_type": "execute_result"
    }
   ],
   "source": [
    "set_solo_parent_m_values(selected_province)"
   ]
  },
  {
   "cell_type": "markdown",
   "metadata": {},
   "source": [
    "##### Females"
   ]
  },
  {
   "cell_type": "code",
   "execution_count": 16,
   "metadata": {},
   "outputs": [],
   "source": [
    "def set_disabled_f_values(selected_province):\n",
    "    return vuln_df.query(f\"province=='{selected_province}'\")[\"disability_female\"]"
   ]
  },
  {
   "cell_type": "code",
   "execution_count": 17,
   "metadata": {},
   "outputs": [
    {
     "data": {
      "text/plain": [
       "0    688\n",
       "Name: disability_female, dtype: int64"
      ]
     },
     "execution_count": 17,
     "metadata": {},
     "output_type": "execute_result"
    }
   ],
   "source": [
    "set_disabled_f_values(selected_province)"
   ]
  },
  {
   "cell_type": "code",
   "execution_count": 18,
   "metadata": {},
   "outputs": [],
   "source": [
    "def set_old_f_values(selected_province):\n",
    "    return vuln_df.query(f\"province=='{selected_province}'\")[\"older_female\"]"
   ]
  },
  {
   "cell_type": "code",
   "execution_count": 19,
   "metadata": {},
   "outputs": [
    {
     "data": {
      "text/plain": [
       "0    1944\n",
       "Name: older_female, dtype: int64"
      ]
     },
     "execution_count": 19,
     "metadata": {},
     "output_type": "execute_result"
    }
   ],
   "source": [
    "set_old_f_values(selected_province)"
   ]
  },
  {
   "cell_type": "code",
   "execution_count": 20,
   "metadata": {},
   "outputs": [],
   "source": [
    "def set_childhead_f_values(selected_province):\n",
    "    return vuln_df.query(f\"province=='{selected_province}'\")[\"child_headed_female\"]"
   ]
  },
  {
   "cell_type": "code",
   "execution_count": 21,
   "metadata": {},
   "outputs": [
    {
     "data": {
      "text/plain": [
       "0    31\n",
       "Name: child_headed_female, dtype: int64"
      ]
     },
     "execution_count": 21,
     "metadata": {},
     "output_type": "execute_result"
    }
   ],
   "source": [
    "set_childhead_f_values(selected_province)"
   ]
  },
  {
   "cell_type": "code",
   "execution_count": 22,
   "metadata": {},
   "outputs": [],
   "source": [
    "def set_solo_parent_f_values(selected_province):\n",
    "    return vuln_df.query(f\"province=='{selected_province}'\")[\"solo_parent_female\"]"
   ]
  },
  {
   "cell_type": "code",
   "execution_count": 23,
   "metadata": {},
   "outputs": [
    {
     "data": {
      "text/plain": [
       "0    4395\n",
       "Name: solo_parent_female, dtype: int64"
      ]
     },
     "execution_count": 23,
     "metadata": {},
     "output_type": "execute_result"
    }
   ],
   "source": [
    "set_solo_parent_f_values(selected_province)"
   ]
  },
  {
   "cell_type": "markdown",
   "metadata": {},
   "source": [
    "### Health Facilities"
   ]
  },
  {
   "cell_type": "code",
   "execution_count": 25,
   "metadata": {},
   "outputs": [
    {
     "data": {
      "text/html": [
       "<div>\n",
       "<style scoped>\n",
       "    .dataframe tbody tr th:only-of-type {\n",
       "        vertical-align: middle;\n",
       "    }\n",
       "\n",
       "    .dataframe tbody tr th {\n",
       "        vertical-align: top;\n",
       "    }\n",
       "\n",
       "    .dataframe thead th {\n",
       "        text-align: right;\n",
       "    }\n",
       "</style>\n",
       "<table border=\"1\" class=\"dataframe\">\n",
       "  <thead>\n",
       "    <tr style=\"text-align: right;\">\n",
       "      <th></th>\n",
       "      <th>region</th>\n",
       "      <th>province</th>\n",
       "      <th>brgy_health_station</th>\n",
       "      <th>gen_clinic_laboratory</th>\n",
       "      <th>hospital</th>\n",
       "      <th>infirmary</th>\n",
       "      <th>rural_health_unit</th>\n",
       "      <th>birthing_homes</th>\n",
       "    </tr>\n",
       "  </thead>\n",
       "  <tbody>\n",
       "    <tr>\n",
       "      <th>0</th>\n",
       "      <td>AUTONOMOUS REGION IN MUSLIM MINDANAO (ARMM)</td>\n",
       "      <td>BASILAN</td>\n",
       "      <td>67</td>\n",
       "      <td>0</td>\n",
       "      <td>2</td>\n",
       "      <td>1</td>\n",
       "      <td>15</td>\n",
       "      <td>13</td>\n",
       "    </tr>\n",
       "    <tr>\n",
       "      <th>1</th>\n",
       "      <td>AUTONOMOUS REGION IN MUSLIM MINDANAO (ARMM)</td>\n",
       "      <td>LANAO DEL SUR</td>\n",
       "      <td>140</td>\n",
       "      <td>0</td>\n",
       "      <td>10</td>\n",
       "      <td>7</td>\n",
       "      <td>44</td>\n",
       "      <td>39</td>\n",
       "    </tr>\n",
       "    <tr>\n",
       "      <th>2</th>\n",
       "      <td>AUTONOMOUS REGION IN MUSLIM MINDANAO (ARMM)</td>\n",
       "      <td>MAGUINDANAO</td>\n",
       "      <td>224</td>\n",
       "      <td>0</td>\n",
       "      <td>6</td>\n",
       "      <td>7</td>\n",
       "      <td>36</td>\n",
       "      <td>70</td>\n",
       "    </tr>\n",
       "    <tr>\n",
       "      <th>3</th>\n",
       "      <td>AUTONOMOUS REGION IN MUSLIM MINDANAO (ARMM)</td>\n",
       "      <td>SULU</td>\n",
       "      <td>125</td>\n",
       "      <td>0</td>\n",
       "      <td>6</td>\n",
       "      <td>4</td>\n",
       "      <td>21</td>\n",
       "      <td>15</td>\n",
       "    </tr>\n",
       "    <tr>\n",
       "      <th>4</th>\n",
       "      <td>AUTONOMOUS REGION IN MUSLIM MINDANAO (ARMM)</td>\n",
       "      <td>TAWI-TAWI</td>\n",
       "      <td>73</td>\n",
       "      <td>0</td>\n",
       "      <td>6</td>\n",
       "      <td>2</td>\n",
       "      <td>12</td>\n",
       "      <td>10</td>\n",
       "    </tr>\n",
       "  </tbody>\n",
       "</table>\n",
       "</div>"
      ],
      "text/plain": [
       "                                        region       province  \\\n",
       "0  AUTONOMOUS REGION IN MUSLIM MINDANAO (ARMM)        BASILAN   \n",
       "1  AUTONOMOUS REGION IN MUSLIM MINDANAO (ARMM)  LANAO DEL SUR   \n",
       "2  AUTONOMOUS REGION IN MUSLIM MINDANAO (ARMM)    MAGUINDANAO   \n",
       "3  AUTONOMOUS REGION IN MUSLIM MINDANAO (ARMM)           SULU   \n",
       "4  AUTONOMOUS REGION IN MUSLIM MINDANAO (ARMM)      TAWI-TAWI   \n",
       "\n",
       "   brgy_health_station  gen_clinic_laboratory  hospital  infirmary  \\\n",
       "0                   67                      0         2          1   \n",
       "1                  140                      0        10          7   \n",
       "2                  224                      0         6          7   \n",
       "3                  125                      0         6          4   \n",
       "4                   73                      0         6          2   \n",
       "\n",
       "   rural_health_unit  birthing_homes  \n",
       "0                 15              13  \n",
       "1                 44              39  \n",
       "2                 36              70  \n",
       "3                 21              15  \n",
       "4                 12              10  "
      ]
     },
     "execution_count": 25,
     "metadata": {},
     "output_type": "execute_result"
    }
   ],
   "source": [
    "health_faci_df = pd.read_excel('data101_data/health_facilities_cleaned.xlsx', sheet_name='consolidated')\n",
    "health_faci_df.head()"
   ]
  },
  {
   "cell_type": "code",
   "execution_count": 26,
   "metadata": {},
   "outputs": [],
   "source": [
    "def set_brgy_health_station_values(selected_province):\n",
    "    return health_faci_df.query(f\"province=='{selected_province}'\")[\"brgy_health_station\"]"
   ]
  },
  {
   "cell_type": "code",
   "execution_count": 27,
   "metadata": {},
   "outputs": [
    {
     "data": {
      "text/plain": [
       "0    67\n",
       "Name: brgy_health_station, dtype: int64"
      ]
     },
     "execution_count": 27,
     "metadata": {},
     "output_type": "execute_result"
    }
   ],
   "source": [
    "set_brgy_health_station_values(selected_province)"
   ]
  },
  {
   "cell_type": "code",
   "execution_count": 28,
   "metadata": {},
   "outputs": [],
   "source": [
    "def set_gen_clinic_laboratory_values(selected_province):\n",
    "    return health_faci_df.query(f\"province=='{selected_province}'\")[\"gen_clinic_laboratory\"]"
   ]
  },
  {
   "cell_type": "code",
   "execution_count": 29,
   "metadata": {},
   "outputs": [
    {
     "data": {
      "text/plain": [
       "0    0\n",
       "Name: gen_clinic_laboratory, dtype: int64"
      ]
     },
     "execution_count": 29,
     "metadata": {},
     "output_type": "execute_result"
    }
   ],
   "source": [
    "set_gen_clinic_laboratory_values(selected_province)"
   ]
  },
  {
   "cell_type": "code",
   "execution_count": 30,
   "metadata": {},
   "outputs": [],
   "source": [
    "def set_hospital_values(selected_province):\n",
    "    return health_faci_df.query(f\"province=='{selected_province}'\")[\"hospital\"]"
   ]
  },
  {
   "cell_type": "code",
   "execution_count": 31,
   "metadata": {},
   "outputs": [
    {
     "data": {
      "text/plain": [
       "0    2\n",
       "Name: hospital, dtype: int64"
      ]
     },
     "execution_count": 31,
     "metadata": {},
     "output_type": "execute_result"
    }
   ],
   "source": [
    "set_hospital_values(selected_province)"
   ]
  },
  {
   "cell_type": "code",
   "execution_count": 32,
   "metadata": {},
   "outputs": [],
   "source": [
    "def set_infirmary_values(selected_province):\n",
    "    return health_faci_df.query(f\"province=='{selected_province}'\")[\"infirmary\"]"
   ]
  },
  {
   "cell_type": "code",
   "execution_count": 33,
   "metadata": {},
   "outputs": [
    {
     "data": {
      "text/plain": [
       "0    1\n",
       "Name: infirmary, dtype: int64"
      ]
     },
     "execution_count": 33,
     "metadata": {},
     "output_type": "execute_result"
    }
   ],
   "source": [
    "set_infirmary_values(selected_province)"
   ]
  },
  {
   "cell_type": "code",
   "execution_count": 34,
   "metadata": {},
   "outputs": [],
   "source": [
    "def set_rural_health_unit_values(selected_province):\n",
    "    return health_faci_df.query(f\"province=='{selected_province}'\")[\"rural_health_unit\"]"
   ]
  },
  {
   "cell_type": "code",
   "execution_count": 35,
   "metadata": {},
   "outputs": [
    {
     "data": {
      "text/plain": [
       "0    15\n",
       "Name: rural_health_unit, dtype: int64"
      ]
     },
     "execution_count": 35,
     "metadata": {},
     "output_type": "execute_result"
    }
   ],
   "source": [
    "set_rural_health_unit_values(selected_province)"
   ]
  },
  {
   "cell_type": "code",
   "execution_count": 36,
   "metadata": {},
   "outputs": [],
   "source": [
    "def set_birthing_homes_values(selected_province):\n",
    "    return health_faci_df.query(f\"province=='{selected_province}'\")[\"birthing_homes\"]"
   ]
  },
  {
   "cell_type": "code",
   "execution_count": 37,
   "metadata": {},
   "outputs": [
    {
     "data": {
      "text/plain": [
       "0    13\n",
       "Name: birthing_homes, dtype: int64"
      ]
     },
     "execution_count": 37,
     "metadata": {},
     "output_type": "execute_result"
    }
   ],
   "source": [
    "set_birthing_homes_values(selected_province)"
   ]
  },
  {
   "cell_type": "code",
   "execution_count": null,
   "metadata": {},
   "outputs": [],
   "source": []
  }
 ],
 "metadata": {
  "kernelspec": {
   "display_name": "base",
   "language": "python",
   "name": "python3"
  },
  "language_info": {
   "codemirror_mode": {
    "name": "ipython",
    "version": 3
   },
   "file_extension": ".py",
   "mimetype": "text/x-python",
   "name": "python",
   "nbconvert_exporter": "python",
   "pygments_lexer": "ipython3",
   "version": "3.11.3"
  },
  "orig_nbformat": 4
 },
 "nbformat": 4,
 "nbformat_minor": 2
}
