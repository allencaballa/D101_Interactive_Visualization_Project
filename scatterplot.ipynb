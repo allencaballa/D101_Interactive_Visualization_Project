{
 "cells": [
  {
   "cell_type": "markdown",
   "metadata": {},
   "source": [
    "### IMPORTING PACKAGES"
   ]
  },
  {
   "cell_type": "code",
   "execution_count": 171,
   "metadata": {},
   "outputs": [],
   "source": [
    "import pandas as pd \n",
    "import numpy as np \n",
    "import plotly.express as px\n",
    "import plotly.graph_objects as go\n",
    "import geopandas as gpd"
   ]
  },
  {
   "cell_type": "markdown",
   "metadata": {},
   "source": [
    "### IMPORTING DATASETS"
   ]
  },
  {
   "cell_type": "code",
   "execution_count": 172,
   "metadata": {},
   "outputs": [
    {
     "data": {
      "text/html": [
       "<div>\n",
       "<style scoped>\n",
       "    .dataframe tbody tr th:only-of-type {\n",
       "        vertical-align: middle;\n",
       "    }\n",
       "\n",
       "    .dataframe tbody tr th {\n",
       "        vertical-align: top;\n",
       "    }\n",
       "\n",
       "    .dataframe thead th {\n",
       "        text-align: right;\n",
       "    }\n",
       "</style>\n",
       "<table border=\"1\" class=\"dataframe\">\n",
       "  <thead>\n",
       "    <tr style=\"text-align: right;\">\n",
       "      <th></th>\n",
       "      <th>Region</th>\n",
       "      <th>Region Code</th>\n",
       "      <th>Province</th>\n",
       "      <th>Province Code</th>\n",
       "      <th>Municipality_City</th>\n",
       "      <th>Municipality_City Code</th>\n",
       "      <th>DOCTOR</th>\n",
       "      <th>NURSE</th>\n",
       "      <th>MIDWIFE</th>\n",
       "      <th>DENTIST</th>\n",
       "      <th>NUTRITIONIST/DIETICIAN</th>\n",
       "      <th>PHARMACIST</th>\n",
       "      <th>OCCUPATIONAL THERAPIST</th>\n",
       "      <th>MEDICAL TECHNOLOGIST</th>\n",
       "      <th>PHYSICAL THERAPIST</th>\n",
       "      <th>RADIOLOGY TECHNOLOGIST</th>\n",
       "      <th>X-RAY TECHNOLOGIST</th>\n",
       "    </tr>\n",
       "  </thead>\n",
       "  <tbody>\n",
       "    <tr>\n",
       "      <th>0</th>\n",
       "      <td>Region I (Ilocos Region)</td>\n",
       "      <td>PH010000000</td>\n",
       "      <td>Ilocos Norte</td>\n",
       "      <td>PH012800000</td>\n",
       "      <td>Adams</td>\n",
       "      <td>PH012801000</td>\n",
       "      <td>1</td>\n",
       "      <td>4</td>\n",
       "      <td>3</td>\n",
       "      <td>0</td>\n",
       "      <td>0</td>\n",
       "      <td>0</td>\n",
       "      <td>0</td>\n",
       "      <td>0</td>\n",
       "      <td>0</td>\n",
       "      <td>0</td>\n",
       "      <td>0</td>\n",
       "    </tr>\n",
       "    <tr>\n",
       "      <th>1</th>\n",
       "      <td>Region I (Ilocos Region)</td>\n",
       "      <td>PH010000000</td>\n",
       "      <td>Ilocos Norte</td>\n",
       "      <td>PH012800000</td>\n",
       "      <td>Bacarra</td>\n",
       "      <td>PH012802000</td>\n",
       "      <td>8</td>\n",
       "      <td>23</td>\n",
       "      <td>16</td>\n",
       "      <td>6</td>\n",
       "      <td>0</td>\n",
       "      <td>8</td>\n",
       "      <td>0</td>\n",
       "      <td>2</td>\n",
       "      <td>0</td>\n",
       "      <td>0</td>\n",
       "      <td>1</td>\n",
       "    </tr>\n",
       "    <tr>\n",
       "      <th>2</th>\n",
       "      <td>Region I (Ilocos Region)</td>\n",
       "      <td>PH010000000</td>\n",
       "      <td>Ilocos Norte</td>\n",
       "      <td>PH012800000</td>\n",
       "      <td>Badoc</td>\n",
       "      <td>PH012803000</td>\n",
       "      <td>1</td>\n",
       "      <td>6</td>\n",
       "      <td>8</td>\n",
       "      <td>1</td>\n",
       "      <td>0</td>\n",
       "      <td>8</td>\n",
       "      <td>0</td>\n",
       "      <td>1</td>\n",
       "      <td>0</td>\n",
       "      <td>0</td>\n",
       "      <td>0</td>\n",
       "    </tr>\n",
       "    <tr>\n",
       "      <th>3</th>\n",
       "      <td>Region I (Ilocos Region)</td>\n",
       "      <td>PH010000000</td>\n",
       "      <td>Ilocos Norte</td>\n",
       "      <td>PH012800000</td>\n",
       "      <td>Bangui</td>\n",
       "      <td>PH012804000</td>\n",
       "      <td>10</td>\n",
       "      <td>20</td>\n",
       "      <td>11</td>\n",
       "      <td>4</td>\n",
       "      <td>1</td>\n",
       "      <td>5</td>\n",
       "      <td>0</td>\n",
       "      <td>4</td>\n",
       "      <td>1</td>\n",
       "      <td>0</td>\n",
       "      <td>0</td>\n",
       "    </tr>\n",
       "    <tr>\n",
       "      <th>4</th>\n",
       "      <td>Region I (Ilocos Region)</td>\n",
       "      <td>PH010000000</td>\n",
       "      <td>Ilocos Norte</td>\n",
       "      <td>PH012800000</td>\n",
       "      <td>City  of Batac</td>\n",
       "      <td>PH012805000</td>\n",
       "      <td>109</td>\n",
       "      <td>233</td>\n",
       "      <td>33</td>\n",
       "      <td>3</td>\n",
       "      <td>5</td>\n",
       "      <td>43</td>\n",
       "      <td>0</td>\n",
       "      <td>28</td>\n",
       "      <td>8</td>\n",
       "      <td>10</td>\n",
       "      <td>1</td>\n",
       "    </tr>\n",
       "    <tr>\n",
       "      <th>...</th>\n",
       "      <td>...</td>\n",
       "      <td>...</td>\n",
       "      <td>...</td>\n",
       "      <td>...</td>\n",
       "      <td>...</td>\n",
       "      <td>...</td>\n",
       "      <td>...</td>\n",
       "      <td>...</td>\n",
       "      <td>...</td>\n",
       "      <td>...</td>\n",
       "      <td>...</td>\n",
       "      <td>...</td>\n",
       "      <td>...</td>\n",
       "      <td>...</td>\n",
       "      <td>...</td>\n",
       "      <td>...</td>\n",
       "      <td>...</td>\n",
       "    </tr>\n",
       "    <tr>\n",
       "      <th>1642</th>\n",
       "      <td>Region VII (Central Visayas)</td>\n",
       "      <td>PH070000000</td>\n",
       "      <td>Negros Oriental</td>\n",
       "      <td>PH074600000</td>\n",
       "      <td>City  of Tanjay</td>\n",
       "      <td>PH074621000</td>\n",
       "      <td>2</td>\n",
       "      <td>15</td>\n",
       "      <td>32</td>\n",
       "      <td>0</td>\n",
       "      <td>0</td>\n",
       "      <td>1</td>\n",
       "      <td>0</td>\n",
       "      <td>5</td>\n",
       "      <td>0</td>\n",
       "      <td>0</td>\n",
       "      <td>0</td>\n",
       "    </tr>\n",
       "    <tr>\n",
       "      <th>1643</th>\n",
       "      <td>Region VII (Central Visayas)</td>\n",
       "      <td>PH070000000</td>\n",
       "      <td>Negros Oriental</td>\n",
       "      <td>PH074600000</td>\n",
       "      <td>Tayasan</td>\n",
       "      <td>PH074622000</td>\n",
       "      <td>1</td>\n",
       "      <td>1</td>\n",
       "      <td>3</td>\n",
       "      <td>0</td>\n",
       "      <td>0</td>\n",
       "      <td>0</td>\n",
       "      <td>0</td>\n",
       "      <td>0</td>\n",
       "      <td>0</td>\n",
       "      <td>0</td>\n",
       "      <td>0</td>\n",
       "    </tr>\n",
       "    <tr>\n",
       "      <th>1644</th>\n",
       "      <td>Region VII (Central Visayas)</td>\n",
       "      <td>PH070000000</td>\n",
       "      <td>Negros Oriental</td>\n",
       "      <td>PH074600000</td>\n",
       "      <td>Valencia (Luzurriaga)</td>\n",
       "      <td>PH074623000</td>\n",
       "      <td>1</td>\n",
       "      <td>2</td>\n",
       "      <td>10</td>\n",
       "      <td>1</td>\n",
       "      <td>0</td>\n",
       "      <td>0</td>\n",
       "      <td>0</td>\n",
       "      <td>1</td>\n",
       "      <td>0</td>\n",
       "      <td>0</td>\n",
       "      <td>0</td>\n",
       "    </tr>\n",
       "    <tr>\n",
       "      <th>1645</th>\n",
       "      <td>Region VII (Central Visayas)</td>\n",
       "      <td>PH070000000</td>\n",
       "      <td>Negros Oriental</td>\n",
       "      <td>PH074600000</td>\n",
       "      <td>Vallehermoso</td>\n",
       "      <td>PH074624000</td>\n",
       "      <td>0</td>\n",
       "      <td>0</td>\n",
       "      <td>0</td>\n",
       "      <td>0</td>\n",
       "      <td>0</td>\n",
       "      <td>0</td>\n",
       "      <td>0</td>\n",
       "      <td>0</td>\n",
       "      <td>0</td>\n",
       "      <td>0</td>\n",
       "      <td>0</td>\n",
       "    </tr>\n",
       "    <tr>\n",
       "      <th>1646</th>\n",
       "      <td>Region VII (Central Visayas)</td>\n",
       "      <td>PH070000000</td>\n",
       "      <td>Negros Oriental</td>\n",
       "      <td>PH074600000</td>\n",
       "      <td>Zamboanguita</td>\n",
       "      <td>PH074625000</td>\n",
       "      <td>1</td>\n",
       "      <td>4</td>\n",
       "      <td>7</td>\n",
       "      <td>0</td>\n",
       "      <td>0</td>\n",
       "      <td>0</td>\n",
       "      <td>0</td>\n",
       "      <td>1</td>\n",
       "      <td>0</td>\n",
       "      <td>0</td>\n",
       "      <td>0</td>\n",
       "    </tr>\n",
       "  </tbody>\n",
       "</table>\n",
       "<p>1647 rows × 17 columns</p>\n",
       "</div>"
      ],
      "text/plain": [
       "                            Region  Region Code         Province  \\\n",
       "0         Region I (Ilocos Region)  PH010000000     Ilocos Norte   \n",
       "1         Region I (Ilocos Region)  PH010000000     Ilocos Norte   \n",
       "2         Region I (Ilocos Region)  PH010000000     Ilocos Norte   \n",
       "3         Region I (Ilocos Region)  PH010000000     Ilocos Norte   \n",
       "4         Region I (Ilocos Region)  PH010000000     Ilocos Norte   \n",
       "...                            ...          ...              ...   \n",
       "1642  Region VII (Central Visayas)  PH070000000  Negros Oriental   \n",
       "1643  Region VII (Central Visayas)  PH070000000  Negros Oriental   \n",
       "1644  Region VII (Central Visayas)  PH070000000  Negros Oriental   \n",
       "1645  Region VII (Central Visayas)  PH070000000  Negros Oriental   \n",
       "1646  Region VII (Central Visayas)  PH070000000  Negros Oriental   \n",
       "\n",
       "     Province Code      Municipality_City Municipality_City Code  DOCTOR  \\\n",
       "0      PH012800000                  Adams            PH012801000       1   \n",
       "1      PH012800000                Bacarra            PH012802000       8   \n",
       "2      PH012800000                  Badoc            PH012803000       1   \n",
       "3      PH012800000                 Bangui            PH012804000      10   \n",
       "4      PH012800000         City  of Batac            PH012805000     109   \n",
       "...            ...                    ...                    ...     ...   \n",
       "1642   PH074600000        City  of Tanjay            PH074621000       2   \n",
       "1643   PH074600000                Tayasan            PH074622000       1   \n",
       "1644   PH074600000  Valencia (Luzurriaga)            PH074623000       1   \n",
       "1645   PH074600000           Vallehermoso            PH074624000       0   \n",
       "1646   PH074600000           Zamboanguita            PH074625000       1   \n",
       "\n",
       "      NURSE  MIDWIFE  DENTIST  NUTRITIONIST/DIETICIAN  PHARMACIST  \\\n",
       "0         4        3        0                       0           0   \n",
       "1        23       16        6                       0           8   \n",
       "2         6        8        1                       0           8   \n",
       "3        20       11        4                       1           5   \n",
       "4       233       33        3                       5          43   \n",
       "...     ...      ...      ...                     ...         ...   \n",
       "1642     15       32        0                       0           1   \n",
       "1643      1        3        0                       0           0   \n",
       "1644      2       10        1                       0           0   \n",
       "1645      0        0        0                       0           0   \n",
       "1646      4        7        0                       0           0   \n",
       "\n",
       "      OCCUPATIONAL THERAPIST  MEDICAL TECHNOLOGIST  PHYSICAL THERAPIST  \\\n",
       "0                          0                     0                   0   \n",
       "1                          0                     2                   0   \n",
       "2                          0                     1                   0   \n",
       "3                          0                     4                   1   \n",
       "4                          0                    28                   8   \n",
       "...                      ...                   ...                 ...   \n",
       "1642                       0                     5                   0   \n",
       "1643                       0                     0                   0   \n",
       "1644                       0                     1                   0   \n",
       "1645                       0                     0                   0   \n",
       "1646                       0                     1                   0   \n",
       "\n",
       "      RADIOLOGY TECHNOLOGIST X-RAY TECHNOLOGIST  \n",
       "0                          0                  0  \n",
       "1                          0                  1  \n",
       "2                          0                  0  \n",
       "3                          0                  0  \n",
       "4                         10                  1  \n",
       "...                      ...                ...  \n",
       "1642                       0                  0  \n",
       "1643                       0                  0  \n",
       "1644                       0                  0  \n",
       "1645                       0                  0  \n",
       "1646                       0                  0  \n",
       "\n",
       "[1647 rows x 17 columns]"
      ]
     },
     "execution_count": 172,
     "metadata": {},
     "output_type": "execute_result"
    }
   ],
   "source": [
    "df_health_personnel = pd.read_excel(r\"C:\\Users\\AlyssaRianthaNavarro\\Desktop\\Personal\\VSC\\data102_project\\data\\pre-disaster\\excel datasets\\health-personnel-by-city-municipality.xlsx\")\n",
    "df_health_personnel"
   ]
  },
  {
   "cell_type": "code",
   "execution_count": 253,
   "metadata": {},
   "outputs": [
    {
     "name": "stderr",
     "output_type": "stream",
     "text": [
      "C:\\Users\\AlyssaRianthaNavarro\\AppData\\Local\\Temp\\ipykernel_15808\\1442776841.py:4: FutureWarning:\n",
      "\n",
      "Dropping invalid columns in DataFrameGroupBy.agg is deprecated. In a future version, a TypeError will be raised. Before calling .agg, select only columns which should be valid for the function.\n",
      "\n"
     ]
    },
    {
     "data": {
      "text/html": [
       "<div>\n",
       "<style scoped>\n",
       "    .dataframe tbody tr th:only-of-type {\n",
       "        vertical-align: middle;\n",
       "    }\n",
       "\n",
       "    .dataframe tbody tr th {\n",
       "        vertical-align: top;\n",
       "    }\n",
       "\n",
       "    .dataframe thead th {\n",
       "        text-align: right;\n",
       "    }\n",
       "</style>\n",
       "<table border=\"1\" class=\"dataframe\">\n",
       "  <thead>\n",
       "    <tr style=\"text-align: right;\">\n",
       "      <th></th>\n",
       "      <th>Region</th>\n",
       "      <th>Province</th>\n",
       "      <th>DOCTOR</th>\n",
       "      <th>NURSE</th>\n",
       "      <th>MIDWIFE</th>\n",
       "      <th>DENTIST</th>\n",
       "      <th>NUTRITIONIST/DIETICIAN</th>\n",
       "      <th>PHARMACIST</th>\n",
       "      <th>OCCUPATIONAL THERAPIST</th>\n",
       "      <th>MEDICAL TECHNOLOGIST</th>\n",
       "      <th>PHYSICAL THERAPIST</th>\n",
       "      <th>RADIOLOGY TECHNOLOGIST</th>\n",
       "      <th>Total Health Personnel</th>\n",
       "    </tr>\n",
       "  </thead>\n",
       "  <tbody>\n",
       "    <tr>\n",
       "      <th>5</th>\n",
       "      <td>Cordillera Administrative Region (CAR)</td>\n",
       "      <td>Abra</td>\n",
       "      <td>68</td>\n",
       "      <td>275</td>\n",
       "      <td>128</td>\n",
       "      <td>5</td>\n",
       "      <td>3</td>\n",
       "      <td>8</td>\n",
       "      <td>0</td>\n",
       "      <td>14</td>\n",
       "      <td>0</td>\n",
       "      <td>3</td>\n",
       "      <td>504</td>\n",
       "    </tr>\n",
       "    <tr>\n",
       "      <th>82</th>\n",
       "      <td>Region XIII (Caraga)</td>\n",
       "      <td>Agusan Del Norte</td>\n",
       "      <td>158</td>\n",
       "      <td>440</td>\n",
       "      <td>237</td>\n",
       "      <td>20</td>\n",
       "      <td>10</td>\n",
       "      <td>30</td>\n",
       "      <td>0</td>\n",
       "      <td>65</td>\n",
       "      <td>5</td>\n",
       "      <td>20</td>\n",
       "      <td>985</td>\n",
       "    </tr>\n",
       "    <tr>\n",
       "      <th>83</th>\n",
       "      <td>Region XIII (Caraga)</td>\n",
       "      <td>Agusan Del Sur</td>\n",
       "      <td>61</td>\n",
       "      <td>196</td>\n",
       "      <td>165</td>\n",
       "      <td>14</td>\n",
       "      <td>5</td>\n",
       "      <td>14</td>\n",
       "      <td>0</td>\n",
       "      <td>34</td>\n",
       "      <td>0</td>\n",
       "      <td>9</td>\n",
       "      <td>498</td>\n",
       "    </tr>\n",
       "    <tr>\n",
       "      <th>51</th>\n",
       "      <td>Region VI (Western Visayas)</td>\n",
       "      <td>Aklan</td>\n",
       "      <td>155</td>\n",
       "      <td>284</td>\n",
       "      <td>124</td>\n",
       "      <td>12</td>\n",
       "      <td>9</td>\n",
       "      <td>19</td>\n",
       "      <td>4</td>\n",
       "      <td>30</td>\n",
       "      <td>3</td>\n",
       "      <td>7</td>\n",
       "      <td>647</td>\n",
       "    </tr>\n",
       "    <tr>\n",
       "      <th>45</th>\n",
       "      <td>Region V (Bicol Region)</td>\n",
       "      <td>Albay</td>\n",
       "      <td>411</td>\n",
       "      <td>1026</td>\n",
       "      <td>289</td>\n",
       "      <td>32</td>\n",
       "      <td>22</td>\n",
       "      <td>35</td>\n",
       "      <td>2</td>\n",
       "      <td>120</td>\n",
       "      <td>7</td>\n",
       "      <td>18</td>\n",
       "      <td>1962</td>\n",
       "    </tr>\n",
       "    <tr>\n",
       "      <th>...</th>\n",
       "      <td>...</td>\n",
       "      <td>...</td>\n",
       "      <td>...</td>\n",
       "      <td>...</td>\n",
       "      <td>...</td>\n",
       "      <td>...</td>\n",
       "      <td>...</td>\n",
       "      <td>...</td>\n",
       "      <td>...</td>\n",
       "      <td>...</td>\n",
       "      <td>...</td>\n",
       "      <td>...</td>\n",
       "      <td>...</td>\n",
       "    </tr>\n",
       "    <tr>\n",
       "      <th>4</th>\n",
       "      <td>Autonomous Region in Muslim Mindanao (ARMM)</td>\n",
       "      <td>Tawi-Tawi</td>\n",
       "      <td>24</td>\n",
       "      <td>71</td>\n",
       "      <td>92</td>\n",
       "      <td>5</td>\n",
       "      <td>4</td>\n",
       "      <td>5</td>\n",
       "      <td>0</td>\n",
       "      <td>15</td>\n",
       "      <td>0</td>\n",
       "      <td>2</td>\n",
       "      <td>218</td>\n",
       "    </tr>\n",
       "    <tr>\n",
       "      <th>35</th>\n",
       "      <td>Region III (Central Luzon)</td>\n",
       "      <td>Zambales</td>\n",
       "      <td>325</td>\n",
       "      <td>697</td>\n",
       "      <td>141</td>\n",
       "      <td>14</td>\n",
       "      <td>14</td>\n",
       "      <td>41</td>\n",
       "      <td>1</td>\n",
       "      <td>123</td>\n",
       "      <td>4</td>\n",
       "      <td>33</td>\n",
       "      <td>1393</td>\n",
       "    </tr>\n",
       "    <tr>\n",
       "      <th>42</th>\n",
       "      <td>Region IX (Zamboanga Peninsula)</td>\n",
       "      <td>Zamboanga Del Norte</td>\n",
       "      <td>172</td>\n",
       "      <td>285</td>\n",
       "      <td>266</td>\n",
       "      <td>13</td>\n",
       "      <td>11</td>\n",
       "      <td>59</td>\n",
       "      <td>0</td>\n",
       "      <td>54</td>\n",
       "      <td>2</td>\n",
       "      <td>10</td>\n",
       "      <td>872</td>\n",
       "    </tr>\n",
       "    <tr>\n",
       "      <th>43</th>\n",
       "      <td>Region IX (Zamboanga Peninsula)</td>\n",
       "      <td>Zamboanga Del Sur</td>\n",
       "      <td>589</td>\n",
       "      <td>1711</td>\n",
       "      <td>546</td>\n",
       "      <td>19</td>\n",
       "      <td>43</td>\n",
       "      <td>97</td>\n",
       "      <td>2</td>\n",
       "      <td>184</td>\n",
       "      <td>21</td>\n",
       "      <td>68</td>\n",
       "      <td>3280</td>\n",
       "    </tr>\n",
       "    <tr>\n",
       "      <th>44</th>\n",
       "      <td>Region IX (Zamboanga Peninsula)</td>\n",
       "      <td>Zamboanga Sibugay</td>\n",
       "      <td>91</td>\n",
       "      <td>229</td>\n",
       "      <td>112</td>\n",
       "      <td>12</td>\n",
       "      <td>7</td>\n",
       "      <td>90</td>\n",
       "      <td>0</td>\n",
       "      <td>40</td>\n",
       "      <td>0</td>\n",
       "      <td>12</td>\n",
       "      <td>593</td>\n",
       "    </tr>\n",
       "  </tbody>\n",
       "</table>\n",
       "<p>87 rows × 13 columns</p>\n",
       "</div>"
      ],
      "text/plain": [
       "                                         Region             Province  DOCTOR  \\\n",
       "5        Cordillera Administrative Region (CAR)                 Abra      68   \n",
       "82                         Region XIII (Caraga)     Agusan Del Norte     158   \n",
       "83                         Region XIII (Caraga)       Agusan Del Sur      61   \n",
       "51                  Region VI (Western Visayas)                Aklan     155   \n",
       "45                      Region V (Bicol Region)                Albay     411   \n",
       "..                                          ...                  ...     ...   \n",
       "4   Autonomous Region in Muslim Mindanao (ARMM)            Tawi-Tawi      24   \n",
       "35                   Region III (Central Luzon)             Zambales     325   \n",
       "42              Region IX (Zamboanga Peninsula)  Zamboanga Del Norte     172   \n",
       "43              Region IX (Zamboanga Peninsula)    Zamboanga Del Sur     589   \n",
       "44              Region IX (Zamboanga Peninsula)    Zamboanga Sibugay      91   \n",
       "\n",
       "    NURSE  MIDWIFE  DENTIST  NUTRITIONIST/DIETICIAN  PHARMACIST  \\\n",
       "5     275      128        5                       3           8   \n",
       "82    440      237       20                      10          30   \n",
       "83    196      165       14                       5          14   \n",
       "51    284      124       12                       9          19   \n",
       "45   1026      289       32                      22          35   \n",
       "..    ...      ...      ...                     ...         ...   \n",
       "4      71       92        5                       4           5   \n",
       "35    697      141       14                      14          41   \n",
       "42    285      266       13                      11          59   \n",
       "43   1711      546       19                      43          97   \n",
       "44    229      112       12                       7          90   \n",
       "\n",
       "    OCCUPATIONAL THERAPIST  MEDICAL TECHNOLOGIST  PHYSICAL THERAPIST  \\\n",
       "5                        0                    14                   0   \n",
       "82                       0                    65                   5   \n",
       "83                       0                    34                   0   \n",
       "51                       4                    30                   3   \n",
       "45                       2                   120                   7   \n",
       "..                     ...                   ...                 ...   \n",
       "4                        0                    15                   0   \n",
       "35                       1                   123                   4   \n",
       "42                       0                    54                   2   \n",
       "43                       2                   184                  21   \n",
       "44                       0                    40                   0   \n",
       "\n",
       "    RADIOLOGY TECHNOLOGIST  Total Health Personnel  \n",
       "5                        3                     504  \n",
       "82                      20                     985  \n",
       "83                       9                     498  \n",
       "51                       7                     647  \n",
       "45                      18                    1962  \n",
       "..                     ...                     ...  \n",
       "4                        2                     218  \n",
       "35                      33                    1393  \n",
       "42                      10                     872  \n",
       "43                      68                    3280  \n",
       "44                      12                     593  \n",
       "\n",
       "[87 rows x 13 columns]"
      ]
     },
     "execution_count": 253,
     "metadata": {},
     "output_type": "execute_result"
    }
   ],
   "source": [
    "# Health Personnel by City and Municipality \n",
    "df_health_personnel = pd.read_excel(r\"C:\\Users\\AlyssaRianthaNavarro\\Desktop\\Personal\\VSC\\data102_project\\data\\pre-disaster\\excel datasets\\health-personnel-by-city-municipality.xlsx\")\n",
    "\n",
    "df_health_personnel_by_region_and_province = df_health_personnel.groupby(['Region', 'Province'], as_index=False).agg(lambda x: sum(x))\n",
    "\n",
    "df_health_personnel_by_region_and_province['Total Health Personnel'] = df_health_personnel_by_region_and_province[['DOCTOR', 'NURSE', 'MIDWIFE', 'DENTIST', 'NUTRITIONIST/DIETICIAN', 'PHARMACIST', 'OCCUPATIONAL THERAPIST', 'MEDICAL TECHNOLOGIST', 'PHYSICAL THERAPIST', 'RADIOLOGY TECHNOLOGIST']].sum(axis = 1)\n",
    "\n",
    "df_health_personnel_by_region_and_province = df_health_personnel_by_region_and_province.sort_values(\"Province\")\n",
    "\n",
    "df_health_personnel_by_region_and_province"
   ]
  },
  {
   "cell_type": "code",
   "execution_count": 255,
   "metadata": {},
   "outputs": [
    {
     "data": {
      "text/html": [
       "<div>\n",
       "<style scoped>\n",
       "    .dataframe tbody tr th:only-of-type {\n",
       "        vertical-align: middle;\n",
       "    }\n",
       "\n",
       "    .dataframe tbody tr th {\n",
       "        vertical-align: top;\n",
       "    }\n",
       "\n",
       "    .dataframe thead th {\n",
       "        text-align: right;\n",
       "    }\n",
       "</style>\n",
       "<table border=\"1\" class=\"dataframe\">\n",
       "  <thead>\n",
       "    <tr style=\"text-align: right;\">\n",
       "      <th></th>\n",
       "      <th>Region</th>\n",
       "      <th>Province</th>\n",
       "      <th>Age_Group</th>\n",
       "      <th>Both</th>\n",
       "      <th>Male</th>\n",
       "      <th>Female</th>\n",
       "    </tr>\n",
       "  </thead>\n",
       "  <tbody>\n",
       "    <tr>\n",
       "      <th>0</th>\n",
       "      <td>NATIONAL CAPITAL REGION (NCR)</td>\n",
       "      <td>NCR, City of Manila, First District (Not a Pro...</td>\n",
       "      <td>0 - 4</td>\n",
       "      <td>169197</td>\n",
       "      <td>87379</td>\n",
       "      <td>81818</td>\n",
       "    </tr>\n",
       "    <tr>\n",
       "      <th>1</th>\n",
       "      <td>NATIONAL CAPITAL REGION (NCR)</td>\n",
       "      <td>NCR, City of Manila, First District (Not a Pro...</td>\n",
       "      <td>5 - 9</td>\n",
       "      <td>166219</td>\n",
       "      <td>86176</td>\n",
       "      <td>80043</td>\n",
       "    </tr>\n",
       "    <tr>\n",
       "      <th>2</th>\n",
       "      <td>NATIONAL CAPITAL REGION (NCR)</td>\n",
       "      <td>NCR, City of Manila, First District (Not a Pro...</td>\n",
       "      <td>10 - 14</td>\n",
       "      <td>158492</td>\n",
       "      <td>81613</td>\n",
       "      <td>76879</td>\n",
       "    </tr>\n",
       "    <tr>\n",
       "      <th>3</th>\n",
       "      <td>NATIONAL CAPITAL REGION (NCR)</td>\n",
       "      <td>NCR, City of Manila, First District (Not a Pro...</td>\n",
       "      <td>15 - 19</td>\n",
       "      <td>157479</td>\n",
       "      <td>79738</td>\n",
       "      <td>77741</td>\n",
       "    </tr>\n",
       "    <tr>\n",
       "      <th>4</th>\n",
       "      <td>NATIONAL CAPITAL REGION (NCR)</td>\n",
       "      <td>NCR, City of Manila, First District (Not a Pro...</td>\n",
       "      <td>20 - 24</td>\n",
       "      <td>179543</td>\n",
       "      <td>89862</td>\n",
       "      <td>89681</td>\n",
       "    </tr>\n",
       "    <tr>\n",
       "      <th>...</th>\n",
       "      <td>...</td>\n",
       "      <td>...</td>\n",
       "      <td>...</td>\n",
       "      <td>...</td>\n",
       "      <td>...</td>\n",
       "      <td>...</td>\n",
       "    </tr>\n",
       "    <tr>\n",
       "      <th>1474</th>\n",
       "      <td>Bangsamoro Autonomous Region in Muslim Mindana...</td>\n",
       "      <td>INTERIM PROVINCE (Composed of 63 barangays fro...</td>\n",
       "      <td>60 - 64</td>\n",
       "      <td>3543</td>\n",
       "      <td>1726</td>\n",
       "      <td>1817</td>\n",
       "    </tr>\n",
       "    <tr>\n",
       "      <th>1475</th>\n",
       "      <td>Bangsamoro Autonomous Region in Muslim Mindana...</td>\n",
       "      <td>INTERIM PROVINCE (Composed of 63 barangays fro...</td>\n",
       "      <td>65 - 69</td>\n",
       "      <td>2829</td>\n",
       "      <td>1347</td>\n",
       "      <td>1482</td>\n",
       "    </tr>\n",
       "    <tr>\n",
       "      <th>1476</th>\n",
       "      <td>Bangsamoro Autonomous Region in Muslim Mindana...</td>\n",
       "      <td>INTERIM PROVINCE (Composed of 63 barangays fro...</td>\n",
       "      <td>70 - 74</td>\n",
       "      <td>1866</td>\n",
       "      <td>900</td>\n",
       "      <td>966</td>\n",
       "    </tr>\n",
       "    <tr>\n",
       "      <th>1477</th>\n",
       "      <td>Bangsamoro Autonomous Region in Muslim Mindana...</td>\n",
       "      <td>INTERIM PROVINCE (Composed of 63 barangays fro...</td>\n",
       "      <td>75 - 79</td>\n",
       "      <td>1086</td>\n",
       "      <td>508</td>\n",
       "      <td>578</td>\n",
       "    </tr>\n",
       "    <tr>\n",
       "      <th>1478</th>\n",
       "      <td>Bangsamoro Autonomous Region in Muslim Mindana...</td>\n",
       "      <td>INTERIM PROVINCE (Composed of 63 barangays fro...</td>\n",
       "      <td>80 years and over</td>\n",
       "      <td>1153</td>\n",
       "      <td>504</td>\n",
       "      <td>649</td>\n",
       "    </tr>\n",
       "  </tbody>\n",
       "</table>\n",
       "<p>1479 rows × 6 columns</p>\n",
       "</div>"
      ],
      "text/plain": [
       "                                                 Region  \\\n",
       "0                         NATIONAL CAPITAL REGION (NCR)   \n",
       "1                         NATIONAL CAPITAL REGION (NCR)   \n",
       "2                         NATIONAL CAPITAL REGION (NCR)   \n",
       "3                         NATIONAL CAPITAL REGION (NCR)   \n",
       "4                         NATIONAL CAPITAL REGION (NCR)   \n",
       "...                                                 ...   \n",
       "1474  Bangsamoro Autonomous Region in Muslim Mindana...   \n",
       "1475  Bangsamoro Autonomous Region in Muslim Mindana...   \n",
       "1476  Bangsamoro Autonomous Region in Muslim Mindana...   \n",
       "1477  Bangsamoro Autonomous Region in Muslim Mindana...   \n",
       "1478  Bangsamoro Autonomous Region in Muslim Mindana...   \n",
       "\n",
       "                                               Province          Age_Group  \\\n",
       "0     NCR, City of Manila, First District (Not a Pro...              0 - 4   \n",
       "1     NCR, City of Manila, First District (Not a Pro...              5 - 9   \n",
       "2     NCR, City of Manila, First District (Not a Pro...            10 - 14   \n",
       "3     NCR, City of Manila, First District (Not a Pro...            15 - 19   \n",
       "4     NCR, City of Manila, First District (Not a Pro...            20 - 24   \n",
       "...                                                 ...                ...   \n",
       "1474  INTERIM PROVINCE (Composed of 63 barangays fro...            60 - 64   \n",
       "1475  INTERIM PROVINCE (Composed of 63 barangays fro...            65 - 69   \n",
       "1476  INTERIM PROVINCE (Composed of 63 barangays fro...            70 - 74   \n",
       "1477  INTERIM PROVINCE (Composed of 63 barangays fro...            75 - 79   \n",
       "1478  INTERIM PROVINCE (Composed of 63 barangays fro...  80 years and over   \n",
       "\n",
       "        Both   Male  Female  \n",
       "0     169197  87379   81818  \n",
       "1     166219  86176   80043  \n",
       "2     158492  81613   76879  \n",
       "3     157479  79738   77741  \n",
       "4     179543  89862   89681  \n",
       "...      ...    ...     ...  \n",
       "1474    3543   1726    1817  \n",
       "1475    2829   1347    1482  \n",
       "1476    1866    900     966  \n",
       "1477    1086    508     578  \n",
       "1478    1153    504     649  \n",
       "\n",
       "[1479 rows x 6 columns]"
      ]
     },
     "execution_count": 255,
     "metadata": {},
     "output_type": "execute_result"
    }
   ],
   "source": [
    "# PH Population (as of 2020)\n",
    "df_hh_population = pd.read_excel(r\"C:\\Users\\AlyssaRianthaNavarro\\Desktop\\Personal\\VSC\\data102_project\\data\\pre-disaster\\excel datasets\\hh_population.xlsx\",\n",
    "                                 'by province')\n",
    "df_hh_population"
   ]
  },
  {
   "cell_type": "code",
   "execution_count": 257,
   "metadata": {},
   "outputs": [
    {
     "data": {
      "text/html": [
       "<div>\n",
       "<style scoped>\n",
       "    .dataframe tbody tr th:only-of-type {\n",
       "        vertical-align: middle;\n",
       "    }\n",
       "\n",
       "    .dataframe tbody tr th {\n",
       "        vertical-align: top;\n",
       "    }\n",
       "\n",
       "    .dataframe thead th {\n",
       "        text-align: right;\n",
       "    }\n",
       "</style>\n",
       "<table border=\"1\" class=\"dataframe\">\n",
       "  <thead>\n",
       "    <tr style=\"text-align: right;\">\n",
       "      <th></th>\n",
       "      <th>Region</th>\n",
       "      <th>Province</th>\n",
       "      <th>Both</th>\n",
       "      <th>Male</th>\n",
       "      <th>Female</th>\n",
       "    </tr>\n",
       "  </thead>\n",
       "  <tbody>\n",
       "    <tr>\n",
       "      <th>6</th>\n",
       "      <td>Cordillera Administrative Region (CAR)</td>\n",
       "      <td>Abra</td>\n",
       "      <td>250309</td>\n",
       "      <td>127632</td>\n",
       "      <td>122677</td>\n",
       "    </tr>\n",
       "    <tr>\n",
       "      <th>82</th>\n",
       "      <td>Region XIII (Caraga)</td>\n",
       "      <td>Agusan Del Norte</td>\n",
       "      <td>757121</td>\n",
       "      <td>385987</td>\n",
       "      <td>371134</td>\n",
       "    </tr>\n",
       "    <tr>\n",
       "      <th>83</th>\n",
       "      <td>Region XIII (Caraga)</td>\n",
       "      <td>Agusan Del Sur</td>\n",
       "      <td>737991</td>\n",
       "      <td>383294</td>\n",
       "      <td>354697</td>\n",
       "    </tr>\n",
       "    <tr>\n",
       "      <th>52</th>\n",
       "      <td>Region VI (Western Visayas)</td>\n",
       "      <td>Aklan</td>\n",
       "      <td>612985</td>\n",
       "      <td>311800</td>\n",
       "      <td>301185</td>\n",
       "    </tr>\n",
       "    <tr>\n",
       "      <th>46</th>\n",
       "      <td>Region V (Bicol Region)</td>\n",
       "      <td>Albay</td>\n",
       "      <td>1372550</td>\n",
       "      <td>694002</td>\n",
       "      <td>678548</td>\n",
       "    </tr>\n",
       "    <tr>\n",
       "      <th>...</th>\n",
       "      <td>...</td>\n",
       "      <td>...</td>\n",
       "      <td>...</td>\n",
       "      <td>...</td>\n",
       "      <td>...</td>\n",
       "    </tr>\n",
       "    <tr>\n",
       "      <th>5</th>\n",
       "      <td>Bangsamoro Autonomous Region in Muslim Mindana...</td>\n",
       "      <td>Tawi-Tawi</td>\n",
       "      <td>438545</td>\n",
       "      <td>221374</td>\n",
       "      <td>217171</td>\n",
       "    </tr>\n",
       "    <tr>\n",
       "      <th>36</th>\n",
       "      <td>Region III (Central Luzon)</td>\n",
       "      <td>Zambales</td>\n",
       "      <td>906184</td>\n",
       "      <td>456601</td>\n",
       "      <td>449583</td>\n",
       "    </tr>\n",
       "    <tr>\n",
       "      <th>43</th>\n",
       "      <td>Region IX (Zamboanga Peninsula)</td>\n",
       "      <td>Zamboanga Del Norte</td>\n",
       "      <td>1046017</td>\n",
       "      <td>536041</td>\n",
       "      <td>509976</td>\n",
       "    </tr>\n",
       "    <tr>\n",
       "      <th>44</th>\n",
       "      <td>Region IX (Zamboanga Peninsula)</td>\n",
       "      <td>Zamboanga Del Sur</td>\n",
       "      <td>2017793</td>\n",
       "      <td>1022346</td>\n",
       "      <td>995447</td>\n",
       "    </tr>\n",
       "    <tr>\n",
       "      <th>45</th>\n",
       "      <td>Region IX (Zamboanga Peninsula)</td>\n",
       "      <td>Zamboanga Sibugay</td>\n",
       "      <td>668648</td>\n",
       "      <td>342356</td>\n",
       "      <td>326292</td>\n",
       "    </tr>\n",
       "  </tbody>\n",
       "</table>\n",
       "<p>87 rows × 5 columns</p>\n",
       "</div>"
      ],
      "text/plain": [
       "                                               Region             Province  \\\n",
       "6              Cordillera Administrative Region (CAR)                 Abra   \n",
       "82                               Region XIII (Caraga)     Agusan Del Norte   \n",
       "83                               Region XIII (Caraga)       Agusan Del Sur   \n",
       "52                        Region VI (Western Visayas)                Aklan   \n",
       "46                            Region V (Bicol Region)                Albay   \n",
       "..                                                ...                  ...   \n",
       "5   Bangsamoro Autonomous Region in Muslim Mindana...            Tawi-Tawi   \n",
       "36                         Region III (Central Luzon)             Zambales   \n",
       "43                    Region IX (Zamboanga Peninsula)  Zamboanga Del Norte   \n",
       "44                    Region IX (Zamboanga Peninsula)    Zamboanga Del Sur   \n",
       "45                    Region IX (Zamboanga Peninsula)    Zamboanga Sibugay   \n",
       "\n",
       "       Both     Male  Female  \n",
       "6    250309   127632  122677  \n",
       "82   757121   385987  371134  \n",
       "83   737991   383294  354697  \n",
       "52   612985   311800  301185  \n",
       "46  1372550   694002  678548  \n",
       "..      ...      ...     ...  \n",
       "5    438545   221374  217171  \n",
       "36   906184   456601  449583  \n",
       "43  1046017   536041  509976  \n",
       "44  2017793  1022346  995447  \n",
       "45   668648   342356  326292  \n",
       "\n",
       "[87 rows x 5 columns]"
      ]
     },
     "execution_count": 257,
     "metadata": {},
     "output_type": "execute_result"
    }
   ],
   "source": [
    "df_hh_population = df_hh_population.groupby(['Region', 'Province'], as_index=False).agg(lambda x: sum(x))\n",
    "df_hh_population = df_hh_population.sort_values(\"Province\")\n",
    "df_hh_population"
   ]
  },
  {
   "cell_type": "code",
   "execution_count": 176,
   "metadata": {},
   "outputs": [
    {
     "data": {
      "text/html": [
       "<div>\n",
       "<style scoped>\n",
       "    .dataframe tbody tr th:only-of-type {\n",
       "        vertical-align: middle;\n",
       "    }\n",
       "\n",
       "    .dataframe tbody tr th {\n",
       "        vertical-align: top;\n",
       "    }\n",
       "\n",
       "    .dataframe thead th {\n",
       "        text-align: right;\n",
       "    }\n",
       "</style>\n",
       "<table border=\"1\" class=\"dataframe\">\n",
       "  <thead>\n",
       "    <tr style=\"text-align: right;\">\n",
       "      <th></th>\n",
       "      <th>iso3</th>\n",
       "      <th>adm0_name</th>\n",
       "      <th>adm1_name</th>\n",
       "      <th>adm2_name</th>\n",
       "      <th>Cy_Freq</th>\n",
       "      <th>Cy_Class</th>\n",
       "      <th>Cy_Text</th>\n",
       "      <th>geometry</th>\n",
       "    </tr>\n",
       "  </thead>\n",
       "  <tbody>\n",
       "    <tr>\n",
       "      <th>0</th>\n",
       "      <td>PHL</td>\n",
       "      <td>Philippines</td>\n",
       "      <td>Region XIII</td>\n",
       "      <td>Surigao del Sur</td>\n",
       "      <td>1</td>\n",
       "      <td>1</td>\n",
       "      <td>Low</td>\n",
       "      <td>MULTIPOLYGON (((126.41750 7.96417, 126.41778 7...</td>\n",
       "    </tr>\n",
       "    <tr>\n",
       "      <th>1</th>\n",
       "      <td>PHL</td>\n",
       "      <td>Philippines</td>\n",
       "      <td>Region III</td>\n",
       "      <td>Tarlac</td>\n",
       "      <td>2</td>\n",
       "      <td>1</td>\n",
       "      <td>Low</td>\n",
       "      <td>POLYGON ((120.63007 15.73335, 120.63052 15.729...</td>\n",
       "    </tr>\n",
       "    <tr>\n",
       "      <th>2</th>\n",
       "      <td>PHL</td>\n",
       "      <td>Philippines</td>\n",
       "      <td>Autonomous region in Muslim Mindanao</td>\n",
       "      <td>Tawi-Tawi</td>\n",
       "      <td>0</td>\n",
       "      <td>0</td>\n",
       "      <td>Uncategorized</td>\n",
       "      <td>MULTIPOLYGON (((119.46694 4.58694, 119.46639 4...</td>\n",
       "    </tr>\n",
       "    <tr>\n",
       "      <th>3</th>\n",
       "      <td>PHL</td>\n",
       "      <td>Philippines</td>\n",
       "      <td>Region III</td>\n",
       "      <td>Zambales</td>\n",
       "      <td>4</td>\n",
       "      <td>2</td>\n",
       "      <td>Medium</td>\n",
       "      <td>MULTIPOLYGON (((120.08285 14.75048, 120.08222 ...</td>\n",
       "    </tr>\n",
       "    <tr>\n",
       "      <th>4</th>\n",
       "      <td>PHL</td>\n",
       "      <td>Philippines</td>\n",
       "      <td>Region VIII</td>\n",
       "      <td>Zamboanga del Norte</td>\n",
       "      <td>1</td>\n",
       "      <td>1</td>\n",
       "      <td>Low</td>\n",
       "      <td>MULTIPOLYGON (((122.09467 7.53152, 122.09467 7...</td>\n",
       "    </tr>\n",
       "    <tr>\n",
       "      <th>...</th>\n",
       "      <td>...</td>\n",
       "      <td>...</td>\n",
       "      <td>...</td>\n",
       "      <td>...</td>\n",
       "      <td>...</td>\n",
       "      <td>...</td>\n",
       "      <td>...</td>\n",
       "      <td>...</td>\n",
       "    </tr>\n",
       "    <tr>\n",
       "      <th>77</th>\n",
       "      <td>PHL</td>\n",
       "      <td>Philippines</td>\n",
       "      <td>Region IV-B</td>\n",
       "      <td>Oriental Mindoro</td>\n",
       "      <td>3</td>\n",
       "      <td>2</td>\n",
       "      <td>Medium</td>\n",
       "      <td>MULTIPOLYGON (((121.43574 12.20257, 121.43555 ...</td>\n",
       "    </tr>\n",
       "    <tr>\n",
       "      <th>78</th>\n",
       "      <td>PHL</td>\n",
       "      <td>Philippines</td>\n",
       "      <td>Region IV-B</td>\n",
       "      <td>Palawan</td>\n",
       "      <td>3</td>\n",
       "      <td>2</td>\n",
       "      <td>Medium</td>\n",
       "      <td>MULTIPOLYGON (((117.31389 7.51417, 117.31416 7...</td>\n",
       "    </tr>\n",
       "    <tr>\n",
       "      <th>79</th>\n",
       "      <td>PHL</td>\n",
       "      <td>Philippines</td>\n",
       "      <td>Region III</td>\n",
       "      <td>Pampanga</td>\n",
       "      <td>1</td>\n",
       "      <td>1</td>\n",
       "      <td>Low</td>\n",
       "      <td>MULTIPOLYGON (((120.61667 14.80000, 120.61584 ...</td>\n",
       "    </tr>\n",
       "    <tr>\n",
       "      <th>80</th>\n",
       "      <td>PHL</td>\n",
       "      <td>Philippines</td>\n",
       "      <td>Region I</td>\n",
       "      <td>Pangasinan</td>\n",
       "      <td>4</td>\n",
       "      <td>2</td>\n",
       "      <td>Medium</td>\n",
       "      <td>MULTIPOLYGON (((119.86505 15.81170, 119.86479 ...</td>\n",
       "    </tr>\n",
       "    <tr>\n",
       "      <th>81</th>\n",
       "      <td>PHL</td>\n",
       "      <td>Philippines</td>\n",
       "      <td>Region IV-A</td>\n",
       "      <td>Quezon</td>\n",
       "      <td>5</td>\n",
       "      <td>3</td>\n",
       "      <td>High</td>\n",
       "      <td>MULTIPOLYGON (((125.22166 10.43444, 125.22195 ...</td>\n",
       "    </tr>\n",
       "  </tbody>\n",
       "</table>\n",
       "<p>82 rows × 8 columns</p>\n",
       "</div>"
      ],
      "text/plain": [
       "   iso3    adm0_name                             adm1_name  \\\n",
       "0   PHL  Philippines                           Region XIII   \n",
       "1   PHL  Philippines                            Region III   \n",
       "2   PHL  Philippines  Autonomous region in Muslim Mindanao   \n",
       "3   PHL  Philippines                            Region III   \n",
       "4   PHL  Philippines                           Region VIII   \n",
       "..  ...          ...                                   ...   \n",
       "77  PHL  Philippines                           Region IV-B   \n",
       "78  PHL  Philippines                           Region IV-B   \n",
       "79  PHL  Philippines                            Region III   \n",
       "80  PHL  Philippines                              Region I   \n",
       "81  PHL  Philippines                           Region IV-A   \n",
       "\n",
       "              adm2_name  Cy_Freq  Cy_Class        Cy_Text  \\\n",
       "0       Surigao del Sur        1         1            Low   \n",
       "1                Tarlac        2         1            Low   \n",
       "2             Tawi-Tawi        0         0  Uncategorized   \n",
       "3              Zambales        4         2         Medium   \n",
       "4   Zamboanga del Norte        1         1            Low   \n",
       "..                  ...      ...       ...            ...   \n",
       "77     Oriental Mindoro        3         2         Medium   \n",
       "78              Palawan        3         2         Medium   \n",
       "79             Pampanga        1         1            Low   \n",
       "80           Pangasinan        4         2         Medium   \n",
       "81               Quezon        5         3           High   \n",
       "\n",
       "                                             geometry  \n",
       "0   MULTIPOLYGON (((126.41750 7.96417, 126.41778 7...  \n",
       "1   POLYGON ((120.63007 15.73335, 120.63052 15.729...  \n",
       "2   MULTIPOLYGON (((119.46694 4.58694, 119.46639 4...  \n",
       "3   MULTIPOLYGON (((120.08285 14.75048, 120.08222 ...  \n",
       "4   MULTIPOLYGON (((122.09467 7.53152, 122.09467 7...  \n",
       "..                                                ...  \n",
       "77  MULTIPOLYGON (((121.43574 12.20257, 121.43555 ...  \n",
       "78  MULTIPOLYGON (((117.31389 7.51417, 117.31416 7...  \n",
       "79  MULTIPOLYGON (((120.61667 14.80000, 120.61584 ...  \n",
       "80  MULTIPOLYGON (((119.86505 15.81170, 119.86479 ...  \n",
       "81  MULTIPOLYGON (((125.22166 10.43444, 125.22195 ...  \n",
       "\n",
       "[82 rows x 8 columns]"
      ]
     },
     "execution_count": 176,
     "metadata": {},
     "output_type": "execute_result"
    }
   ],
   "source": [
    "# Tropical Cyclone\n",
    "cyclone = gpd.read_file(r\"C:\\Users\\AlyssaRianthaNavarro\\Desktop\\Personal\\VSC\\data102_project\\data\\wfp-tropicalcyclone\\phl_ica_cycloneoccurrence_geonode_mar2014.shp\")\n",
    "cyclone"
   ]
  },
  {
   "cell_type": "code",
   "execution_count": 177,
   "metadata": {},
   "outputs": [
    {
     "data": {
      "text/html": [
       "<div>\n",
       "<style scoped>\n",
       "    .dataframe tbody tr th:only-of-type {\n",
       "        vertical-align: middle;\n",
       "    }\n",
       "\n",
       "    .dataframe tbody tr th {\n",
       "        vertical-align: top;\n",
       "    }\n",
       "\n",
       "    .dataframe thead th {\n",
       "        text-align: right;\n",
       "    }\n",
       "</style>\n",
       "<table border=\"1\" class=\"dataframe\">\n",
       "  <thead>\n",
       "    <tr style=\"text-align: right;\">\n",
       "      <th></th>\n",
       "      <th>iso3</th>\n",
       "      <th>adm0_name</th>\n",
       "      <th>adm1_name</th>\n",
       "      <th>adm2_name</th>\n",
       "      <th>AvgFLRisk</th>\n",
       "      <th>FloodClass</th>\n",
       "      <th>FloodText</th>\n",
       "      <th>geometry</th>\n",
       "    </tr>\n",
       "  </thead>\n",
       "  <tbody>\n",
       "    <tr>\n",
       "      <th>0</th>\n",
       "      <td>PHL</td>\n",
       "      <td>Philippines</td>\n",
       "      <td>Region XIII</td>\n",
       "      <td>Surigao del Sur</td>\n",
       "      <td>1.26059</td>\n",
       "      <td>4</td>\n",
       "      <td>Very High</td>\n",
       "      <td>MULTIPOLYGON (((126.41750 7.96417, 126.41778 7...</td>\n",
       "    </tr>\n",
       "    <tr>\n",
       "      <th>1</th>\n",
       "      <td>PHL</td>\n",
       "      <td>Philippines</td>\n",
       "      <td>Region III</td>\n",
       "      <td>Tarlac</td>\n",
       "      <td>1.84024</td>\n",
       "      <td>2</td>\n",
       "      <td>Medium</td>\n",
       "      <td>POLYGON ((120.63007 15.73335, 120.63052 15.729...</td>\n",
       "    </tr>\n",
       "    <tr>\n",
       "      <th>2</th>\n",
       "      <td>PHL</td>\n",
       "      <td>Philippines</td>\n",
       "      <td>Autonomous region in Muslim Mindanao</td>\n",
       "      <td>Tawi-Tawi</td>\n",
       "      <td>3.00000</td>\n",
       "      <td>1</td>\n",
       "      <td>Low</td>\n",
       "      <td>MULTIPOLYGON (((119.46694 4.58694, 119.46639 4...</td>\n",
       "    </tr>\n",
       "    <tr>\n",
       "      <th>3</th>\n",
       "      <td>PHL</td>\n",
       "      <td>Philippines</td>\n",
       "      <td>Region III</td>\n",
       "      <td>Zambales</td>\n",
       "      <td>1.84305</td>\n",
       "      <td>2</td>\n",
       "      <td>Medium</td>\n",
       "      <td>MULTIPOLYGON (((120.08285 14.75048, 120.08222 ...</td>\n",
       "    </tr>\n",
       "    <tr>\n",
       "      <th>4</th>\n",
       "      <td>PHL</td>\n",
       "      <td>Philippines</td>\n",
       "      <td>Region VIII</td>\n",
       "      <td>Zamboanga del Norte</td>\n",
       "      <td>2.01604</td>\n",
       "      <td>2</td>\n",
       "      <td>Medium</td>\n",
       "      <td>MULTIPOLYGON (((122.09467 7.53152, 122.09467 7...</td>\n",
       "    </tr>\n",
       "    <tr>\n",
       "      <th>...</th>\n",
       "      <td>...</td>\n",
       "      <td>...</td>\n",
       "      <td>...</td>\n",
       "      <td>...</td>\n",
       "      <td>...</td>\n",
       "      <td>...</td>\n",
       "      <td>...</td>\n",
       "      <td>...</td>\n",
       "    </tr>\n",
       "    <tr>\n",
       "      <th>77</th>\n",
       "      <td>PHL</td>\n",
       "      <td>Philippines</td>\n",
       "      <td>Region IV-B</td>\n",
       "      <td>Oriental Mindoro</td>\n",
       "      <td>1.42353</td>\n",
       "      <td>4</td>\n",
       "      <td>Very High</td>\n",
       "      <td>MULTIPOLYGON (((121.43574 12.20257, 121.43555 ...</td>\n",
       "    </tr>\n",
       "    <tr>\n",
       "      <th>78</th>\n",
       "      <td>PHL</td>\n",
       "      <td>Philippines</td>\n",
       "      <td>Region IV-B</td>\n",
       "      <td>Palawan</td>\n",
       "      <td>1.67662</td>\n",
       "      <td>3</td>\n",
       "      <td>High</td>\n",
       "      <td>MULTIPOLYGON (((117.31389 7.51417, 117.31416 7...</td>\n",
       "    </tr>\n",
       "    <tr>\n",
       "      <th>79</th>\n",
       "      <td>PHL</td>\n",
       "      <td>Philippines</td>\n",
       "      <td>Region III</td>\n",
       "      <td>Pampanga</td>\n",
       "      <td>1.57925</td>\n",
       "      <td>3</td>\n",
       "      <td>High</td>\n",
       "      <td>MULTIPOLYGON (((120.61667 14.80000, 120.61584 ...</td>\n",
       "    </tr>\n",
       "    <tr>\n",
       "      <th>80</th>\n",
       "      <td>PHL</td>\n",
       "      <td>Philippines</td>\n",
       "      <td>Region I</td>\n",
       "      <td>Pangasinan</td>\n",
       "      <td>1.61098</td>\n",
       "      <td>3</td>\n",
       "      <td>High</td>\n",
       "      <td>MULTIPOLYGON (((119.86505 15.81170, 119.86479 ...</td>\n",
       "    </tr>\n",
       "    <tr>\n",
       "      <th>81</th>\n",
       "      <td>PHL</td>\n",
       "      <td>Philippines</td>\n",
       "      <td>Region IV-A</td>\n",
       "      <td>Quezon</td>\n",
       "      <td>1.41379</td>\n",
       "      <td>4</td>\n",
       "      <td>Very High</td>\n",
       "      <td>MULTIPOLYGON (((125.22166 10.43444, 125.22195 ...</td>\n",
       "    </tr>\n",
       "  </tbody>\n",
       "</table>\n",
       "<p>82 rows × 8 columns</p>\n",
       "</div>"
      ],
      "text/plain": [
       "   iso3    adm0_name                             adm1_name  \\\n",
       "0   PHL  Philippines                           Region XIII   \n",
       "1   PHL  Philippines                            Region III   \n",
       "2   PHL  Philippines  Autonomous region in Muslim Mindanao   \n",
       "3   PHL  Philippines                            Region III   \n",
       "4   PHL  Philippines                           Region VIII   \n",
       "..  ...          ...                                   ...   \n",
       "77  PHL  Philippines                           Region IV-B   \n",
       "78  PHL  Philippines                           Region IV-B   \n",
       "79  PHL  Philippines                            Region III   \n",
       "80  PHL  Philippines                              Region I   \n",
       "81  PHL  Philippines                           Region IV-A   \n",
       "\n",
       "              adm2_name  AvgFLRisk  FloodClass  FloodText  \\\n",
       "0       Surigao del Sur    1.26059           4  Very High   \n",
       "1                Tarlac    1.84024           2     Medium   \n",
       "2             Tawi-Tawi    3.00000           1        Low   \n",
       "3              Zambales    1.84305           2     Medium   \n",
       "4   Zamboanga del Norte    2.01604           2     Medium   \n",
       "..                  ...        ...         ...        ...   \n",
       "77     Oriental Mindoro    1.42353           4  Very High   \n",
       "78              Palawan    1.67662           3       High   \n",
       "79             Pampanga    1.57925           3       High   \n",
       "80           Pangasinan    1.61098           3       High   \n",
       "81               Quezon    1.41379           4  Very High   \n",
       "\n",
       "                                             geometry  \n",
       "0   MULTIPOLYGON (((126.41750 7.96417, 126.41778 7...  \n",
       "1   POLYGON ((120.63007 15.73335, 120.63052 15.729...  \n",
       "2   MULTIPOLYGON (((119.46694 4.58694, 119.46639 4...  \n",
       "3   MULTIPOLYGON (((120.08285 14.75048, 120.08222 ...  \n",
       "4   MULTIPOLYGON (((122.09467 7.53152, 122.09467 7...  \n",
       "..                                                ...  \n",
       "77  MULTIPOLYGON (((121.43574 12.20257, 121.43555 ...  \n",
       "78  MULTIPOLYGON (((117.31389 7.51417, 117.31416 7...  \n",
       "79  MULTIPOLYGON (((120.61667 14.80000, 120.61584 ...  \n",
       "80  MULTIPOLYGON (((119.86505 15.81170, 119.86479 ...  \n",
       "81  MULTIPOLYGON (((125.22166 10.43444, 125.22195 ...  \n",
       "\n",
       "[82 rows x 8 columns]"
      ]
     },
     "execution_count": 177,
     "metadata": {},
     "output_type": "execute_result"
    }
   ],
   "source": [
    "# Flood Risk \n",
    "flood = gpd.read_file(r\"data/wfp-flood/phl_ica_floodrisk_geonode_mar2014.shp\")\n",
    "flood"
   ]
  },
  {
   "cell_type": "code",
   "execution_count": 178,
   "metadata": {},
   "outputs": [
    {
     "data": {
      "text/html": [
       "<div>\n",
       "<style scoped>\n",
       "    .dataframe tbody tr th:only-of-type {\n",
       "        vertical-align: middle;\n",
       "    }\n",
       "\n",
       "    .dataframe tbody tr th {\n",
       "        vertical-align: top;\n",
       "    }\n",
       "\n",
       "    .dataframe thead th {\n",
       "        text-align: right;\n",
       "    }\n",
       "</style>\n",
       "<table border=\"1\" class=\"dataframe\">\n",
       "  <thead>\n",
       "    <tr style=\"text-align: right;\">\n",
       "      <th></th>\n",
       "      <th>iso3</th>\n",
       "      <th>adm0_name</th>\n",
       "      <th>adm1_name</th>\n",
       "      <th>adm2_name</th>\n",
       "      <th>LS_Risk</th>\n",
       "      <th>LS_Class</th>\n",
       "      <th>LS_Text</th>\n",
       "      <th>geometry</th>\n",
       "    </tr>\n",
       "  </thead>\n",
       "  <tbody>\n",
       "    <tr>\n",
       "      <th>0</th>\n",
       "      <td>PHL</td>\n",
       "      <td>Philippines</td>\n",
       "      <td>Region XIII</td>\n",
       "      <td>Surigao del Sur</td>\n",
       "      <td>2.25407</td>\n",
       "      <td>2</td>\n",
       "      <td>Medium</td>\n",
       "      <td>MULTIPOLYGON (((126.41750 7.96417, 126.41778 7...</td>\n",
       "    </tr>\n",
       "    <tr>\n",
       "      <th>1</th>\n",
       "      <td>PHL</td>\n",
       "      <td>Philippines</td>\n",
       "      <td>Region III</td>\n",
       "      <td>Tarlac</td>\n",
       "      <td>2.91716</td>\n",
       "      <td>1</td>\n",
       "      <td>Low</td>\n",
       "      <td>POLYGON ((120.63007 15.73335, 120.63052 15.729...</td>\n",
       "    </tr>\n",
       "    <tr>\n",
       "      <th>2</th>\n",
       "      <td>PHL</td>\n",
       "      <td>Philippines</td>\n",
       "      <td>Autonomous region in Muslim Mindanao</td>\n",
       "      <td>Tawi-Tawi</td>\n",
       "      <td>1.00000</td>\n",
       "      <td>4</td>\n",
       "      <td>Very high</td>\n",
       "      <td>MULTIPOLYGON (((119.46694 4.58694, 119.46639 4...</td>\n",
       "    </tr>\n",
       "    <tr>\n",
       "      <th>3</th>\n",
       "      <td>PHL</td>\n",
       "      <td>Philippines</td>\n",
       "      <td>Region III</td>\n",
       "      <td>Zambales</td>\n",
       "      <td>2.72197</td>\n",
       "      <td>1</td>\n",
       "      <td>Low</td>\n",
       "      <td>MULTIPOLYGON (((120.08285 14.75048, 120.08222 ...</td>\n",
       "    </tr>\n",
       "    <tr>\n",
       "      <th>4</th>\n",
       "      <td>PHL</td>\n",
       "      <td>Philippines</td>\n",
       "      <td>Region VIII</td>\n",
       "      <td>Zamboanga del Norte</td>\n",
       "      <td>1.96939</td>\n",
       "      <td>3</td>\n",
       "      <td>High</td>\n",
       "      <td>MULTIPOLYGON (((122.09467 7.53152, 122.09467 7...</td>\n",
       "    </tr>\n",
       "    <tr>\n",
       "      <th>...</th>\n",
       "      <td>...</td>\n",
       "      <td>...</td>\n",
       "      <td>...</td>\n",
       "      <td>...</td>\n",
       "      <td>...</td>\n",
       "      <td>...</td>\n",
       "      <td>...</td>\n",
       "      <td>...</td>\n",
       "    </tr>\n",
       "    <tr>\n",
       "      <th>77</th>\n",
       "      <td>PHL</td>\n",
       "      <td>Philippines</td>\n",
       "      <td>Region IV-B</td>\n",
       "      <td>Oriental Mindoro</td>\n",
       "      <td>2.09390</td>\n",
       "      <td>3</td>\n",
       "      <td>High</td>\n",
       "      <td>MULTIPOLYGON (((121.43574 12.20257, 121.43555 ...</td>\n",
       "    </tr>\n",
       "    <tr>\n",
       "      <th>78</th>\n",
       "      <td>PHL</td>\n",
       "      <td>Philippines</td>\n",
       "      <td>Region IV-B</td>\n",
       "      <td>Palawan</td>\n",
       "      <td>2.02488</td>\n",
       "      <td>3</td>\n",
       "      <td>High</td>\n",
       "      <td>MULTIPOLYGON (((117.31389 7.51417, 117.31416 7...</td>\n",
       "    </tr>\n",
       "    <tr>\n",
       "      <th>79</th>\n",
       "      <td>PHL</td>\n",
       "      <td>Philippines</td>\n",
       "      <td>Region III</td>\n",
       "      <td>Pampanga</td>\n",
       "      <td>2.95122</td>\n",
       "      <td>1</td>\n",
       "      <td>Low</td>\n",
       "      <td>MULTIPOLYGON (((120.61667 14.80000, 120.61584 ...</td>\n",
       "    </tr>\n",
       "    <tr>\n",
       "      <th>80</th>\n",
       "      <td>PHL</td>\n",
       "      <td>Philippines</td>\n",
       "      <td>Region I</td>\n",
       "      <td>Pangasinan</td>\n",
       "      <td>2.74803</td>\n",
       "      <td>1</td>\n",
       "      <td>Low</td>\n",
       "      <td>MULTIPOLYGON (((119.86505 15.81170, 119.86479 ...</td>\n",
       "    </tr>\n",
       "    <tr>\n",
       "      <th>81</th>\n",
       "      <td>PHL</td>\n",
       "      <td>Philippines</td>\n",
       "      <td>Region IV-A</td>\n",
       "      <td>Quezon</td>\n",
       "      <td>2.20690</td>\n",
       "      <td>2</td>\n",
       "      <td>Medium</td>\n",
       "      <td>MULTIPOLYGON (((125.22166 10.43444, 125.22195 ...</td>\n",
       "    </tr>\n",
       "  </tbody>\n",
       "</table>\n",
       "<p>82 rows × 8 columns</p>\n",
       "</div>"
      ],
      "text/plain": [
       "   iso3    adm0_name                             adm1_name  \\\n",
       "0   PHL  Philippines                           Region XIII   \n",
       "1   PHL  Philippines                            Region III   \n",
       "2   PHL  Philippines  Autonomous region in Muslim Mindanao   \n",
       "3   PHL  Philippines                            Region III   \n",
       "4   PHL  Philippines                           Region VIII   \n",
       "..  ...          ...                                   ...   \n",
       "77  PHL  Philippines                           Region IV-B   \n",
       "78  PHL  Philippines                           Region IV-B   \n",
       "79  PHL  Philippines                            Region III   \n",
       "80  PHL  Philippines                              Region I   \n",
       "81  PHL  Philippines                           Region IV-A   \n",
       "\n",
       "              adm2_name  LS_Risk  LS_Class    LS_Text  \\\n",
       "0       Surigao del Sur  2.25407         2     Medium   \n",
       "1                Tarlac  2.91716         1        Low   \n",
       "2             Tawi-Tawi  1.00000         4  Very high   \n",
       "3              Zambales  2.72197         1        Low   \n",
       "4   Zamboanga del Norte  1.96939         3       High   \n",
       "..                  ...      ...       ...        ...   \n",
       "77     Oriental Mindoro  2.09390         3       High   \n",
       "78              Palawan  2.02488         3       High   \n",
       "79             Pampanga  2.95122         1        Low   \n",
       "80           Pangasinan  2.74803         1        Low   \n",
       "81               Quezon  2.20690         2     Medium   \n",
       "\n",
       "                                             geometry  \n",
       "0   MULTIPOLYGON (((126.41750 7.96417, 126.41778 7...  \n",
       "1   POLYGON ((120.63007 15.73335, 120.63052 15.729...  \n",
       "2   MULTIPOLYGON (((119.46694 4.58694, 119.46639 4...  \n",
       "3   MULTIPOLYGON (((120.08285 14.75048, 120.08222 ...  \n",
       "4   MULTIPOLYGON (((122.09467 7.53152, 122.09467 7...  \n",
       "..                                                ...  \n",
       "77  MULTIPOLYGON (((121.43574 12.20257, 121.43555 ...  \n",
       "78  MULTIPOLYGON (((117.31389 7.51417, 117.31416 7...  \n",
       "79  MULTIPOLYGON (((120.61667 14.80000, 120.61584 ...  \n",
       "80  MULTIPOLYGON (((119.86505 15.81170, 119.86479 ...  \n",
       "81  MULTIPOLYGON (((125.22166 10.43444, 125.22195 ...  \n",
       "\n",
       "[82 rows x 8 columns]"
      ]
     },
     "execution_count": 178,
     "metadata": {},
     "output_type": "execute_result"
    }
   ],
   "source": [
    "# Landslide\n",
    "landslide = gpd.read_file(r\"C:\\Users\\AlyssaRianthaNavarro\\Desktop\\Personal\\VSC\\data102_project\\data\\wfp-landslide\\phl_ica_landsliderisk_geonode_mar2014.shp\")\n",
    "landslide"
   ]
  },
  {
   "cell_type": "code",
   "execution_count": 264,
   "metadata": {},
   "outputs": [
    {
     "data": {
      "text/html": [
       "<div>\n",
       "<style scoped>\n",
       "    .dataframe tbody tr th:only-of-type {\n",
       "        vertical-align: middle;\n",
       "    }\n",
       "\n",
       "    .dataframe tbody tr th {\n",
       "        vertical-align: top;\n",
       "    }\n",
       "\n",
       "    .dataframe thead th {\n",
       "        text-align: right;\n",
       "    }\n",
       "</style>\n",
       "<table border=\"1\" class=\"dataframe\">\n",
       "  <thead>\n",
       "    <tr style=\"text-align: right;\">\n",
       "      <th></th>\n",
       "      <th>iso3</th>\n",
       "      <th>adm0_name</th>\n",
       "      <th>adm1_name</th>\n",
       "      <th>adm2_name</th>\n",
       "      <th>Cy_Freq</th>\n",
       "      <th>Cy_Class</th>\n",
       "      <th>Cy_Text</th>\n",
       "      <th>geometry</th>\n",
       "      <th>AvgFLRisk</th>\n",
       "      <th>FloodClass</th>\n",
       "      <th>FloodText</th>\n",
       "      <th>LS_Risk</th>\n",
       "      <th>LS_Class</th>\n",
       "      <th>LS_Text</th>\n",
       "    </tr>\n",
       "  </thead>\n",
       "  <tbody>\n",
       "    <tr>\n",
       "      <th>7</th>\n",
       "      <td>PHL</td>\n",
       "      <td>Philippines</td>\n",
       "      <td>Cordillera Administrative region</td>\n",
       "      <td>Abra</td>\n",
       "      <td>3</td>\n",
       "      <td>2</td>\n",
       "      <td>Medium</td>\n",
       "      <td>POLYGON ((120.96795 17.95706, 120.97803 17.949...</td>\n",
       "      <td>2.28146</td>\n",
       "      <td>1</td>\n",
       "      <td>Low</td>\n",
       "      <td>1.99338</td>\n",
       "      <td>3</td>\n",
       "      <td>High</td>\n",
       "    </tr>\n",
       "    <tr>\n",
       "      <th>8</th>\n",
       "      <td>PHL</td>\n",
       "      <td>Philippines</td>\n",
       "      <td>Region XIII</td>\n",
       "      <td>Agusan del Norte</td>\n",
       "      <td>0</td>\n",
       "      <td>0</td>\n",
       "      <td>Uncategorized</td>\n",
       "      <td>POLYGON ((125.57724 9.45679, 125.59687 9.45509...</td>\n",
       "      <td>1.20565</td>\n",
       "      <td>4</td>\n",
       "      <td>Very High</td>\n",
       "      <td>2.52823</td>\n",
       "      <td>2</td>\n",
       "      <td>Medium</td>\n",
       "    </tr>\n",
       "    <tr>\n",
       "      <th>9</th>\n",
       "      <td>PHL</td>\n",
       "      <td>Philippines</td>\n",
       "      <td>Region XIII</td>\n",
       "      <td>Agusan del Sur</td>\n",
       "      <td>1</td>\n",
       "      <td>1</td>\n",
       "      <td>Low</td>\n",
       "      <td>POLYGON ((125.91087 8.85625, 125.91461 8.85211...</td>\n",
       "      <td>1.11696</td>\n",
       "      <td>4</td>\n",
       "      <td>Very High</td>\n",
       "      <td>2.84795</td>\n",
       "      <td>1</td>\n",
       "      <td>Low</td>\n",
       "    </tr>\n",
       "    <tr>\n",
       "      <th>10</th>\n",
       "      <td>PHL</td>\n",
       "      <td>Philippines</td>\n",
       "      <td>Region VI</td>\n",
       "      <td>Aklan</td>\n",
       "      <td>1</td>\n",
       "      <td>1</td>\n",
       "      <td>Low</td>\n",
       "      <td>MULTIPOLYGON (((122.43667 11.59833, 122.43667 ...</td>\n",
       "      <td>1.70934</td>\n",
       "      <td>3</td>\n",
       "      <td>High</td>\n",
       "      <td>2.44291</td>\n",
       "      <td>2</td>\n",
       "      <td>Medium</td>\n",
       "    </tr>\n",
       "    <tr>\n",
       "      <th>11</th>\n",
       "      <td>PHL</td>\n",
       "      <td>Philippines</td>\n",
       "      <td>Region V</td>\n",
       "      <td>Albay</td>\n",
       "      <td>2</td>\n",
       "      <td>1</td>\n",
       "      <td>Low</td>\n",
       "      <td>MULTIPOLYGON (((123.28764 13.04923, 123.28686 ...</td>\n",
       "      <td>1.06400</td>\n",
       "      <td>4</td>\n",
       "      <td>Very High</td>\n",
       "      <td>2.69600</td>\n",
       "      <td>1</td>\n",
       "      <td>Low</td>\n",
       "    </tr>\n",
       "    <tr>\n",
       "      <th>...</th>\n",
       "      <td>...</td>\n",
       "      <td>...</td>\n",
       "      <td>...</td>\n",
       "      <td>...</td>\n",
       "      <td>...</td>\n",
       "      <td>...</td>\n",
       "      <td>...</td>\n",
       "      <td>...</td>\n",
       "      <td>...</td>\n",
       "      <td>...</td>\n",
       "      <td>...</td>\n",
       "      <td>...</td>\n",
       "      <td>...</td>\n",
       "      <td>...</td>\n",
       "    </tr>\n",
       "    <tr>\n",
       "      <th>2</th>\n",
       "      <td>PHL</td>\n",
       "      <td>Philippines</td>\n",
       "      <td>Autonomous region in Muslim Mindanao</td>\n",
       "      <td>Tawi-Tawi</td>\n",
       "      <td>0</td>\n",
       "      <td>0</td>\n",
       "      <td>Uncategorized</td>\n",
       "      <td>MULTIPOLYGON (((119.46694 4.58694, 119.46639 4...</td>\n",
       "      <td>3.00000</td>\n",
       "      <td>1</td>\n",
       "      <td>Low</td>\n",
       "      <td>1.00000</td>\n",
       "      <td>4</td>\n",
       "      <td>Very high</td>\n",
       "    </tr>\n",
       "    <tr>\n",
       "      <th>3</th>\n",
       "      <td>PHL</td>\n",
       "      <td>Philippines</td>\n",
       "      <td>Region III</td>\n",
       "      <td>Zambales</td>\n",
       "      <td>4</td>\n",
       "      <td>2</td>\n",
       "      <td>Medium</td>\n",
       "      <td>MULTIPOLYGON (((120.08285 14.75048, 120.08222 ...</td>\n",
       "      <td>1.84305</td>\n",
       "      <td>2</td>\n",
       "      <td>Medium</td>\n",
       "      <td>2.72197</td>\n",
       "      <td>1</td>\n",
       "      <td>Low</td>\n",
       "    </tr>\n",
       "    <tr>\n",
       "      <th>6</th>\n",
       "      <td>PHL</td>\n",
       "      <td>Philippines</td>\n",
       "      <td>Region VIII</td>\n",
       "      <td>Zamboanga Sibugay</td>\n",
       "      <td>0</td>\n",
       "      <td>0</td>\n",
       "      <td>Uncategorized</td>\n",
       "      <td>MULTIPOLYGON (((122.84063 7.27694, 122.84048 7...</td>\n",
       "      <td>1.75389</td>\n",
       "      <td>3</td>\n",
       "      <td>High</td>\n",
       "      <td>1.91451</td>\n",
       "      <td>3</td>\n",
       "      <td>High</td>\n",
       "    </tr>\n",
       "    <tr>\n",
       "      <th>4</th>\n",
       "      <td>PHL</td>\n",
       "      <td>Philippines</td>\n",
       "      <td>Region VIII</td>\n",
       "      <td>Zamboanga del Norte</td>\n",
       "      <td>1</td>\n",
       "      <td>1</td>\n",
       "      <td>Low</td>\n",
       "      <td>MULTIPOLYGON (((122.09467 7.53152, 122.09467 7...</td>\n",
       "      <td>2.01604</td>\n",
       "      <td>2</td>\n",
       "      <td>Medium</td>\n",
       "      <td>1.96939</td>\n",
       "      <td>3</td>\n",
       "      <td>High</td>\n",
       "    </tr>\n",
       "    <tr>\n",
       "      <th>5</th>\n",
       "      <td>PHL</td>\n",
       "      <td>Philippines</td>\n",
       "      <td>Region VIII</td>\n",
       "      <td>Zamboanga del Sur</td>\n",
       "      <td>0</td>\n",
       "      <td>0</td>\n",
       "      <td>Uncategorized</td>\n",
       "      <td>MULTIPOLYGON (((122.06223 6.87278, 122.06250 6...</td>\n",
       "      <td>1.87203</td>\n",
       "      <td>2</td>\n",
       "      <td>Medium</td>\n",
       "      <td>1.94591</td>\n",
       "      <td>3</td>\n",
       "      <td>High</td>\n",
       "    </tr>\n",
       "  </tbody>\n",
       "</table>\n",
       "<p>82 rows × 14 columns</p>\n",
       "</div>"
      ],
      "text/plain": [
       "   iso3    adm0_name                             adm1_name  \\\n",
       "7   PHL  Philippines      Cordillera Administrative region   \n",
       "8   PHL  Philippines                           Region XIII   \n",
       "9   PHL  Philippines                           Region XIII   \n",
       "10  PHL  Philippines                             Region VI   \n",
       "11  PHL  Philippines                              Region V   \n",
       "..  ...          ...                                   ...   \n",
       "2   PHL  Philippines  Autonomous region in Muslim Mindanao   \n",
       "3   PHL  Philippines                            Region III   \n",
       "6   PHL  Philippines                           Region VIII   \n",
       "4   PHL  Philippines                           Region VIII   \n",
       "5   PHL  Philippines                           Region VIII   \n",
       "\n",
       "              adm2_name  Cy_Freq  Cy_Class        Cy_Text  \\\n",
       "7                  Abra        3         2         Medium   \n",
       "8      Agusan del Norte        0         0  Uncategorized   \n",
       "9        Agusan del Sur        1         1            Low   \n",
       "10                Aklan        1         1            Low   \n",
       "11                Albay        2         1            Low   \n",
       "..                  ...      ...       ...            ...   \n",
       "2             Tawi-Tawi        0         0  Uncategorized   \n",
       "3              Zambales        4         2         Medium   \n",
       "6     Zamboanga Sibugay        0         0  Uncategorized   \n",
       "4   Zamboanga del Norte        1         1            Low   \n",
       "5     Zamboanga del Sur        0         0  Uncategorized   \n",
       "\n",
       "                                             geometry  AvgFLRisk  FloodClass  \\\n",
       "7   POLYGON ((120.96795 17.95706, 120.97803 17.949...    2.28146           1   \n",
       "8   POLYGON ((125.57724 9.45679, 125.59687 9.45509...    1.20565           4   \n",
       "9   POLYGON ((125.91087 8.85625, 125.91461 8.85211...    1.11696           4   \n",
       "10  MULTIPOLYGON (((122.43667 11.59833, 122.43667 ...    1.70934           3   \n",
       "11  MULTIPOLYGON (((123.28764 13.04923, 123.28686 ...    1.06400           4   \n",
       "..                                                ...        ...         ...   \n",
       "2   MULTIPOLYGON (((119.46694 4.58694, 119.46639 4...    3.00000           1   \n",
       "3   MULTIPOLYGON (((120.08285 14.75048, 120.08222 ...    1.84305           2   \n",
       "6   MULTIPOLYGON (((122.84063 7.27694, 122.84048 7...    1.75389           3   \n",
       "4   MULTIPOLYGON (((122.09467 7.53152, 122.09467 7...    2.01604           2   \n",
       "5   MULTIPOLYGON (((122.06223 6.87278, 122.06250 6...    1.87203           2   \n",
       "\n",
       "    FloodText  LS_Risk  LS_Class    LS_Text  \n",
       "7         Low  1.99338         3       High  \n",
       "8   Very High  2.52823         2     Medium  \n",
       "9   Very High  2.84795         1        Low  \n",
       "10       High  2.44291         2     Medium  \n",
       "11  Very High  2.69600         1        Low  \n",
       "..        ...      ...       ...        ...  \n",
       "2         Low  1.00000         4  Very high  \n",
       "3      Medium  2.72197         1        Low  \n",
       "6        High  1.91451         3       High  \n",
       "4      Medium  1.96939         3       High  \n",
       "5      Medium  1.94591         3       High  \n",
       "\n",
       "[82 rows x 14 columns]"
      ]
     },
     "execution_count": 264,
     "metadata": {},
     "output_type": "execute_result"
    }
   ],
   "source": [
    "# Combined Aggregate Risk \n",
    "aggregate = cyclone.join(flood.set_index(['adm2_name', 'iso3','adm0_name','adm1_name', 'geometry']), on=['adm2_name', 'iso3','adm0_name','adm1_name','geometry'], how='left')\n",
    "aggregate_risk = aggregate.join(landslide.set_index(['adm2_name', 'iso3','adm0_name','adm1_name','geometry']), on=['adm2_name', 'iso3','adm0_name','adm1_name','geometry'], how='left')\n",
    "aggregate_risk = aggregate_risk.sort_values(\"adm2_name\")\n",
    "\n",
    "aggregate_risk"
   ]
  },
  {
   "cell_type": "markdown",
   "metadata": {},
   "source": [
    "### CREATING NEW DF"
   ]
  },
  {
   "cell_type": "code",
   "execution_count": 259,
   "metadata": {},
   "outputs": [
    {
     "data": {
      "text/html": [
       "<div>\n",
       "<style scoped>\n",
       "    .dataframe tbody tr th:only-of-type {\n",
       "        vertical-align: middle;\n",
       "    }\n",
       "\n",
       "    .dataframe tbody tr th {\n",
       "        vertical-align: top;\n",
       "    }\n",
       "\n",
       "    .dataframe thead th {\n",
       "        text-align: right;\n",
       "    }\n",
       "</style>\n",
       "<table border=\"1\" class=\"dataframe\">\n",
       "  <thead>\n",
       "    <tr style=\"text-align: right;\">\n",
       "      <th></th>\n",
       "      <th>Region</th>\n",
       "      <th>Province</th>\n",
       "      <th>Total Population</th>\n",
       "    </tr>\n",
       "  </thead>\n",
       "  <tbody>\n",
       "    <tr>\n",
       "      <th>6</th>\n",
       "      <td>Cordillera Administrative Region (CAR)</td>\n",
       "      <td>Abra</td>\n",
       "      <td>250309</td>\n",
       "    </tr>\n",
       "    <tr>\n",
       "      <th>82</th>\n",
       "      <td>Region XIII (Caraga)</td>\n",
       "      <td>Agusan Del Norte</td>\n",
       "      <td>757121</td>\n",
       "    </tr>\n",
       "    <tr>\n",
       "      <th>83</th>\n",
       "      <td>Region XIII (Caraga)</td>\n",
       "      <td>Agusan Del Sur</td>\n",
       "      <td>737991</td>\n",
       "    </tr>\n",
       "    <tr>\n",
       "      <th>52</th>\n",
       "      <td>Region VI (Western Visayas)</td>\n",
       "      <td>Aklan</td>\n",
       "      <td>612985</td>\n",
       "    </tr>\n",
       "    <tr>\n",
       "      <th>46</th>\n",
       "      <td>Region V (Bicol Region)</td>\n",
       "      <td>Albay</td>\n",
       "      <td>1372550</td>\n",
       "    </tr>\n",
       "    <tr>\n",
       "      <th>...</th>\n",
       "      <td>...</td>\n",
       "      <td>...</td>\n",
       "      <td>...</td>\n",
       "    </tr>\n",
       "    <tr>\n",
       "      <th>5</th>\n",
       "      <td>Bangsamoro Autonomous Region in Muslim Mindana...</td>\n",
       "      <td>Tawi-Tawi</td>\n",
       "      <td>438545</td>\n",
       "    </tr>\n",
       "    <tr>\n",
       "      <th>36</th>\n",
       "      <td>Region III (Central Luzon)</td>\n",
       "      <td>Zambales</td>\n",
       "      <td>906184</td>\n",
       "    </tr>\n",
       "    <tr>\n",
       "      <th>43</th>\n",
       "      <td>Region IX (Zamboanga Peninsula)</td>\n",
       "      <td>Zamboanga Del Norte</td>\n",
       "      <td>1046017</td>\n",
       "    </tr>\n",
       "    <tr>\n",
       "      <th>44</th>\n",
       "      <td>Region IX (Zamboanga Peninsula)</td>\n",
       "      <td>Zamboanga Del Sur</td>\n",
       "      <td>2017793</td>\n",
       "    </tr>\n",
       "    <tr>\n",
       "      <th>45</th>\n",
       "      <td>Region IX (Zamboanga Peninsula)</td>\n",
       "      <td>Zamboanga Sibugay</td>\n",
       "      <td>668648</td>\n",
       "    </tr>\n",
       "  </tbody>\n",
       "</table>\n",
       "<p>87 rows × 3 columns</p>\n",
       "</div>"
      ],
      "text/plain": [
       "                                               Region             Province  \\\n",
       "6              Cordillera Administrative Region (CAR)                 Abra   \n",
       "82                               Region XIII (Caraga)     Agusan Del Norte   \n",
       "83                               Region XIII (Caraga)       Agusan Del Sur   \n",
       "52                        Region VI (Western Visayas)                Aklan   \n",
       "46                            Region V (Bicol Region)                Albay   \n",
       "..                                                ...                  ...   \n",
       "5   Bangsamoro Autonomous Region in Muslim Mindana...            Tawi-Tawi   \n",
       "36                         Region III (Central Luzon)             Zambales   \n",
       "43                    Region IX (Zamboanga Peninsula)  Zamboanga Del Norte   \n",
       "44                    Region IX (Zamboanga Peninsula)    Zamboanga Del Sur   \n",
       "45                    Region IX (Zamboanga Peninsula)    Zamboanga Sibugay   \n",
       "\n",
       "    Total Population  \n",
       "6             250309  \n",
       "82            757121  \n",
       "83            737991  \n",
       "52            612985  \n",
       "46           1372550  \n",
       "..               ...  \n",
       "5             438545  \n",
       "36            906184  \n",
       "43           1046017  \n",
       "44           2017793  \n",
       "45            668648  \n",
       "\n",
       "[87 rows x 3 columns]"
      ]
     },
     "execution_count": 259,
     "metadata": {},
     "output_type": "execute_result"
    }
   ],
   "source": [
    "population = df_hh_population[['Region', 'Province', 'Both']].copy()\n",
    "population.columns = ['Region', 'Province', 'Total Population']\n",
    "population"
   ]
  },
  {
   "cell_type": "code",
   "execution_count": 248,
   "metadata": {},
   "outputs": [
    {
     "data": {
      "text/html": [
       "<div>\n",
       "<style scoped>\n",
       "    .dataframe tbody tr th:only-of-type {\n",
       "        vertical-align: middle;\n",
       "    }\n",
       "\n",
       "    .dataframe tbody tr th {\n",
       "        vertical-align: top;\n",
       "    }\n",
       "\n",
       "    .dataframe thead th {\n",
       "        text-align: right;\n",
       "    }\n",
       "</style>\n",
       "<table border=\"1\" class=\"dataframe\">\n",
       "  <thead>\n",
       "    <tr style=\"text-align: right;\">\n",
       "      <th></th>\n",
       "      <th>Cyclone</th>\n",
       "      <th>Flood</th>\n",
       "      <th>Landslide</th>\n",
       "      <th>Average Risk</th>\n",
       "    </tr>\n",
       "  </thead>\n",
       "  <tbody>\n",
       "    <tr>\n",
       "      <th>7</th>\n",
       "      <td>2</td>\n",
       "      <td>1</td>\n",
       "      <td>0</td>\n",
       "      <td>1.000000</td>\n",
       "    </tr>\n",
       "    <tr>\n",
       "      <th>8</th>\n",
       "      <td>3</td>\n",
       "      <td>4</td>\n",
       "      <td>2</td>\n",
       "      <td>3.000000</td>\n",
       "    </tr>\n",
       "    <tr>\n",
       "      <th>9</th>\n",
       "      <td>1</td>\n",
       "      <td>4</td>\n",
       "      <td>1</td>\n",
       "      <td>2.000000</td>\n",
       "    </tr>\n",
       "    <tr>\n",
       "      <th>10</th>\n",
       "      <td>1</td>\n",
       "      <td>0</td>\n",
       "      <td>2</td>\n",
       "      <td>1.000000</td>\n",
       "    </tr>\n",
       "    <tr>\n",
       "      <th>11</th>\n",
       "      <td>1</td>\n",
       "      <td>4</td>\n",
       "      <td>1</td>\n",
       "      <td>2.000000</td>\n",
       "    </tr>\n",
       "    <tr>\n",
       "      <th>...</th>\n",
       "      <td>...</td>\n",
       "      <td>...</td>\n",
       "      <td>...</td>\n",
       "      <td>...</td>\n",
       "    </tr>\n",
       "    <tr>\n",
       "      <th>2</th>\n",
       "      <td>3</td>\n",
       "      <td>1</td>\n",
       "      <td>4</td>\n",
       "      <td>2.666667</td>\n",
       "    </tr>\n",
       "    <tr>\n",
       "      <th>3</th>\n",
       "      <td>2</td>\n",
       "      <td>2</td>\n",
       "      <td>1</td>\n",
       "      <td>1.666667</td>\n",
       "    </tr>\n",
       "    <tr>\n",
       "      <th>6</th>\n",
       "      <td>3</td>\n",
       "      <td>0</td>\n",
       "      <td>0</td>\n",
       "      <td>1.000000</td>\n",
       "    </tr>\n",
       "    <tr>\n",
       "      <th>4</th>\n",
       "      <td>1</td>\n",
       "      <td>2</td>\n",
       "      <td>0</td>\n",
       "      <td>1.000000</td>\n",
       "    </tr>\n",
       "    <tr>\n",
       "      <th>5</th>\n",
       "      <td>3</td>\n",
       "      <td>2</td>\n",
       "      <td>0</td>\n",
       "      <td>1.666667</td>\n",
       "    </tr>\n",
       "  </tbody>\n",
       "</table>\n",
       "<p>82 rows × 4 columns</p>\n",
       "</div>"
      ],
      "text/plain": [
       "    Cyclone  Flood  Landslide  Average Risk\n",
       "7         2      1          0      1.000000\n",
       "8         3      4          2      3.000000\n",
       "9         1      4          1      2.000000\n",
       "10        1      0          2      1.000000\n",
       "11        1      4          1      2.000000\n",
       "..      ...    ...        ...           ...\n",
       "2         3      1          4      2.666667\n",
       "3         2      2          1      1.666667\n",
       "6         3      0          0      1.000000\n",
       "4         1      2          0      1.000000\n",
       "5         3      2          0      1.666667\n",
       "\n",
       "[82 rows x 4 columns]"
      ]
     },
     "execution_count": 248,
     "metadata": {},
     "output_type": "execute_result"
    }
   ],
   "source": [
    "risk = aggregate_risk[['Cy_Text', 'FloodText', 'LS_Text']].copy()\n",
    "risk.columns = ['Cyclone Risk', 'Flood Risk', 'Landslide Risk']\n",
    "\n",
    "risk['Cyclone Risk'] = risk['Cyclone Risk'].astype('category')\n",
    "risk['Cyclone'] = risk['Cyclone Risk'].cat.codes\n",
    "\n",
    "risk['Flood Risk'] = risk['Flood Risk'].astype('category')\n",
    "risk['Flood'] = risk['Flood Risk'].cat.codes\n",
    "\n",
    "risk['Landslide Risk'] = risk['Landslide Risk'].astype('category')\n",
    "risk['Landslide'] = risk['Landslide Risk'].cat.codes\n",
    "\n",
    "average_risk = risk[['Cyclone', 'Flood', 'Landslide']].copy()\n",
    "average_risk['Average Risk'] = numerical_risk.mean(axis=1)\n",
    "average_risk\n"
   ]
  },
  {
   "cell_type": "code",
   "execution_count": 218,
   "metadata": {},
   "outputs": [
    {
     "data": {
      "text/html": [
       "<div>\n",
       "<style scoped>\n",
       "    .dataframe tbody tr th:only-of-type {\n",
       "        vertical-align: middle;\n",
       "    }\n",
       "\n",
       "    .dataframe tbody tr th {\n",
       "        vertical-align: top;\n",
       "    }\n",
       "\n",
       "    .dataframe thead th {\n",
       "        text-align: right;\n",
       "    }\n",
       "</style>\n",
       "<table border=\"1\" class=\"dataframe\">\n",
       "  <thead>\n",
       "    <tr style=\"text-align: right;\">\n",
       "      <th></th>\n",
       "      <th>Total Health Personnel</th>\n",
       "    </tr>\n",
       "  </thead>\n",
       "  <tbody>\n",
       "    <tr>\n",
       "      <th>0</th>\n",
       "      <td>504</td>\n",
       "    </tr>\n",
       "    <tr>\n",
       "      <th>1</th>\n",
       "      <td>985</td>\n",
       "    </tr>\n",
       "    <tr>\n",
       "      <th>2</th>\n",
       "      <td>498</td>\n",
       "    </tr>\n",
       "    <tr>\n",
       "      <th>3</th>\n",
       "      <td>647</td>\n",
       "    </tr>\n",
       "    <tr>\n",
       "      <th>4</th>\n",
       "      <td>1962</td>\n",
       "    </tr>\n",
       "    <tr>\n",
       "      <th>...</th>\n",
       "      <td>...</td>\n",
       "    </tr>\n",
       "    <tr>\n",
       "      <th>82</th>\n",
       "      <td>218</td>\n",
       "    </tr>\n",
       "    <tr>\n",
       "      <th>83</th>\n",
       "      <td>1393</td>\n",
       "    </tr>\n",
       "    <tr>\n",
       "      <th>84</th>\n",
       "      <td>872</td>\n",
       "    </tr>\n",
       "    <tr>\n",
       "      <th>85</th>\n",
       "      <td>3280</td>\n",
       "    </tr>\n",
       "    <tr>\n",
       "      <th>86</th>\n",
       "      <td>593</td>\n",
       "    </tr>\n",
       "  </tbody>\n",
       "</table>\n",
       "<p>87 rows × 1 columns</p>\n",
       "</div>"
      ],
      "text/plain": [
       "    Total Health Personnel\n",
       "0                      504\n",
       "1                      985\n",
       "2                      498\n",
       "3                      647\n",
       "4                     1962\n",
       "..                     ...\n",
       "82                     218\n",
       "83                    1393\n",
       "84                     872\n",
       "85                    3280\n",
       "86                     593\n",
       "\n",
       "[87 rows x 1 columns]"
      ]
     },
     "execution_count": 218,
     "metadata": {},
     "output_type": "execute_result"
    }
   ],
   "source": [
    "health_personnel = df_health_personnel_by_region_and_province[['Total Health Personnel']].copy()\n",
    "health_personnel"
   ]
  },
  {
   "cell_type": "code",
   "execution_count": 300,
   "metadata": {},
   "outputs": [],
   "source": [
    "df_health_personnel_pop = pd.concat([population, health_personnel, average_risk], axis=1, join='inner')"
   ]
  },
  {
   "cell_type": "code",
   "execution_count": 301,
   "metadata": {},
   "outputs": [],
   "source": [
    "df_health_personnel_pop['Region'] = df_health_personnel_pop['Region'].replace(['Cordillera Administrative Region (CAR)',\n",
    "       'Region VI (Western Visayas)', 'Region V (Bicol Region)',\n",
    "       'Region III (Central Luzon)', 'Region IV-A (CALABARZON)',\n",
    "       'Bangsamoro Autonomous Region in Muslim Mindanao (BARMM)',\n",
    "       'Region II (Cagayan Valley)', 'Region VIII (Eastern Visayas)',\n",
    "       'Region VII (Central Visayas)', 'Region X (Northern Mindanao)',\n",
    "       'Region IX (Zamboanga Peninsula)', 'Region XI (Davao Region)',\n",
    "       'Region XII (SOCCSKSARGEN)', 'Region I (Ilocos Region)',\n",
    "       'Mimaropa Region', 'NATIONAL CAPITAL REGION (NCR)'], \n",
    "       ['CORDILLERA ADMINISTRATIVE REGION (CAR)',\n",
    "       'REGION VI (WESTERN VISAYAS)', 'REGION V (BICOL REGION)', 'REGION III (CENTRAL LUZON)',\n",
    "       'REGION IV-A (CALABARZON)', 'AUTONOMOUS REGION IN MUSLIM MINDANAO', 'REGION II (CAGAYAN VALLEY)', 'REGION VIII (EASTERN VISAYAS)',\n",
    "       'REGION VII (CENTRAL VISAYAS)', 'REGION X (NORTHERN MINDANAO)', 'REGION IX (ZAMBOANGA PENINSULA)',\n",
    "       'REGION XI (DAVAO REGION)', 'REGION XII (SOCCSKSARGEN)', 'REGION I (ILOCOS REGION)', 'REGION IV-B (MIMAROPA REGION)',\n",
    "       'NATIONAL CAPITAL REGION (NCR)'])"
   ]
  },
  {
   "cell_type": "code",
   "execution_count": 302,
   "metadata": {},
   "outputs": [],
   "source": [
    "df_health_personnel_pop['Province'] = df_health_personnel_pop['Province'].replace(['Abra', 'Aklan', 'Albay', 'Antique', 'Apayao', 'Aurora',\n",
    "       'BATANGAS', 'Basilan', 'Bataan', 'Batanes', 'Benguet', 'Biliran',\n",
    "       'Bohol', 'Bukidnon', 'Bulacan', 'Cagayan', 'Camarines Norte',\n",
    "       'Camarines Sur', 'Camiguin', 'Capiz', 'Catanduanes', 'Cavite',\n",
    "       'Cebu', 'City of Isabela (Not a Province)', 'Compostela Valley',\n",
    "       'Cotabato (North Cotabato)', 'Davao Del Norte', 'Davao Del Sur',\n",
    "       'Davao Occidental', 'Davao Oriental', 'Eastern Samar', 'Guimaras',\n",
    "       'INTERIM PROVINCE (Composed of 63 barangays from COTABATO)',\n",
    "       'Ifugao', 'Ilocos Norte', 'Ilocos Sur', 'Iloilo', 'Isabela',\n",
    "       'Kalinga', 'La Union', 'Laguna', 'Lanao Del Norte',\n",
    "       'Lanao Del Sur', 'Leyte', 'Maguindanao', 'Marinduque', 'Masbate',\n",
    "       'Misamis Occidental', 'Misamis Oriental', 'Mountain Province',\n",
    "       'NCR, City of Manila, First District (Not a Province)',\n",
    "       'NCR, Fourth District (Not a Province)',\n",
    "       'NCR, Second District (Not a Province)',\n",
    "       'NCR, Third District (Not a Province)', 'Negros Occidental',\n",
    "       'Negros Oriental', 'Northern Samar', 'Nueva Ecija',\n",
    "       'Nueva Vizcaya', 'Occidental Mindoro', 'Oriental Mindoro',\n",
    "       'Palawan', 'Pampanga', 'Pangasinan', 'Quezon', 'Quirino', 'Rizal',\n",
    "       'Romblon', 'Samar (Western Samar)', 'Sarangani', 'Siquijor',\n",
    "       'Sorsogon', 'South Cotabato', 'Southern Leyte', 'Sultan Kudarat',\n",
    "       'Sulu', 'Tarlac', 'Tawi-Tawi', 'Zambales', 'Zamboanga Del Norte',\n",
    "       'Zamboanga Del Sur', 'Zamboanga Sibugay'], \n",
    "       ['ABRA', 'AKLAN', 'ALBAY', 'ANTIQUE', 'APAYAO', 'AURORA', \n",
    "       'BATANGAS', 'BASILAN', 'BATAAN', 'BATANES', 'BENGUET', 'BILIRAN', \n",
    "       'BOHOL', 'BUKIDNON', 'BULACAN', 'CAGAYAN', 'CAMARINES NORTE', \n",
    "       'CAMARINES SUR', 'CAMIGUIN', 'CAPIZ', 'CATANDUANES', 'CAVITE', \n",
    "       'CEBU', 'CITY OF ISABELA (Not a Province)', 'COMPOSTELLA VALLEY', \n",
    "       'COTABATO (NORTH COTABATO)', 'DAVAO DEL NORTE', 'DAVAO DEL SUR', \n",
    "       'DAVAO OCCIDENTAL', 'DAVAO ORIENTAL', 'EASTERN SAMAR', 'GUIMARAS', \n",
    "       'COTABATO CITY',\n",
    "       'IFUGAO', 'ILOCOS NORTE', 'ILOCOS SUR', 'ILOILO', 'ISABELA',\n",
    "       'KALINGA', 'LA UNION', 'LAGUNA', 'LANAO DEL NORTE',\n",
    "       'LANAO DEL SUR', 'LEYTE', 'MAGUINDANAO', 'MARINDUQUE', 'MASBATE',\n",
    "       'MISAMIS OCCIDENTAL', 'MISAMIS ORIENTAL', 'MOUNTAIN PROVINCE',\n",
    "       'NCR, CITY OF MANILA, FIRST DISTRICT (Not a Province)',\n",
    "       'NCR, FOURTH DISTRICT (Not a Province)',\n",
    "       'NCR, SECOND DISTRICT (Not a Province)',\n",
    "       'NCR, THIRD DISTRICT (Not a Province)', 'NEGROS OCCIDENTAL',\n",
    "       'NEGROS ORIENTAL', 'NORTHERN SAMAR', 'NUEVA ECIJA',\n",
    "       'NUEVA VIZCAYA', 'OCCIDENTAL MINDORO', 'ORIENTAL MINDORO',\n",
    "       'PALAWAN', 'PAMPANGA', 'PANGASINAN', 'QUEZON', 'QUIRINO', 'RIZAL',\n",
    "       'ROMBLON', 'SAMAR (WESTERN SAMAR)', 'SARANGANI', 'SIQUIJOR',\n",
    "       'SORSOGON', 'SOUTH COTABATO', 'SOUTHERN LEYTE', 'SULTAN KUDARAT',\n",
    "       'SULU', 'TARLAC', 'TAWI-TAWI', 'ZAMBALES', 'ZAMBOANGA DEL NORTE',\n",
    "       'ZAMBOANGA DEL SUR', 'ZAMBOANGA SIBUGAY'])"
   ]
  },
  {
   "cell_type": "code",
   "execution_count": 303,
   "metadata": {},
   "outputs": [
    {
     "data": {
      "text/html": [
       "<div>\n",
       "<style scoped>\n",
       "    .dataframe tbody tr th:only-of-type {\n",
       "        vertical-align: middle;\n",
       "    }\n",
       "\n",
       "    .dataframe tbody tr th {\n",
       "        vertical-align: top;\n",
       "    }\n",
       "\n",
       "    .dataframe thead th {\n",
       "        text-align: right;\n",
       "    }\n",
       "</style>\n",
       "<table border=\"1\" class=\"dataframe\">\n",
       "  <thead>\n",
       "    <tr style=\"text-align: right;\">\n",
       "      <th></th>\n",
       "      <th>Region</th>\n",
       "      <th>Province</th>\n",
       "      <th>Total Population</th>\n",
       "      <th>Total Health Personnel</th>\n",
       "      <th>Cyclone</th>\n",
       "      <th>Flood</th>\n",
       "      <th>Landslide</th>\n",
       "      <th>Average Risk</th>\n",
       "    </tr>\n",
       "  </thead>\n",
       "  <tbody>\n",
       "    <tr>\n",
       "      <th>6</th>\n",
       "      <td>CORDILLERA ADMINISTRATIVE REGION (CAR)</td>\n",
       "      <td>ABRA</td>\n",
       "      <td>250309</td>\n",
       "      <td>354</td>\n",
       "      <td>3</td>\n",
       "      <td>0</td>\n",
       "      <td>0</td>\n",
       "      <td>1.000000</td>\n",
       "    </tr>\n",
       "    <tr>\n",
       "      <th>52</th>\n",
       "      <td>REGION VI (WESTERN VISAYAS)</td>\n",
       "      <td>AKLAN</td>\n",
       "      <td>612985</td>\n",
       "      <td>375</td>\n",
       "      <td>1</td>\n",
       "      <td>4</td>\n",
       "      <td>0</td>\n",
       "      <td>1.666667</td>\n",
       "    </tr>\n",
       "    <tr>\n",
       "      <th>46</th>\n",
       "      <td>REGION V (BICOL REGION)</td>\n",
       "      <td>ALBAY</td>\n",
       "      <td>1372550</td>\n",
       "      <td>2660</td>\n",
       "      <td>2</td>\n",
       "      <td>1</td>\n",
       "      <td>2</td>\n",
       "      <td>1.666667</td>\n",
       "    </tr>\n",
       "    <tr>\n",
       "      <th>53</th>\n",
       "      <td>REGION VI (WESTERN VISAYAS)</td>\n",
       "      <td>ANTIQUE</td>\n",
       "      <td>611478</td>\n",
       "      <td>8845</td>\n",
       "      <td>2</td>\n",
       "      <td>3</td>\n",
       "      <td>3</td>\n",
       "      <td>2.666667</td>\n",
       "    </tr>\n",
       "    <tr>\n",
       "      <th>7</th>\n",
       "      <td>CORDILLERA ADMINISTRATIVE REGION (CAR)</td>\n",
       "      <td>APAYAO</td>\n",
       "      <td>123937</td>\n",
       "      <td>113</td>\n",
       "      <td>2</td>\n",
       "      <td>1</td>\n",
       "      <td>0</td>\n",
       "      <td>1.000000</td>\n",
       "    </tr>\n",
       "    <tr>\n",
       "      <th>...</th>\n",
       "      <td>...</td>\n",
       "      <td>...</td>\n",
       "      <td>...</td>\n",
       "      <td>...</td>\n",
       "      <td>...</td>\n",
       "      <td>...</td>\n",
       "      <td>...</td>\n",
       "      <td>...</td>\n",
       "    </tr>\n",
       "    <tr>\n",
       "      <th>5</th>\n",
       "      <td>AUTONOMOUS REGION IN MUSLIM MINDANAO</td>\n",
       "      <td>TAWI-TAWI</td>\n",
       "      <td>438545</td>\n",
       "      <td>468</td>\n",
       "      <td>3</td>\n",
       "      <td>2</td>\n",
       "      <td>0</td>\n",
       "      <td>1.666667</td>\n",
       "    </tr>\n",
       "    <tr>\n",
       "      <th>36</th>\n",
       "      <td>REGION III (CENTRAL LUZON)</td>\n",
       "      <td>ZAMBALES</td>\n",
       "      <td>906184</td>\n",
       "      <td>331</td>\n",
       "      <td>3</td>\n",
       "      <td>4</td>\n",
       "      <td>4</td>\n",
       "      <td>3.666667</td>\n",
       "    </tr>\n",
       "    <tr>\n",
       "      <th>43</th>\n",
       "      <td>REGION IX (ZAMBOANGA PENINSULA)</td>\n",
       "      <td>ZAMBOANGA DEL NORTE</td>\n",
       "      <td>1046017</td>\n",
       "      <td>4236</td>\n",
       "      <td>0</td>\n",
       "      <td>4</td>\n",
       "      <td>1</td>\n",
       "      <td>1.666667</td>\n",
       "    </tr>\n",
       "    <tr>\n",
       "      <th>44</th>\n",
       "      <td>REGION IX (ZAMBOANGA PENINSULA)</td>\n",
       "      <td>ZAMBOANGA DEL SUR</td>\n",
       "      <td>2017793</td>\n",
       "      <td>922</td>\n",
       "      <td>2</td>\n",
       "      <td>1</td>\n",
       "      <td>4</td>\n",
       "      <td>2.333333</td>\n",
       "    </tr>\n",
       "    <tr>\n",
       "      <th>45</th>\n",
       "      <td>REGION IX (ZAMBOANGA PENINSULA)</td>\n",
       "      <td>ZAMBOANGA SIBUGAY</td>\n",
       "      <td>668648</td>\n",
       "      <td>472</td>\n",
       "      <td>0</td>\n",
       "      <td>0</td>\n",
       "      <td>2</td>\n",
       "      <td>0.666667</td>\n",
       "    </tr>\n",
       "  </tbody>\n",
       "</table>\n",
       "<p>82 rows × 8 columns</p>\n",
       "</div>"
      ],
      "text/plain": [
       "                                    Region             Province  \\\n",
       "6   CORDILLERA ADMINISTRATIVE REGION (CAR)                 ABRA   \n",
       "52             REGION VI (WESTERN VISAYAS)                AKLAN   \n",
       "46                 REGION V (BICOL REGION)                ALBAY   \n",
       "53             REGION VI (WESTERN VISAYAS)              ANTIQUE   \n",
       "7   CORDILLERA ADMINISTRATIVE REGION (CAR)               APAYAO   \n",
       "..                                     ...                  ...   \n",
       "5     AUTONOMOUS REGION IN MUSLIM MINDANAO            TAWI-TAWI   \n",
       "36              REGION III (CENTRAL LUZON)             ZAMBALES   \n",
       "43         REGION IX (ZAMBOANGA PENINSULA)  ZAMBOANGA DEL NORTE   \n",
       "44         REGION IX (ZAMBOANGA PENINSULA)    ZAMBOANGA DEL SUR   \n",
       "45         REGION IX (ZAMBOANGA PENINSULA)    ZAMBOANGA SIBUGAY   \n",
       "\n",
       "    Total Population  Total Health Personnel  Cyclone  Flood  Landslide  \\\n",
       "6             250309                     354        3      0          0   \n",
       "52            612985                     375        1      4          0   \n",
       "46           1372550                    2660        2      1          2   \n",
       "53            611478                    8845        2      3          3   \n",
       "7             123937                     113        2      1          0   \n",
       "..               ...                     ...      ...    ...        ...   \n",
       "5             438545                     468        3      2          0   \n",
       "36            906184                     331        3      4          4   \n",
       "43           1046017                    4236        0      4          1   \n",
       "44           2017793                     922        2      1          4   \n",
       "45            668648                     472        0      0          2   \n",
       "\n",
       "    Average Risk  \n",
       "6       1.000000  \n",
       "52      1.666667  \n",
       "46      1.666667  \n",
       "53      2.666667  \n",
       "7       1.000000  \n",
       "..           ...  \n",
       "5       1.666667  \n",
       "36      3.666667  \n",
       "43      1.666667  \n",
       "44      2.333333  \n",
       "45      0.666667  \n",
       "\n",
       "[82 rows x 8 columns]"
      ]
     },
     "execution_count": 303,
     "metadata": {},
     "output_type": "execute_result"
    }
   ],
   "source": [
    "df_health_personnel_pop"
   ]
  },
  {
   "cell_type": "markdown",
   "metadata": {},
   "source": [
    "### SCATTERPLOT"
   ]
  },
  {
   "cell_type": "code",
   "execution_count": null,
   "metadata": {},
   "outputs": [],
   "source": []
  },
  {
   "cell_type": "code",
   "execution_count": 299,
   "metadata": {},
   "outputs": [
    {
     "data": {
      "application/vnd.plotly.v1+json": {
       "config": {
        "plotlyServerURL": "https://plot.ly"
       },
       "data": [
        {
         "hovertemplate": "Region=CORDILLERA ADMINISTRATIVE REGION (CAR)<br>Total Population=%{x}<br>Total Health Personnel=%{y}<br>Average Risk=%{marker.size}<extra></extra>",
         "legendgroup": "CORDILLERA ADMINISTRATIVE REGION (CAR)",
         "marker": {
          "color": "#636efa",
          "size": [
           1,
           1,
           3,
           2,
           1,
           2
          ],
          "sizemode": "area",
          "sizeref": 0.009166666666666667,
          "symbol": "circle"
         },
         "mode": "markers",
         "name": "CORDILLERA ADMINISTRATIVE REGION (CAR)",
         "orientation": "v",
         "showlegend": true,
         "type": "scatter",
         "x": [
          250309,
          123937,
          822619,
          207130,
          229328,
          157798
         ],
         "xaxis": "x",
         "y": [
          354,
          113,
          50,
          888,
          95,
          3936
         ],
         "yaxis": "y"
        },
        {
         "hovertemplate": "Region=REGION VI (WESTERN VISAYAS)<br>Total Population=%{x}<br>Total Health Personnel=%{y}<br>Average Risk=%{marker.size}<extra></extra>",
         "legendgroup": "REGION VI (WESTERN VISAYAS)",
         "marker": {
          "color": "#EF553B",
          "size": [
           1.6666666666666667,
           2.6666666666666665,
           2,
           1,
           2,
           1
          ],
          "sizemode": "area",
          "sizeref": 0.009166666666666667,
          "symbol": "circle"
         },
         "mode": "markers",
         "name": "REGION VI (WESTERN VISAYAS)",
         "orientation": "v",
         "showlegend": true,
         "type": "scatter",
         "x": [
          612985,
          611478,
          803879,
          187576,
          2503326,
          3216287
         ],
         "xaxis": "x",
         "y": [
          375,
          8845,
          10631,
          13569,
          2020,
          2255
         ],
         "yaxis": "y"
        },
        {
         "hovertemplate": "Region=REGION V (BICOL REGION)<br>Total Population=%{x}<br>Total Health Personnel=%{y}<br>Average Risk=%{marker.size}<extra></extra>",
         "legendgroup": "REGION V (BICOL REGION)",
         "marker": {
          "color": "#00cc96",
          "size": [
           1.6666666666666667,
           2,
           3,
           1,
           2.6666666666666665,
           2.6666666666666665
          ],
          "sizemode": "area",
          "sizeref": 0.009166666666666667,
          "symbol": "circle"
         },
         "mode": "markers",
         "name": "REGION V (BICOL REGION)",
         "orientation": "v",
         "showlegend": true,
         "type": "scatter",
         "x": [
          1372550,
          628807,
          2062277,
          270775,
          906731,
          826150
         ],
         "xaxis": "x",
         "y": [
          2660,
          271,
          263,
          380,
          911,
          2230
         ],
         "yaxis": "y"
        },
        {
         "hovertemplate": "Region=REGION III (CENTRAL LUZON)<br>Total Population=%{x}<br>Total Health Personnel=%{y}<br>Average Risk=%{marker.size}<extra></extra>",
         "legendgroup": "REGION III (CENTRAL LUZON)",
         "marker": {
          "color": "#ab63fa",
          "size": [
           2,
           0.6666666666666666,
           1,
           1,
           1.6666666666666667,
           2,
           3.6666666666666665
          ],
          "sizemode": "area",
          "sizeref": 0.009166666666666667,
          "symbol": "circle"
         },
         "mode": "markers",
         "name": "REGION III (CENTRAL LUZON)",
         "orientation": "v",
         "showlegend": true,
         "type": "scatter",
         "x": [
          234991,
          849575,
          3696937,
          2306751,
          2894309,
          1499064,
          906184
         ],
         "xaxis": "x",
         "y": [
          3509,
          168,
          500,
          95,
          388,
          172,
          331
         ],
         "yaxis": "y"
        },
        {
         "hovertemplate": "Region=REGION IV-A (CALABARZON)<br>Total Population=%{x}<br>Total Health Personnel=%{y}<br>Average Risk=%{marker.size}<extra></extra>",
         "legendgroup": "REGION IV-A (CALABARZON)",
         "marker": {
          "color": "#FFA15A",
          "size": [
           2.3333333333333335,
           2,
           1.6666666666666667,
           1.3333333333333333,
           1
          ],
          "sizemode": "area",
          "sizeref": 0.009166666666666667,
          "symbol": "circle"
         },
         "mode": "markers",
         "name": "REGION IV-A (CALABARZON)",
         "orientation": "v",
         "showlegend": true,
         "type": "scatter",
         "x": [
          2902855,
          4318663,
          3373136,
          2223791,
          3321325
         ],
         "xaxis": "x",
         "y": [
          1562,
          1771,
          4347,
          2896,
          379
         ],
         "yaxis": "y"
        },
        {
         "hovertemplate": "Region=AUTONOMOUS REGION IN MUSLIM MINDANAO<br>Total Population=%{x}<br>Total Health Personnel=%{y}<br>Average Risk=%{marker.size}<extra></extra>",
         "legendgroup": "AUTONOMOUS REGION IN MUSLIM MINDANAO",
         "marker": {
          "color": "#19d3f3",
          "size": [
           2.3333333333333335,
           1.3333333333333333,
           2.6666666666666665,
           1.6666666666666667,
           1,
           1.6666666666666667
          ],
          "sizemode": "area",
          "sizeref": 0.009166666666666667,
          "symbol": "circle"
         },
         "mode": "markers",
         "name": "AUTONOMOUS REGION IN MUSLIM MINDANAO",
         "orientation": "v",
         "showlegend": true,
         "type": "scatter",
         "x": [
          425111,
          215348,
          1194507,
          1666353,
          998675,
          438545
         ],
         "xaxis": "x",
         "y": [
          504,
          985,
          498,
          647,
          1962,
          468
         ],
         "yaxis": "y"
        },
        {
         "hovertemplate": "Region=REGION II (CAGAYAN VALLEY)<br>Total Population=%{x}<br>Total Health Personnel=%{y}<br>Average Risk=%{marker.size}<extra></extra>",
         "legendgroup": "REGION II (CAGAYAN VALLEY)",
         "marker": {
          "color": "#FF6692",
          "size": [
           1,
           2.3333333333333335,
           2.3333333333333335,
           1.6666666666666667,
           2
          ],
          "sizemode": "area",
          "sizeref": 0.009166666666666667,
          "symbol": "circle"
         },
         "mode": "markers",
         "name": "REGION II (CAGAYAN VALLEY)",
         "orientation": "v",
         "showlegend": true,
         "type": "scatter",
         "x": [
          18593,
          1265540,
          1695539,
          496546,
          203530
         ],
         "xaxis": "x",
         "y": [
          236,
          366,
          1831,
          763,
          1200
         ],
         "yaxis": "y"
        },
        {
         "hovertemplate": "Region=REGION VIII (EASTERN VISAYAS)<br>Total Population=%{x}<br>Total Health Personnel=%{y}<br>Average Risk=%{marker.size}<extra></extra>",
         "legendgroup": "REGION VIII (EASTERN VISAYAS)",
         "marker": {
          "color": "#B6E880",
          "size": [
           2,
           0.3333333333333333,
           2.3333333333333335,
           2.6666666666666665,
           2.3333333333333335,
           2.3333333333333335
          ],
          "sizemode": "area",
          "sizeref": 0.009166666666666667,
          "symbol": "circle"
         },
         "mode": "markers",
         "name": "REGION VIII (EASTERN VISAYAS)",
         "orientation": "v",
         "showlegend": true,
         "type": "scatter",
         "x": [
          178715,
          475847,
          2020426,
          636995,
          791045,
          428484
         ],
         "xaxis": "x",
         "y": [
          281,
          1068,
          810,
          3917,
          4643,
          1873
         ],
         "yaxis": "y"
        },
        {
         "hovertemplate": "Region=REGION VII (CENTRAL VISAYAS)<br>Total Population=%{x}<br>Total Health Personnel=%{y}<br>Average Risk=%{marker.size}<extra></extra>",
         "legendgroup": "REGION VII (CENTRAL VISAYAS)",
         "marker": {
          "color": "#FF97FF",
          "size": [
           3.3333333333333335,
           2,
           2.6666666666666665,
           2.6666666666666665
          ],
          "sizemode": "area",
          "sizeref": 0.009166666666666667,
          "symbol": "circle"
         },
         "mode": "markers",
         "name": "REGION VII (CENTRAL VISAYAS)",
         "orientation": "v",
         "showlegend": true,
         "type": "scatter",
         "x": [
          1390524,
          5124199,
          1428548,
          103014
         ],
         "xaxis": "x",
         "y": [
          1381,
          609,
          2619,
          829
         ],
         "yaxis": "y"
        },
        {
         "hovertemplate": "Region=REGION X (NORTHERN MINDANAO)<br>Total Population=%{x}<br>Total Health Personnel=%{y}<br>Average Risk=%{marker.size}<extra></extra>",
         "legendgroup": "REGION X (NORTHERN MINDANAO)",
         "marker": {
          "color": "#FECB52",
          "size": [
           1,
           1.6666666666666667,
           1.6666666666666667,
           0.3333333333333333,
           1.3333333333333333
          ],
          "sizemode": "area",
          "sizeref": 0.009166666666666667,
          "symbol": "circle"
         },
         "mode": "markers",
         "name": "REGION X (NORTHERN MINDANAO)",
         "orientation": "v",
         "showlegend": true,
         "type": "scatter",
         "x": [
          1537629,
          92696,
          1083898,
          614951,
          1678624
         ],
         "xaxis": "x",
         "y": [
          290,
          1366,
          284,
          184,
          193
         ],
         "yaxis": "y"
        },
        {
         "hovertemplate": "Region=REGION IX (ZAMBOANGA PENINSULA)<br>Total Population=%{x}<br>Total Health Personnel=%{y}<br>Average Risk=%{marker.size}<extra></extra>",
         "legendgroup": "REGION IX (ZAMBOANGA PENINSULA)",
         "marker": {
          "color": "#636efa",
          "size": [
           1.6666666666666667,
           1.6666666666666667,
           2.3333333333333335,
           0.6666666666666666
          ],
          "sizemode": "area",
          "sizeref": 0.009166666666666667,
          "symbol": "circle"
         },
         "mode": "markers",
         "name": "REGION IX (ZAMBOANGA PENINSULA)",
         "orientation": "v",
         "showlegend": true,
         "type": "scatter",
         "x": [
          130130,
          1046017,
          2017793,
          668648
         ],
         "xaxis": "x",
         "y": [
          1574,
          4236,
          922,
          472
         ],
         "yaxis": "y"
        },
        {
         "hovertemplate": "Region=REGION XI (DAVAO REGION)<br>Total Population=%{x}<br>Total Health Personnel=%{y}<br>Average Risk=%{marker.size}<extra></extra>",
         "legendgroup": "REGION XI (DAVAO REGION)",
         "marker": {
          "color": "#EF553B",
          "size": [
           1,
           1.3333333333333333,
           2,
           2,
           2
          ],
          "sizemode": "area",
          "sizeref": 0.009166666666666667,
          "symbol": "circle"
         },
         "mode": "markers",
         "name": "REGION XI (DAVAO REGION)",
         "orientation": "v",
         "showlegend": true,
         "type": "scatter",
         "x": [
          766299,
          1115167,
          2450445,
          316907,
          574984
         ],
         "xaxis": "x",
         "y": [
          93,
          742,
          2230,
          541,
          701
         ],
         "yaxis": "y"
        },
        {
         "hovertemplate": "Region=REGION XII (SOCCSKSARGEN)<br>Total Population=%{x}<br>Total Health Personnel=%{y}<br>Average Risk=%{marker.size}<extra></extra>",
         "legendgroup": "REGION XII (SOCCSKSARGEN)",
         "marker": {
          "color": "#00cc96",
          "size": [
           0.6666666666666666,
           0.6666666666666666,
           1,
           2
          ],
          "sizemode": "area",
          "sizeref": 0.009166666666666667,
          "symbol": "circle"
         },
         "mode": "markers",
         "name": "REGION XII (SOCCSKSARGEN)",
         "orientation": "v",
         "showlegend": true,
         "type": "scatter",
         "x": [
          1273594,
          558069,
          1668556,
          851554
         ],
         "xaxis": "x",
         "y": [
          181,
          528,
          763,
          2046
         ],
         "yaxis": "y"
        },
        {
         "hovertemplate": "Region=REGION I (ILOCOS REGION)<br>Total Population=%{x}<br>Total Health Personnel=%{y}<br>Average Risk=%{marker.size}<extra></extra>",
         "legendgroup": "REGION I (ILOCOS REGION)",
         "marker": {
          "color": "#ab63fa",
          "size": [
           2,
           1,
           1,
           1.6666666666666667
          ],
          "sizemode": "area",
          "sizeref": 0.009166666666666667,
          "symbol": "circle"
         },
         "mode": "markers",
         "name": "REGION I (ILOCOS REGION)",
         "orientation": "v",
         "showlegend": true,
         "type": "scatter",
         "x": [
          608508,
          704218,
          820343,
          3159228
         ],
         "xaxis": "x",
         "y": [
          1230,
          546,
          3138,
          7517
         ],
         "yaxis": "y"
        },
        {
         "hovertemplate": "Region=REGION IV-B (MIMAROPA REGION)<br>Total Population=%{x}<br>Total Health Personnel=%{y}<br>Average Risk=%{marker.size}<extra></extra>",
         "legendgroup": "REGION IV-B (MIMAROPA REGION)",
         "marker": {
          "color": "#FFA15A",
          "size": [
           1,
           2,
           0.6666666666666666,
           2.6666666666666665,
           0.6666666666666666
          ],
          "sizemode": "area",
          "sizeref": 0.009166666666666667,
          "symbol": "circle"
         },
         "mode": "markers",
         "name": "REGION IV-B (MIMAROPA REGION)",
         "orientation": "v",
         "showlegend": true,
         "type": "scatter",
         "x": [
          238830,
          521444,
          906661,
          1237280,
          308072
         ],
         "xaxis": "x",
         "y": [
          2396,
          144,
          1094,
          1437,
          3630
         ],
         "yaxis": "y"
        },
        {
         "hovertemplate": "Region=NATIONAL CAPITAL REGION (NCR)<br>Total Population=%{x}<br>Total Health Personnel=%{y}<br>Average Risk=%{marker.size}<extra></extra>",
         "legendgroup": "NATIONAL CAPITAL REGION (NCR)",
         "marker": {
          "color": "#19d3f3",
          "size": [
           2.3333333333333335,
           2.6666666666666665,
           1.6666666666666667,
           1
          ],
          "sizemode": "area",
          "sizeref": 0.009166666666666667,
          "symbol": "circle"
         },
         "mode": "markers",
         "name": "NATIONAL CAPITAL REGION (NCR)",
         "orientation": "v",
         "showlegend": true,
         "type": "scatter",
         "x": [
          1837785,
          3818429,
          4748925,
          2998412
         ],
         "xaxis": "x",
         "y": [
          2080,
          714,
          2519,
          140
         ],
         "yaxis": "y"
        }
       ],
       "layout": {
        "legend": {
         "itemsizing": "constant",
         "title": {
          "text": "Region"
         },
         "tracegroupgap": 0
        },
        "margin": {
         "t": 60
        },
        "template": {
         "data": {
          "bar": [
           {
            "error_x": {
             "color": "#2a3f5f"
            },
            "error_y": {
             "color": "#2a3f5f"
            },
            "marker": {
             "line": {
              "color": "#E5ECF6",
              "width": 0.5
             },
             "pattern": {
              "fillmode": "overlay",
              "size": 10,
              "solidity": 0.2
             }
            },
            "type": "bar"
           }
          ],
          "barpolar": [
           {
            "marker": {
             "line": {
              "color": "#E5ECF6",
              "width": 0.5
             },
             "pattern": {
              "fillmode": "overlay",
              "size": 10,
              "solidity": 0.2
             }
            },
            "type": "barpolar"
           }
          ],
          "carpet": [
           {
            "aaxis": {
             "endlinecolor": "#2a3f5f",
             "gridcolor": "white",
             "linecolor": "white",
             "minorgridcolor": "white",
             "startlinecolor": "#2a3f5f"
            },
            "baxis": {
             "endlinecolor": "#2a3f5f",
             "gridcolor": "white",
             "linecolor": "white",
             "minorgridcolor": "white",
             "startlinecolor": "#2a3f5f"
            },
            "type": "carpet"
           }
          ],
          "choropleth": [
           {
            "colorbar": {
             "outlinewidth": 0,
             "ticks": ""
            },
            "type": "choropleth"
           }
          ],
          "contour": [
           {
            "colorbar": {
             "outlinewidth": 0,
             "ticks": ""
            },
            "colorscale": [
             [
              0,
              "#0d0887"
             ],
             [
              0.1111111111111111,
              "#46039f"
             ],
             [
              0.2222222222222222,
              "#7201a8"
             ],
             [
              0.3333333333333333,
              "#9c179e"
             ],
             [
              0.4444444444444444,
              "#bd3786"
             ],
             [
              0.5555555555555556,
              "#d8576b"
             ],
             [
              0.6666666666666666,
              "#ed7953"
             ],
             [
              0.7777777777777778,
              "#fb9f3a"
             ],
             [
              0.8888888888888888,
              "#fdca26"
             ],
             [
              1,
              "#f0f921"
             ]
            ],
            "type": "contour"
           }
          ],
          "contourcarpet": [
           {
            "colorbar": {
             "outlinewidth": 0,
             "ticks": ""
            },
            "type": "contourcarpet"
           }
          ],
          "heatmap": [
           {
            "colorbar": {
             "outlinewidth": 0,
             "ticks": ""
            },
            "colorscale": [
             [
              0,
              "#0d0887"
             ],
             [
              0.1111111111111111,
              "#46039f"
             ],
             [
              0.2222222222222222,
              "#7201a8"
             ],
             [
              0.3333333333333333,
              "#9c179e"
             ],
             [
              0.4444444444444444,
              "#bd3786"
             ],
             [
              0.5555555555555556,
              "#d8576b"
             ],
             [
              0.6666666666666666,
              "#ed7953"
             ],
             [
              0.7777777777777778,
              "#fb9f3a"
             ],
             [
              0.8888888888888888,
              "#fdca26"
             ],
             [
              1,
              "#f0f921"
             ]
            ],
            "type": "heatmap"
           }
          ],
          "heatmapgl": [
           {
            "colorbar": {
             "outlinewidth": 0,
             "ticks": ""
            },
            "colorscale": [
             [
              0,
              "#0d0887"
             ],
             [
              0.1111111111111111,
              "#46039f"
             ],
             [
              0.2222222222222222,
              "#7201a8"
             ],
             [
              0.3333333333333333,
              "#9c179e"
             ],
             [
              0.4444444444444444,
              "#bd3786"
             ],
             [
              0.5555555555555556,
              "#d8576b"
             ],
             [
              0.6666666666666666,
              "#ed7953"
             ],
             [
              0.7777777777777778,
              "#fb9f3a"
             ],
             [
              0.8888888888888888,
              "#fdca26"
             ],
             [
              1,
              "#f0f921"
             ]
            ],
            "type": "heatmapgl"
           }
          ],
          "histogram": [
           {
            "marker": {
             "pattern": {
              "fillmode": "overlay",
              "size": 10,
              "solidity": 0.2
             }
            },
            "type": "histogram"
           }
          ],
          "histogram2d": [
           {
            "colorbar": {
             "outlinewidth": 0,
             "ticks": ""
            },
            "colorscale": [
             [
              0,
              "#0d0887"
             ],
             [
              0.1111111111111111,
              "#46039f"
             ],
             [
              0.2222222222222222,
              "#7201a8"
             ],
             [
              0.3333333333333333,
              "#9c179e"
             ],
             [
              0.4444444444444444,
              "#bd3786"
             ],
             [
              0.5555555555555556,
              "#d8576b"
             ],
             [
              0.6666666666666666,
              "#ed7953"
             ],
             [
              0.7777777777777778,
              "#fb9f3a"
             ],
             [
              0.8888888888888888,
              "#fdca26"
             ],
             [
              1,
              "#f0f921"
             ]
            ],
            "type": "histogram2d"
           }
          ],
          "histogram2dcontour": [
           {
            "colorbar": {
             "outlinewidth": 0,
             "ticks": ""
            },
            "colorscale": [
             [
              0,
              "#0d0887"
             ],
             [
              0.1111111111111111,
              "#46039f"
             ],
             [
              0.2222222222222222,
              "#7201a8"
             ],
             [
              0.3333333333333333,
              "#9c179e"
             ],
             [
              0.4444444444444444,
              "#bd3786"
             ],
             [
              0.5555555555555556,
              "#d8576b"
             ],
             [
              0.6666666666666666,
              "#ed7953"
             ],
             [
              0.7777777777777778,
              "#fb9f3a"
             ],
             [
              0.8888888888888888,
              "#fdca26"
             ],
             [
              1,
              "#f0f921"
             ]
            ],
            "type": "histogram2dcontour"
           }
          ],
          "mesh3d": [
           {
            "colorbar": {
             "outlinewidth": 0,
             "ticks": ""
            },
            "type": "mesh3d"
           }
          ],
          "parcoords": [
           {
            "line": {
             "colorbar": {
              "outlinewidth": 0,
              "ticks": ""
             }
            },
            "type": "parcoords"
           }
          ],
          "pie": [
           {
            "automargin": true,
            "type": "pie"
           }
          ],
          "scatter": [
           {
            "fillpattern": {
             "fillmode": "overlay",
             "size": 10,
             "solidity": 0.2
            },
            "type": "scatter"
           }
          ],
          "scatter3d": [
           {
            "line": {
             "colorbar": {
              "outlinewidth": 0,
              "ticks": ""
             }
            },
            "marker": {
             "colorbar": {
              "outlinewidth": 0,
              "ticks": ""
             }
            },
            "type": "scatter3d"
           }
          ],
          "scattercarpet": [
           {
            "marker": {
             "colorbar": {
              "outlinewidth": 0,
              "ticks": ""
             }
            },
            "type": "scattercarpet"
           }
          ],
          "scattergeo": [
           {
            "marker": {
             "colorbar": {
              "outlinewidth": 0,
              "ticks": ""
             }
            },
            "type": "scattergeo"
           }
          ],
          "scattergl": [
           {
            "marker": {
             "colorbar": {
              "outlinewidth": 0,
              "ticks": ""
             }
            },
            "type": "scattergl"
           }
          ],
          "scattermapbox": [
           {
            "marker": {
             "colorbar": {
              "outlinewidth": 0,
              "ticks": ""
             }
            },
            "type": "scattermapbox"
           }
          ],
          "scatterpolar": [
           {
            "marker": {
             "colorbar": {
              "outlinewidth": 0,
              "ticks": ""
             }
            },
            "type": "scatterpolar"
           }
          ],
          "scatterpolargl": [
           {
            "marker": {
             "colorbar": {
              "outlinewidth": 0,
              "ticks": ""
             }
            },
            "type": "scatterpolargl"
           }
          ],
          "scatterternary": [
           {
            "marker": {
             "colorbar": {
              "outlinewidth": 0,
              "ticks": ""
             }
            },
            "type": "scatterternary"
           }
          ],
          "surface": [
           {
            "colorbar": {
             "outlinewidth": 0,
             "ticks": ""
            },
            "colorscale": [
             [
              0,
              "#0d0887"
             ],
             [
              0.1111111111111111,
              "#46039f"
             ],
             [
              0.2222222222222222,
              "#7201a8"
             ],
             [
              0.3333333333333333,
              "#9c179e"
             ],
             [
              0.4444444444444444,
              "#bd3786"
             ],
             [
              0.5555555555555556,
              "#d8576b"
             ],
             [
              0.6666666666666666,
              "#ed7953"
             ],
             [
              0.7777777777777778,
              "#fb9f3a"
             ],
             [
              0.8888888888888888,
              "#fdca26"
             ],
             [
              1,
              "#f0f921"
             ]
            ],
            "type": "surface"
           }
          ],
          "table": [
           {
            "cells": {
             "fill": {
              "color": "#EBF0F8"
             },
             "line": {
              "color": "white"
             }
            },
            "header": {
             "fill": {
              "color": "#C8D4E3"
             },
             "line": {
              "color": "white"
             }
            },
            "type": "table"
           }
          ]
         },
         "layout": {
          "annotationdefaults": {
           "arrowcolor": "#2a3f5f",
           "arrowhead": 0,
           "arrowwidth": 1
          },
          "autotypenumbers": "strict",
          "coloraxis": {
           "colorbar": {
            "outlinewidth": 0,
            "ticks": ""
           }
          },
          "colorscale": {
           "diverging": [
            [
             0,
             "#8e0152"
            ],
            [
             0.1,
             "#c51b7d"
            ],
            [
             0.2,
             "#de77ae"
            ],
            [
             0.3,
             "#f1b6da"
            ],
            [
             0.4,
             "#fde0ef"
            ],
            [
             0.5,
             "#f7f7f7"
            ],
            [
             0.6,
             "#e6f5d0"
            ],
            [
             0.7,
             "#b8e186"
            ],
            [
             0.8,
             "#7fbc41"
            ],
            [
             0.9,
             "#4d9221"
            ],
            [
             1,
             "#276419"
            ]
           ],
           "sequential": [
            [
             0,
             "#0d0887"
            ],
            [
             0.1111111111111111,
             "#46039f"
            ],
            [
             0.2222222222222222,
             "#7201a8"
            ],
            [
             0.3333333333333333,
             "#9c179e"
            ],
            [
             0.4444444444444444,
             "#bd3786"
            ],
            [
             0.5555555555555556,
             "#d8576b"
            ],
            [
             0.6666666666666666,
             "#ed7953"
            ],
            [
             0.7777777777777778,
             "#fb9f3a"
            ],
            [
             0.8888888888888888,
             "#fdca26"
            ],
            [
             1,
             "#f0f921"
            ]
           ],
           "sequentialminus": [
            [
             0,
             "#0d0887"
            ],
            [
             0.1111111111111111,
             "#46039f"
            ],
            [
             0.2222222222222222,
             "#7201a8"
            ],
            [
             0.3333333333333333,
             "#9c179e"
            ],
            [
             0.4444444444444444,
             "#bd3786"
            ],
            [
             0.5555555555555556,
             "#d8576b"
            ],
            [
             0.6666666666666666,
             "#ed7953"
            ],
            [
             0.7777777777777778,
             "#fb9f3a"
            ],
            [
             0.8888888888888888,
             "#fdca26"
            ],
            [
             1,
             "#f0f921"
            ]
           ]
          },
          "colorway": [
           "#636efa",
           "#EF553B",
           "#00cc96",
           "#ab63fa",
           "#FFA15A",
           "#19d3f3",
           "#FF6692",
           "#B6E880",
           "#FF97FF",
           "#FECB52"
          ],
          "font": {
           "color": "#2a3f5f"
          },
          "geo": {
           "bgcolor": "white",
           "lakecolor": "white",
           "landcolor": "#E5ECF6",
           "showlakes": true,
           "showland": true,
           "subunitcolor": "white"
          },
          "hoverlabel": {
           "align": "left"
          },
          "hovermode": "closest",
          "mapbox": {
           "style": "light"
          },
          "paper_bgcolor": "white",
          "plot_bgcolor": "#E5ECF6",
          "polar": {
           "angularaxis": {
            "gridcolor": "white",
            "linecolor": "white",
            "ticks": ""
           },
           "bgcolor": "#E5ECF6",
           "radialaxis": {
            "gridcolor": "white",
            "linecolor": "white",
            "ticks": ""
           }
          },
          "scene": {
           "xaxis": {
            "backgroundcolor": "#E5ECF6",
            "gridcolor": "white",
            "gridwidth": 2,
            "linecolor": "white",
            "showbackground": true,
            "ticks": "",
            "zerolinecolor": "white"
           },
           "yaxis": {
            "backgroundcolor": "#E5ECF6",
            "gridcolor": "white",
            "gridwidth": 2,
            "linecolor": "white",
            "showbackground": true,
            "ticks": "",
            "zerolinecolor": "white"
           },
           "zaxis": {
            "backgroundcolor": "#E5ECF6",
            "gridcolor": "white",
            "gridwidth": 2,
            "linecolor": "white",
            "showbackground": true,
            "ticks": "",
            "zerolinecolor": "white"
           }
          },
          "shapedefaults": {
           "line": {
            "color": "#2a3f5f"
           }
          },
          "ternary": {
           "aaxis": {
            "gridcolor": "white",
            "linecolor": "white",
            "ticks": ""
           },
           "baxis": {
            "gridcolor": "white",
            "linecolor": "white",
            "ticks": ""
           },
           "bgcolor": "#E5ECF6",
           "caxis": {
            "gridcolor": "white",
            "linecolor": "white",
            "ticks": ""
           }
          },
          "title": {
           "x": 0.05
          },
          "xaxis": {
           "automargin": true,
           "gridcolor": "white",
           "linecolor": "white",
           "ticks": "",
           "title": {
            "standoff": 15
           },
           "zerolinecolor": "white",
           "zerolinewidth": 2
          },
          "yaxis": {
           "automargin": true,
           "gridcolor": "white",
           "linecolor": "white",
           "ticks": "",
           "title": {
            "standoff": 15
           },
           "zerolinecolor": "white",
           "zerolinewidth": 2
          }
         }
        },
        "xaxis": {
         "anchor": "y",
         "domain": [
          0,
          1
         ],
         "title": {
          "text": "Total Population"
         }
        },
        "yaxis": {
         "anchor": "x",
         "domain": [
          0,
          1
         ],
         "title": {
          "text": "Total Health Personnel"
         }
        }
       }
      }
     },
     "metadata": {},
     "output_type": "display_data"
    }
   ],
   "source": [
    "fig = px.scatter(health_personnel_to_pop, x=\"Total Population\", y=\"Total Health Personnel\", color=\"Region\",\n",
    "                 size='Average Risk')\n",
    "fig.show()"
   ]
  }
 ],
 "metadata": {
  "kernelspec": {
   "display_name": "base",
   "language": "python",
   "name": "python3"
  },
  "language_info": {
   "codemirror_mode": {
    "name": "ipython",
    "version": 3
   },
   "file_extension": ".py",
   "mimetype": "text/x-python",
   "name": "python",
   "nbconvert_exporter": "python",
   "pygments_lexer": "ipython3",
   "version": "3.11.3"
  },
  "orig_nbformat": 4
 },
 "nbformat": 4,
 "nbformat_minor": 2
}
